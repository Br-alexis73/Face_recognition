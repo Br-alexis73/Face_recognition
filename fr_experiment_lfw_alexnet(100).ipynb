{
  "nbformat": 4,
  "nbformat_minor": 0,
  "metadata": {
    "colab": {
      "provenance": [],
      "gpuType": "T4",
      "include_colab_link": true
    },
    "kernelspec": {
      "name": "python3",
      "display_name": "Python 3"
    },
    "language_info": {
      "name": "python"
    },
    "accelerator": "GPU"
  },
  "cells": [
    {
      "cell_type": "markdown",
      "metadata": {
        "id": "view-in-github",
        "colab_type": "text"
      },
      "source": [
        "<a href=\"https://colab.research.google.com/github/Br-alexis73/Face_recognition/blob/master/fr_experiment_lfw_alexnet(100).ipynb\" target=\"_parent\"><img src=\"https://colab.research.google.com/assets/colab-badge.svg\" alt=\"Open In Colab\"/></a>"
      ]
    },
    {
      "cell_type": "code",
      "execution_count": 1,
      "metadata": {
        "colab": {
          "base_uri": "https://localhost:8080/"
        },
        "id": "b7JnxKvP_3KZ",
        "outputId": "b1cabd7a-3d2c-4c64-b91c-4ed33a459a7d"
      },
      "outputs": [
        {
          "output_type": "stream",
          "name": "stdout",
          "text": [
            "Downloading lfw-dataset, 117895655 bytes compressed\n",
            "[==================================================] 117895655 bytes downloaded\n",
            "Downloaded and uncompressed: lfw-dataset\n",
            "Data source import complete.\n"
          ]
        }
      ],
      "source": [
        "\n",
        "# IMPORTANT: RUN THIS CELL IN ORDER TO IMPORT YOUR KAGGLE DATA SOURCES\n",
        "# TO THE CORRECT LOCATION (/kaggle/input) IN YOUR NOTEBOOK,\n",
        "# THEN FEEL FREE TO DELETE THIS CELL.\n",
        "# NOTE: THIS NOTEBOOK ENVIRONMENT DIFFERS FROM KAGGLE'S PYTHON\n",
        "# ENVIRONMENT SO THERE MAY BE MISSING LIBRARIES USED BY YOUR\n",
        "# NOTEBOOK.\n",
        "\n",
        "import os\n",
        "import sys\n",
        "from tempfile import NamedTemporaryFile\n",
        "from urllib.request import urlopen\n",
        "from urllib.parse import unquote, urlparse\n",
        "from urllib.error import HTTPError\n",
        "from zipfile import ZipFile\n",
        "import tarfile\n",
        "import shutil\n",
        "\n",
        "CHUNK_SIZE = 40960\n",
        "DATA_SOURCE_MAPPING = 'lfw-dataset:https%3A%2F%2Fstorage.googleapis.com%2Fkaggle-data-sets%2F26922%2F34595%2Fbundle%2Farchive.zip%3FX-Goog-Algorithm%3DGOOG4-RSA-SHA256%26X-Goog-Credential%3Dgcp-kaggle-com%2540kaggle-161607.iam.gserviceaccount.com%252F20240419%252Fauto%252Fstorage%252Fgoog4_request%26X-Goog-Date%3D20240419T152011Z%26X-Goog-Expires%3D259200%26X-Goog-SignedHeaders%3Dhost%26X-Goog-Signature%3Db4ec61946419ca8b830a0f4613cac81dffb050d7d712972d73e73a8d24cc40a231fb1a47a2c7bce99a68ff93e9ac40d5a337ede5b14e8940c63ba216337c90b4cc432075b2f24e158971a25f9ecb52e84512e1cdc8473afcdfc20275099542b8cc23208d379bed1a7e644e96a929b7dbb91a7019f5331c94ea9f46d05bdd60badb9169961ed1faa90ae1290e3919c42a5736aa4fd68b941df0dac0e6957e4528a6663da154303292f0925fe7bc92d10ad202845647f7a1eff66f586604bb52c0626b2d95f3daf452d5dae6be3e0f2daf1e3177513be89acda9a7114a083009f77cf36a5edd56f41bb1bf1ba424974542d3b8bd7ac3ec5ab7122a096e033e4df9'\n",
        "\n",
        "KAGGLE_INPUT_PATH='/kaggle/input'\n",
        "KAGGLE_WORKING_PATH='/kaggle/working'\n",
        "KAGGLE_SYMLINK='kaggle'\n",
        "\n",
        "!umount /kaggle/input/ 2> /dev/null\n",
        "shutil.rmtree('/kaggle/input', ignore_errors=True)\n",
        "os.makedirs(KAGGLE_INPUT_PATH, 0o777, exist_ok=True)\n",
        "os.makedirs(KAGGLE_WORKING_PATH, 0o777, exist_ok=True)\n",
        "\n",
        "try:\n",
        "  os.symlink(KAGGLE_INPUT_PATH, os.path.join(\"..\", 'input'), target_is_directory=True)\n",
        "except FileExistsError:\n",
        "  pass\n",
        "try:\n",
        "  os.symlink(KAGGLE_WORKING_PATH, os.path.join(\"..\", 'working'), target_is_directory=True)\n",
        "except FileExistsError:\n",
        "  pass\n",
        "\n",
        "for data_source_mapping in DATA_SOURCE_MAPPING.split(','):\n",
        "    directory, download_url_encoded = data_source_mapping.split(':')\n",
        "    download_url = unquote(download_url_encoded)\n",
        "    filename = urlparse(download_url).path\n",
        "    destination_path = os.path.join(KAGGLE_INPUT_PATH, directory)\n",
        "    try:\n",
        "        with urlopen(download_url) as fileres, NamedTemporaryFile() as tfile:\n",
        "            total_length = fileres.headers['content-length']\n",
        "            print(f'Downloading {directory}, {total_length} bytes compressed')\n",
        "            dl = 0\n",
        "            data = fileres.read(CHUNK_SIZE)\n",
        "            while len(data) > 0:\n",
        "                dl += len(data)\n",
        "                tfile.write(data)\n",
        "                done = int(50 * dl / int(total_length))\n",
        "                sys.stdout.write(f\"\\r[{'=' * done}{' ' * (50-done)}] {dl} bytes downloaded\")\n",
        "                sys.stdout.flush()\n",
        "                data = fileres.read(CHUNK_SIZE)\n",
        "            if filename.endswith('.zip'):\n",
        "              with ZipFile(tfile) as zfile:\n",
        "                zfile.extractall(destination_path)\n",
        "            else:\n",
        "              with tarfile.open(tfile.name) as tarfile:\n",
        "                tarfile.extractall(destination_path)\n",
        "            print(f'\\nDownloaded and uncompressed: {directory}')\n",
        "    except HTTPError as e:\n",
        "        print(f'Failed to load (likely expired) {download_url} to path {destination_path}')\n",
        "        continue\n",
        "    except OSError as e:\n",
        "        print(f'Failed to load {download_url} to path {destination_path}')\n",
        "        continue\n",
        "\n",
        "print('Data source import complete.')\n"
      ]
    },
    {
      "cell_type": "code",
      "source": [
        "!pip install mtcnn"
      ],
      "metadata": {
        "colab": {
          "base_uri": "https://localhost:8080/"
        },
        "id": "80GgcNR879Lv",
        "outputId": "b2c40229-34ca-4cca-afbf-fd9cf22ce062"
      },
      "execution_count": 2,
      "outputs": [
        {
          "output_type": "stream",
          "name": "stdout",
          "text": [
            "Collecting mtcnn\n",
            "  Downloading mtcnn-0.1.1-py3-none-any.whl (2.3 MB)\n",
            "\u001b[2K     \u001b[90m━━━━━━━━━━━━━━━━━━━━━━━━━━━━━━━━━━━━━━━━\u001b[0m \u001b[32m2.3/2.3 MB\u001b[0m \u001b[31m8.3 MB/s\u001b[0m eta \u001b[36m0:00:00\u001b[0m\n",
            "\u001b[?25hRequirement already satisfied: keras>=2.0.0 in /usr/local/lib/python3.10/dist-packages (from mtcnn) (2.15.0)\n",
            "Requirement already satisfied: opencv-python>=4.1.0 in /usr/local/lib/python3.10/dist-packages (from mtcnn) (4.8.0.76)\n",
            "Requirement already satisfied: numpy>=1.21.2 in /usr/local/lib/python3.10/dist-packages (from opencv-python>=4.1.0->mtcnn) (1.25.2)\n",
            "Installing collected packages: mtcnn\n",
            "Successfully installed mtcnn-0.1.1\n"
          ]
        }
      ]
    },
    {
      "cell_type": "code",
      "source": [
        "import os\n",
        "import shutil\n",
        "import pandas as pd\n",
        "import numpy as np\n",
        "import cv2\n",
        "import tensorflow as tf\n",
        "from tensorflow.keras.models import Sequential\n",
        "from tensorflow.keras.layers import Conv2D, MaxPooling2D, Flatten, Dense, Dropout, BatchNormalization\n",
        "from tensorflow.keras.utils import to_categorical\n",
        "from sklearn.preprocessing import LabelEncoder\n",
        "from sklearn.model_selection import train_test_split\n",
        "from sklearn.metrics import classification_report\n",
        "from sklearn.utils import shuffle\n",
        "import matplotlib.pyplot as plt\n"
      ],
      "metadata": {
        "id": "gXrdrl1jyva9"
      },
      "execution_count": 3,
      "outputs": []
    },
    {
      "cell_type": "code",
      "source": [
        "# Set the dataset path\n",
        "dataset_path = '../input/lfw-dataset/lfw-deepfunneled/lfw-deepfunneled'\n",
        "\n",
        "# Generate a list of (name, image count) tuples\n",
        "names_images = []\n",
        "\n",
        "for name in os.listdir(dataset_path):\n",
        "    directory = os.path.join(dataset_path, name)\n",
        "    if os.path.isdir(directory):\n",
        "        images = [i for i in os.listdir(directory) if i.endswith('.jpg')]\n",
        "        image_count = len(images)\n",
        "        # Add to list if there are at least 25 images and store the actual image count\n",
        "        if image_count >= 50:\n",
        "            names_images.append((name, min(image_count, 50)))\n",
        "\n",
        "# Update number_of_people to reflect the actual number of people with at least 25 images\n",
        "number_of_people = len(names_images)\n",
        "print(f\"Number of people with at least 50 images: {number_of_people}\")\n",
        "\n",
        "# Create a DataFrame\n",
        "lfw_allnames = pd.DataFrame(names_images, columns=['name', 'images'])\n",
        "\n",
        "# Save the DataFrame to a CSV file\n",
        "lfw_csv_path = '../input/lfw-dataset/lfw_allnames.csv'\n",
        "lfw_allnames.to_csv(lfw_csv_path, index=False)\n",
        "\n",
        "# print(f\"CSV file created at: {lfw_csv_path}\")"
      ],
      "metadata": {
        "colab": {
          "base_uri": "https://localhost:8080/"
        },
        "id": "UMXeFqRPyh40",
        "outputId": "d0af90ff-0dad-4e7b-e03a-71cb5a19430b"
      },
      "execution_count": 4,
      "outputs": [
        {
          "output_type": "stream",
          "name": "stdout",
          "text": [
            "Number of people with at least 50 images: 12\n"
          ]
        }
      ]
    },
    {
      "cell_type": "code",
      "source": [
        "# Define a new directory for experiments\n",
        "new_dir_path = '../lfw-data-experiment'\n",
        "\n",
        "# Create the new directory if it doesn't exist\n",
        "if not os.path.exists(new_dir_path):\n",
        "    os.makedirs(new_dir_path)\n",
        "\n",
        "# Move the folders\n",
        "for name, image_count in names_images:\n",
        "    source_folder = os.path.join(dataset_path, name)\n",
        "    destination_folder = os.path.join(new_dir_path, name)\n",
        "\n",
        "    # Check if the destination folder already exists\n",
        "    if os.path.exists(destination_folder):\n",
        "        shutil.rmtree(destination_folder)\n",
        "\n",
        "    # Move the folders\n",
        "    if os.path.exists(source_folder):\n",
        "        shutil.copytree(source_folder, destination_folder)\n",
        "        # If there are more than 50 images, keep the first 50 and delete the rest\n",
        "        images = sorted([i for i in os.listdir(destination_folder) if i.endswith('.jpg')])\n",
        "        for img in images[50:]:  # Delete all images beyond the 25th\n",
        "            os.remove(os.path.join(destination_folder, img))\n",
        "    else:\n",
        "        print(f\"Folder for {name} does not exist in the dataset path.\")\n",
        "\n",
        "print(\"Folders moved successfully.\")"
      ],
      "metadata": {
        "colab": {
          "base_uri": "https://localhost:8080/"
        },
        "id": "RDmb_LpHy0bM",
        "outputId": "f73e39b9-6197-4677-c102-71675da4e28a"
      },
      "execution_count": 5,
      "outputs": [
        {
          "output_type": "stream",
          "name": "stdout",
          "text": [
            "Folders moved successfully.\n"
          ]
        }
      ]
    },
    {
      "cell_type": "code",
      "source": [
        "\n",
        "# Read the dataset\n",
        "people_data = os.listdir(new_dir_path)\n",
        "people = []\n",
        "for item in people_data:\n",
        "    person_images = os.listdir(os.path.join(new_dir_path, item))\n",
        "    for person_image in person_images:\n",
        "        people.append((item, os.path.join(new_dir_path, item, person_image)))\n",
        "\n",
        "# Create a DataFrame from the list of tuples\n",
        "people_df = pd.DataFrame(people, columns=['person', 'path'])\n",
        "\n",
        "# Convert labels to one-hot encoded labels\n",
        "label_encoder = LabelEncoder()\n",
        "labels = people_df['person'].values\n",
        "int_encoded = label_encoder.fit_transform(labels)\n",
        "y_onehot = to_categorical(int_encoded)\n",
        "\n",
        "# Correct the size of the images to match the CNN input\n",
        "im_size = 150\n",
        "\n",
        "# Initialize lists to store the images and labels\n",
        "images = []\n",
        "labels = []\n",
        "\n",
        "# Load and preprocess the images\n",
        "for index, row in people_df.iterrows():\n",
        "    img = cv2.imread(row['path'])\n",
        "    img = cv2.resize(img, (im_size, im_size))\n",
        "    images.append(img)\n",
        "    labels.append(row['person'])\n",
        "\n",
        "images = np.array(images)\n",
        "images = images.astype('float32') / 255.0\n",
        "\n",
        "# Shuffle and split the dataset\n",
        "images, y_onehot = shuffle(images, y_onehot, random_state=1)\n",
        "train_x, test_x, train_y_onehot, test_y_onehot = train_test_split(images, y_onehot, test_size=0.3, random_state=415)\n",
        "\n",
        "# Check the shapes again to make sure they match\n",
        "print(\"train_x shape:\", train_x.shape)\n",
        "print(\"train_y_onehot shape:\", train_y_onehot.shape)\n",
        "print(\"test_x shape:\", test_x.shape)\n",
        "print(\"test_y_onehot shape:\", test_y_onehot.shape)"
      ],
      "metadata": {
        "colab": {
          "base_uri": "https://localhost:8080/"
        },
        "id": "s9rty7ouzGFs",
        "outputId": "dcce092d-b654-43bd-9f60-202f3e194d95"
      },
      "execution_count": 6,
      "outputs": [
        {
          "output_type": "stream",
          "name": "stdout",
          "text": [
            "train_x shape: (420, 150, 150, 3)\n",
            "train_y_onehot shape: (420, 12)\n",
            "test_x shape: (180, 150, 150, 3)\n",
            "test_y_onehot shape: (180, 12)\n"
          ]
        }
      ]
    },
    {
      "cell_type": "code",
      "source": [
        "# import os\n",
        "\n",
        "# # Correct path according to your folder structure\n",
        "# lfw_data_experiment = '../lfw-data-experiment'\n",
        "\n",
        "# people_data = os.listdir(lfw_data_experiment)\n",
        "# print(len(people_data))\n",
        "\n",
        "# people = []\n",
        "# for item in people_data:\n",
        "#     all_names = os.listdir(lfw_data_experiment + '/' + item)\n",
        "#     for person in all_names:\n",
        "#         people.append((item, lfw_data_experiment + '/' + item + '/' + person))\n",
        "\n",
        "# print(people)\n"
      ],
      "metadata": {
        "id": "A5X89VEqAGiQ"
      },
      "execution_count": 7,
      "outputs": []
    },
    {
      "cell_type": "code",
      "source": [
        "import pandas as pd\n",
        "\n",
        "# Create a DataFrame from the list of tuples\n",
        "people_df = pd.DataFrame(people, columns=['person', 'path'])\n",
        "\n",
        "# Count the number of samples for each person\n",
        "person_count = people_df['person'].value_counts()\n",
        "\n",
        "print(\"Total number of images of people in the dataset: \", len(people_df))\n",
        "print(\"Samples in each category: \")\n",
        "print(person_count)\n"
      ],
      "metadata": {
        "colab": {
          "base_uri": "https://localhost:8080/"
        },
        "id": "fGKfFvTIAGHW",
        "outputId": "986a9f1b-990f-4b6d-f92e-fea91d9b7195"
      },
      "execution_count": 8,
      "outputs": [
        {
          "output_type": "stream",
          "name": "stdout",
          "text": [
            "Total number of images of people in the dataset:  600\n",
            "Samples in each category: \n",
            "person\n",
            "Junichiro_Koizumi    50\n",
            "Tony_Blair           50\n",
            "George_W_Bush        50\n",
            "Serena_Williams      50\n",
            "Jacques_Chirac       50\n",
            "Colin_Powell         50\n",
            "Jean_Chretien        50\n",
            "Ariel_Sharon         50\n",
            "Donald_Rumsfeld      50\n",
            "John_Ashcroft        50\n",
            "Gerhard_Schroeder    50\n",
            "Hugo_Chavez          50\n",
            "Name: count, dtype: int64\n"
          ]
        }
      ]
    },
    {
      "cell_type": "markdown",
      "source": [
        "#Encoding"
      ],
      "metadata": {
        "id": "mcIPL21vkcR6"
      }
    },
    {
      "cell_type": "code",
      "source": [
        "num_classes = len(np.unique(labels))"
      ],
      "metadata": {
        "id": "QXctnMYZ6naS"
      },
      "execution_count": 9,
      "outputs": []
    },
    {
      "cell_type": "code",
      "source": [
        "im_shape=(im_size, im_size, 3)"
      ],
      "metadata": {
        "id": "Y2--z8G6dZ93"
      },
      "execution_count": 10,
      "outputs": []
    },
    {
      "cell_type": "code",
      "source": [
        "import tensorflow as tf\n",
        "from tensorflow.keras.models import Sequential\n",
        "from tensorflow.keras.layers import Conv2D, MaxPooling2D, Flatten, Dense, Dropout, BatchNormalization, ZeroPadding2D\n",
        "\n",
        "\n",
        "alexnet = Sequential()\n",
        "\n",
        "# Layer 1\n",
        "alexnet.add(Conv2D(filters=96, kernel_size=(11, 11), strides=(4, 4), activation='relu', input_shape=(im_size, im_size, 3)))\n",
        "alexnet.add(BatchNormalization())\n",
        "alexnet.add(MaxPooling2D(pool_size=(3, 3), strides=(2, 2)))\n",
        "\n",
        "# Layer 2\n",
        "alexnet.add(Conv2D(filters=256, kernel_size=(5, 5), strides=(1, 1), activation='relu', padding=\"same\"))\n",
        "alexnet.add(BatchNormalization())\n",
        "alexnet.add(MaxPooling2D(pool_size=(3, 3), strides=(2, 2)))\n",
        "\n",
        "# Layer 3\n",
        "alexnet.add(Conv2D(filters=384, kernel_size=(3, 3), strides=(1, 1), activation='relu', padding=\"same\"))\n",
        "alexnet.add(BatchNormalization())\n",
        "\n",
        "# Layer 4\n",
        "alexnet.add(Conv2D(filters=384, kernel_size=(3, 3), strides=(1, 1), activation='relu', padding=\"same\"))\n",
        "alexnet.add(BatchNormalization())\n",
        "\n",
        "# Layer 5\n",
        "alexnet.add(Conv2D(filters=256, kernel_size=(3, 3), strides=(1, 1), activation='relu', padding=\"same\"))\n",
        "alexnet.add(BatchNormalization())\n",
        "alexnet.add(MaxPooling2D(pool_size=(3, 3), strides=(2, 2)))\n",
        "\n",
        "# Layer 6\n",
        "alexnet.add(Flatten())\n",
        "alexnet.add(Dense(4096, activation='relu'))\n",
        "alexnet.add(Dropout(0.5))\n",
        "\n",
        "# Layer 7\n",
        "alexnet.add(Dense(4096, activation='relu'))\n",
        "alexnet.add(Dropout(0.5))\n",
        "\n",
        "# Layer 8 - Output layer for binary classification\n",
        "alexnet.add(Dense(num_classes, activation='softmax'))\n",
        "\n",
        "# Compile the model\n",
        "alexnet.compile(optimizer='adam', loss='categorical_crossentropy', metrics=['accuracy'])\n",
        "\n",
        "# Summary of the model\n",
        "alexnet.summary()"
      ],
      "metadata": {
        "colab": {
          "base_uri": "https://localhost:8080/"
        },
        "id": "J8DDI8du_5y5",
        "outputId": "ebdc222a-ee6d-47af-ebab-491a205b512b"
      },
      "execution_count": 11,
      "outputs": [
        {
          "output_type": "stream",
          "name": "stdout",
          "text": [
            "Model: \"sequential\"\n",
            "_________________________________________________________________\n",
            " Layer (type)                Output Shape              Param #   \n",
            "=================================================================\n",
            " conv2d (Conv2D)             (None, 35, 35, 96)        34944     \n",
            "                                                                 \n",
            " batch_normalization (Batch  (None, 35, 35, 96)        384       \n",
            " Normalization)                                                  \n",
            "                                                                 \n",
            " max_pooling2d (MaxPooling2  (None, 17, 17, 96)        0         \n",
            " D)                                                              \n",
            "                                                                 \n",
            " conv2d_1 (Conv2D)           (None, 17, 17, 256)       614656    \n",
            "                                                                 \n",
            " batch_normalization_1 (Bat  (None, 17, 17, 256)       1024      \n",
            " chNormalization)                                                \n",
            "                                                                 \n",
            " max_pooling2d_1 (MaxPoolin  (None, 8, 8, 256)         0         \n",
            " g2D)                                                            \n",
            "                                                                 \n",
            " conv2d_2 (Conv2D)           (None, 8, 8, 384)         885120    \n",
            "                                                                 \n",
            " batch_normalization_2 (Bat  (None, 8, 8, 384)         1536      \n",
            " chNormalization)                                                \n",
            "                                                                 \n",
            " conv2d_3 (Conv2D)           (None, 8, 8, 384)         1327488   \n",
            "                                                                 \n",
            " batch_normalization_3 (Bat  (None, 8, 8, 384)         1536      \n",
            " chNormalization)                                                \n",
            "                                                                 \n",
            " conv2d_4 (Conv2D)           (None, 8, 8, 256)         884992    \n",
            "                                                                 \n",
            " batch_normalization_4 (Bat  (None, 8, 8, 256)         1024      \n",
            " chNormalization)                                                \n",
            "                                                                 \n",
            " max_pooling2d_2 (MaxPoolin  (None, 3, 3, 256)         0         \n",
            " g2D)                                                            \n",
            "                                                                 \n",
            " flatten (Flatten)           (None, 2304)              0         \n",
            "                                                                 \n",
            " dense (Dense)               (None, 4096)              9441280   \n",
            "                                                                 \n",
            " dropout (Dropout)           (None, 4096)              0         \n",
            "                                                                 \n",
            " dense_1 (Dense)             (None, 4096)              16781312  \n",
            "                                                                 \n",
            " dropout_1 (Dropout)         (None, 4096)              0         \n",
            "                                                                 \n",
            " dense_2 (Dense)             (None, 12)                49164     \n",
            "                                                                 \n",
            "=================================================================\n",
            "Total params: 30024460 (114.53 MB)\n",
            "Trainable params: 30021708 (114.52 MB)\n",
            "Non-trainable params: 2752 (10.75 KB)\n",
            "_________________________________________________________________\n"
          ]
        }
      ]
    },
    {
      "cell_type": "code",
      "source": [
        "history = alexnet.fit(\n",
        "    train_x,\n",
        "    train_y_onehot,\n",
        "    epochs=100,\n",
        "    batch_size=32,\n",
        "    validation_data=(test_x, test_y_onehot)\n",
        ")\n"
      ],
      "metadata": {
        "id": "vcT45lprA3TQ",
        "colab": {
          "base_uri": "https://localhost:8080/"
        },
        "outputId": "b8738991-335a-47c9-af7f-5c8880f06071"
      },
      "execution_count": 15,
      "outputs": [
        {
          "output_type": "stream",
          "name": "stdout",
          "text": [
            "Epoch 1/100\n",
            "14/14 [==============================] - 1s 73ms/step - loss: 1.7526 - accuracy: 0.4214 - val_loss: 2.4263 - val_accuracy: 0.2389\n",
            "Epoch 2/100\n",
            "14/14 [==============================] - 1s 41ms/step - loss: 1.6751 - accuracy: 0.4500 - val_loss: 2.4322 - val_accuracy: 0.2556\n",
            "Epoch 3/100\n",
            "14/14 [==============================] - 1s 50ms/step - loss: 1.6076 - accuracy: 0.4762 - val_loss: 4.3861 - val_accuracy: 0.1611\n",
            "Epoch 4/100\n",
            "14/14 [==============================] - 1s 46ms/step - loss: 1.6468 - accuracy: 0.4952 - val_loss: 3.4966 - val_accuracy: 0.1833\n",
            "Epoch 5/100\n",
            "14/14 [==============================] - 1s 45ms/step - loss: 1.4052 - accuracy: 0.5119 - val_loss: 3.8864 - val_accuracy: 0.2111\n",
            "Epoch 6/100\n",
            "14/14 [==============================] - 1s 40ms/step - loss: 1.2980 - accuracy: 0.5738 - val_loss: 2.7050 - val_accuracy: 0.2500\n",
            "Epoch 7/100\n",
            "14/14 [==============================] - 0s 34ms/step - loss: 1.3462 - accuracy: 0.5595 - val_loss: 2.8462 - val_accuracy: 0.2611\n",
            "Epoch 8/100\n",
            "14/14 [==============================] - 0s 32ms/step - loss: 1.2751 - accuracy: 0.6071 - val_loss: 5.3678 - val_accuracy: 0.2111\n",
            "Epoch 9/100\n",
            "14/14 [==============================] - 0s 34ms/step - loss: 1.4553 - accuracy: 0.5690 - val_loss: 2.3927 - val_accuracy: 0.3556\n",
            "Epoch 10/100\n",
            "14/14 [==============================] - 0s 33ms/step - loss: 1.4908 - accuracy: 0.5214 - val_loss: 3.1658 - val_accuracy: 0.2667\n",
            "Epoch 11/100\n",
            "14/14 [==============================] - 0s 33ms/step - loss: 1.3194 - accuracy: 0.5881 - val_loss: 2.9430 - val_accuracy: 0.3389\n",
            "Epoch 12/100\n",
            "14/14 [==============================] - 0s 32ms/step - loss: 1.2773 - accuracy: 0.5762 - val_loss: 2.4888 - val_accuracy: 0.3500\n",
            "Epoch 13/100\n",
            "14/14 [==============================] - 0s 33ms/step - loss: 1.4350 - accuracy: 0.5762 - val_loss: 3.7400 - val_accuracy: 0.2889\n",
            "Epoch 14/100\n",
            "14/14 [==============================] - 0s 33ms/step - loss: 1.2723 - accuracy: 0.6310 - val_loss: 4.6398 - val_accuracy: 0.2889\n",
            "Epoch 15/100\n",
            "14/14 [==============================] - 0s 32ms/step - loss: 1.0385 - accuracy: 0.6643 - val_loss: 3.8587 - val_accuracy: 0.3778\n",
            "Epoch 16/100\n",
            "14/14 [==============================] - 0s 32ms/step - loss: 0.8940 - accuracy: 0.7238 - val_loss: 2.5630 - val_accuracy: 0.4333\n",
            "Epoch 17/100\n",
            "14/14 [==============================] - 0s 33ms/step - loss: 0.9996 - accuracy: 0.6905 - val_loss: 2.8970 - val_accuracy: 0.3278\n",
            "Epoch 18/100\n",
            "14/14 [==============================] - 0s 32ms/step - loss: 0.9397 - accuracy: 0.7143 - val_loss: 4.4451 - val_accuracy: 0.3167\n",
            "Epoch 19/100\n",
            "14/14 [==============================] - 0s 32ms/step - loss: 0.6919 - accuracy: 0.7667 - val_loss: 3.1326 - val_accuracy: 0.4167\n",
            "Epoch 20/100\n",
            "14/14 [==============================] - 1s 42ms/step - loss: 0.6775 - accuracy: 0.7881 - val_loss: 2.6137 - val_accuracy: 0.4778\n",
            "Epoch 21/100\n",
            "14/14 [==============================] - 0s 36ms/step - loss: 0.8273 - accuracy: 0.7643 - val_loss: 2.9861 - val_accuracy: 0.3278\n",
            "Epoch 22/100\n",
            "14/14 [==============================] - 1s 40ms/step - loss: 0.8779 - accuracy: 0.7119 - val_loss: 2.2637 - val_accuracy: 0.4444\n",
            "Epoch 23/100\n",
            "14/14 [==============================] - 1s 38ms/step - loss: 0.7911 - accuracy: 0.7929 - val_loss: 3.1610 - val_accuracy: 0.3611\n",
            "Epoch 24/100\n",
            "14/14 [==============================] - 0s 34ms/step - loss: 0.8150 - accuracy: 0.7500 - val_loss: 2.3589 - val_accuracy: 0.4722\n",
            "Epoch 25/100\n",
            "14/14 [==============================] - 0s 32ms/step - loss: 0.4517 - accuracy: 0.8405 - val_loss: 3.1926 - val_accuracy: 0.4556\n",
            "Epoch 26/100\n",
            "14/14 [==============================] - 0s 32ms/step - loss: 0.3736 - accuracy: 0.8833 - val_loss: 2.8290 - val_accuracy: 0.5000\n",
            "Epoch 27/100\n",
            "14/14 [==============================] - 0s 33ms/step - loss: 0.5856 - accuracy: 0.8310 - val_loss: 2.3093 - val_accuracy: 0.4722\n",
            "Epoch 28/100\n",
            "14/14 [==============================] - 0s 32ms/step - loss: 0.5916 - accuracy: 0.8357 - val_loss: 6.0900 - val_accuracy: 0.3944\n",
            "Epoch 29/100\n",
            "14/14 [==============================] - 0s 32ms/step - loss: 0.9522 - accuracy: 0.7619 - val_loss: 15.7685 - val_accuracy: 0.1500\n",
            "Epoch 30/100\n",
            "14/14 [==============================] - 0s 33ms/step - loss: 0.6625 - accuracy: 0.8095 - val_loss: 8.1050 - val_accuracy: 0.2833\n",
            "Epoch 31/100\n",
            "14/14 [==============================] - 0s 32ms/step - loss: 1.0924 - accuracy: 0.7190 - val_loss: 7.8883 - val_accuracy: 0.1778\n",
            "Epoch 32/100\n",
            "14/14 [==============================] - 0s 33ms/step - loss: 0.6352 - accuracy: 0.8143 - val_loss: 6.2531 - val_accuracy: 0.3278\n",
            "Epoch 33/100\n",
            "14/14 [==============================] - 0s 33ms/step - loss: 0.8330 - accuracy: 0.7500 - val_loss: 9.6087 - val_accuracy: 0.3000\n",
            "Epoch 34/100\n",
            "14/14 [==============================] - 0s 32ms/step - loss: 0.9623 - accuracy: 0.7476 - val_loss: 2.9091 - val_accuracy: 0.3889\n",
            "Epoch 35/100\n",
            "14/14 [==============================] - 0s 33ms/step - loss: 0.7974 - accuracy: 0.7762 - val_loss: 3.6968 - val_accuracy: 0.4000\n",
            "Epoch 36/100\n",
            "14/14 [==============================] - 0s 33ms/step - loss: 0.5237 - accuracy: 0.8214 - val_loss: 2.8033 - val_accuracy: 0.5000\n",
            "Epoch 37/100\n",
            "14/14 [==============================] - 0s 32ms/step - loss: 0.5732 - accuracy: 0.8524 - val_loss: 4.0597 - val_accuracy: 0.4556\n",
            "Epoch 38/100\n",
            "14/14 [==============================] - 1s 39ms/step - loss: 1.0475 - accuracy: 0.7643 - val_loss: 5.4261 - val_accuracy: 0.3333\n",
            "Epoch 39/100\n",
            "14/14 [==============================] - 0s 32ms/step - loss: 0.9258 - accuracy: 0.7262 - val_loss: 3.8968 - val_accuracy: 0.2944\n",
            "Epoch 40/100\n",
            "14/14 [==============================] - 0s 33ms/step - loss: 0.8199 - accuracy: 0.7976 - val_loss: 3.0640 - val_accuracy: 0.3778\n",
            "Epoch 41/100\n",
            "14/14 [==============================] - 0s 33ms/step - loss: 0.5294 - accuracy: 0.8357 - val_loss: 3.0198 - val_accuracy: 0.3778\n",
            "Epoch 42/100\n",
            "14/14 [==============================] - 0s 32ms/step - loss: 0.6466 - accuracy: 0.8690 - val_loss: 7.1897 - val_accuracy: 0.2389\n",
            "Epoch 43/100\n",
            "14/14 [==============================] - 0s 33ms/step - loss: 0.7095 - accuracy: 0.7976 - val_loss: 3.8557 - val_accuracy: 0.3833\n",
            "Epoch 44/100\n",
            "14/14 [==============================] - 0s 33ms/step - loss: 0.3466 - accuracy: 0.8833 - val_loss: 2.7966 - val_accuracy: 0.4611\n",
            "Epoch 45/100\n",
            "14/14 [==============================] - 0s 32ms/step - loss: 0.4279 - accuracy: 0.8833 - val_loss: 3.5278 - val_accuracy: 0.3111\n",
            "Epoch 46/100\n",
            "14/14 [==============================] - 1s 39ms/step - loss: 0.3148 - accuracy: 0.8929 - val_loss: 2.5870 - val_accuracy: 0.5167\n",
            "Epoch 47/100\n",
            "14/14 [==============================] - 1s 44ms/step - loss: 0.2588 - accuracy: 0.9214 - val_loss: 2.7442 - val_accuracy: 0.5500\n",
            "Epoch 48/100\n",
            "14/14 [==============================] - 1s 36ms/step - loss: 0.1638 - accuracy: 0.9476 - val_loss: 2.8369 - val_accuracy: 0.5222\n",
            "Epoch 49/100\n",
            "14/14 [==============================] - 1s 44ms/step - loss: 0.2198 - accuracy: 0.9405 - val_loss: 3.6934 - val_accuracy: 0.4667\n",
            "Epoch 50/100\n",
            "14/14 [==============================] - 0s 33ms/step - loss: 0.2641 - accuracy: 0.9333 - val_loss: 2.9045 - val_accuracy: 0.5889\n",
            "Epoch 51/100\n",
            "14/14 [==============================] - 0s 32ms/step - loss: 0.2161 - accuracy: 0.9333 - val_loss: 3.0351 - val_accuracy: 0.5667\n",
            "Epoch 52/100\n",
            "14/14 [==============================] - 0s 33ms/step - loss: 0.2023 - accuracy: 0.9476 - val_loss: 3.6571 - val_accuracy: 0.4944\n",
            "Epoch 53/100\n",
            "14/14 [==============================] - 0s 32ms/step - loss: 0.1598 - accuracy: 0.9524 - val_loss: 4.1421 - val_accuracy: 0.4889\n",
            "Epoch 54/100\n",
            "14/14 [==============================] - 0s 34ms/step - loss: 0.3046 - accuracy: 0.9381 - val_loss: 4.0534 - val_accuracy: 0.4722\n",
            "Epoch 55/100\n",
            "14/14 [==============================] - 0s 32ms/step - loss: 0.5360 - accuracy: 0.8857 - val_loss: 4.6397 - val_accuracy: 0.4611\n",
            "Epoch 56/100\n",
            "14/14 [==============================] - 0s 33ms/step - loss: 0.3817 - accuracy: 0.8976 - val_loss: 4.6460 - val_accuracy: 0.4167\n",
            "Epoch 57/100\n",
            "14/14 [==============================] - 0s 33ms/step - loss: 0.2537 - accuracy: 0.9167 - val_loss: 3.7620 - val_accuracy: 0.4611\n",
            "Epoch 58/100\n",
            "14/14 [==============================] - 0s 33ms/step - loss: 0.1760 - accuracy: 0.9571 - val_loss: 3.4006 - val_accuracy: 0.5056\n",
            "Epoch 59/100\n",
            "14/14 [==============================] - 0s 33ms/step - loss: 0.1936 - accuracy: 0.9357 - val_loss: 2.9831 - val_accuracy: 0.5278\n",
            "Epoch 60/100\n",
            "14/14 [==============================] - 0s 33ms/step - loss: 0.2643 - accuracy: 0.9452 - val_loss: 3.0982 - val_accuracy: 0.5056\n",
            "Epoch 61/100\n",
            "14/14 [==============================] - 0s 33ms/step - loss: 0.1953 - accuracy: 0.9286 - val_loss: 2.7048 - val_accuracy: 0.4833\n",
            "Epoch 62/100\n",
            "14/14 [==============================] - 0s 33ms/step - loss: 0.2314 - accuracy: 0.9262 - val_loss: 4.0594 - val_accuracy: 0.4778\n",
            "Epoch 63/100\n",
            "14/14 [==============================] - 0s 33ms/step - loss: 0.2025 - accuracy: 0.9405 - val_loss: 4.2813 - val_accuracy: 0.5056\n",
            "Epoch 64/100\n",
            "14/14 [==============================] - 0s 32ms/step - loss: 0.1811 - accuracy: 0.9571 - val_loss: 5.4306 - val_accuracy: 0.4111\n",
            "Epoch 65/100\n",
            "14/14 [==============================] - 0s 33ms/step - loss: 0.2277 - accuracy: 0.9548 - val_loss: 3.6628 - val_accuracy: 0.4944\n",
            "Epoch 66/100\n",
            "14/14 [==============================] - 0s 33ms/step - loss: 0.2119 - accuracy: 0.9524 - val_loss: 3.1228 - val_accuracy: 0.5167\n",
            "Epoch 67/100\n",
            "14/14 [==============================] - 0s 32ms/step - loss: 0.4352 - accuracy: 0.8810 - val_loss: 5.2127 - val_accuracy: 0.4444\n",
            "Epoch 68/100\n",
            "14/14 [==============================] - 0s 32ms/step - loss: 0.2643 - accuracy: 0.9167 - val_loss: 4.2234 - val_accuracy: 0.4833\n",
            "Epoch 69/100\n",
            "14/14 [==============================] - 0s 33ms/step - loss: 0.1685 - accuracy: 0.9500 - val_loss: 5.5915 - val_accuracy: 0.4333\n",
            "Epoch 70/100\n",
            "14/14 [==============================] - 0s 34ms/step - loss: 0.3181 - accuracy: 0.9429 - val_loss: 4.1183 - val_accuracy: 0.4778\n",
            "Epoch 71/100\n",
            "14/14 [==============================] - 1s 40ms/step - loss: 0.3280 - accuracy: 0.9286 - val_loss: 3.0446 - val_accuracy: 0.5444\n",
            "Epoch 72/100\n",
            "14/14 [==============================] - 1s 43ms/step - loss: 0.5448 - accuracy: 0.9000 - val_loss: 6.0693 - val_accuracy: 0.3833\n",
            "Epoch 73/100\n",
            "14/14 [==============================] - 1s 38ms/step - loss: 0.2796 - accuracy: 0.9214 - val_loss: 3.3557 - val_accuracy: 0.5278\n",
            "Epoch 74/100\n",
            "14/14 [==============================] - 1s 44ms/step - loss: 0.2855 - accuracy: 0.9357 - val_loss: 3.1821 - val_accuracy: 0.5222\n",
            "Epoch 75/100\n",
            "14/14 [==============================] - 0s 34ms/step - loss: 0.2992 - accuracy: 0.9071 - val_loss: 4.5272 - val_accuracy: 0.4722\n",
            "Epoch 76/100\n",
            "14/14 [==============================] - 0s 33ms/step - loss: 0.4175 - accuracy: 0.9214 - val_loss: 3.9515 - val_accuracy: 0.4778\n",
            "Epoch 77/100\n",
            "14/14 [==============================] - 0s 33ms/step - loss: 0.4718 - accuracy: 0.8786 - val_loss: 4.9567 - val_accuracy: 0.4222\n",
            "Epoch 78/100\n",
            "14/14 [==============================] - 0s 33ms/step - loss: 0.5854 - accuracy: 0.8833 - val_loss: 4.3258 - val_accuracy: 0.5056\n",
            "Epoch 79/100\n",
            "14/14 [==============================] - 0s 32ms/step - loss: 0.4886 - accuracy: 0.9095 - val_loss: 3.2118 - val_accuracy: 0.4778\n",
            "Epoch 80/100\n",
            "14/14 [==============================] - 0s 33ms/step - loss: 0.3095 - accuracy: 0.9190 - val_loss: 4.6371 - val_accuracy: 0.5000\n",
            "Epoch 81/100\n",
            "14/14 [==============================] - 0s 33ms/step - loss: 0.4207 - accuracy: 0.9167 - val_loss: 5.2096 - val_accuracy: 0.4111\n",
            "Epoch 82/100\n",
            "14/14 [==============================] - 0s 33ms/step - loss: 0.3207 - accuracy: 0.9214 - val_loss: 8.1587 - val_accuracy: 0.2667\n",
            "Epoch 83/100\n",
            "14/14 [==============================] - 0s 33ms/step - loss: 0.2336 - accuracy: 0.9452 - val_loss: 5.0650 - val_accuracy: 0.4000\n",
            "Epoch 84/100\n",
            "14/14 [==============================] - 0s 34ms/step - loss: 0.1705 - accuracy: 0.9524 - val_loss: 8.0574 - val_accuracy: 0.3500\n",
            "Epoch 85/100\n",
            "14/14 [==============================] - 0s 32ms/step - loss: 0.2668 - accuracy: 0.9381 - val_loss: 4.7883 - val_accuracy: 0.4667\n",
            "Epoch 86/100\n",
            "14/14 [==============================] - 0s 33ms/step - loss: 0.1210 - accuracy: 0.9595 - val_loss: 4.9524 - val_accuracy: 0.4389\n",
            "Epoch 87/100\n",
            "14/14 [==============================] - 0s 32ms/step - loss: 0.1764 - accuracy: 0.9643 - val_loss: 4.9419 - val_accuracy: 0.4778\n",
            "Epoch 88/100\n",
            "14/14 [==============================] - 0s 32ms/step - loss: 0.3887 - accuracy: 0.9119 - val_loss: 9.2313 - val_accuracy: 0.2389\n",
            "Epoch 89/100\n",
            "14/14 [==============================] - 0s 33ms/step - loss: 0.3948 - accuracy: 0.9071 - val_loss: 3.3880 - val_accuracy: 0.4278\n",
            "Epoch 90/100\n",
            "14/14 [==============================] - 0s 33ms/step - loss: 0.3983 - accuracy: 0.9286 - val_loss: 3.3754 - val_accuracy: 0.4889\n",
            "Epoch 91/100\n",
            "14/14 [==============================] - 0s 32ms/step - loss: 0.3134 - accuracy: 0.9452 - val_loss: 4.7244 - val_accuracy: 0.4889\n",
            "Epoch 92/100\n",
            "14/14 [==============================] - 0s 35ms/step - loss: 0.9931 - accuracy: 0.8500 - val_loss: 7.7263 - val_accuracy: 0.3444\n",
            "Epoch 93/100\n",
            "14/14 [==============================] - 1s 48ms/step - loss: 1.1092 - accuracy: 0.7905 - val_loss: 8.2907 - val_accuracy: 0.3167\n",
            "Epoch 94/100\n",
            "14/14 [==============================] - 0s 33ms/step - loss: 0.8815 - accuracy: 0.7857 - val_loss: 5.4645 - val_accuracy: 0.3944\n",
            "Epoch 95/100\n",
            "14/14 [==============================] - 0s 32ms/step - loss: 1.2451 - accuracy: 0.7929 - val_loss: 4.1973 - val_accuracy: 0.4056\n",
            "Epoch 96/100\n",
            "14/14 [==============================] - 1s 41ms/step - loss: 0.7040 - accuracy: 0.8167 - val_loss: 3.5068 - val_accuracy: 0.4333\n",
            "Epoch 97/100\n",
            "14/14 [==============================] - 1s 44ms/step - loss: 0.3817 - accuracy: 0.9071 - val_loss: 5.1528 - val_accuracy: 0.4389\n",
            "Epoch 98/100\n",
            "14/14 [==============================] - 1s 42ms/step - loss: 0.7496 - accuracy: 0.8381 - val_loss: 6.6314 - val_accuracy: 0.4278\n",
            "Epoch 99/100\n",
            "14/14 [==============================] - 1s 43ms/step - loss: 0.3676 - accuracy: 0.8881 - val_loss: 4.7033 - val_accuracy: 0.4500\n",
            "Epoch 100/100\n",
            "14/14 [==============================] - 0s 32ms/step - loss: 0.2059 - accuracy: 0.9333 - val_loss: 4.1245 - val_accuracy: 0.5056\n"
          ]
        }
      ]
    },
    {
      "cell_type": "code",
      "source": [
        "import matplotlib.pyplot as plt\n",
        "\n",
        "# Plot training & validation accuracy values\n",
        "plt.figure(figsize=(10, 5))\n",
        "plt.subplot(1, 2, 1)\n",
        "plt.plot(history.history['accuracy'])\n",
        "plt.plot(history.history['val_accuracy'])  # Now this line is active\n",
        "plt.title('Model Accuracy')\n",
        "plt.ylabel('Accuracy')\n",
        "plt.xlabel('Epoch')\n",
        "plt.legend(['Train', 'Validation'], loc='upper left')\n",
        "\n",
        "# Plot training & validation loss values\n",
        "plt.subplot(1, 2, 2)\n",
        "plt.plot(history.history['loss'])\n",
        "plt.plot(history.history['val_loss'])  # And this line is active\n",
        "plt.title('Model Loss')\n",
        "plt.ylabel('Loss')\n",
        "plt.xlabel('Epoch')\n",
        "plt.legend(['Train', 'Validation'], loc='upper left')\n",
        "plt.tight_layout()\n",
        "plt.show()\n"
      ],
      "metadata": {
        "colab": {
          "base_uri": "https://localhost:8080/",
          "height": 359
        },
        "id": "L3w0OWxJrYUe",
        "outputId": "c2fbcab3-7e07-4f09-88d0-f43080aac50e"
      },
      "execution_count": 16,
      "outputs": [
        {
          "output_type": "display_data",
          "data": {
            "text/plain": [
              "<Figure size 1000x500 with 2 Axes>"
            ],
            "image/png": "[encoded data removed]"
          },
          "metadata": {}
        }
      ]
    },
    {
      "cell_type": "code",
      "source": [
        "from sklearn.utils import shuffle\n",
        "from sklearn.model_selection import train_test_split\n",
        "from sklearn.metrics import classification_report\n",
        "from sklearn.preprocessing import LabelEncoder\n",
        "import numpy as np\n",
        "\n",
        "# Your pre-built and compiled model, assumed to be trained already.\n",
        "predictions = alexnet.predict(test_x)\n",
        "predicted_classes = np.argmax(predictions, axis=1)\n",
        "\n",
        "# If you one-hot encoded the test labels for training,\n",
        "# you need to reverse the one-hot encoding to get the original class indices.\n",
        "actual_classes = np.argmax(test_y_onehot, axis=1)\n",
        "\n",
        "# Inverse transform the predicted and actual class indices to their original names.\n",
        "predicted_class_names = label_encoder.inverse_transform(predicted_classes)\n",
        "actual_class_names = label_encoder.inverse_transform(actual_classes)\n",
        "\n",
        "# Generate the classification report.\n",
        "report = classification_report(actual_class_names, predicted_class_names, target_names=label_encoder.classes_)\n",
        "\n",
        "print(report)\n"
      ],
      "metadata": {
        "id": "lUpuSm2deuuM",
        "colab": {
          "base_uri": "https://localhost:8080/"
        },
        "outputId": "ac2158f4-15ec-49b8-802e-ec95695cea31"
      },
      "execution_count": 18,
      "outputs": [
        {
          "output_type": "stream",
          "name": "stdout",
          "text": [
            "6/6 [==============================] - 0s 10ms/step\n",
            "                   precision    recall  f1-score   support\n",
            "\n",
            "     Ariel_Sharon       0.41      0.79      0.54        14\n",
            "     Colin_Powell       0.45      0.62      0.53        16\n",
            "  Donald_Rumsfeld       0.40      0.15      0.22        13\n",
            "    George_W_Bush       0.50      0.67      0.57        15\n",
            "Gerhard_Schroeder       0.60      0.33      0.43        18\n",
            "      Hugo_Chavez       0.50      0.69      0.58        13\n",
            "   Jacques_Chirac       0.38      0.27      0.32        11\n",
            "    Jean_Chretien       0.67      0.32      0.43        19\n",
            "    John_Ashcroft       0.43      0.56      0.49        18\n",
            "Junichiro_Koizumi       0.64      0.64      0.64        14\n",
            "  Serena_Williams       0.75      0.86      0.80        14\n",
            "       Tony_Blair       0.38      0.20      0.26        15\n",
            "\n",
            "         accuracy                           0.51       180\n",
            "        macro avg       0.51      0.51      0.48       180\n",
            "     weighted avg       0.52      0.51      0.48       180\n",
            "\n"
          ]
        }
      ]
    }
  ]
}