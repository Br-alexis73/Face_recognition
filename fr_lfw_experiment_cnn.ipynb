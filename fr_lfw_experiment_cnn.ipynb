{
  "nbformat": 4,
  "nbformat_minor": 0,
  "metadata": {
    "colab": {
      "provenance": [],
      "gpuType": "T4",
      "include_colab_link": true
    },
    "kernelspec": {
      "name": "python3",
      "display_name": "Python 3"
    },
    "language_info": {
      "name": "python"
    },
    "accelerator": "GPU"
  },
  "cells": [
    {
      "cell_type": "markdown",
      "metadata": {
        "id": "view-in-github",
        "colab_type": "text"
      },
      "source": [
        "<a href=\"https://colab.research.google.com/github/Br-alexis73/Face_recognition/blob/master/fr_lfw_experiment_cnn.ipynb\" target=\"_parent\"><img src=\"https://colab.research.google.com/assets/colab-badge.svg\" alt=\"Open In Colab\"/></a>"
      ]
    },
    {
      "cell_type": "code",
      "execution_count": 1,
      "metadata": {
        "colab": {
          "base_uri": "https://localhost:8080/"
        },
        "id": "b7JnxKvP_3KZ",
        "outputId": "949c9d75-f39c-491e-8b13-bbfda12398c5"
      },
      "outputs": [
        {
          "output_type": "stream",
          "name": "stdout",
          "text": [
            "Downloading lfw-dataset, 117895655 bytes compressed\n",
            "[==================================================] 117895655 bytes downloaded\n",
            "Downloaded and uncompressed: lfw-dataset\n",
            "Data source import complete.\n"
          ]
        }
      ],
      "source": [
        "\n",
        "# IMPORTANT: RUN THIS CELL IN ORDER TO IMPORT YOUR KAGGLE DATA SOURCES\n",
        "# TO THE CORRECT LOCATION (/kaggle/input) IN YOUR NOTEBOOK,\n",
        "# THEN FEEL FREE TO DELETE THIS CELL.\n",
        "# NOTE: THIS NOTEBOOK ENVIRONMENT DIFFERS FROM KAGGLE'S PYTHON\n",
        "# ENVIRONMENT SO THERE MAY BE MISSING LIBRARIES USED BY YOUR\n",
        "# NOTEBOOK.\n",
        "\n",
        "import os\n",
        "import sys\n",
        "from tempfile import NamedTemporaryFile\n",
        "from urllib.request import urlopen\n",
        "from urllib.parse import unquote, urlparse\n",
        "from urllib.error import HTTPError\n",
        "from zipfile import ZipFile\n",
        "import tarfile\n",
        "import shutil\n",
        "\n",
        "CHUNK_SIZE = 40960\n",
        "DATA_SOURCE_MAPPING = 'lfw-dataset:https%3A%2F%2Fstorage.googleapis.com%2Fkaggle-data-sets%2F26922%2F34595%2Fbundle%2Farchive.zip%3FX-Goog-Algorithm%3DGOOG4-RSA-SHA256%26X-Goog-Credential%3Dgcp-kaggle-com%2540kaggle-161607.iam.gserviceaccount.com%252F20240419%252Fauto%252Fstorage%252Fgoog4_request%26X-Goog-Date%3D20240419T152011Z%26X-Goog-Expires%3D259200%26X-Goog-SignedHeaders%3Dhost%26X-Goog-Signature%3Db4ec61946419ca8b830a0f4613cac81dffb050d7d712972d73e73a8d24cc40a231fb1a47a2c7bce99a68ff93e9ac40d5a337ede5b14e8940c63ba216337c90b4cc432075b2f24e158971a25f9ecb52e84512e1cdc8473afcdfc20275099542b8cc23208d379bed1a7e644e96a929b7dbb91a7019f5331c94ea9f46d05bdd60badb9169961ed1faa90ae1290e3919c42a5736aa4fd68b941df0dac0e6957e4528a6663da154303292f0925fe7bc92d10ad202845647f7a1eff66f586604bb52c0626b2d95f3daf452d5dae6be3e0f2daf1e3177513be89acda9a7114a083009f77cf36a5edd56f41bb1bf1ba424974542d3b8bd7ac3ec5ab7122a096e033e4df9'\n",
        "\n",
        "KAGGLE_INPUT_PATH='/kaggle/input'\n",
        "KAGGLE_WORKING_PATH='/kaggle/working'\n",
        "KAGGLE_SYMLINK='kaggle'\n",
        "\n",
        "!umount /kaggle/input/ 2> /dev/null\n",
        "shutil.rmtree('/kaggle/input', ignore_errors=True)\n",
        "os.makedirs(KAGGLE_INPUT_PATH, 0o777, exist_ok=True)\n",
        "os.makedirs(KAGGLE_WORKING_PATH, 0o777, exist_ok=True)\n",
        "\n",
        "try:\n",
        "  os.symlink(KAGGLE_INPUT_PATH, os.path.join(\"..\", 'input'), target_is_directory=True)\n",
        "except FileExistsError:\n",
        "  pass\n",
        "try:\n",
        "  os.symlink(KAGGLE_WORKING_PATH, os.path.join(\"..\", 'working'), target_is_directory=True)\n",
        "except FileExistsError:\n",
        "  pass\n",
        "\n",
        "for data_source_mapping in DATA_SOURCE_MAPPING.split(','):\n",
        "    directory, download_url_encoded = data_source_mapping.split(':')\n",
        "    download_url = unquote(download_url_encoded)\n",
        "    filename = urlparse(download_url).path\n",
        "    destination_path = os.path.join(KAGGLE_INPUT_PATH, directory)\n",
        "    try:\n",
        "        with urlopen(download_url) as fileres, NamedTemporaryFile() as tfile:\n",
        "            total_length = fileres.headers['content-length']\n",
        "            print(f'Downloading {directory}, {total_length} bytes compressed')\n",
        "            dl = 0\n",
        "            data = fileres.read(CHUNK_SIZE)\n",
        "            while len(data) > 0:\n",
        "                dl += len(data)\n",
        "                tfile.write(data)\n",
        "                done = int(50 * dl / int(total_length))\n",
        "                sys.stdout.write(f\"\\r[{'=' * done}{' ' * (50-done)}] {dl} bytes downloaded\")\n",
        "                sys.stdout.flush()\n",
        "                data = fileres.read(CHUNK_SIZE)\n",
        "            if filename.endswith('.zip'):\n",
        "              with ZipFile(tfile) as zfile:\n",
        "                zfile.extractall(destination_path)\n",
        "            else:\n",
        "              with tarfile.open(tfile.name) as tarfile:\n",
        "                tarfile.extractall(destination_path)\n",
        "            print(f'\\nDownloaded and uncompressed: {directory}')\n",
        "    except HTTPError as e:\n",
        "        print(f'Failed to load (likely expired) {download_url} to path {destination_path}')\n",
        "        continue\n",
        "    except OSError as e:\n",
        "        print(f'Failed to load {download_url} to path {destination_path}')\n",
        "        continue\n",
        "\n",
        "print('Data source import complete.')\n"
      ]
    },
    {
      "cell_type": "code",
      "source": [
        "# !pip install mtcnn"
      ],
      "metadata": {
        "colab": {
          "base_uri": "https://localhost:8080/"
        },
        "id": "80GgcNR879Lv",
        "outputId": "8db7d083-9c00-40ce-9fb7-07dcb5709a23"
      },
      "execution_count": null,
      "outputs": [
        {
          "output_type": "stream",
          "name": "stdout",
          "text": [
            "Collecting mtcnn\n",
            "  Downloading mtcnn-0.1.1-py3-none-any.whl (2.3 MB)\n",
            "\u001b[2K     \u001b[90m━━━━━━━━━━━━━━━━━━━━━━━━━━━━━━━━━━━━━━━━\u001b[0m \u001b[32m2.3/2.3 MB\u001b[0m \u001b[31m9.6 MB/s\u001b[0m eta \u001b[36m0:00:00\u001b[0m\n",
            "\u001b[?25hRequirement already satisfied: keras>=2.0.0 in /usr/local/lib/python3.10/dist-packages (from mtcnn) (2.15.0)\n",
            "Requirement already satisfied: opencv-python>=4.1.0 in /usr/local/lib/python3.10/dist-packages (from mtcnn) (4.8.0.76)\n",
            "Requirement already satisfied: numpy>=1.21.2 in /usr/local/lib/python3.10/dist-packages (from opencv-python>=4.1.0->mtcnn) (1.25.2)\n",
            "Installing collected packages: mtcnn\n",
            "Successfully installed mtcnn-0.1.1\n"
          ]
        }
      ]
    },
    {
      "cell_type": "code",
      "source": [
        "import os\n",
        "import shutil\n",
        "import pandas as pd\n",
        "import numpy as np\n",
        "import cv2\n",
        "import tensorflow as tf\n",
        "from tensorflow.keras.models import Sequential\n",
        "from tensorflow.keras.layers import Conv2D, MaxPooling2D, Flatten, Dense, Dropout, BatchNormalization\n",
        "from tensorflow.keras.utils import to_categorical\n",
        "from sklearn.preprocessing import LabelEncoder\n",
        "from sklearn.model_selection import train_test_split\n",
        "from sklearn.metrics import classification_report\n",
        "from sklearn.utils import shuffle\n",
        "import matplotlib.pyplot as plt\n"
      ],
      "metadata": {
        "id": "gXrdrl1jyva9"
      },
      "execution_count": 2,
      "outputs": []
    },
    {
      "cell_type": "code",
      "source": [
        "# Set the dataset path\n",
        "dataset_path = '../input/lfw-dataset/lfw-deepfunneled/lfw-deepfunneled'\n",
        "\n",
        "# Generate a list of (name, image count) tuples\n",
        "names_images = []\n",
        "\n",
        "for name in os.listdir(dataset_path):\n",
        "    directory = os.path.join(dataset_path, name)\n",
        "    if os.path.isdir(directory):\n",
        "        images = [i for i in os.listdir(directory) if i.endswith('.jpg')]\n",
        "        image_count = len(images)\n",
        "        # Add to list if there are at least 25 images and store the actual image count\n",
        "        if image_count >= 50:\n",
        "            names_images.append((name, min(image_count, 50)))\n",
        "\n",
        "# Update number_of_people to reflect the actual number of people with at least 25 images\n",
        "number_of_people = len(names_images)\n",
        "print(f\"Number of people with at least 50 images: {number_of_people}\")\n",
        "\n",
        "# Create a DataFrame\n",
        "lfw_allnames = pd.DataFrame(names_images, columns=['name', 'images'])\n",
        "\n",
        "# Save the DataFrame to a CSV file\n",
        "lfw_csv_path = '../input/lfw-dataset/lfw_allnames.csv'\n",
        "lfw_allnames.to_csv(lfw_csv_path, index=False)\n",
        "\n",
        "# print(f\"CSV file created at: {lfw_csv_path}\")"
      ],
      "metadata": {
        "colab": {
          "base_uri": "https://localhost:8080/"
        },
        "id": "UMXeFqRPyh40",
        "outputId": "efd790bd-e68f-46f7-9016-777bfe7ef475"
      },
      "execution_count": 3,
      "outputs": [
        {
          "output_type": "stream",
          "name": "stdout",
          "text": [
            "Number of people with at least 50 images: 12\n"
          ]
        }
      ]
    },
    {
      "cell_type": "code",
      "source": [
        "# Define a new directory for experiments\n",
        "new_dir_path = '../lfw-data-experiment'\n",
        "\n",
        "# Create the new directory if it doesn't exist\n",
        "if not os.path.exists(new_dir_path):\n",
        "    os.makedirs(new_dir_path)\n",
        "\n",
        "# Move the folders\n",
        "for name, image_count in names_images:\n",
        "    source_folder = os.path.join(dataset_path, name)\n",
        "    destination_folder = os.path.join(new_dir_path, name)\n",
        "\n",
        "    # Check if the destination folder already exists\n",
        "    if os.path.exists(destination_folder):\n",
        "        shutil.rmtree(destination_folder)\n",
        "\n",
        "    # Move the folders\n",
        "    if os.path.exists(source_folder):\n",
        "        shutil.copytree(source_folder, destination_folder)\n",
        "        # If there are more than 50 images, keep the first 50 and delete the rest\n",
        "        images = sorted([i for i in os.listdir(destination_folder) if i.endswith('.jpg')])\n",
        "        for img in images[50:]:  # Delete all images beyond the 25th\n",
        "            os.remove(os.path.join(destination_folder, img))\n",
        "    else:\n",
        "        print(f\"Folder for {name} does not exist in the dataset path.\")\n",
        "\n",
        "print(\"Folders moved successfully.\")"
      ],
      "metadata": {
        "colab": {
          "base_uri": "https://localhost:8080/"
        },
        "id": "RDmb_LpHy0bM",
        "outputId": "5103c93c-913f-4e76-90e9-9552aaf5a5a3"
      },
      "execution_count": 4,
      "outputs": [
        {
          "output_type": "stream",
          "name": "stdout",
          "text": [
            "Folders moved successfully.\n"
          ]
        }
      ]
    },
    {
      "cell_type": "code",
      "source": [
        "\n",
        "# Read the dataset\n",
        "people_data = os.listdir(new_dir_path)\n",
        "people = []\n",
        "for item in people_data:\n",
        "    person_images = os.listdir(os.path.join(new_dir_path, item))\n",
        "    for person_image in person_images:\n",
        "        people.append((item, os.path.join(new_dir_path, item, person_image)))\n",
        "\n",
        "# Create a DataFrame from the list of tuples\n",
        "people_df = pd.DataFrame(people, columns=['person', 'path'])\n",
        "\n",
        "# Convert labels to one-hot encoded labels\n",
        "label_encoder = LabelEncoder()\n",
        "labels = people_df['person'].values\n",
        "int_encoded = label_encoder.fit_transform(labels)\n",
        "y_onehot = to_categorical(int_encoded)\n",
        "\n",
        "# Correct the size of the images to match the CNN input\n",
        "im_size = 150\n",
        "\n",
        "# Initialize lists to store the images and labels\n",
        "images = []\n",
        "labels = []\n",
        "\n",
        "# Load and preprocess the images\n",
        "for index, row in people_df.iterrows():\n",
        "    img = cv2.imread(row['path'])\n",
        "    img = cv2.resize(img, (im_size, im_size))\n",
        "    images.append(img)\n",
        "    labels.append(row['person'])\n",
        "\n",
        "images = np.array(images)\n",
        "images = images.astype('float32') / 255.0\n",
        "\n",
        "# Shuffle and split the dataset\n",
        "images, y_onehot = shuffle(images, y_onehot, random_state=1)\n",
        "train_x, test_x, train_y_onehot, test_y_onehot = train_test_split(images, y_onehot, test_size=0.3, random_state=415)\n",
        "\n",
        "# Check the shapes again to make sure they match\n",
        "print(\"train_x shape:\", train_x.shape)\n",
        "print(\"train_y_onehot shape:\", train_y_onehot.shape)\n",
        "print(\"test_x shape:\", test_x.shape)\n",
        "print(\"test_y_onehot shape:\", test_y_onehot.shape)"
      ],
      "metadata": {
        "colab": {
          "base_uri": "https://localhost:8080/"
        },
        "id": "s9rty7ouzGFs",
        "outputId": "4dabdb7c-6f8f-4eed-b369-7976f3cc6d44"
      },
      "execution_count": 5,
      "outputs": [
        {
          "output_type": "stream",
          "name": "stdout",
          "text": [
            "train_x shape: (420, 150, 150, 3)\n",
            "train_y_onehot shape: (420, 12)\n",
            "test_x shape: (180, 150, 150, 3)\n",
            "test_y_onehot shape: (180, 12)\n"
          ]
        }
      ]
    },
    {
      "cell_type": "code",
      "source": [
        "# import os\n",
        "\n",
        "# # Correct path according to your folder structure\n",
        "# lfw_data_experiment = '../lfw-data-experiment'\n",
        "\n",
        "# people_data = os.listdir(lfw_data_experiment)\n",
        "# print(len(people_data))\n",
        "\n",
        "# people = []\n",
        "# for item in people_data:\n",
        "#     all_names = os.listdir(lfw_data_experiment + '/' + item)\n",
        "#     for person in all_names:\n",
        "#         people.append((item, lfw_data_experiment + '/' + item + '/' + person))\n",
        "\n",
        "# print(people)\n"
      ],
      "metadata": {
        "id": "A5X89VEqAGiQ"
      },
      "execution_count": null,
      "outputs": []
    },
    {
      "cell_type": "code",
      "source": [
        "import pandas as pd\n",
        "\n",
        "# Create a DataFrame from the list of tuples\n",
        "people_df = pd.DataFrame(people, columns=['person', 'path'])\n",
        "\n",
        "# Count the number of samples for each person\n",
        "person_count = people_df['person'].value_counts()\n",
        "\n",
        "print(\"Total number of images of people in the dataset: \", len(people_df))\n",
        "print(\"Samples in each category: \")\n",
        "print(person_count)\n"
      ],
      "metadata": {
        "colab": {
          "base_uri": "https://localhost:8080/"
        },
        "id": "fGKfFvTIAGHW",
        "outputId": "e7c70048-082b-4f30-d37e-34afe2d87305"
      },
      "execution_count": 6,
      "outputs": [
        {
          "output_type": "stream",
          "name": "stdout",
          "text": [
            "Total number of images of people in the dataset:  600\n",
            "Samples in each category: \n",
            "person\n",
            "Junichiro_Koizumi    50\n",
            "Tony_Blair           50\n",
            "George_W_Bush        50\n",
            "Serena_Williams      50\n",
            "Jacques_Chirac       50\n",
            "Colin_Powell         50\n",
            "Jean_Chretien        50\n",
            "Ariel_Sharon         50\n",
            "Donald_Rumsfeld      50\n",
            "John_Ashcroft        50\n",
            "Gerhard_Schroeder    50\n",
            "Hugo_Chavez          50\n",
            "Name: count, dtype: int64\n"
          ]
        }
      ]
    },
    {
      "cell_type": "markdown",
      "source": [
        "#Encoding"
      ],
      "metadata": {
        "id": "mcIPL21vkcR6"
      }
    },
    {
      "cell_type": "code",
      "source": [
        "num_classes = len(np.unique(labels))"
      ],
      "metadata": {
        "id": "QXctnMYZ6naS"
      },
      "execution_count": 7,
      "outputs": []
    },
    {
      "cell_type": "code",
      "source": [
        "im_shape=(im_size, im_size, 3)"
      ],
      "metadata": {
        "id": "Y2--z8G6dZ93"
      },
      "execution_count": 8,
      "outputs": []
    },
    {
      "cell_type": "code",
      "source": [
        "import tensorflow as tf\n",
        "from keras.optimizers import Adam\n",
        "from tensorflow.keras.models import Sequential\n",
        "from tensorflow.keras.layers import Conv2D, MaxPooling2D, Flatten, Dense, Dropout, BatchNormalization\n",
        "\n",
        "cnn_model= Sequential([\n",
        "    Conv2D(filters=36, kernel_size=7, activation='relu', input_shape= im_shape),\n",
        "    MaxPooling2D(pool_size=2),\n",
        "    Conv2D(filters=54, kernel_size=5, activation='relu', input_shape= im_shape),\n",
        "    MaxPooling2D(pool_size=2),\n",
        "    Flatten(),\n",
        "    Dense(2024, activation='relu'),\n",
        "     Dropout(0.5),\n",
        "    Dense(1024, activation='relu'),\n",
        "    Dropout(0.5),\n",
        "    Dense(512, activation='relu'),\n",
        "    Dropout(0.5),\n",
        "    #20 is the number of outputs\n",
        "    Dense(num_classes, activation='softmax')\n",
        "])\n",
        "\n",
        "cnn_model.compile(\n",
        "    loss='categorical_crossentropy',#'categorical_crossentropy',\n",
        "    optimizer='adam',\n",
        "    metrics=['accuracy']\n",
        ")\n",
        "\n",
        "cnn_model.summary()\n"
      ],
      "metadata": {
        "colab": {
          "base_uri": "https://localhost:8080/"
        },
        "id": "J8DDI8du_5y5",
        "outputId": "bf23e109-2eb4-47d3-9c3f-2feb05250c19"
      },
      "execution_count": 10,
      "outputs": [
        {
          "output_type": "stream",
          "name": "stdout",
          "text": [
            "Model: \"sequential_1\"\n",
            "_________________________________________________________________\n",
            " Layer (type)                Output Shape              Param #   \n",
            "=================================================================\n",
            " conv2d_2 (Conv2D)           (None, 144, 144, 36)      5328      \n",
            "                                                                 \n",
            " max_pooling2d_2 (MaxPoolin  (None, 72, 72, 36)        0         \n",
            " g2D)                                                            \n",
            "                                                                 \n",
            " conv2d_3 (Conv2D)           (None, 68, 68, 54)        48654     \n",
            "                                                                 \n",
            " max_pooling2d_3 (MaxPoolin  (None, 34, 34, 54)        0         \n",
            " g2D)                                                            \n",
            "                                                                 \n",
            " flatten_1 (Flatten)         (None, 62424)             0         \n",
            "                                                                 \n",
            " dense_4 (Dense)             (None, 2024)              126348200 \n",
            "                                                                 \n",
            " dropout_3 (Dropout)         (None, 2024)              0         \n",
            "                                                                 \n",
            " dense_5 (Dense)             (None, 1024)              2073600   \n",
            "                                                                 \n",
            " dropout_4 (Dropout)         (None, 1024)              0         \n",
            "                                                                 \n",
            " dense_6 (Dense)             (None, 512)               524800    \n",
            "                                                                 \n",
            " dropout_5 (Dropout)         (None, 512)               0         \n",
            "                                                                 \n",
            " dense_7 (Dense)             (None, 12)                6156      \n",
            "                                                                 \n",
            "=================================================================\n",
            "Total params: 129006738 (492.12 MB)\n",
            "Trainable params: 129006738 (492.12 MB)\n",
            "Non-trainable params: 0 (0.00 Byte)\n",
            "_________________________________________________________________\n"
          ]
        }
      ]
    },
    {
      "cell_type": "code",
      "source": [
        "history = cnn_model.fit(\n",
        "    train_x,\n",
        "    train_y_onehot,\n",
        "    epochs=50,\n",
        "    batch_size=32,\n",
        "    validation_data=(test_x, test_y_onehot)\n",
        ")\n"
      ],
      "metadata": {
        "id": "vcT45lprA3TQ",
        "colab": {
          "base_uri": "https://localhost:8080/"
        },
        "outputId": "85b89eff-49a3-46ea-d420-e17c508be0b7"
      },
      "execution_count": 11,
      "outputs": [
        {
          "output_type": "stream",
          "name": "stdout",
          "text": [
            "Epoch 1/50\n",
            "14/14 [==============================] - 9s 138ms/step - loss: 3.6394 - accuracy: 0.0810 - val_loss: 2.4849 - val_accuracy: 0.0833\n",
            "Epoch 2/50\n",
            "14/14 [==============================] - 1s 71ms/step - loss: 2.4864 - accuracy: 0.0762 - val_loss: 2.4788 - val_accuracy: 0.1222\n",
            "Epoch 3/50\n",
            "14/14 [==============================] - 1s 69ms/step - loss: 2.4820 - accuracy: 0.1119 - val_loss: 2.4678 - val_accuracy: 0.1167\n",
            "Epoch 4/50\n",
            "14/14 [==============================] - 1s 74ms/step - loss: 2.4656 - accuracy: 0.1333 - val_loss: 2.4701 - val_accuracy: 0.1889\n",
            "Epoch 5/50\n",
            "14/14 [==============================] - 1s 75ms/step - loss: 2.4782 - accuracy: 0.1476 - val_loss: 2.4434 - val_accuracy: 0.1833\n",
            "Epoch 6/50\n",
            "14/14 [==============================] - 1s 72ms/step - loss: 2.3601 - accuracy: 0.2000 - val_loss: 2.2927 - val_accuracy: 0.2222\n",
            "Epoch 7/50\n",
            "14/14 [==============================] - 1s 67ms/step - loss: 2.1816 - accuracy: 0.2571 - val_loss: 2.1929 - val_accuracy: 0.2944\n",
            "Epoch 8/50\n",
            "14/14 [==============================] - 1s 66ms/step - loss: 1.9426 - accuracy: 0.3571 - val_loss: 2.0854 - val_accuracy: 0.2667\n",
            "Epoch 9/50\n",
            "14/14 [==============================] - 1s 66ms/step - loss: 1.5596 - accuracy: 0.4619 - val_loss: 2.0487 - val_accuracy: 0.3444\n",
            "Epoch 10/50\n",
            "14/14 [==============================] - 1s 72ms/step - loss: 1.2600 - accuracy: 0.5667 - val_loss: 2.2694 - val_accuracy: 0.3556\n",
            "Epoch 11/50\n",
            "14/14 [==============================] - 1s 72ms/step - loss: 0.7869 - accuracy: 0.7476 - val_loss: 2.1472 - val_accuracy: 0.3944\n",
            "Epoch 12/50\n",
            "14/14 [==============================] - 1s 72ms/step - loss: 0.4170 - accuracy: 0.8595 - val_loss: 2.6206 - val_accuracy: 0.3611\n",
            "Epoch 13/50\n",
            "14/14 [==============================] - 1s 67ms/step - loss: 0.3274 - accuracy: 0.8976 - val_loss: 3.6232 - val_accuracy: 0.4056\n",
            "Epoch 14/50\n",
            "14/14 [==============================] - 1s 74ms/step - loss: 0.1927 - accuracy: 0.9476 - val_loss: 3.2399 - val_accuracy: 0.4167\n",
            "Epoch 15/50\n",
            "14/14 [==============================] - 1s 74ms/step - loss: 0.2507 - accuracy: 0.9238 - val_loss: 2.9517 - val_accuracy: 0.4278\n",
            "Epoch 16/50\n",
            "14/14 [==============================] - 1s 74ms/step - loss: 0.1204 - accuracy: 0.9714 - val_loss: 3.8157 - val_accuracy: 0.4278\n",
            "Epoch 17/50\n",
            "14/14 [==============================] - 1s 76ms/step - loss: 0.2443 - accuracy: 0.9262 - val_loss: 3.2422 - val_accuracy: 0.3889\n",
            "Epoch 18/50\n",
            "14/14 [==============================] - 1s 73ms/step - loss: 0.2329 - accuracy: 0.9333 - val_loss: 3.0947 - val_accuracy: 0.4556\n",
            "Epoch 19/50\n",
            "14/14 [==============================] - 1s 67ms/step - loss: 0.1253 - accuracy: 0.9643 - val_loss: 3.7714 - val_accuracy: 0.3722\n",
            "Epoch 20/50\n",
            "14/14 [==============================] - 1s 72ms/step - loss: 0.1080 - accuracy: 0.9690 - val_loss: 3.1606 - val_accuracy: 0.4000\n",
            "Epoch 21/50\n",
            "14/14 [==============================] - 1s 77ms/step - loss: 0.0781 - accuracy: 0.9786 - val_loss: 3.8095 - val_accuracy: 0.3889\n",
            "Epoch 22/50\n",
            "14/14 [==============================] - 1s 77ms/step - loss: 0.0675 - accuracy: 0.9786 - val_loss: 3.6689 - val_accuracy: 0.4056\n",
            "Epoch 23/50\n",
            "14/14 [==============================] - 1s 73ms/step - loss: 0.0343 - accuracy: 0.9857 - val_loss: 3.3966 - val_accuracy: 0.4778\n",
            "Epoch 24/50\n",
            "14/14 [==============================] - 1s 76ms/step - loss: 0.0722 - accuracy: 0.9881 - val_loss: 3.3423 - val_accuracy: 0.3944\n",
            "Epoch 25/50\n",
            "14/14 [==============================] - 1s 73ms/step - loss: 0.0233 - accuracy: 0.9976 - val_loss: 3.6317 - val_accuracy: 0.4611\n",
            "Epoch 26/50\n",
            "14/14 [==============================] - 1s 66ms/step - loss: 0.0215 - accuracy: 0.9976 - val_loss: 3.7870 - val_accuracy: 0.4944\n",
            "Epoch 27/50\n",
            "14/14 [==============================] - 1s 79ms/step - loss: 0.0355 - accuracy: 0.9881 - val_loss: 3.9553 - val_accuracy: 0.4611\n",
            "Epoch 28/50\n",
            "14/14 [==============================] - 1s 88ms/step - loss: 0.0205 - accuracy: 0.9929 - val_loss: 3.8077 - val_accuracy: 0.4833\n",
            "Epoch 29/50\n",
            "14/14 [==============================] - 1s 88ms/step - loss: 0.0112 - accuracy: 0.9952 - val_loss: 4.2920 - val_accuracy: 0.4278\n",
            "Epoch 30/50\n",
            "14/14 [==============================] - 1s 78ms/step - loss: 0.0456 - accuracy: 0.9881 - val_loss: 4.6792 - val_accuracy: 0.4389\n",
            "Epoch 31/50\n",
            "14/14 [==============================] - 1s 79ms/step - loss: 0.0157 - accuracy: 0.9952 - val_loss: 4.2555 - val_accuracy: 0.4778\n",
            "Epoch 32/50\n",
            "14/14 [==============================] - 1s 80ms/step - loss: 0.0157 - accuracy: 0.9905 - val_loss: 3.8548 - val_accuracy: 0.4389\n",
            "Epoch 33/50\n",
            "14/14 [==============================] - 1s 74ms/step - loss: 0.0061 - accuracy: 0.9976 - val_loss: 3.7300 - val_accuracy: 0.4833\n",
            "Epoch 34/50\n",
            "14/14 [==============================] - 1s 68ms/step - loss: 0.0208 - accuracy: 0.9952 - val_loss: 3.7052 - val_accuracy: 0.4556\n",
            "Epoch 35/50\n",
            "14/14 [==============================] - 1s 67ms/step - loss: 0.0609 - accuracy: 0.9905 - val_loss: 3.3031 - val_accuracy: 0.4167\n",
            "Epoch 36/50\n",
            "14/14 [==============================] - 1s 72ms/step - loss: 0.0226 - accuracy: 0.9929 - val_loss: 3.4459 - val_accuracy: 0.4667\n",
            "Epoch 37/50\n",
            "14/14 [==============================] - 1s 67ms/step - loss: 0.0429 - accuracy: 0.9905 - val_loss: 3.5533 - val_accuracy: 0.3722\n",
            "Epoch 38/50\n",
            "14/14 [==============================] - 1s 67ms/step - loss: 0.0163 - accuracy: 0.9929 - val_loss: 4.2986 - val_accuracy: 0.4333\n",
            "Epoch 39/50\n",
            "14/14 [==============================] - 1s 72ms/step - loss: 0.0285 - accuracy: 0.9905 - val_loss: 4.4260 - val_accuracy: 0.3722\n",
            "Epoch 40/50\n",
            "14/14 [==============================] - 1s 77ms/step - loss: 0.0428 - accuracy: 0.9857 - val_loss: 3.9354 - val_accuracy: 0.4056\n",
            "Epoch 41/50\n",
            "14/14 [==============================] - 1s 71ms/step - loss: 0.0522 - accuracy: 0.9833 - val_loss: 4.6314 - val_accuracy: 0.4556\n",
            "Epoch 42/50\n",
            "14/14 [==============================] - 1s 72ms/step - loss: 0.0232 - accuracy: 0.9952 - val_loss: 4.2606 - val_accuracy: 0.4000\n",
            "Epoch 43/50\n",
            "14/14 [==============================] - 1s 68ms/step - loss: 0.0352 - accuracy: 0.9905 - val_loss: 4.4974 - val_accuracy: 0.4222\n",
            "Epoch 44/50\n",
            "14/14 [==============================] - 1s 73ms/step - loss: 0.0792 - accuracy: 0.9881 - val_loss: 4.4537 - val_accuracy: 0.4111\n",
            "Epoch 45/50\n",
            "14/14 [==============================] - 1s 74ms/step - loss: 0.0463 - accuracy: 0.9857 - val_loss: 4.3257 - val_accuracy: 0.4333\n",
            "Epoch 46/50\n",
            "14/14 [==============================] - 1s 68ms/step - loss: 0.0469 - accuracy: 0.9881 - val_loss: 3.9206 - val_accuracy: 0.4000\n",
            "Epoch 47/50\n",
            "14/14 [==============================] - 1s 73ms/step - loss: 0.0440 - accuracy: 0.9786 - val_loss: 4.6284 - val_accuracy: 0.4056\n",
            "Epoch 48/50\n",
            "14/14 [==============================] - 1s 68ms/step - loss: 0.0070 - accuracy: 0.9976 - val_loss: 4.8768 - val_accuracy: 0.4167\n",
            "Epoch 49/50\n",
            "14/14 [==============================] - 1s 73ms/step - loss: 0.0403 - accuracy: 0.9929 - val_loss: 5.6865 - val_accuracy: 0.3722\n",
            "Epoch 50/50\n",
            "14/14 [==============================] - 1s 67ms/step - loss: 0.0030 - accuracy: 1.0000 - val_loss: 5.6861 - val_accuracy: 0.4056\n"
          ]
        }
      ]
    },
    {
      "cell_type": "code",
      "source": [
        "import matplotlib.pyplot as plt\n",
        "\n",
        "# Plot training & validation accuracy values\n",
        "plt.figure(figsize=(10, 5))\n",
        "plt.subplot(1, 2, 1)\n",
        "plt.plot(history.history['accuracy'])\n",
        "plt.plot(history.history['val_accuracy'])  # Now this line is active\n",
        "plt.title('Model Accuracy')\n",
        "plt.ylabel('Accuracy')\n",
        "plt.xlabel('Epoch')\n",
        "plt.legend(['Train', 'Validation'], loc='upper left')\n",
        "\n",
        "# Plot training & validation loss values\n",
        "plt.subplot(1, 2, 2)\n",
        "plt.plot(history.history['loss'])\n",
        "plt.plot(history.history['val_loss'])  # And this line is active\n",
        "plt.title('Model Loss')\n",
        "plt.ylabel('Loss')\n",
        "plt.xlabel('Epoch')\n",
        "plt.legend(['Train', 'Validation'], loc='upper left')\n",
        "plt.tight_layout()\n",
        "plt.show()\n"
      ],
      "metadata": {
        "colab": {
          "base_uri": "https://localhost:8080/",
          "height": 353
        },
        "id": "L3w0OWxJrYUe",
        "outputId": "92462a05-d73b-410a-999d-88411b26e911"
      },
      "execution_count": 12,
      "outputs": [
        {
          "output_type": "display_data",
          "data": {
            "text/plain": [
              "<Figure size 1000x500 with 2 Axes>"
            ],
            "image/png": "[encoded data removed]"
          },
          "metadata": {}
        }
      ]
    },
    {
      "cell_type": "code",
      "source": [
        "import matplotlib.pyplot as plt\n",
        "import numpy as np\n",
        "import pandas as pd\n",
        "import os\n",
        "from sklearn.preprocessing import LabelEncoder\n",
        "from tensorflow.keras.utils import to_categorical\n",
        "from sklearn.utils import shuffle\n",
        "from sklearn.model_selection import train_test_split\n",
        "import cv2\n",
        "from sklearn.metrics import classification_report, confusion_matrix\n",
        "import seaborn as sns\n",
        "from tensorflow.keras.models import load_model  # if you have a model to load, otherwise import your CNN architecture\n",
        "\n",
        "# Assuming your CNN has been trained and you have the model loaded\n",
        "# model = load_model('your_model.h5')  # Load your trained model\n",
        "\n",
        "# Generate predictions\n",
        "test_y_pred = cnn_model.predict(test_x)\n",
        "test_y_pred_classes = np.argmax(test_y_pred, axis=1)\n",
        "test_y_true = np.argmax(test_y_onehot, axis=1)\n",
        "\n",
        "# Print the confusion matrix\n",
        "conf_matrix = confusion_matrix(test_y_true, test_y_pred_classes)\n",
        "plt.figure(figsize=(10, 8))\n",
        "sns.heatmap(conf_matrix, annot=True, fmt='d')\n",
        "plt.ylabel('True label')\n",
        "plt.xlabel('Predicted label')\n",
        "plt.show()\n",
        "\n",
        "# Print classification report\n",
        "print(classification_report(test_y_true, test_y_pred_classes, target_names=label_encoder.classes_))\n"
      ],
      "metadata": {
        "colab": {
          "base_uri": "https://localhost:8080/",
          "height": 961
        },
        "id": "e3Bq9fUSfAyc",
        "outputId": "c4598e12-2e20-4129-8d13-116f99bbb645"
      },
      "execution_count": 15,
      "outputs": [
        {
          "output_type": "stream",
          "name": "stdout",
          "text": [
            "6/6 [==============================] - 0s 21ms/step\n"
          ]
        },
        {
          "output_type": "display_data",
          "data": {
            "text/plain": [
              "<Figure size 1000x800 with 2 Axes>"
            ],
            "image/png": "[encoded data removed]"
          },
          "metadata": {}
        },
        {
          "output_type": "stream",
          "name": "stdout",
          "text": [
            "                   precision    recall  f1-score   support\n",
            "\n",
            "     Ariel_Sharon       0.36      0.64      0.46        14\n",
            "     Colin_Powell       0.50      0.38      0.43        16\n",
            "  Donald_Rumsfeld       0.24      0.31      0.27        13\n",
            "    George_W_Bush       0.29      0.40      0.33        15\n",
            "Gerhard_Schroeder       0.50      0.11      0.18        18\n",
            "      Hugo_Chavez       0.24      0.62      0.35        13\n",
            "   Jacques_Chirac       0.30      0.27      0.29        11\n",
            "    Jean_Chretien       0.80      0.42      0.55        19\n",
            "    John_Ashcroft       0.57      0.22      0.32        18\n",
            "Junichiro_Koizumi       0.80      0.57      0.67        14\n",
            "  Serena_Williams       0.79      0.79      0.79        14\n",
            "       Tony_Blair       0.24      0.27      0.25        15\n",
            "\n",
            "         accuracy                           0.41       180\n",
            "        macro avg       0.47      0.42      0.41       180\n",
            "     weighted avg       0.48      0.41      0.41       180\n",
            "\n"
          ]
        }
      ]
    }
  ]
}