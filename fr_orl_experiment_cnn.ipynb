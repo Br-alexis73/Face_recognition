{
  "metadata": {
    "kernelspec": {
      "display_name": "Python 3",
      "name": "python3"
    },
    "language_info": {
      "name": "python",
      "version": "3.7.10",
      "mimetype": "text/x-python",
      "codemirror_mode": {
        "name": "ipython",
        "version": 3
      },
      "pygments_lexer": "ipython3",
      "nbconvert_exporter": "python",
      "file_extension": ".py"
    },
    "kaggle": {
      "accelerator": "none",
      "dataSources": [
        {
          "sourceId": 2465716,
          "sourceType": "datasetVersion",
          "datasetId": 1492577
        }
      ],
      "dockerImageVersionId": 30120,
      "isInternetEnabled": false,
      "language": "python",
      "sourceType": "notebook",
      "isGpuEnabled": false
    },
    "colab": {
      "name": "fr_orl_experiment_CNN",
      "provenance": [],
      "gpuType": "T4",
      "include_colab_link": true
    },
    "accelerator": "GPU"
  },
  "nbformat_minor": 0,
  "nbformat": 4,
  "cells": [
    {
      "cell_type": "markdown",
      "metadata": {
        "id": "view-in-github",
        "colab_type": "text"
      },
      "source": [
        "<a href=\"https://colab.research.google.com/github/Br-alexis73/Face_recognition/blob/master/fr_orl_experiment_cnn.ipynb\" target=\"_parent\"><img src=\"https://colab.research.google.com/assets/colab-badge.svg\" alt=\"Open In Colab\"/></a>"
      ]
    },
    {
      "source": [
        "\n",
        "# IMPORTANT: RUN THIS CELL IN ORDER TO IMPORT YOUR KAGGLE DATA SOURCES\n",
        "# TO THE CORRECT LOCATION (/kaggle/input) IN YOUR NOTEBOOK,\n",
        "# THEN FEEL FREE TO DELETE THIS CELL.\n",
        "# NOTE: THIS NOTEBOOK ENVIRONMENT DIFFERS FROM KAGGLE'S PYTHON\n",
        "# ENVIRONMENT SO THERE MAY BE MISSING LIBRARIES USED BY YOUR\n",
        "# NOTEBOOK.\n",
        "\n",
        "import os\n",
        "import sys\n",
        "from tempfile import NamedTemporaryFile\n",
        "from urllib.request import urlopen\n",
        "from urllib.parse import unquote, urlparse\n",
        "from urllib.error import HTTPError\n",
        "from zipfile import ZipFile\n",
        "import tarfile\n",
        "import shutil\n",
        "\n",
        "CHUNK_SIZE = 40960\n",
        "DATA_SOURCE_MAPPING = 'orl-faces:https%3A%2F%2Fstorage.googleapis.com%2Fkaggle-data-sets%2F1492577%2F2465716%2Fbundle%2Farchive.zip%3FX-Goog-Algorithm%3DGOOG4-RSA-SHA256%26X-Goog-Credential%3Dgcp-kaggle-com%2540kaggle-161607.iam.gserviceaccount.com%252F20240421%252Fauto%252Fstorage%252Fgoog4_request%26X-Goog-Date%3D20240421T103134Z%26X-Goog-Expires%3D259200%26X-Goog-SignedHeaders%3Dhost%26X-Goog-Signature%3D04cdad0072b37fa134a73af86b30905b4377d231439fae6eb42d3e9b80980b3e27c0c8e4a07dec26c2d8a4eb69f5af47fdfafcc84e5054de8b864b6f86d0a093f0f27d632485ce8dd0327810c02097241db0e18e3f99aabb43b238a4485022e510e56aeb23a2e939e804a0771797ad508db773577d3ea105f7e291cdf11a65d8be2f1068aa96e05e73ea6dfb663ec0149102346f7c6daa1e4ca35821bd269af2a42b56a79be94f060fc0a1e889cdb9ddb8570d10d2ae750607a03355ff694d746e385b9b5cc727920a69b368c43077d99c293bb4482a1de7af966e71c9966cd8c6e61a22b11ebd2b9ef15625181abe11662464fc4051b8bbce1d7c428f6c42c7'\n",
        "\n",
        "KAGGLE_INPUT_PATH='/kaggle/input'\n",
        "KAGGLE_WORKING_PATH='/kaggle/working'\n",
        "KAGGLE_SYMLINK='kaggle'\n",
        "\n",
        "!umount /kaggle/input/ 2> /dev/null\n",
        "shutil.rmtree('/kaggle/input', ignore_errors=True)\n",
        "os.makedirs(KAGGLE_INPUT_PATH, 0o777, exist_ok=True)\n",
        "os.makedirs(KAGGLE_WORKING_PATH, 0o777, exist_ok=True)\n",
        "\n",
        "try:\n",
        "  os.symlink(KAGGLE_INPUT_PATH, os.path.join(\"..\", 'input'), target_is_directory=True)\n",
        "except FileExistsError:\n",
        "  pass\n",
        "try:\n",
        "  os.symlink(KAGGLE_WORKING_PATH, os.path.join(\"..\", 'working'), target_is_directory=True)\n",
        "except FileExistsError:\n",
        "  pass\n",
        "\n",
        "for data_source_mapping in DATA_SOURCE_MAPPING.split(','):\n",
        "    directory, download_url_encoded = data_source_mapping.split(':')\n",
        "    download_url = unquote(download_url_encoded)\n",
        "    filename = urlparse(download_url).path\n",
        "    destination_path = os.path.join(KAGGLE_INPUT_PATH, directory)\n",
        "    try:\n",
        "        with urlopen(download_url) as fileres, NamedTemporaryFile() as tfile:\n",
        "            total_length = fileres.headers['content-length']\n",
        "            print(f'Downloading {directory}, {total_length} bytes compressed')\n",
        "            dl = 0\n",
        "            data = fileres.read(CHUNK_SIZE)\n",
        "            while len(data) > 0:\n",
        "                dl += len(data)\n",
        "                tfile.write(data)\n",
        "                done = int(50 * dl / int(total_length))\n",
        "                sys.stdout.write(f\"\\r[{'=' * done}{' ' * (50-done)}] {dl} bytes downloaded\")\n",
        "                sys.stdout.flush()\n",
        "                data = fileres.read(CHUNK_SIZE)\n",
        "            if filename.endswith('.zip'):\n",
        "              with ZipFile(tfile) as zfile:\n",
        "                zfile.extractall(destination_path)\n",
        "            else:\n",
        "              with tarfile.open(tfile.name) as tarfile:\n",
        "                tarfile.extractall(destination_path)\n",
        "            print(f'\\nDownloaded and uncompressed: {directory}')\n",
        "    except HTTPError as e:\n",
        "        print(f'Failed to load (likely expired) {download_url} to path {destination_path}')\n",
        "        continue\n",
        "    except OSError as e:\n",
        "        print(f'Failed to load {download_url} to path {destination_path}')\n",
        "        continue\n",
        "\n",
        "print('Data source import complete.')\n"
      ],
      "metadata": {
        "id": "c9Fn-0rCNhu3",
        "outputId": "18aba9cc-c7ef-467e-89b2-006694bea865",
        "colab": {
          "base_uri": "https://localhost:8080/"
        }
      },
      "cell_type": "code",
      "outputs": [
        {
          "output_type": "stream",
          "name": "stdout",
          "text": [
            "Downloading orl-faces, 5666980 bytes compressed\n",
            "[==================================================] 5666980 bytes downloaded\n",
            "Downloaded and uncompressed: orl-faces\n",
            "Data source import complete.\n"
          ]
        }
      ],
      "execution_count": 1
    },
    {
      "cell_type": "code",
      "source": [
        "import keras\n",
        "from keras.models import Sequential\n",
        "from keras.layers import Conv2D, MaxPooling2D, Dense, Flatten, Dropout\n",
        "from keras.optimizers import Adam\n",
        "from keras.callbacks import TensorBoard\n",
        "\n",
        "import numpy as np\n",
        "import pandas as pd\n",
        "import matplotlib.pyplot as plt\n",
        "from sklearn.model_selection import train_test_split\n",
        "\n",
        "from sklearn.metrics import confusion_matrix\n",
        "from sklearn.metrics import classification_report\n",
        "from sklearn.metrics import roc_curve, auc\n",
        "from sklearn.metrics import accuracy_score\n",
        "from tensorflow.keras.utils import to_categorical\n",
        "import itertools"
      ],
      "metadata": {
        "_uuid": "104c9a6b-a3bd-4f32-8097-31f2177cb0a6",
        "_cell_guid": "08e0e784-f00d-49a0-b7df-8df3bcccfc49",
        "jupyter": {
          "outputs_hidden": false
        },
        "execution": {
          "iopub.status.busy": "2024-04-21T10:27:26.126945Z",
          "iopub.execute_input": "2024-04-21T10:27:26.127465Z",
          "iopub.status.idle": "2024-04-21T10:27:33.43085Z",
          "shell.execute_reply.started": "2024-04-21T10:27:26.127346Z",
          "shell.execute_reply": "2024-04-21T10:27:33.429704Z"
        },
        "trusted": true,
        "id": "SLgfyKNbNhu7"
      },
      "execution_count": 2,
      "outputs": []
    },
    {
      "cell_type": "markdown",
      "source": [
        "# Step 2\n",
        "Load Dataset :\n",
        "After loading the Dataset you have to normalize every image.\n",
        "\n",
        "**Note:** an image is a Uint8 matrix of pixels and for calculation, you need to convert the format of the image to float or double"
      ],
      "metadata": {
        "_uuid": "7ea3f6c8-7acd-45c8-ac4a-15d111c5a668",
        "_cell_guid": "b66306f7-d36a-4350-93d9-4e7744c98a53",
        "trusted": true,
        "id": "GRTEMHpBNhu7"
      }
    },
    {
      "cell_type": "code",
      "source": [
        "#load dataset\n",
        "data = np.load('../input/orl-faces/ORL_faces.npz')\n",
        "\n",
        "# load the \"Train Images\"\n",
        "x_train = data['trainX']\n",
        "#normalize every image\n",
        "x_train = np.array(x_train,dtype='float32')/255\n",
        "\n",
        "x_test = data['testX']\n",
        "x_test = np.array(x_test,dtype='float32')/255\n",
        "\n",
        "# load the Label of Images\n",
        "y_train= data['trainY']\n",
        "y_test= data['testY']\n",
        "\n",
        "# show the train and test Data format\n",
        "print('x_train : {}'.format(x_train[:]))\n",
        "print('Y-train shape: {}'.format(y_train))\n",
        "print('x_test shape: {}'.format(x_test.shape))"
      ],
      "metadata": {
        "_uuid": "ca522af1-e196-4f6e-80d4-b93bb5f0dc5b",
        "_cell_guid": "7c74b6fe-4ea4-45e3-97e4-8c0caa313dc8",
        "jupyter": {
          "outputs_hidden": false
        },
        "execution": {
          "iopub.status.busy": "2024-04-21T10:27:43.432444Z",
          "iopub.execute_input": "2024-04-21T10:27:43.432833Z",
          "iopub.status.idle": "2024-04-21T10:27:43.829088Z",
          "shell.execute_reply.started": "2024-04-21T10:27:43.432799Z",
          "shell.execute_reply": "2024-04-21T10:27:43.82774Z"
        },
        "trusted": true,
        "id": "4RjytFitNhu9",
        "outputId": "11a5d80a-e9f7-4a23-b1ce-28004cc7f6d7",
        "colab": {
          "base_uri": "https://localhost:8080/"
        }
      },
      "execution_count": 3,
      "outputs": [
        {
          "output_type": "stream",
          "name": "stdout",
          "text": [
            "x_train : [[0.1882353  0.19215687 0.1764706  ... 0.18431373 0.18039216 0.18039216]\n",
            " [0.23529412 0.23529412 0.24313726 ... 0.1254902  0.13333334 0.13333334]\n",
            " [0.15294118 0.17254902 0.20784314 ... 0.11372549 0.10196079 0.11372549]\n",
            " ...\n",
            " [0.44705883 0.45882353 0.44705883 ... 0.38431373 0.3764706  0.38431373]\n",
            " [0.4117647  0.4117647  0.41960785 ... 0.21176471 0.18431373 0.16078432]\n",
            " [0.45490196 0.44705883 0.45882353 ... 0.37254903 0.39215687 0.39607844]]\n",
            "Y-train shape: [ 0  0  0  0  0  0  0  0  0  0  0  0  1  1  1  1  1  1  1  1  1  1  1  1\n",
            "  2  2  2  2  2  2  2  2  2  2  2  2  3  3  3  3  3  3  3  3  3  3  3  3\n",
            "  4  4  4  4  4  4  4  4  4  4  4  4  5  5  5  5  5  5  5  5  5  5  5  5\n",
            "  6  6  6  6  6  6  6  6  6  6  6  6  7  7  7  7  7  7  7  7  7  7  7  7\n",
            "  8  8  8  8  8  8  8  8  8  8  8  8  9  9  9  9  9  9  9  9  9  9  9  9\n",
            " 10 10 10 10 10 10 10 10 10 10 10 10 11 11 11 11 11 11 11 11 11 11 11 11\n",
            " 12 12 12 12 12 12 12 12 12 12 12 12 13 13 13 13 13 13 13 13 13 13 13 13\n",
            " 14 14 14 14 14 14 14 14 14 14 14 14 15 15 15 15 15 15 15 15 15 15 15 15\n",
            " 16 16 16 16 16 16 16 16 16 16 16 16 17 17 17 17 17 17 17 17 17 17 17 17\n",
            " 18 18 18 18 18 18 18 18 18 18 18 18 19 19 19 19 19 19 19 19 19 19 19 19]\n",
            "x_test shape: (160, 10304)\n"
          ]
        }
      ]
    },
    {
      "cell_type": "markdown",
      "source": [
        "# Step 3\n",
        "Split DataSet : Validation data and Train\n",
        "\n",
        "Validation DataSet: this data set is used to minimize overfitting.If the accuracy over the training data set increases, but the accuracy over then validation data set stays the same or decreases, then you're overfitting your neural network and you should stop training.\n",
        "\n",
        "**Note:** we usually use 30 percent of every dataset as the validation data but Here we only used 5 percent because the number of images in this dataset is very low."
      ],
      "metadata": {
        "_uuid": "513ae144-0cfa-42b4-8f48-18de0496dd7a",
        "_cell_guid": "96743b41-911d-4598-8529-566171aa493e",
        "trusted": true,
        "id": "vmVw-36SNhu_"
      }
    },
    {
      "cell_type": "code",
      "source": [
        "x_train, x_valid, y_train, y_valid= train_test_split(\n",
        "    x_train, y_train, test_size=.05, random_state=1234,)"
      ],
      "metadata": {
        "_uuid": "ae0b7183-f909-423d-9fde-de6dd06b95fe",
        "_cell_guid": "f3ace218-246a-40b8-aaae-ab9242123294",
        "jupyter": {
          "outputs_hidden": false
        },
        "execution": {
          "iopub.status.busy": "2024-04-21T10:27:49.360037Z",
          "iopub.execute_input": "2024-04-21T10:27:49.360443Z",
          "iopub.status.idle": "2024-04-21T10:27:49.369218Z",
          "shell.execute_reply.started": "2024-04-21T10:27:49.360398Z",
          "shell.execute_reply": "2024-04-21T10:27:49.36813Z"
        },
        "trusted": true,
        "id": "7yVjVtlANhvA"
      },
      "execution_count": 4,
      "outputs": []
    },
    {
      "cell_type": "markdown",
      "source": [
        "# **Step 4**\n",
        "\n",
        "for using the CNN, we need to change The size of images ( The size of images must be the same)"
      ],
      "metadata": {
        "_uuid": "d748c7fb-7df2-4bdf-9a1c-0f3922b64dc4",
        "_cell_guid": "ce2f1c33-efae-4f5e-8654-d9457cd461fb",
        "trusted": true,
        "id": "7paTA_JBNhvA"
      }
    },
    {
      "cell_type": "code",
      "source": [
        "im_rows=112\n",
        "im_cols=92\n",
        "batch_size=512\n",
        "im_shape=(im_rows, im_cols, 1)\n",
        "\n",
        "#change the size of images\n",
        "x_train = x_train.reshape(x_train.shape[0], *im_shape)\n",
        "x_test = x_test.reshape(x_test.shape[0], *im_shape)\n",
        "x_valid = x_valid.reshape(x_valid.shape[0], *im_shape)\n",
        "\n",
        "print('x_train shape: {}'.format(y_train.shape[0]))\n",
        "print('x_test shape: {}'.format(y_test.shape))"
      ],
      "metadata": {
        "_uuid": "97984650-c7b2-424d-b15a-5dd4bf37fd7a",
        "_cell_guid": "129f89f8-ac2a-4747-8a04-ec10121a93aa",
        "jupyter": {
          "outputs_hidden": false
        },
        "execution": {
          "iopub.status.busy": "2024-04-21T10:27:53.30247Z",
          "iopub.execute_input": "2024-04-21T10:27:53.3029Z",
          "iopub.status.idle": "2024-04-21T10:27:53.310514Z",
          "shell.execute_reply.started": "2024-04-21T10:27:53.302852Z",
          "shell.execute_reply": "2024-04-21T10:27:53.309362Z"
        },
        "trusted": true,
        "id": "KlUC_MAsNhvB",
        "outputId": "d27afef7-bb07-436d-dcd5-cbbe23e1d881",
        "colab": {
          "base_uri": "https://localhost:8080/"
        }
      },
      "execution_count": 5,
      "outputs": [
        {
          "output_type": "stream",
          "name": "stdout",
          "text": [
            "x_train shape: 228\n",
            "x_test shape: (160,)\n"
          ]
        }
      ]
    },
    {
      "cell_type": "markdown",
      "source": [
        "# **Step 5**\n",
        "\n",
        "Build CNN model: CNN have 3 main layer:\n",
        "\n",
        "1-Convolotional layer\n",
        "2- pooling layer\n",
        "3- fully connected layer\n",
        "\n",
        "we could build a new architecture of CNN by changing the number and position of layers."
      ],
      "metadata": {
        "_uuid": "8156121a-fc0d-4f1b-b4cd-e478eb99f753",
        "_cell_guid": "5eda4aba-afcd-4ce6-8173-674f2230e412",
        "trusted": true,
        "id": "fFEwYBx1NhvB"
      }
    },
    {
      "cell_type": "code",
      "source": [
        "import tensorflow as tf\n",
        "from tensorflow.keras.models import Sequential\n",
        "from tensorflow.keras.layers import Conv2D, MaxPooling2D, Flatten, Dense, Dropout, BatchNormalization, ZeroPadding2D\n",
        "\n",
        "\n",
        "#filters= the depth of output image or kernels\n",
        "\n",
        "cnn_model= Sequential([\n",
        "    Conv2D(filters=36, kernel_size=7, activation='relu', input_shape= im_shape),\n",
        "    MaxPooling2D(pool_size=2),\n",
        "    Conv2D(filters=54, kernel_size=5, activation='relu', input_shape= im_shape),\n",
        "    MaxPooling2D(pool_size=2),\n",
        "    Flatten(),\n",
        "    Dense(2024, activation='relu'),\n",
        "     Dropout(0.5),\n",
        "    Dense(1024, activation='relu'),\n",
        "    Dropout(0.5),\n",
        "    Dense(512, activation='relu'),\n",
        "    Dropout(0.5),\n",
        "    #20 is the number of outputs\n",
        "    Dense(20, activation='softmax')\n",
        "])\n",
        "\n",
        "cnn_model.compile(\n",
        "    loss='sparse_categorical_crossentropy',#'categorical_crossentropy',\n",
        "    optimizer=Adam(lr=0.0001),\n",
        "    metrics=['accuracy']\n",
        ")\n",
        "cnn_model.summary()"
      ],
      "metadata": {
        "_uuid": "c4fc841a-3311-4c32-bf73-00489ef63d97",
        "_cell_guid": "576b801b-ca21-4a78-a3ad-d60652a9d5d8",
        "jupyter": {
          "outputs_hidden": false
        },
        "execution": {
          "iopub.status.busy": "2024-04-21T10:30:01.480917Z",
          "iopub.execute_input": "2024-04-21T10:30:01.481322Z",
          "iopub.status.idle": "2024-04-21T10:30:01.5286Z",
          "shell.execute_reply.started": "2024-04-21T10:30:01.481286Z",
          "shell.execute_reply": "2024-04-21T10:30:01.526956Z"
        },
        "trusted": true,
        "id": "yaK95W3RNhvD",
        "outputId": "06f50d50-3c31-4fd7-da4a-40c0867678c5",
        "colab": {
          "base_uri": "https://localhost:8080/"
        }
      },
      "execution_count": 23,
      "outputs": [
        {
          "output_type": "stream",
          "name": "stderr",
          "text": [
            "WARNING:absl:`lr` is deprecated in Keras optimizer, please use `learning_rate` or use the legacy optimizer, e.g.,tf.keras.optimizers.legacy.Adam.\n"
          ]
        },
        {
          "output_type": "stream",
          "name": "stdout",
          "text": [
            "Model: \"sequential_1\"\n",
            "_________________________________________________________________\n",
            " Layer (type)                Output Shape              Param #   \n",
            "=================================================================\n",
            " conv2d_5 (Conv2D)           (None, 106, 86, 36)       1800      \n",
            "                                                                 \n",
            " max_pooling2d_3 (MaxPoolin  (None, 53, 43, 36)        0         \n",
            " g2D)                                                            \n",
            "                                                                 \n",
            " conv2d_6 (Conv2D)           (None, 49, 39, 54)        48654     \n",
            "                                                                 \n",
            " max_pooling2d_4 (MaxPoolin  (None, 24, 19, 54)        0         \n",
            " g2D)                                                            \n",
            "                                                                 \n",
            " flatten_1 (Flatten)         (None, 24624)             0         \n",
            "                                                                 \n",
            " dense_3 (Dense)             (None, 2024)              49841000  \n",
            "                                                                 \n",
            " dropout_2 (Dropout)         (None, 2024)              0         \n",
            "                                                                 \n",
            " dense_4 (Dense)             (None, 1024)              2073600   \n",
            "                                                                 \n",
            " dropout_3 (Dropout)         (None, 1024)              0         \n",
            "                                                                 \n",
            " dense_5 (Dense)             (None, 512)               524800    \n",
            "                                                                 \n",
            " dropout_4 (Dropout)         (None, 512)               0         \n",
            "                                                                 \n",
            " dense_6 (Dense)             (None, 20)                10260     \n",
            "                                                                 \n",
            "=================================================================\n",
            "Total params: 52500114 (200.27 MB)\n",
            "Trainable params: 52500114 (200.27 MB)\n",
            "Non-trainable params: 0 (0.00 Byte)\n",
            "_________________________________________________________________\n"
          ]
        }
      ]
    },
    {
      "cell_type": "markdown",
      "source": [
        "\n",
        "Show the model's parameters."
      ],
      "metadata": {
        "_uuid": "0aa1d7f5-387e-4568-a1fa-8b401869254a",
        "_cell_guid": "a585858c-6da2-4d17-a4c1-c2df1cfd57b7",
        "trusted": true,
        "id": "ueFaX9BBNhvF"
      }
    },
    {
      "cell_type": "markdown",
      "source": [
        "Step 6\n",
        "Train the Model\n",
        "\n",
        "Note: You can change the number of epochs"
      ],
      "metadata": {
        "_uuid": "7d67fe7b-ae0c-400e-9a5b-5b89a4bb53c9",
        "_cell_guid": "0178b55f-be17-454d-ac1a-21dd146ead5b",
        "_kg_hide-input": true,
        "trusted": true,
        "id": "RVJ80OnzNhvF"
      }
    },
    {
      "cell_type": "code",
      "source": [
        "history=cnn_model.fit(\n",
        "    np.array(x_train), np.array(y_train), batch_size=512,\n",
        "    epochs=100, verbose=2,\n",
        "    validation_data=(np.array(x_valid),np.array(y_valid)),\n",
        ")"
      ],
      "metadata": {
        "_uuid": "9a0aa71f-d073-4aad-b279-7c6ffeb5c3bf",
        "_cell_guid": "5ea83ac6-e280-4719-899d-65095f08200d",
        "jupyter": {
          "outputs_hidden": false
        },
        "execution": {
          "iopub.status.busy": "2024-04-20T21:06:07.189724Z",
          "iopub.execute_input": "2024-04-20T21:06:07.190034Z",
          "iopub.status.idle": "2024-04-20T21:16:33.732718Z",
          "shell.execute_reply.started": "2024-04-20T21:06:07.190007Z",
          "shell.execute_reply": "2024-04-20T21:16:33.732051Z"
        },
        "trusted": true,
        "id": "hSRcboocNhvG",
        "outputId": "a677d88b-f55c-4f0d-d76a-bf2600019a81",
        "colab": {
          "base_uri": "https://localhost:8080/"
        }
      },
      "execution_count": 24,
      "outputs": [
        {
          "output_type": "stream",
          "name": "stdout",
          "text": [
            "Epoch 1/100\n",
            "1/1 - 6s - loss: 3.0069 - accuracy: 0.0439 - val_loss: 3.1879 - val_accuracy: 0.0000e+00 - 6s/epoch - 6s/step\n",
            "Epoch 2/100\n",
            "1/1 - 0s - loss: 3.4018 - accuracy: 0.0526 - val_loss: 3.0410 - val_accuracy: 0.0000e+00 - 108ms/epoch - 108ms/step\n",
            "Epoch 3/100\n",
            "1/1 - 0s - loss: 3.0359 - accuracy: 0.0746 - val_loss: 3.0141 - val_accuracy: 0.0000e+00 - 107ms/epoch - 107ms/step\n",
            "Epoch 4/100\n",
            "1/1 - 0s - loss: 3.0070 - accuracy: 0.0833 - val_loss: 3.0047 - val_accuracy: 0.0000e+00 - 109ms/epoch - 109ms/step\n",
            "Epoch 5/100\n",
            "1/1 - 0s - loss: 2.9852 - accuracy: 0.0658 - val_loss: 3.0002 - val_accuracy: 0.0000e+00 - 106ms/epoch - 106ms/step\n",
            "Epoch 6/100\n",
            "1/1 - 0s - loss: 2.9821 - accuracy: 0.0965 - val_loss: 2.9996 - val_accuracy: 0.0000e+00 - 120ms/epoch - 120ms/step\n",
            "Epoch 7/100\n",
            "1/1 - 0s - loss: 2.9756 - accuracy: 0.1009 - val_loss: 3.0151 - val_accuracy: 0.0000e+00 - 142ms/epoch - 142ms/step\n",
            "Epoch 8/100\n",
            "1/1 - 0s - loss: 2.9728 - accuracy: 0.0833 - val_loss: 3.0078 - val_accuracy: 0.0000e+00 - 140ms/epoch - 140ms/step\n",
            "Epoch 9/100\n",
            "1/1 - 0s - loss: 2.9638 - accuracy: 0.0658 - val_loss: 2.9852 - val_accuracy: 0.0000e+00 - 140ms/epoch - 140ms/step\n",
            "Epoch 10/100\n",
            "1/1 - 0s - loss: 2.9376 - accuracy: 0.1360 - val_loss: 2.9763 - val_accuracy: 0.0000e+00 - 129ms/epoch - 129ms/step\n",
            "Epoch 11/100\n",
            "1/1 - 0s - loss: 2.9112 - accuracy: 0.1754 - val_loss: 2.9989 - val_accuracy: 0.0000e+00 - 132ms/epoch - 132ms/step\n",
            "Epoch 12/100\n",
            "1/1 - 0s - loss: 2.8880 - accuracy: 0.1535 - val_loss: 2.9363 - val_accuracy: 0.0000e+00 - 119ms/epoch - 119ms/step\n",
            "Epoch 13/100\n",
            "1/1 - 0s - loss: 2.8244 - accuracy: 0.1930 - val_loss: 2.8948 - val_accuracy: 0.0833 - 135ms/epoch - 135ms/step\n",
            "Epoch 14/100\n",
            "1/1 - 0s - loss: 2.8127 - accuracy: 0.1535 - val_loss: 2.8137 - val_accuracy: 0.0833 - 143ms/epoch - 143ms/step\n",
            "Epoch 15/100\n",
            "1/1 - 0s - loss: 2.7245 - accuracy: 0.2193 - val_loss: 2.7244 - val_accuracy: 0.0000e+00 - 133ms/epoch - 133ms/step\n",
            "Epoch 16/100\n",
            "1/1 - 0s - loss: 2.5532 - accuracy: 0.2456 - val_loss: 2.6197 - val_accuracy: 0.0000e+00 - 134ms/epoch - 134ms/step\n",
            "Epoch 17/100\n",
            "1/1 - 0s - loss: 2.4412 - accuracy: 0.2763 - val_loss: 2.4755 - val_accuracy: 0.0000e+00 - 133ms/epoch - 133ms/step\n",
            "Epoch 18/100\n",
            "1/1 - 0s - loss: 2.3417 - accuracy: 0.3509 - val_loss: 2.2674 - val_accuracy: 0.2500 - 129ms/epoch - 129ms/step\n",
            "Epoch 19/100\n",
            "1/1 - 0s - loss: 2.1593 - accuracy: 0.3509 - val_loss: 2.0616 - val_accuracy: 0.5000 - 137ms/epoch - 137ms/step\n",
            "Epoch 20/100\n",
            "1/1 - 0s - loss: 1.9640 - accuracy: 0.4035 - val_loss: 1.9258 - val_accuracy: 0.5000 - 133ms/epoch - 133ms/step\n",
            "Epoch 21/100\n",
            "1/1 - 0s - loss: 1.6853 - accuracy: 0.5570 - val_loss: 1.6584 - val_accuracy: 0.5000 - 129ms/epoch - 129ms/step\n",
            "Epoch 22/100\n",
            "1/1 - 0s - loss: 1.5679 - accuracy: 0.4825 - val_loss: 1.2994 - val_accuracy: 0.5833 - 129ms/epoch - 129ms/step\n",
            "Epoch 23/100\n",
            "1/1 - 0s - loss: 1.5260 - accuracy: 0.4781 - val_loss: 1.2607 - val_accuracy: 0.7500 - 106ms/epoch - 106ms/step\n",
            "Epoch 24/100\n",
            "1/1 - 0s - loss: 1.2750 - accuracy: 0.6009 - val_loss: 1.1448 - val_accuracy: 0.7500 - 109ms/epoch - 109ms/step\n",
            "Epoch 25/100\n",
            "1/1 - 0s - loss: 1.1900 - accuracy: 0.6360 - val_loss: 0.8546 - val_accuracy: 0.8333 - 123ms/epoch - 123ms/step\n",
            "Epoch 26/100\n",
            "1/1 - 0s - loss: 0.9573 - accuracy: 0.7018 - val_loss: 0.5815 - val_accuracy: 0.8333 - 117ms/epoch - 117ms/step\n",
            "Epoch 27/100\n",
            "1/1 - 0s - loss: 0.8328 - accuracy: 0.7456 - val_loss: 0.4820 - val_accuracy: 0.9167 - 107ms/epoch - 107ms/step\n",
            "Epoch 28/100\n",
            "1/1 - 0s - loss: 0.7395 - accuracy: 0.7368 - val_loss: 0.4743 - val_accuracy: 0.9167 - 107ms/epoch - 107ms/step\n",
            "Epoch 29/100\n",
            "1/1 - 0s - loss: 0.6041 - accuracy: 0.8202 - val_loss: 0.4374 - val_accuracy: 0.9167 - 107ms/epoch - 107ms/step\n",
            "Epoch 30/100\n",
            "1/1 - 0s - loss: 0.5514 - accuracy: 0.8158 - val_loss: 0.3214 - val_accuracy: 0.9167 - 108ms/epoch - 108ms/step\n",
            "Epoch 31/100\n",
            "1/1 - 0s - loss: 0.4816 - accuracy: 0.8596 - val_loss: 0.2709 - val_accuracy: 0.9167 - 106ms/epoch - 106ms/step\n",
            "Epoch 32/100\n",
            "1/1 - 0s - loss: 0.3996 - accuracy: 0.8772 - val_loss: 0.2144 - val_accuracy: 0.9167 - 106ms/epoch - 106ms/step\n",
            "Epoch 33/100\n",
            "1/1 - 0s - loss: 0.3298 - accuracy: 0.8904 - val_loss: 0.1242 - val_accuracy: 1.0000 - 107ms/epoch - 107ms/step\n",
            "Epoch 34/100\n",
            "1/1 - 0s - loss: 0.3056 - accuracy: 0.8904 - val_loss: 0.1062 - val_accuracy: 1.0000 - 107ms/epoch - 107ms/step\n",
            "Epoch 35/100\n",
            "1/1 - 0s - loss: 0.2217 - accuracy: 0.9167 - val_loss: 0.1742 - val_accuracy: 0.9167 - 114ms/epoch - 114ms/step\n",
            "Epoch 36/100\n",
            "1/1 - 0s - loss: 0.2383 - accuracy: 0.9035 - val_loss: 0.1250 - val_accuracy: 1.0000 - 106ms/epoch - 106ms/step\n",
            "Epoch 37/100\n",
            "1/1 - 0s - loss: 0.1112 - accuracy: 0.9825 - val_loss: 0.0917 - val_accuracy: 1.0000 - 107ms/epoch - 107ms/step\n",
            "Epoch 38/100\n",
            "1/1 - 0s - loss: 0.1297 - accuracy: 0.9605 - val_loss: 0.0852 - val_accuracy: 1.0000 - 109ms/epoch - 109ms/step\n",
            "Epoch 39/100\n",
            "1/1 - 0s - loss: 0.1302 - accuracy: 0.9474 - val_loss: 0.0801 - val_accuracy: 1.0000 - 115ms/epoch - 115ms/step\n",
            "Epoch 40/100\n",
            "1/1 - 0s - loss: 0.0781 - accuracy: 0.9868 - val_loss: 0.0406 - val_accuracy: 1.0000 - 108ms/epoch - 108ms/step\n",
            "Epoch 41/100\n",
            "1/1 - 0s - loss: 0.0953 - accuracy: 0.9693 - val_loss: 0.0107 - val_accuracy: 1.0000 - 109ms/epoch - 109ms/step\n",
            "Epoch 42/100\n",
            "1/1 - 0s - loss: 0.0718 - accuracy: 0.9737 - val_loss: 0.0071 - val_accuracy: 1.0000 - 109ms/epoch - 109ms/step\n",
            "Epoch 43/100\n",
            "1/1 - 0s - loss: 0.0900 - accuracy: 0.9781 - val_loss: 0.0174 - val_accuracy: 1.0000 - 107ms/epoch - 107ms/step\n",
            "Epoch 44/100\n",
            "1/1 - 0s - loss: 0.0556 - accuracy: 0.9781 - val_loss: 0.0767 - val_accuracy: 0.9167 - 126ms/epoch - 126ms/step\n",
            "Epoch 45/100\n",
            "1/1 - 0s - loss: 0.0287 - accuracy: 0.9956 - val_loss: 0.1224 - val_accuracy: 0.9167 - 108ms/epoch - 108ms/step\n",
            "Epoch 46/100\n",
            "1/1 - 0s - loss: 0.0568 - accuracy: 0.9781 - val_loss: 0.0879 - val_accuracy: 0.9167 - 122ms/epoch - 122ms/step\n",
            "Epoch 47/100\n",
            "1/1 - 0s - loss: 0.0423 - accuracy: 0.9868 - val_loss: 0.0404 - val_accuracy: 1.0000 - 106ms/epoch - 106ms/step\n",
            "Epoch 48/100\n",
            "1/1 - 0s - loss: 0.0264 - accuracy: 0.9912 - val_loss: 0.0153 - val_accuracy: 1.0000 - 106ms/epoch - 106ms/step\n",
            "Epoch 49/100\n",
            "1/1 - 0s - loss: 0.0339 - accuracy: 0.9912 - val_loss: 0.0097 - val_accuracy: 1.0000 - 106ms/epoch - 106ms/step\n",
            "Epoch 50/100\n",
            "1/1 - 0s - loss: 0.0298 - accuracy: 0.9912 - val_loss: 0.0085 - val_accuracy: 1.0000 - 107ms/epoch - 107ms/step\n",
            "Epoch 51/100\n",
            "1/1 - 0s - loss: 0.0424 - accuracy: 0.9868 - val_loss: 0.0032 - val_accuracy: 1.0000 - 125ms/epoch - 125ms/step\n",
            "Epoch 52/100\n",
            "1/1 - 0s - loss: 0.0186 - accuracy: 0.9956 - val_loss: 8.5264e-04 - val_accuracy: 1.0000 - 107ms/epoch - 107ms/step\n",
            "Epoch 53/100\n",
            "1/1 - 0s - loss: 0.0143 - accuracy: 0.9956 - val_loss: 2.9392e-04 - val_accuracy: 1.0000 - 111ms/epoch - 111ms/step\n",
            "Epoch 54/100\n",
            "1/1 - 0s - loss: 0.0392 - accuracy: 0.9868 - val_loss: 1.4302e-04 - val_accuracy: 1.0000 - 108ms/epoch - 108ms/step\n",
            "Epoch 55/100\n",
            "1/1 - 0s - loss: 0.0102 - accuracy: 0.9956 - val_loss: 1.1316e-04 - val_accuracy: 1.0000 - 104ms/epoch - 104ms/step\n",
            "Epoch 56/100\n",
            "1/1 - 0s - loss: 0.0194 - accuracy: 0.9956 - val_loss: 1.5197e-04 - val_accuracy: 1.0000 - 106ms/epoch - 106ms/step\n",
            "Epoch 57/100\n",
            "1/1 - 0s - loss: 0.0091 - accuracy: 0.9956 - val_loss: 2.1883e-04 - val_accuracy: 1.0000 - 108ms/epoch - 108ms/step\n",
            "Epoch 58/100\n",
            "1/1 - 0s - loss: 0.0107 - accuracy: 0.9956 - val_loss: 2.4305e-04 - val_accuracy: 1.0000 - 108ms/epoch - 108ms/step\n",
            "Epoch 59/100\n",
            "1/1 - 0s - loss: 0.0137 - accuracy: 0.9956 - val_loss: 2.5562e-04 - val_accuracy: 1.0000 - 106ms/epoch - 106ms/step\n",
            "Epoch 60/100\n",
            "1/1 - 0s - loss: 0.0083 - accuracy: 0.9956 - val_loss: 3.2631e-04 - val_accuracy: 1.0000 - 107ms/epoch - 107ms/step\n",
            "Epoch 61/100\n",
            "1/1 - 0s - loss: 0.0124 - accuracy: 0.9956 - val_loss: 3.0944e-04 - val_accuracy: 1.0000 - 123ms/epoch - 123ms/step\n",
            "Epoch 62/100\n",
            "1/1 - 0s - loss: 0.0076 - accuracy: 0.9956 - val_loss: 2.5822e-04 - val_accuracy: 1.0000 - 112ms/epoch - 112ms/step\n",
            "Epoch 63/100\n",
            "1/1 - 0s - loss: 0.0093 - accuracy: 1.0000 - val_loss: 1.8093e-04 - val_accuracy: 1.0000 - 106ms/epoch - 106ms/step\n",
            "Epoch 64/100\n",
            "1/1 - 0s - loss: 0.0148 - accuracy: 0.9956 - val_loss: 1.0891e-04 - val_accuracy: 1.0000 - 107ms/epoch - 107ms/step\n",
            "Epoch 65/100\n",
            "1/1 - 0s - loss: 0.0166 - accuracy: 0.9956 - val_loss: 1.5927e-04 - val_accuracy: 1.0000 - 109ms/epoch - 109ms/step\n",
            "Epoch 66/100\n",
            "1/1 - 0s - loss: 0.0028 - accuracy: 1.0000 - val_loss: 3.5863e-04 - val_accuracy: 1.0000 - 112ms/epoch - 112ms/step\n",
            "Epoch 67/100\n",
            "1/1 - 0s - loss: 0.0016 - accuracy: 1.0000 - val_loss: 9.2757e-04 - val_accuracy: 1.0000 - 106ms/epoch - 106ms/step\n",
            "Epoch 68/100\n",
            "1/1 - 0s - loss: 0.0096 - accuracy: 0.9956 - val_loss: 0.0018 - val_accuracy: 1.0000 - 107ms/epoch - 107ms/step\n",
            "Epoch 69/100\n",
            "1/1 - 0s - loss: 0.0120 - accuracy: 0.9956 - val_loss: 0.0026 - val_accuracy: 1.0000 - 107ms/epoch - 107ms/step\n",
            "Epoch 70/100\n",
            "1/1 - 0s - loss: 0.0030 - accuracy: 1.0000 - val_loss: 0.0033 - val_accuracy: 1.0000 - 109ms/epoch - 109ms/step\n",
            "Epoch 71/100\n",
            "1/1 - 0s - loss: 0.0018 - accuracy: 1.0000 - val_loss: 0.0034 - val_accuracy: 1.0000 - 113ms/epoch - 113ms/step\n",
            "Epoch 72/100\n",
            "1/1 - 0s - loss: 0.0033 - accuracy: 1.0000 - val_loss: 0.0029 - val_accuracy: 1.0000 - 107ms/epoch - 107ms/step\n",
            "Epoch 73/100\n",
            "1/1 - 0s - loss: 0.0121 - accuracy: 0.9956 - val_loss: 7.2519e-04 - val_accuracy: 1.0000 - 108ms/epoch - 108ms/step\n",
            "Epoch 74/100\n",
            "1/1 - 0s - loss: 0.0021 - accuracy: 1.0000 - val_loss: 1.9696e-04 - val_accuracy: 1.0000 - 110ms/epoch - 110ms/step\n",
            "Epoch 75/100\n",
            "1/1 - 0s - loss: 0.0010 - accuracy: 1.0000 - val_loss: 8.3457e-05 - val_accuracy: 1.0000 - 107ms/epoch - 107ms/step\n",
            "Epoch 76/100\n",
            "1/1 - 0s - loss: 0.0048 - accuracy: 1.0000 - val_loss: 3.5471e-05 - val_accuracy: 1.0000 - 107ms/epoch - 107ms/step\n",
            "Epoch 77/100\n",
            "1/1 - 0s - loss: 0.0097 - accuracy: 0.9956 - val_loss: 1.9212e-05 - val_accuracy: 1.0000 - 107ms/epoch - 107ms/step\n",
            "Epoch 78/100\n",
            "1/1 - 0s - loss: 0.0038 - accuracy: 1.0000 - val_loss: 1.3679e-05 - val_accuracy: 1.0000 - 106ms/epoch - 106ms/step\n",
            "Epoch 79/100\n",
            "1/1 - 0s - loss: 0.0044 - accuracy: 1.0000 - val_loss: 1.0897e-05 - val_accuracy: 1.0000 - 108ms/epoch - 108ms/step\n",
            "Epoch 80/100\n",
            "1/1 - 0s - loss: 0.0102 - accuracy: 0.9956 - val_loss: 1.3728e-05 - val_accuracy: 1.0000 - 114ms/epoch - 114ms/step\n",
            "Epoch 81/100\n",
            "1/1 - 0s - loss: 9.1028e-04 - accuracy: 1.0000 - val_loss: 2.1635e-05 - val_accuracy: 1.0000 - 106ms/epoch - 106ms/step\n",
            "Epoch 82/100\n",
            "1/1 - 0s - loss: 0.0127 - accuracy: 0.9956 - val_loss: 4.3145e-05 - val_accuracy: 1.0000 - 109ms/epoch - 109ms/step\n",
            "Epoch 83/100\n",
            "1/1 - 0s - loss: 0.0022 - accuracy: 1.0000 - val_loss: 9.4480e-05 - val_accuracy: 1.0000 - 109ms/epoch - 109ms/step\n",
            "Epoch 84/100\n",
            "1/1 - 0s - loss: 0.0036 - accuracy: 1.0000 - val_loss: 1.8954e-04 - val_accuracy: 1.0000 - 106ms/epoch - 106ms/step\n",
            "Epoch 85/100\n",
            "1/1 - 0s - loss: 0.0020 - accuracy: 1.0000 - val_loss: 3.2612e-04 - val_accuracy: 1.0000 - 108ms/epoch - 108ms/step\n",
            "Epoch 86/100\n",
            "1/1 - 0s - loss: 0.0044 - accuracy: 1.0000 - val_loss: 4.2528e-04 - val_accuracy: 1.0000 - 110ms/epoch - 110ms/step\n",
            "Epoch 87/100\n",
            "1/1 - 0s - loss: 0.0012 - accuracy: 1.0000 - val_loss: 5.0918e-04 - val_accuracy: 1.0000 - 108ms/epoch - 108ms/step\n",
            "Epoch 88/100\n",
            "1/1 - 0s - loss: 0.0091 - accuracy: 0.9956 - val_loss: 3.7230e-04 - val_accuracy: 1.0000 - 108ms/epoch - 108ms/step\n",
            "Epoch 89/100\n",
            "1/1 - 0s - loss: 0.0050 - accuracy: 1.0000 - val_loss: 2.2320e-04 - val_accuracy: 1.0000 - 123ms/epoch - 123ms/step\n",
            "Epoch 90/100\n",
            "1/1 - 0s - loss: 8.4773e-04 - accuracy: 1.0000 - val_loss: 1.4257e-04 - val_accuracy: 1.0000 - 106ms/epoch - 106ms/step\n",
            "Epoch 91/100\n",
            "1/1 - 0s - loss: 0.0339 - accuracy: 0.9956 - val_loss: 6.9528e-05 - val_accuracy: 1.0000 - 106ms/epoch - 106ms/step\n",
            "Epoch 92/100\n",
            "1/1 - 0s - loss: 0.0010 - accuracy: 1.0000 - val_loss: 4.0029e-05 - val_accuracy: 1.0000 - 109ms/epoch - 109ms/step\n",
            "Epoch 93/100\n",
            "1/1 - 0s - loss: 0.0028 - accuracy: 1.0000 - val_loss: 2.9532e-05 - val_accuracy: 1.0000 - 122ms/epoch - 122ms/step\n",
            "Epoch 94/100\n",
            "1/1 - 0s - loss: 0.0029 - accuracy: 1.0000 - val_loss: 2.7427e-05 - val_accuracy: 1.0000 - 110ms/epoch - 110ms/step\n",
            "Epoch 95/100\n",
            "1/1 - 0s - loss: 0.0159 - accuracy: 0.9956 - val_loss: 2.2808e-05 - val_accuracy: 1.0000 - 107ms/epoch - 107ms/step\n",
            "Epoch 96/100\n",
            "1/1 - 0s - loss: 0.0067 - accuracy: 0.9956 - val_loss: 2.1040e-05 - val_accuracy: 1.0000 - 108ms/epoch - 108ms/step\n",
            "Epoch 97/100\n",
            "1/1 - 0s - loss: 0.0019 - accuracy: 1.0000 - val_loss: 2.3056e-05 - val_accuracy: 1.0000 - 123ms/epoch - 123ms/step\n",
            "Epoch 98/100\n",
            "1/1 - 0s - loss: 0.0032 - accuracy: 1.0000 - val_loss: 2.8916e-05 - val_accuracy: 1.0000 - 112ms/epoch - 112ms/step\n",
            "Epoch 99/100\n",
            "1/1 - 0s - loss: 0.0018 - accuracy: 1.0000 - val_loss: 3.8660e-05 - val_accuracy: 1.0000 - 106ms/epoch - 106ms/step\n",
            "Epoch 100/100\n",
            "1/1 - 0s - loss: 0.0033 - accuracy: 1.0000 - val_loss: 5.1183e-05 - val_accuracy: 1.0000 - 106ms/epoch - 106ms/step\n"
          ]
        }
      ]
    },
    {
      "cell_type": "markdown",
      "source": [
        "Evaluate the test data"
      ],
      "metadata": {
        "_uuid": "2233c1cc-fb8e-4b61-b398-0180aa71e6dc",
        "_cell_guid": "de697d30-38fb-42c8-8698-ac3dadae9e8f",
        "trusted": true,
        "id": "TZIKY0CzNhvH"
      }
    },
    {
      "cell_type": "code",
      "source": [
        "scor = cnn_model.evaluate( np.array(x_test),  np.array(y_test), verbose=0)\n",
        "\n",
        "print('test los {:.4f}'.format(scor[0]))\n",
        "print('test acc {:.4f}'.format(scor[1]))"
      ],
      "metadata": {
        "_uuid": "dbc31cfa-f5df-45a7-8bd3-a7eac886bb0c",
        "_cell_guid": "b85f156e-76e1-4988-8893-09a740dc914f",
        "jupyter": {
          "outputs_hidden": false
        },
        "execution": {
          "iopub.status.busy": "2024-04-20T21:17:06.089521Z",
          "iopub.execute_input": "2024-04-20T21:17:06.089821Z",
          "iopub.status.idle": "2024-04-20T21:17:06.759742Z",
          "shell.execute_reply.started": "2024-04-20T21:17:06.089793Z",
          "shell.execute_reply": "2024-04-20T21:17:06.759049Z"
        },
        "trusted": true,
        "id": "lSEe3wx7NhvI",
        "outputId": "f2002fb0-d525-42f0-9a95-f9e96f07aa6f",
        "colab": {
          "base_uri": "https://localhost:8080/"
        }
      },
      "execution_count": 25,
      "outputs": [
        {
          "output_type": "stream",
          "name": "stdout",
          "text": [
            "test los 0.3750\n",
            "test acc 0.9312\n"
          ]
        }
      ]
    },
    {
      "cell_type": "markdown",
      "source": [
        "# Step 7\n",
        "plot the result"
      ],
      "metadata": {
        "_uuid": "65df95eb-7645-4853-bbb6-65a6a6309e08",
        "_cell_guid": "2e94d1e5-f5b7-40dc-9f9d-c309dc268f0f",
        "trusted": true,
        "id": "1UyHtkl-NhvI"
      }
    },
    {
      "cell_type": "code",
      "source": [
        "# list all data in history\n",
        "print(history.history.keys())\n",
        "# summarize history for accuracy\n",
        "plt.plot(history.history['accuracy'])\n",
        "plt.plot(history.history['val_accuracy'])\n",
        "plt.title('model accuracy')\n",
        "plt.ylabel('accuracy')\n",
        "plt.xlabel('epoch')\n",
        "plt.legend(['train', 'test'], loc='upper left')\n",
        "plt.show()\n",
        "# summarize history for loss\n",
        "plt.plot(history.history['loss'])\n",
        "plt.plot(history.history['val_loss'])\n",
        "plt.title('model loss')\n",
        "plt.ylabel('loss')\n",
        "plt.xlabel('epoch')\n",
        "plt.legend(['train', 'test'], loc='upper left')\n",
        "plt.show()"
      ],
      "metadata": {
        "_uuid": "01728252-934b-4e0b-81b1-d3bd4a8fddb6",
        "_cell_guid": "9b616eb7-52c0-4358-ba00-1aff8fc9ee76",
        "jupyter": {
          "outputs_hidden": false
        },
        "execution": {
          "iopub.status.busy": "2024-04-20T21:17:13.979441Z",
          "iopub.execute_input": "2024-04-20T21:17:13.97972Z",
          "iopub.status.idle": "2024-04-20T21:17:14.248971Z",
          "shell.execute_reply.started": "2024-04-20T21:17:13.979693Z",
          "shell.execute_reply": "2024-04-20T21:17:14.248297Z"
        },
        "trusted": true,
        "id": "AKsQUkjzNhvJ",
        "outputId": "3772742c-6fa8-4dab-a578-bf162b4b07ed",
        "colab": {
          "base_uri": "https://localhost:8080/",
          "height": 945
        }
      },
      "execution_count": 26,
      "outputs": [
        {
          "output_type": "stream",
          "name": "stdout",
          "text": [
            "dict_keys(['loss', 'accuracy', 'val_loss', 'val_accuracy'])\n"
          ]
        },
        {
          "output_type": "display_data",
          "data": {
            "text/plain": [
              "<Figure size 640x480 with 1 Axes>"
            ],
            "image/png": "[encoded data removed]"
          },
          "metadata": {}
        },
        {
          "output_type": "display_data",
          "data": {
            "text/plain": [
              "<Figure size 640x480 with 1 Axes>"
            ],
            "image/png": "[encoded data removed]"
          },
          "metadata": {}
        }
      ]
    },
    {
      "cell_type": "markdown",
      "source": [
        "# step 8\n",
        "Plot Confusion Matrix"
      ],
      "metadata": {
        "_uuid": "2d30340a-ae5b-4b07-b1d9-98dd9963d75a",
        "_cell_guid": "78806a88-b4fd-4d43-8188-0cdfd8b32756",
        "trusted": true,
        "id": "AOnAPFboNhvJ"
      }
    },
    {
      "cell_type": "code",
      "source": [
        "predicted =np.argmax(cnn_model.predict(x_test), axis=-1)\n",
        "\n",
        "#print(predicted)\n",
        "#print(y_test)\n",
        "y_prob = cnn_model.predict(x_test)  # This will give you the class probabilities.\n",
        "ynew = np.argmax(y_prob, axis=1)  # This will give you the class labels.\n",
        "\n",
        "\n",
        "Acc=accuracy_score(y_test, ynew)\n",
        "print(\"accuracy : \")\n",
        "print(Acc)\n",
        "#/tn, fp, fn, tp = confusion_matrix(np.array(y_test), ynew).ravel()\n",
        "cnf_matrix=confusion_matrix(np.array(y_test), ynew)\n",
        "\n",
        "y_test1 = to_categorical(y_test, 20)\n",
        "\n",
        "\n",
        "\n",
        "def plot_confusion_matrix(cm, classes,\n",
        "                          normalize=False,\n",
        "                          title='Confusion matrix',\n",
        "                          cmap=plt.cm.Blues):\n",
        "    \"\"\"\n",
        "    This function prints and plots the confusion matrix.\n",
        "    Normalization can be applied by setting `normalize=True`.\n",
        "    \"\"\"\n",
        "    if normalize:\n",
        "        cm = cm.astype('float') / cm.sum(axis=1)[:, np.newaxis]\n",
        "        #print(\"Normalized confusion matrix\")\n",
        "    else:\n",
        "        print('Confusion matrix, without normalization')\n",
        "\n",
        "    #print(cm)\n",
        "    plt.imshow(cm, interpolation='nearest', cmap=cmap)\n",
        "    plt.title(title)\n",
        "    plt.colorbar()\n",
        "    tick_marks = np.arange(len(classes))\n",
        "    plt.xticks(tick_marks, classes, rotation=45)\n",
        "    plt.yticks(tick_marks, classes)\n",
        "\n",
        "    fmt = '.2f' if normalize else 'd'\n",
        "    thresh = cm.max() / 2.\n",
        "    for i, j in itertools.product(range(cm.shape[0]), range(cm.shape[1])):\n",
        "        plt.text(j, i, format(cm[i, j], fmt),\n",
        "                 horizontalalignment=\"center\",\n",
        "                 color=\"white\" if cm[i, j] > thresh else \"black\")\n",
        "\n",
        "    plt.tight_layout()\n",
        "    plt.ylabel('True label')\n",
        "    plt.xlabel('Predicted label')\n",
        "    plt.show()\n",
        "\n",
        "\n",
        "print('Confusion matrix, without normalization')\n",
        "print(cnf_matrix)\n",
        "\n",
        "plt.figure()\n",
        "plot_confusion_matrix(cnf_matrix[1:10,1:10], classes=[0,1,2,3,4,5,6,7,8,9],\n",
        "                      title='Confusion matrix, without normalization')\n",
        "\n",
        "plt.figure()\n",
        "plot_confusion_matrix(cnf_matrix[11:20,11:20], classes=[10,11,12,13,14,15,16,17,18,19],\n",
        "                      title='Confusion matrix, without normalization')\n",
        "\n",
        "print(\"Confusion matrix:\\n%s\" % confusion_matrix(np.array(y_test), ynew))\n",
        "print(classification_report(np.array(y_test), ynew))"
      ],
      "metadata": {
        "_uuid": "b1baa82b-35f5-4f3c-ac14-8e42ef977ca4",
        "_cell_guid": "0610f75b-2cdc-488c-97bb-ac5563ee0cf7",
        "jupyter": {
          "outputs_hidden": false
        },
        "execution": {
          "iopub.status.busy": "2024-04-20T21:17:35.267647Z",
          "iopub.execute_input": "2024-04-20T21:17:35.267947Z",
          "iopub.status.idle": "2024-04-20T21:17:37.325707Z",
          "shell.execute_reply.started": "2024-04-20T21:17:35.267921Z",
          "shell.execute_reply": "2024-04-20T21:17:37.325009Z"
        },
        "trusted": true,
        "id": "sSRfrPISNhvK",
        "outputId": "36c10c5b-19ee-452e-9bbe-ed9d06dc2d96",
        "colab": {
          "base_uri": "https://localhost:8080/",
          "height": 1000
        }
      },
      "execution_count": 27,
      "outputs": [
        {
          "output_type": "stream",
          "name": "stdout",
          "text": [
            "5/5 [==============================] - 0s 6ms/step\n",
            "5/5 [==============================] - 0s 6ms/step\n",
            "accuracy : \n",
            "0.93125\n",
            "Confusion matrix, without normalization\n",
            "[[8 0 0 0 0 0 0 0 0 0 0 0 0 0 0 0 0 0 0 0]\n",
            " [0 8 0 0 0 0 0 0 0 0 0 0 0 0 0 0 0 0 0 0]\n",
            " [0 0 8 0 0 0 0 0 0 0 0 0 0 0 0 0 0 0 0 0]\n",
            " [0 0 0 8 0 0 0 0 0 0 0 0 0 0 0 0 0 0 0 0]\n",
            " [0 0 0 0 4 0 0 0 2 0 0 0 0 0 0 0 0 2 0 0]\n",
            " [0 0 0 0 0 8 0 0 0 0 0 0 0 0 0 0 0 0 0 0]\n",
            " [0 0 0 0 0 0 8 0 0 0 0 0 0 0 0 0 0 0 0 0]\n",
            " [0 0 0 0 0 0 0 8 0 0 0 0 0 0 0 0 0 0 0 0]\n",
            " [0 0 0 0 0 0 0 0 8 0 0 0 0 0 0 0 0 0 0 0]\n",
            " [0 0 0 0 0 0 0 2 0 6 0 0 0 0 0 0 0 0 0 0]\n",
            " [0 0 0 0 0 0 0 0 0 0 8 0 0 0 0 0 0 0 0 0]\n",
            " [0 0 0 0 0 0 0 0 0 0 0 8 0 0 0 0 0 0 0 0]\n",
            " [0 0 0 0 0 0 0 0 0 0 0 0 8 0 0 0 0 0 0 0]\n",
            " [0 0 0 0 0 0 0 0 0 0 0 0 0 8 0 0 0 0 0 0]\n",
            " [0 0 0 0 0 0 0 0 0 0 0 0 0 0 8 0 0 0 0 0]\n",
            " [2 0 0 0 0 0 0 0 0 0 0 0 0 0 0 6 0 0 0 0]\n",
            " [0 0 0 0 0 0 0 0 0 0 0 0 0 0 0 0 8 0 0 0]\n",
            " [0 0 0 0 0 0 0 0 0 0 0 0 0 0 0 0 0 8 0 0]\n",
            " [0 0 0 0 0 0 0 2 0 0 0 0 0 0 0 0 0 0 6 0]\n",
            " [0 0 1 0 0 0 0 0 0 0 0 0 0 0 0 0 0 0 0 7]]\n",
            "Confusion matrix, without normalization\n"
          ]
        },
        {
          "output_type": "display_data",
          "data": {
            "text/plain": [
              "<Figure size 640x480 with 2 Axes>"
            ],
            "image/png": "[encoded data removed]"
          },
          "metadata": {}
        },
        {
          "output_type": "stream",
          "name": "stdout",
          "text": [
            "Confusion matrix, without normalization\n"
          ]
        },
        {
          "output_type": "display_data",
          "data": {
            "text/plain": [
              "<Figure size 640x480 with 2 Axes>"
            ],
            "image/png": "[encoded data removed]"
          },
          "metadata": {}
        },
        {
          "output_type": "stream",
          "name": "stdout",
          "text": [
            "Confusion matrix:\n",
            "[[8 0 0 0 0 0 0 0 0 0 0 0 0 0 0 0 0 0 0 0]\n",
            " [0 8 0 0 0 0 0 0 0 0 0 0 0 0 0 0 0 0 0 0]\n",
            " [0 0 8 0 0 0 0 0 0 0 0 0 0 0 0 0 0 0 0 0]\n",
            " [0 0 0 8 0 0 0 0 0 0 0 0 0 0 0 0 0 0 0 0]\n",
            " [0 0 0 0 4 0 0 0 2 0 0 0 0 0 0 0 0 2 0 0]\n",
            " [0 0 0 0 0 8 0 0 0 0 0 0 0 0 0 0 0 0 0 0]\n",
            " [0 0 0 0 0 0 8 0 0 0 0 0 0 0 0 0 0 0 0 0]\n",
            " [0 0 0 0 0 0 0 8 0 0 0 0 0 0 0 0 0 0 0 0]\n",
            " [0 0 0 0 0 0 0 0 8 0 0 0 0 0 0 0 0 0 0 0]\n",
            " [0 0 0 0 0 0 0 2 0 6 0 0 0 0 0 0 0 0 0 0]\n",
            " [0 0 0 0 0 0 0 0 0 0 8 0 0 0 0 0 0 0 0 0]\n",
            " [0 0 0 0 0 0 0 0 0 0 0 8 0 0 0 0 0 0 0 0]\n",
            " [0 0 0 0 0 0 0 0 0 0 0 0 8 0 0 0 0 0 0 0]\n",
            " [0 0 0 0 0 0 0 0 0 0 0 0 0 8 0 0 0 0 0 0]\n",
            " [0 0 0 0 0 0 0 0 0 0 0 0 0 0 8 0 0 0 0 0]\n",
            " [2 0 0 0 0 0 0 0 0 0 0 0 0 0 0 6 0 0 0 0]\n",
            " [0 0 0 0 0 0 0 0 0 0 0 0 0 0 0 0 8 0 0 0]\n",
            " [0 0 0 0 0 0 0 0 0 0 0 0 0 0 0 0 0 8 0 0]\n",
            " [0 0 0 0 0 0 0 2 0 0 0 0 0 0 0 0 0 0 6 0]\n",
            " [0 0 1 0 0 0 0 0 0 0 0 0 0 0 0 0 0 0 0 7]]\n",
            "              precision    recall  f1-score   support\n",
            "\n",
            "           0       0.80      1.00      0.89         8\n",
            "           1       1.00      1.00      1.00         8\n",
            "           2       0.89      1.00      0.94         8\n",
            "           3       1.00      1.00      1.00         8\n",
            "           4       1.00      0.50      0.67         8\n",
            "           5       1.00      1.00      1.00         8\n",
            "           6       1.00      1.00      1.00         8\n",
            "           7       0.67      1.00      0.80         8\n",
            "           8       0.80      1.00      0.89         8\n",
            "           9       1.00      0.75      0.86         8\n",
            "          10       1.00      1.00      1.00         8\n",
            "          11       1.00      1.00      1.00         8\n",
            "          12       1.00      1.00      1.00         8\n",
            "          13       1.00      1.00      1.00         8\n",
            "          14       1.00      1.00      1.00         8\n",
            "          15       1.00      0.75      0.86         8\n",
            "          16       1.00      1.00      1.00         8\n",
            "          17       0.80      1.00      0.89         8\n",
            "          18       1.00      0.75      0.86         8\n",
            "          19       1.00      0.88      0.93         8\n",
            "\n",
            "    accuracy                           0.93       160\n",
            "   macro avg       0.95      0.93      0.93       160\n",
            "weighted avg       0.95      0.93      0.93       160\n",
            "\n"
          ]
        }
      ]
    },
    {
      "cell_type": "markdown",
      "source": [],
      "metadata": {
        "_uuid": "865b4eba-0991-4049-9db3-98132dd7f174",
        "_cell_guid": "a7d5cf42-6ff5-4514-9093-83654ef0eb36",
        "trusted": true,
        "id": "kJ2hlf2TNhvL"
      }
    }
  ]
}