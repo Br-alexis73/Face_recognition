{
  "metadata": {
    "kernelspec": {
      "display_name": "Python 3",
      "name": "python3"
    },
    "language_info": {
      "name": "python",
      "version": "3.7.10",
      "mimetype": "text/x-python",
      "codemirror_mode": {
        "name": "ipython",
        "version": 3
      },
      "pygments_lexer": "ipython3",
      "nbconvert_exporter": "python",
      "file_extension": ".py"
    },
    "kaggle": {
      "accelerator": "none",
      "dataSources": [
        {
          "sourceId": 2465716,
          "sourceType": "datasetVersion",
          "datasetId": 1492577
        }
      ],
      "dockerImageVersionId": 30120,
      "isInternetEnabled": false,
      "language": "python",
      "sourceType": "notebook",
      "isGpuEnabled": false
    },
    "colab": {
      "name": "fr_orl_experiment_CNN",
      "provenance": [],
      "gpuType": "T4",
      "include_colab_link": true
    },
    "accelerator": "GPU"
  },
  "nbformat_minor": 0,
  "nbformat": 4,
  "cells": [
    {
      "cell_type": "markdown",
      "metadata": {
        "id": "view-in-github",
        "colab_type": "text"
      },
      "source": [
        "<a href=\"https://colab.research.google.com/github/Br-alexis73/Face_recognition/blob/master/fr_orl_experiment_cnn.ipynb\" target=\"_parent\"><img src=\"https://colab.research.google.com/assets/colab-badge.svg\" alt=\"Open In Colab\"/></a>"
      ]
    },
    {
      "source": [
        "\n",
        "# IMPORTANT: RUN THIS CELL IN ORDER TO IMPORT YOUR KAGGLE DATA SOURCES\n",
        "# TO THE CORRECT LOCATION (/kaggle/input) IN YOUR NOTEBOOK,\n",
        "# THEN FEEL FREE TO DELETE THIS CELL.\n",
        "# NOTE: THIS NOTEBOOK ENVIRONMENT DIFFERS FROM KAGGLE'S PYTHON\n",
        "# ENVIRONMENT SO THERE MAY BE MISSING LIBRARIES USED BY YOUR\n",
        "# NOTEBOOK.\n",
        "\n",
        "import os\n",
        "import sys\n",
        "from tempfile import NamedTemporaryFile\n",
        "from urllib.request import urlopen\n",
        "from urllib.parse import unquote, urlparse\n",
        "from urllib.error import HTTPError\n",
        "from zipfile import ZipFile\n",
        "import tarfile\n",
        "import shutil\n",
        "\n",
        "CHUNK_SIZE = 40960\n",
        "DATA_SOURCE_MAPPING = 'orl-faces:https%3A%2F%2Fstorage.googleapis.com%2Fkaggle-data-sets%2F1492577%2F2465716%2Fbundle%2Farchive.zip%3FX-Goog-Algorithm%3DGOOG4-RSA-SHA256%26X-Goog-Credential%3Dgcp-kaggle-com%2540kaggle-161607.iam.gserviceaccount.com%252F20240421%252Fauto%252Fstorage%252Fgoog4_request%26X-Goog-Date%3D20240421T103134Z%26X-Goog-Expires%3D259200%26X-Goog-SignedHeaders%3Dhost%26X-Goog-Signature%3D04cdad0072b37fa134a73af86b30905b4377d231439fae6eb42d3e9b80980b3e27c0c8e4a07dec26c2d8a4eb69f5af47fdfafcc84e5054de8b864b6f86d0a093f0f27d632485ce8dd0327810c02097241db0e18e3f99aabb43b238a4485022e510e56aeb23a2e939e804a0771797ad508db773577d3ea105f7e291cdf11a65d8be2f1068aa96e05e73ea6dfb663ec0149102346f7c6daa1e4ca35821bd269af2a42b56a79be94f060fc0a1e889cdb9ddb8570d10d2ae750607a03355ff694d746e385b9b5cc727920a69b368c43077d99c293bb4482a1de7af966e71c9966cd8c6e61a22b11ebd2b9ef15625181abe11662464fc4051b8bbce1d7c428f6c42c7'\n",
        "\n",
        "KAGGLE_INPUT_PATH='/kaggle/input'\n",
        "KAGGLE_WORKING_PATH='/kaggle/working'\n",
        "KAGGLE_SYMLINK='kaggle'\n",
        "\n",
        "!umount /kaggle/input/ 2> /dev/null\n",
        "shutil.rmtree('/kaggle/input', ignore_errors=True)\n",
        "os.makedirs(KAGGLE_INPUT_PATH, 0o777, exist_ok=True)\n",
        "os.makedirs(KAGGLE_WORKING_PATH, 0o777, exist_ok=True)\n",
        "\n",
        "try:\n",
        "  os.symlink(KAGGLE_INPUT_PATH, os.path.join(\"..\", 'input'), target_is_directory=True)\n",
        "except FileExistsError:\n",
        "  pass\n",
        "try:\n",
        "  os.symlink(KAGGLE_WORKING_PATH, os.path.join(\"..\", 'working'), target_is_directory=True)\n",
        "except FileExistsError:\n",
        "  pass\n",
        "\n",
        "for data_source_mapping in DATA_SOURCE_MAPPING.split(','):\n",
        "    directory, download_url_encoded = data_source_mapping.split(':')\n",
        "    download_url = unquote(download_url_encoded)\n",
        "    filename = urlparse(download_url).path\n",
        "    destination_path = os.path.join(KAGGLE_INPUT_PATH, directory)\n",
        "    try:\n",
        "        with urlopen(download_url) as fileres, NamedTemporaryFile() as tfile:\n",
        "            total_length = fileres.headers['content-length']\n",
        "            print(f'Downloading {directory}, {total_length} bytes compressed')\n",
        "            dl = 0\n",
        "            data = fileres.read(CHUNK_SIZE)\n",
        "            while len(data) > 0:\n",
        "                dl += len(data)\n",
        "                tfile.write(data)\n",
        "                done = int(50 * dl / int(total_length))\n",
        "                sys.stdout.write(f\"\\r[{'=' * done}{' ' * (50-done)}] {dl} bytes downloaded\")\n",
        "                sys.stdout.flush()\n",
        "                data = fileres.read(CHUNK_SIZE)\n",
        "            if filename.endswith('.zip'):\n",
        "              with ZipFile(tfile) as zfile:\n",
        "                zfile.extractall(destination_path)\n",
        "            else:\n",
        "              with tarfile.open(tfile.name) as tarfile:\n",
        "                tarfile.extractall(destination_path)\n",
        "            print(f'\\nDownloaded and uncompressed: {directory}')\n",
        "    except HTTPError as e:\n",
        "        print(f'Failed to load (likely expired) {download_url} to path {destination_path}')\n",
        "        continue\n",
        "    except OSError as e:\n",
        "        print(f'Failed to load {download_url} to path {destination_path}')\n",
        "        continue\n",
        "\n",
        "print('Data source import complete.')\n"
      ],
      "metadata": {
        "id": "c9Fn-0rCNhu3",
        "outputId": "623826ac-9c69-4529-ce7f-2aa2b557f31f",
        "colab": {
          "base_uri": "https://localhost:8080/"
        }
      },
      "cell_type": "code",
      "outputs": [
        {
          "output_type": "stream",
          "name": "stdout",
          "text": [
            "Downloading orl-faces, 5666980 bytes compressed\n",
            "[==================================================] 5666980 bytes downloaded\n",
            "Downloaded and uncompressed: orl-faces\n",
            "Data source import complete.\n"
          ]
        }
      ],
      "execution_count": 31
    },
    {
      "cell_type": "code",
      "source": [
        "import keras\n",
        "from keras.models import Sequential\n",
        "from keras.layers import Conv2D, MaxPooling2D, Dense, Flatten, Dropout\n",
        "from keras.optimizers import Adam\n",
        "from keras.callbacks import TensorBoard\n",
        "\n",
        "import numpy as np\n",
        "import pandas as pd\n",
        "import matplotlib.pyplot as plt\n",
        "from sklearn.model_selection import train_test_split\n",
        "\n",
        "from sklearn.metrics import confusion_matrix\n",
        "from sklearn.metrics import classification_report\n",
        "from sklearn.metrics import roc_curve, auc\n",
        "from sklearn.metrics import accuracy_score\n",
        "from tensorflow.keras.utils import to_categorical\n",
        "import itertools"
      ],
      "metadata": {
        "_uuid": "104c9a6b-a3bd-4f32-8097-31f2177cb0a6",
        "_cell_guid": "08e0e784-f00d-49a0-b7df-8df3bcccfc49",
        "jupyter": {
          "outputs_hidden": false
        },
        "execution": {
          "iopub.status.busy": "2024-04-21T10:27:26.126945Z",
          "iopub.execute_input": "2024-04-21T10:27:26.127465Z",
          "iopub.status.idle": "2024-04-21T10:27:33.43085Z",
          "shell.execute_reply.started": "2024-04-21T10:27:26.127346Z",
          "shell.execute_reply": "2024-04-21T10:27:33.429704Z"
        },
        "trusted": true,
        "id": "SLgfyKNbNhu7"
      },
      "execution_count": 32,
      "outputs": []
    },
    {
      "cell_type": "markdown",
      "source": [
        "# Step 2\n",
        "Load Dataset :\n",
        "After loading the Dataset you have to normalize every image.\n",
        "\n",
        "**Note:** an image is a Uint8 matrix of pixels and for calculation, you need to convert the format of the image to float or double"
      ],
      "metadata": {
        "_uuid": "7ea3f6c8-7acd-45c8-ac4a-15d111c5a668",
        "_cell_guid": "b66306f7-d36a-4350-93d9-4e7744c98a53",
        "trusted": true,
        "id": "GRTEMHpBNhu7"
      }
    },
    {
      "cell_type": "code",
      "source": [
        "#load dataset\n",
        "data = np.load('../input/orl-faces/ORL_faces.npz')\n",
        "\n",
        "# load the \"Train Images\"\n",
        "x_train = data['trainX']\n",
        "#normalize every image\n",
        "x_train = np.array(x_train,dtype='float32')/255\n",
        "\n",
        "x_test = data['testX']\n",
        "x_test = np.array(x_test,dtype='float32')/255\n",
        "\n",
        "# load the Label of Images\n",
        "y_train= data['trainY']\n",
        "y_test= data['testY']\n",
        "\n",
        "# show the train and test Data format\n",
        "print('x_train : {}'.format(x_train[:]))\n",
        "print('Y-train shape: {}'.format(y_train))\n",
        "print('x_test shape: {}'.format(x_test.shape))"
      ],
      "metadata": {
        "_uuid": "ca522af1-e196-4f6e-80d4-b93bb5f0dc5b",
        "_cell_guid": "7c74b6fe-4ea4-45e3-97e4-8c0caa313dc8",
        "jupyter": {
          "outputs_hidden": false
        },
        "execution": {
          "iopub.status.busy": "2024-04-21T10:27:43.432444Z",
          "iopub.execute_input": "2024-04-21T10:27:43.432833Z",
          "iopub.status.idle": "2024-04-21T10:27:43.829088Z",
          "shell.execute_reply.started": "2024-04-21T10:27:43.432799Z",
          "shell.execute_reply": "2024-04-21T10:27:43.82774Z"
        },
        "trusted": true,
        "id": "4RjytFitNhu9",
        "outputId": "98495b22-1b7b-477f-e2ce-cff2a8af123c",
        "colab": {
          "base_uri": "https://localhost:8080/"
        }
      },
      "execution_count": 33,
      "outputs": [
        {
          "output_type": "stream",
          "name": "stdout",
          "text": [
            "x_train : [[0.1882353  0.19215687 0.1764706  ... 0.18431373 0.18039216 0.18039216]\n",
            " [0.23529412 0.23529412 0.24313726 ... 0.1254902  0.13333334 0.13333334]\n",
            " [0.15294118 0.17254902 0.20784314 ... 0.11372549 0.10196079 0.11372549]\n",
            " ...\n",
            " [0.44705883 0.45882353 0.44705883 ... 0.38431373 0.3764706  0.38431373]\n",
            " [0.4117647  0.4117647  0.41960785 ... 0.21176471 0.18431373 0.16078432]\n",
            " [0.45490196 0.44705883 0.45882353 ... 0.37254903 0.39215687 0.39607844]]\n",
            "Y-train shape: [ 0  0  0  0  0  0  0  0  0  0  0  0  1  1  1  1  1  1  1  1  1  1  1  1\n",
            "  2  2  2  2  2  2  2  2  2  2  2  2  3  3  3  3  3  3  3  3  3  3  3  3\n",
            "  4  4  4  4  4  4  4  4  4  4  4  4  5  5  5  5  5  5  5  5  5  5  5  5\n",
            "  6  6  6  6  6  6  6  6  6  6  6  6  7  7  7  7  7  7  7  7  7  7  7  7\n",
            "  8  8  8  8  8  8  8  8  8  8  8  8  9  9  9  9  9  9  9  9  9  9  9  9\n",
            " 10 10 10 10 10 10 10 10 10 10 10 10 11 11 11 11 11 11 11 11 11 11 11 11\n",
            " 12 12 12 12 12 12 12 12 12 12 12 12 13 13 13 13 13 13 13 13 13 13 13 13\n",
            " 14 14 14 14 14 14 14 14 14 14 14 14 15 15 15 15 15 15 15 15 15 15 15 15\n",
            " 16 16 16 16 16 16 16 16 16 16 16 16 17 17 17 17 17 17 17 17 17 17 17 17\n",
            " 18 18 18 18 18 18 18 18 18 18 18 18 19 19 19 19 19 19 19 19 19 19 19 19]\n",
            "x_test shape: (160, 10304)\n"
          ]
        }
      ]
    },
    {
      "cell_type": "markdown",
      "source": [
        "# Step 3\n",
        "Split DataSet : Validation data and Train\n",
        "\n",
        "Validation DataSet: this data set is used to minimize overfitting.If the accuracy over the training data set increases, but the accuracy over then validation data set stays the same or decreases, then you're overfitting your neural network and you should stop training.\n",
        "\n",
        "**Note:** we usually use 30 percent of every dataset as the validation data but Here we only used 5 percent because the number of images in this dataset is very low."
      ],
      "metadata": {
        "_uuid": "513ae144-0cfa-42b4-8f48-18de0496dd7a",
        "_cell_guid": "96743b41-911d-4598-8529-566171aa493e",
        "trusted": true,
        "id": "vmVw-36SNhu_"
      }
    },
    {
      "cell_type": "code",
      "source": [
        "x_train, x_valid, y_train, y_valid= train_test_split(\n",
        "    x_train, y_train, test_size=.05, random_state=1234,)"
      ],
      "metadata": {
        "_uuid": "ae0b7183-f909-423d-9fde-de6dd06b95fe",
        "_cell_guid": "f3ace218-246a-40b8-aaae-ab9242123294",
        "jupyter": {
          "outputs_hidden": false
        },
        "execution": {
          "iopub.status.busy": "2024-04-21T10:27:49.360037Z",
          "iopub.execute_input": "2024-04-21T10:27:49.360443Z",
          "iopub.status.idle": "2024-04-21T10:27:49.369218Z",
          "shell.execute_reply.started": "2024-04-21T10:27:49.360398Z",
          "shell.execute_reply": "2024-04-21T10:27:49.36813Z"
        },
        "trusted": true,
        "id": "7yVjVtlANhvA"
      },
      "execution_count": 34,
      "outputs": []
    },
    {
      "cell_type": "markdown",
      "source": [
        "# **Step 4**\n",
        "\n",
        "for using the CNN, we need to change The size of images ( The size of images must be the same)"
      ],
      "metadata": {
        "_uuid": "d748c7fb-7df2-4bdf-9a1c-0f3922b64dc4",
        "_cell_guid": "ce2f1c33-efae-4f5e-8654-d9457cd461fb",
        "trusted": true,
        "id": "7paTA_JBNhvA"
      }
    },
    {
      "cell_type": "code",
      "source": [
        "im_rows = 112\n",
        "im_cols = 92\n",
        "batch_size = 512\n",
        "im_shape = (im_rows, im_cols, 1)\n",
        "\n",
        "# Change the size of images\n",
        "x_train = x_train.reshape(x_train.shape[0], *im_shape)\n",
        "x_test = x_test.reshape(x_test.shape[0], *im_shape)\n",
        "x_valid = x_valid.reshape(x_valid.shape[0], *im_shape)\n",
        "\n",
        "# Corrected print statements for the reshaped datasets\n",
        "print('x_train shape:', x_train.shape)\n",
        "print('x_test shape:', x_test.shape)\n",
        "print('x_valid shape:', x_valid.shape)\n"
      ],
      "metadata": {
        "id": "9wlgi6sqHA8F",
        "outputId": "4437ce8e-dc56-4d0a-ed5b-b88acf1a825e",
        "colab": {
          "base_uri": "https://localhost:8080/"
        }
      },
      "execution_count": 35,
      "outputs": [
        {
          "output_type": "stream",
          "name": "stdout",
          "text": [
            "x_train shape: (228, 112, 92, 1)\n",
            "x_test shape: (160, 112, 92, 1)\n",
            "x_valid shape: (12, 112, 92, 1)\n"
          ]
        }
      ]
    },
    {
      "cell_type": "markdown",
      "source": [
        "# **Step 5**\n",
        "\n",
        "Build CNN model: CNN have 3 main layer:\n",
        "\n",
        "1-Convolotional layer\n",
        "2- pooling layer\n",
        "3- fully connected layer\n",
        "\n",
        "we could build a new architecture of CNN by changing the number and position of layers."
      ],
      "metadata": {
        "_uuid": "8156121a-fc0d-4f1b-b4cd-e478eb99f753",
        "_cell_guid": "5eda4aba-afcd-4ce6-8173-674f2230e412",
        "trusted": true,
        "id": "fFEwYBx1NhvB"
      }
    },
    {
      "cell_type": "code",
      "source": [
        "import tensorflow as tf\n",
        "from tensorflow.keras.models import Sequential\n",
        "from tensorflow.keras.layers import Conv2D, MaxPooling2D, Flatten, Dense, Dropout, BatchNormalization, ZeroPadding2D\n",
        "\n",
        "\n",
        "#filters= the depth of output image or kernels\n",
        "\n",
        "cnn_model= Sequential([\n",
        "    Conv2D(filters=36, kernel_size=7, activation='relu', input_shape= im_shape),\n",
        "    MaxPooling2D(pool_size=2),\n",
        "    Conv2D(filters=54, kernel_size=5, activation='relu', input_shape= im_shape),\n",
        "    MaxPooling2D(pool_size=2),\n",
        "    Flatten(),\n",
        "    Dense(2024, activation='relu'),\n",
        "     Dropout(0.5),\n",
        "    Dense(1024, activation='relu'),\n",
        "    Dropout(0.5),\n",
        "    Dense(512, activation='relu'),\n",
        "    Dropout(0.5),\n",
        "    #20 is the number of outputs\n",
        "    Dense(20, activation='softmax')\n",
        "])\n",
        "\n",
        "cnn_model.compile(\n",
        "    loss='sparse_categorical_crossentropy',#'categorical_crossentropy',\n",
        "    optimizer=Adam(lr=0.0001),\n",
        "    metrics=['accuracy']\n",
        ")\n",
        "cnn_model.summary()"
      ],
      "metadata": {
        "_uuid": "c4fc841a-3311-4c32-bf73-00489ef63d97",
        "_cell_guid": "576b801b-ca21-4a78-a3ad-d60652a9d5d8",
        "jupyter": {
          "outputs_hidden": false
        },
        "execution": {
          "iopub.status.busy": "2024-04-21T10:30:01.480917Z",
          "iopub.execute_input": "2024-04-21T10:30:01.481322Z",
          "iopub.status.idle": "2024-04-21T10:30:01.5286Z",
          "shell.execute_reply.started": "2024-04-21T10:30:01.481286Z",
          "shell.execute_reply": "2024-04-21T10:30:01.526956Z"
        },
        "trusted": true,
        "id": "yaK95W3RNhvD",
        "outputId": "5f246e5c-38fb-4992-8c18-078809edd31e",
        "colab": {
          "base_uri": "https://localhost:8080/"
        }
      },
      "execution_count": 36,
      "outputs": [
        {
          "output_type": "stream",
          "name": "stderr",
          "text": [
            "WARNING:absl:`lr` is deprecated in Keras optimizer, please use `learning_rate` or use the legacy optimizer, e.g.,tf.keras.optimizers.legacy.Adam.\n"
          ]
        },
        {
          "output_type": "stream",
          "name": "stdout",
          "text": [
            "Model: \"sequential_1\"\n",
            "_________________________________________________________________\n",
            " Layer (type)                Output Shape              Param #   \n",
            "=================================================================\n",
            " conv2d_2 (Conv2D)           (None, 106, 86, 36)       1800      \n",
            "                                                                 \n",
            " max_pooling2d_2 (MaxPoolin  (None, 53, 43, 36)        0         \n",
            " g2D)                                                            \n",
            "                                                                 \n",
            " conv2d_3 (Conv2D)           (None, 49, 39, 54)        48654     \n",
            "                                                                 \n",
            " max_pooling2d_3 (MaxPoolin  (None, 24, 19, 54)        0         \n",
            " g2D)                                                            \n",
            "                                                                 \n",
            " flatten_1 (Flatten)         (None, 24624)             0         \n",
            "                                                                 \n",
            " dense_4 (Dense)             (None, 2024)              49841000  \n",
            "                                                                 \n",
            " dropout_3 (Dropout)         (None, 2024)              0         \n",
            "                                                                 \n",
            " dense_5 (Dense)             (None, 1024)              2073600   \n",
            "                                                                 \n",
            " dropout_4 (Dropout)         (None, 1024)              0         \n",
            "                                                                 \n",
            " dense_6 (Dense)             (None, 512)               524800    \n",
            "                                                                 \n",
            " dropout_5 (Dropout)         (None, 512)               0         \n",
            "                                                                 \n",
            " dense_7 (Dense)             (None, 20)                10260     \n",
            "                                                                 \n",
            "=================================================================\n",
            "Total params: 52500114 (200.27 MB)\n",
            "Trainable params: 52500114 (200.27 MB)\n",
            "Non-trainable params: 0 (0.00 Byte)\n",
            "_________________________________________________________________\n"
          ]
        }
      ]
    },
    {
      "cell_type": "markdown",
      "source": [
        "\n",
        "Show the model's parameters."
      ],
      "metadata": {
        "_uuid": "0aa1d7f5-387e-4568-a1fa-8b401869254a",
        "_cell_guid": "a585858c-6da2-4d17-a4c1-c2df1cfd57b7",
        "trusted": true,
        "id": "ueFaX9BBNhvF"
      }
    },
    {
      "cell_type": "markdown",
      "source": [
        "Step 6\n",
        "Train the Model\n",
        "\n",
        "Note: You can change the number of epochs"
      ],
      "metadata": {
        "_uuid": "7d67fe7b-ae0c-400e-9a5b-5b89a4bb53c9",
        "_cell_guid": "0178b55f-be17-454d-ac1a-21dd146ead5b",
        "_kg_hide-input": true,
        "trusted": true,
        "id": "RVJ80OnzNhvF"
      }
    },
    {
      "cell_type": "code",
      "source": [
        "history=cnn_model.fit(\n",
        "    np.array(x_train), np.array(y_train), batch_size=512,\n",
        "    epochs=100, verbose=2,\n",
        "    validation_data=(np.array(x_valid),np.array(y_valid)),\n",
        ")"
      ],
      "metadata": {
        "_uuid": "9a0aa71f-d073-4aad-b279-7c6ffeb5c3bf",
        "_cell_guid": "5ea83ac6-e280-4719-899d-65095f08200d",
        "jupyter": {
          "outputs_hidden": false
        },
        "execution": {
          "iopub.status.busy": "2024-04-20T21:06:07.189724Z",
          "iopub.execute_input": "2024-04-20T21:06:07.190034Z",
          "iopub.status.idle": "2024-04-20T21:16:33.732718Z",
          "shell.execute_reply.started": "2024-04-20T21:06:07.190007Z",
          "shell.execute_reply": "2024-04-20T21:16:33.732051Z"
        },
        "trusted": true,
        "id": "hSRcboocNhvG",
        "outputId": "d2097215-b3c1-4ac9-c614-de6876ce700d",
        "colab": {
          "base_uri": "https://localhost:8080/"
        }
      },
      "execution_count": 37,
      "outputs": [
        {
          "output_type": "stream",
          "name": "stdout",
          "text": [
            "Epoch 1/100\n",
            "1/1 - 2s - loss: 3.0096 - accuracy: 0.0526 - val_loss: 3.1911 - val_accuracy: 0.0000e+00 - 2s/epoch - 2s/step\n",
            "Epoch 2/100\n",
            "1/1 - 0s - loss: 3.2326 - accuracy: 0.0526 - val_loss: 3.0123 - val_accuracy: 0.0833 - 144ms/epoch - 144ms/step\n",
            "Epoch 3/100\n",
            "1/1 - 0s - loss: 3.0609 - accuracy: 0.0789 - val_loss: 3.0053 - val_accuracy: 0.0833 - 119ms/epoch - 119ms/step\n",
            "Epoch 4/100\n",
            "1/1 - 0s - loss: 2.9773 - accuracy: 0.0702 - val_loss: 3.0008 - val_accuracy: 0.0833 - 116ms/epoch - 116ms/step\n",
            "Epoch 5/100\n",
            "1/1 - 0s - loss: 2.9778 - accuracy: 0.0833 - val_loss: 2.9945 - val_accuracy: 0.0833 - 107ms/epoch - 107ms/step\n",
            "Epoch 6/100\n",
            "1/1 - 0s - loss: 2.9673 - accuracy: 0.1096 - val_loss: 2.9917 - val_accuracy: 0.0833 - 104ms/epoch - 104ms/step\n",
            "Epoch 7/100\n",
            "1/1 - 0s - loss: 2.9557 - accuracy: 0.1140 - val_loss: 2.9899 - val_accuracy: 0.0000e+00 - 109ms/epoch - 109ms/step\n",
            "Epoch 8/100\n",
            "1/1 - 0s - loss: 2.9339 - accuracy: 0.1140 - val_loss: 2.9694 - val_accuracy: 0.0000e+00 - 106ms/epoch - 106ms/step\n",
            "Epoch 9/100\n",
            "1/1 - 0s - loss: 2.8976 - accuracy: 0.1535 - val_loss: 2.9592 - val_accuracy: 0.0000e+00 - 104ms/epoch - 104ms/step\n",
            "Epoch 10/100\n",
            "1/1 - 0s - loss: 2.8863 - accuracy: 0.1096 - val_loss: 2.9066 - val_accuracy: 0.0833 - 106ms/epoch - 106ms/step\n",
            "Epoch 11/100\n",
            "1/1 - 0s - loss: 2.8227 - accuracy: 0.1623 - val_loss: 2.8558 - val_accuracy: 0.1667 - 106ms/epoch - 106ms/step\n",
            "Epoch 12/100\n",
            "1/1 - 0s - loss: 2.7220 - accuracy: 0.2061 - val_loss: 2.8394 - val_accuracy: 0.0833 - 122ms/epoch - 122ms/step\n",
            "Epoch 13/100\n",
            "1/1 - 0s - loss: 2.7141 - accuracy: 0.1754 - val_loss: 2.7157 - val_accuracy: 0.0833 - 132ms/epoch - 132ms/step\n",
            "Epoch 14/100\n",
            "1/1 - 0s - loss: 2.4786 - accuracy: 0.3465 - val_loss: 2.5831 - val_accuracy: 0.0833 - 118ms/epoch - 118ms/step\n",
            "Epoch 15/100\n",
            "1/1 - 0s - loss: 2.2924 - accuracy: 0.3377 - val_loss: 2.4625 - val_accuracy: 0.0833 - 126ms/epoch - 126ms/step\n",
            "Epoch 16/100\n",
            "1/1 - 0s - loss: 2.1772 - accuracy: 0.3026 - val_loss: 2.1566 - val_accuracy: 0.2500 - 139ms/epoch - 139ms/step\n",
            "Epoch 17/100\n",
            "1/1 - 0s - loss: 1.9543 - accuracy: 0.4079 - val_loss: 1.9187 - val_accuracy: 0.5000 - 128ms/epoch - 128ms/step\n",
            "Epoch 18/100\n",
            "1/1 - 0s - loss: 1.7413 - accuracy: 0.4781 - val_loss: 1.5719 - val_accuracy: 0.5833 - 131ms/epoch - 131ms/step\n",
            "Epoch 19/100\n",
            "1/1 - 0s - loss: 1.5333 - accuracy: 0.5044 - val_loss: 1.3465 - val_accuracy: 0.5833 - 136ms/epoch - 136ms/step\n",
            "Epoch 20/100\n",
            "1/1 - 0s - loss: 1.4437 - accuracy: 0.5482 - val_loss: 1.2836 - val_accuracy: 0.6667 - 135ms/epoch - 135ms/step\n",
            "Epoch 21/100\n",
            "1/1 - 0s - loss: 1.3190 - accuracy: 0.6184 - val_loss: 1.0864 - val_accuracy: 0.6667 - 119ms/epoch - 119ms/step\n",
            "Epoch 22/100\n",
            "1/1 - 0s - loss: 1.1361 - accuracy: 0.6184 - val_loss: 0.8653 - val_accuracy: 0.8333 - 118ms/epoch - 118ms/step\n",
            "Epoch 23/100\n",
            "1/1 - 0s - loss: 0.9210 - accuracy: 0.6886 - val_loss: 0.6708 - val_accuracy: 0.8333 - 131ms/epoch - 131ms/step\n",
            "Epoch 24/100\n",
            "1/1 - 0s - loss: 0.8044 - accuracy: 0.7412 - val_loss: 0.4963 - val_accuracy: 0.9167 - 137ms/epoch - 137ms/step\n",
            "Epoch 25/100\n",
            "1/1 - 0s - loss: 0.7295 - accuracy: 0.7719 - val_loss: 0.4602 - val_accuracy: 0.9167 - 123ms/epoch - 123ms/step\n",
            "Epoch 26/100\n",
            "1/1 - 0s - loss: 0.5954 - accuracy: 0.8158 - val_loss: 0.4401 - val_accuracy: 0.9167 - 132ms/epoch - 132ms/step\n",
            "Epoch 27/100\n",
            "1/1 - 0s - loss: 0.4660 - accuracy: 0.8509 - val_loss: 0.3255 - val_accuracy: 0.9167 - 111ms/epoch - 111ms/step\n",
            "Epoch 28/100\n",
            "1/1 - 0s - loss: 0.4323 - accuracy: 0.8596 - val_loss: 0.1978 - val_accuracy: 0.9167 - 108ms/epoch - 108ms/step\n",
            "Epoch 29/100\n",
            "1/1 - 0s - loss: 0.2946 - accuracy: 0.9211 - val_loss: 0.1146 - val_accuracy: 1.0000 - 106ms/epoch - 106ms/step\n",
            "Epoch 30/100\n",
            "1/1 - 0s - loss: 0.2544 - accuracy: 0.9211 - val_loss: 0.0755 - val_accuracy: 1.0000 - 105ms/epoch - 105ms/step\n",
            "Epoch 31/100\n",
            "1/1 - 0s - loss: 0.1901 - accuracy: 0.9342 - val_loss: 0.0958 - val_accuracy: 1.0000 - 113ms/epoch - 113ms/step\n",
            "Epoch 32/100\n",
            "1/1 - 0s - loss: 0.2305 - accuracy: 0.9167 - val_loss: 0.0928 - val_accuracy: 1.0000 - 106ms/epoch - 106ms/step\n",
            "Epoch 33/100\n",
            "1/1 - 0s - loss: 0.1874 - accuracy: 0.9561 - val_loss: 0.0699 - val_accuracy: 1.0000 - 105ms/epoch - 105ms/step\n",
            "Epoch 34/100\n",
            "1/1 - 0s - loss: 0.2015 - accuracy: 0.9561 - val_loss: 0.0408 - val_accuracy: 1.0000 - 119ms/epoch - 119ms/step\n",
            "Epoch 35/100\n",
            "1/1 - 0s - loss: 0.1819 - accuracy: 0.9605 - val_loss: 0.0314 - val_accuracy: 1.0000 - 105ms/epoch - 105ms/step\n",
            "Epoch 36/100\n",
            "1/1 - 0s - loss: 0.1523 - accuracy: 0.9386 - val_loss: 0.0188 - val_accuracy: 1.0000 - 106ms/epoch - 106ms/step\n",
            "Epoch 37/100\n",
            "1/1 - 0s - loss: 0.1285 - accuracy: 0.9649 - val_loss: 0.0215 - val_accuracy: 1.0000 - 107ms/epoch - 107ms/step\n",
            "Epoch 38/100\n",
            "1/1 - 0s - loss: 0.0755 - accuracy: 0.9781 - val_loss: 0.0161 - val_accuracy: 1.0000 - 106ms/epoch - 106ms/step\n",
            "Epoch 39/100\n",
            "1/1 - 0s - loss: 0.0951 - accuracy: 0.9649 - val_loss: 0.0090 - val_accuracy: 1.0000 - 106ms/epoch - 106ms/step\n",
            "Epoch 40/100\n",
            "1/1 - 0s - loss: 0.0697 - accuracy: 0.9737 - val_loss: 0.0050 - val_accuracy: 1.0000 - 109ms/epoch - 109ms/step\n",
            "Epoch 41/100\n",
            "1/1 - 0s - loss: 0.0368 - accuracy: 0.9912 - val_loss: 0.0031 - val_accuracy: 1.0000 - 110ms/epoch - 110ms/step\n",
            "Epoch 42/100\n",
            "1/1 - 0s - loss: 0.0264 - accuracy: 0.9956 - val_loss: 0.0027 - val_accuracy: 1.0000 - 105ms/epoch - 105ms/step\n",
            "Epoch 43/100\n",
            "1/1 - 0s - loss: 0.0739 - accuracy: 0.9737 - val_loss: 0.0015 - val_accuracy: 1.0000 - 108ms/epoch - 108ms/step\n",
            "Epoch 44/100\n",
            "1/1 - 0s - loss: 0.0200 - accuracy: 0.9956 - val_loss: 0.0013 - val_accuracy: 1.0000 - 117ms/epoch - 117ms/step\n",
            "Epoch 45/100\n",
            "1/1 - 0s - loss: 0.0602 - accuracy: 0.9825 - val_loss: 0.0015 - val_accuracy: 1.0000 - 105ms/epoch - 105ms/step\n",
            "Epoch 46/100\n",
            "1/1 - 0s - loss: 0.0284 - accuracy: 0.9912 - val_loss: 0.0020 - val_accuracy: 1.0000 - 107ms/epoch - 107ms/step\n",
            "Epoch 47/100\n",
            "1/1 - 0s - loss: 0.0192 - accuracy: 0.9956 - val_loss: 0.0022 - val_accuracy: 1.0000 - 109ms/epoch - 109ms/step\n",
            "Epoch 48/100\n",
            "1/1 - 0s - loss: 0.0262 - accuracy: 0.9956 - val_loss: 0.0024 - val_accuracy: 1.0000 - 106ms/epoch - 106ms/step\n",
            "Epoch 49/100\n",
            "1/1 - 0s - loss: 0.0537 - accuracy: 0.9781 - val_loss: 0.0033 - val_accuracy: 1.0000 - 106ms/epoch - 106ms/step\n",
            "Epoch 50/100\n",
            "1/1 - 0s - loss: 0.0456 - accuracy: 0.9868 - val_loss: 0.0029 - val_accuracy: 1.0000 - 105ms/epoch - 105ms/step\n",
            "Epoch 51/100\n",
            "1/1 - 0s - loss: 0.0072 - accuracy: 1.0000 - val_loss: 0.0032 - val_accuracy: 1.0000 - 107ms/epoch - 107ms/step\n",
            "Epoch 52/100\n",
            "1/1 - 0s - loss: 0.0189 - accuracy: 0.9912 - val_loss: 0.0030 - val_accuracy: 1.0000 - 107ms/epoch - 107ms/step\n",
            "Epoch 53/100\n",
            "1/1 - 0s - loss: 0.0609 - accuracy: 0.9912 - val_loss: 0.0025 - val_accuracy: 1.0000 - 106ms/epoch - 106ms/step\n",
            "Epoch 54/100\n",
            "1/1 - 0s - loss: 0.0043 - accuracy: 1.0000 - val_loss: 0.0023 - val_accuracy: 1.0000 - 108ms/epoch - 108ms/step\n",
            "Epoch 55/100\n",
            "1/1 - 0s - loss: 0.0111 - accuracy: 1.0000 - val_loss: 0.0021 - val_accuracy: 1.0000 - 107ms/epoch - 107ms/step\n",
            "Epoch 56/100\n",
            "1/1 - 0s - loss: 0.0130 - accuracy: 1.0000 - val_loss: 0.0017 - val_accuracy: 1.0000 - 106ms/epoch - 106ms/step\n",
            "Epoch 57/100\n",
            "1/1 - 0s - loss: 0.0283 - accuracy: 0.9912 - val_loss: 9.0623e-04 - val_accuracy: 1.0000 - 106ms/epoch - 106ms/step\n",
            "Epoch 58/100\n",
            "1/1 - 0s - loss: 0.0224 - accuracy: 0.9956 - val_loss: 4.6720e-04 - val_accuracy: 1.0000 - 108ms/epoch - 108ms/step\n",
            "Epoch 59/100\n",
            "1/1 - 0s - loss: 0.0064 - accuracy: 1.0000 - val_loss: 2.7299e-04 - val_accuracy: 1.0000 - 122ms/epoch - 122ms/step\n",
            "Epoch 60/100\n",
            "1/1 - 0s - loss: 0.0047 - accuracy: 1.0000 - val_loss: 1.6356e-04 - val_accuracy: 1.0000 - 108ms/epoch - 108ms/step\n",
            "Epoch 61/100\n",
            "1/1 - 0s - loss: 0.0157 - accuracy: 0.9912 - val_loss: 1.2069e-04 - val_accuracy: 1.0000 - 106ms/epoch - 106ms/step\n",
            "Epoch 62/100\n",
            "1/1 - 0s - loss: 0.0030 - accuracy: 1.0000 - val_loss: 1.1269e-04 - val_accuracy: 1.0000 - 106ms/epoch - 106ms/step\n",
            "Epoch 63/100\n",
            "1/1 - 0s - loss: 0.0071 - accuracy: 1.0000 - val_loss: 1.0214e-04 - val_accuracy: 1.0000 - 106ms/epoch - 106ms/step\n",
            "Epoch 64/100\n",
            "1/1 - 0s - loss: 0.0122 - accuracy: 0.9956 - val_loss: 1.7533e-04 - val_accuracy: 1.0000 - 107ms/epoch - 107ms/step\n",
            "Epoch 65/100\n",
            "1/1 - 0s - loss: 0.0016 - accuracy: 1.0000 - val_loss: 3.4785e-04 - val_accuracy: 1.0000 - 108ms/epoch - 108ms/step\n",
            "Epoch 66/100\n",
            "1/1 - 0s - loss: 0.0115 - accuracy: 0.9956 - val_loss: 2.7155e-04 - val_accuracy: 1.0000 - 106ms/epoch - 106ms/step\n",
            "Epoch 67/100\n",
            "1/1 - 0s - loss: 0.0058 - accuracy: 1.0000 - val_loss: 1.1453e-04 - val_accuracy: 1.0000 - 106ms/epoch - 106ms/step\n",
            "Epoch 68/100\n",
            "1/1 - 0s - loss: 0.0105 - accuracy: 0.9912 - val_loss: 3.8500e-05 - val_accuracy: 1.0000 - 111ms/epoch - 111ms/step\n",
            "Epoch 69/100\n",
            "1/1 - 0s - loss: 0.0024 - accuracy: 1.0000 - val_loss: 1.8287e-05 - val_accuracy: 1.0000 - 106ms/epoch - 106ms/step\n",
            "Epoch 70/100\n",
            "1/1 - 0s - loss: 0.0012 - accuracy: 1.0000 - val_loss: 1.0222e-05 - val_accuracy: 1.0000 - 111ms/epoch - 111ms/step\n",
            "Epoch 71/100\n",
            "1/1 - 0s - loss: 6.7624e-04 - accuracy: 1.0000 - val_loss: 6.5861e-06 - val_accuracy: 1.0000 - 106ms/epoch - 106ms/step\n",
            "Epoch 72/100\n",
            "1/1 - 0s - loss: 0.0052 - accuracy: 1.0000 - val_loss: 5.5232e-06 - val_accuracy: 1.0000 - 106ms/epoch - 106ms/step\n",
            "Epoch 73/100\n",
            "1/1 - 0s - loss: 9.9626e-04 - accuracy: 1.0000 - val_loss: 4.6888e-06 - val_accuracy: 1.0000 - 105ms/epoch - 105ms/step\n",
            "Epoch 74/100\n",
            "1/1 - 0s - loss: 0.0032 - accuracy: 1.0000 - val_loss: 4.3411e-06 - val_accuracy: 1.0000 - 107ms/epoch - 107ms/step\n",
            "Epoch 75/100\n",
            "1/1 - 0s - loss: 0.0047 - accuracy: 1.0000 - val_loss: 4.6391e-06 - val_accuracy: 1.0000 - 107ms/epoch - 107ms/step\n",
            "Epoch 76/100\n",
            "1/1 - 0s - loss: 0.0026 - accuracy: 1.0000 - val_loss: 5.5133e-06 - val_accuracy: 1.0000 - 108ms/epoch - 108ms/step\n",
            "Epoch 77/100\n",
            "1/1 - 0s - loss: 0.0019 - accuracy: 1.0000 - val_loss: 7.1324e-06 - val_accuracy: 1.0000 - 113ms/epoch - 113ms/step\n",
            "Epoch 78/100\n",
            "1/1 - 0s - loss: 2.6550e-04 - accuracy: 1.0000 - val_loss: 9.0694e-06 - val_accuracy: 1.0000 - 111ms/epoch - 111ms/step\n",
            "Epoch 79/100\n",
            "1/1 - 0s - loss: 0.0027 - accuracy: 1.0000 - val_loss: 1.1771e-05 - val_accuracy: 1.0000 - 107ms/epoch - 107ms/step\n",
            "Epoch 80/100\n",
            "1/1 - 0s - loss: 0.0015 - accuracy: 1.0000 - val_loss: 1.4811e-05 - val_accuracy: 1.0000 - 106ms/epoch - 106ms/step\n",
            "Epoch 81/100\n",
            "1/1 - 0s - loss: 0.0026 - accuracy: 1.0000 - val_loss: 1.9290e-05 - val_accuracy: 1.0000 - 105ms/epoch - 105ms/step\n",
            "Epoch 82/100\n",
            "1/1 - 0s - loss: 0.0011 - accuracy: 1.0000 - val_loss: 2.4733e-05 - val_accuracy: 1.0000 - 106ms/epoch - 106ms/step\n",
            "Epoch 83/100\n",
            "1/1 - 0s - loss: 4.3024e-04 - accuracy: 1.0000 - val_loss: 3.1129e-05 - val_accuracy: 1.0000 - 107ms/epoch - 107ms/step\n",
            "Epoch 84/100\n",
            "1/1 - 0s - loss: 8.7621e-04 - accuracy: 1.0000 - val_loss: 3.7683e-05 - val_accuracy: 1.0000 - 106ms/epoch - 106ms/step\n",
            "Epoch 85/100\n",
            "1/1 - 0s - loss: 8.2216e-04 - accuracy: 1.0000 - val_loss: 4.3631e-05 - val_accuracy: 1.0000 - 107ms/epoch - 107ms/step\n",
            "Epoch 86/100\n",
            "1/1 - 0s - loss: 0.0034 - accuracy: 1.0000 - val_loss: 4.6113e-05 - val_accuracy: 1.0000 - 107ms/epoch - 107ms/step\n",
            "Epoch 87/100\n",
            "1/1 - 0s - loss: 0.0016 - accuracy: 1.0000 - val_loss: 4.5627e-05 - val_accuracy: 1.0000 - 110ms/epoch - 110ms/step\n",
            "Epoch 88/100\n",
            "1/1 - 0s - loss: 8.6544e-04 - accuracy: 1.0000 - val_loss: 4.4226e-05 - val_accuracy: 1.0000 - 107ms/epoch - 107ms/step\n",
            "Epoch 89/100\n",
            "1/1 - 0s - loss: 0.0036 - accuracy: 1.0000 - val_loss: 4.2141e-05 - val_accuracy: 1.0000 - 107ms/epoch - 107ms/step\n",
            "Epoch 90/100\n",
            "1/1 - 0s - loss: 6.0311e-04 - accuracy: 1.0000 - val_loss: 4.0026e-05 - val_accuracy: 1.0000 - 111ms/epoch - 111ms/step\n",
            "Epoch 91/100\n",
            "1/1 - 0s - loss: 0.0164 - accuracy: 0.9956 - val_loss: 3.3124e-05 - val_accuracy: 1.0000 - 107ms/epoch - 107ms/step\n",
            "Epoch 92/100\n",
            "1/1 - 0s - loss: 6.0178e-04 - accuracy: 1.0000 - val_loss: 3.2162e-05 - val_accuracy: 1.0000 - 108ms/epoch - 108ms/step\n",
            "Epoch 93/100\n",
            "1/1 - 0s - loss: 0.0028 - accuracy: 1.0000 - val_loss: 8.4226e-05 - val_accuracy: 1.0000 - 105ms/epoch - 105ms/step\n",
            "Epoch 94/100\n",
            "1/1 - 0s - loss: 2.5485e-04 - accuracy: 1.0000 - val_loss: 6.4252e-04 - val_accuracy: 1.0000 - 107ms/epoch - 107ms/step\n",
            "Epoch 95/100\n",
            "1/1 - 0s - loss: 0.0021 - accuracy: 1.0000 - val_loss: 8.2692e-04 - val_accuracy: 1.0000 - 105ms/epoch - 105ms/step\n",
            "Epoch 96/100\n",
            "1/1 - 0s - loss: 0.0074 - accuracy: 0.9956 - val_loss: 3.4915e-05 - val_accuracy: 1.0000 - 107ms/epoch - 107ms/step\n",
            "Epoch 97/100\n",
            "1/1 - 0s - loss: 6.0691e-04 - accuracy: 1.0000 - val_loss: 1.3440e-05 - val_accuracy: 1.0000 - 107ms/epoch - 107ms/step\n",
            "Epoch 98/100\n",
            "1/1 - 0s - loss: 0.0094 - accuracy: 0.9956 - val_loss: 1.0937e-05 - val_accuracy: 1.0000 - 106ms/epoch - 106ms/step\n",
            "Epoch 99/100\n",
            "1/1 - 0s - loss: 0.0018 - accuracy: 1.0000 - val_loss: 9.6853e-06 - val_accuracy: 1.0000 - 106ms/epoch - 106ms/step\n",
            "Epoch 100/100\n",
            "1/1 - 0s - loss: 0.0010 - accuracy: 1.0000 - val_loss: 8.5926e-06 - val_accuracy: 1.0000 - 105ms/epoch - 105ms/step\n"
          ]
        }
      ]
    },
    {
      "cell_type": "markdown",
      "source": [
        "Evaluate the test data"
      ],
      "metadata": {
        "_uuid": "2233c1cc-fb8e-4b61-b398-0180aa71e6dc",
        "_cell_guid": "de697d30-38fb-42c8-8698-ac3dadae9e8f",
        "trusted": true,
        "id": "TZIKY0CzNhvH"
      }
    },
    {
      "cell_type": "code",
      "source": [
        "scor = cnn_model.evaluate( np.array(x_test),  np.array(y_test), verbose=0)\n",
        "\n",
        "print('test los {:.4f}'.format(scor[0]))\n",
        "print('test acc {:.4f}'.format(scor[1]))"
      ],
      "metadata": {
        "_uuid": "dbc31cfa-f5df-45a7-8bd3-a7eac886bb0c",
        "_cell_guid": "b85f156e-76e1-4988-8893-09a740dc914f",
        "jupyter": {
          "outputs_hidden": false
        },
        "execution": {
          "iopub.status.busy": "2024-04-20T21:17:06.089521Z",
          "iopub.execute_input": "2024-04-20T21:17:06.089821Z",
          "iopub.status.idle": "2024-04-20T21:17:06.759742Z",
          "shell.execute_reply.started": "2024-04-20T21:17:06.089793Z",
          "shell.execute_reply": "2024-04-20T21:17:06.759049Z"
        },
        "trusted": true,
        "id": "lSEe3wx7NhvI",
        "outputId": "6d94c47f-bd0e-4295-e87d-a8c3e933bcee",
        "colab": {
          "base_uri": "https://localhost:8080/"
        }
      },
      "execution_count": 38,
      "outputs": [
        {
          "output_type": "stream",
          "name": "stdout",
          "text": [
            "test los 0.3317\n",
            "test acc 0.9563\n"
          ]
        }
      ]
    },
    {
      "cell_type": "markdown",
      "source": [
        "# Step 7\n",
        "plot the result"
      ],
      "metadata": {
        "_uuid": "65df95eb-7645-4853-bbb6-65a6a6309e08",
        "_cell_guid": "2e94d1e5-f5b7-40dc-9f9d-c309dc268f0f",
        "trusted": true,
        "id": "1UyHtkl-NhvI"
      }
    },
    {
      "cell_type": "code",
      "source": [
        "# list all data in history\n",
        "print(history.history.keys())\n",
        "# summarize history for accuracy\n",
        "plt.plot(history.history['accuracy'])\n",
        "plt.plot(history.history['val_accuracy'])\n",
        "plt.title('model accuracy')\n",
        "plt.ylabel('accuracy')\n",
        "plt.xlabel('epoch')\n",
        "plt.legend(['train', 'test'], loc='upper left')\n",
        "plt.show()\n",
        "# summarize history for loss\n",
        "plt.plot(history.history['loss'])\n",
        "plt.plot(history.history['val_loss'])\n",
        "plt.title('model loss')\n",
        "plt.ylabel('loss')\n",
        "plt.xlabel('epoch')\n",
        "plt.legend(['train', 'test'], loc='upper left')\n",
        "plt.show()"
      ],
      "metadata": {
        "_uuid": "01728252-934b-4e0b-81b1-d3bd4a8fddb6",
        "_cell_guid": "9b616eb7-52c0-4358-ba00-1aff8fc9ee76",
        "jupyter": {
          "outputs_hidden": false
        },
        "execution": {
          "iopub.status.busy": "2024-04-20T21:17:13.979441Z",
          "iopub.execute_input": "2024-04-20T21:17:13.97972Z",
          "iopub.status.idle": "2024-04-20T21:17:14.248971Z",
          "shell.execute_reply.started": "2024-04-20T21:17:13.979693Z",
          "shell.execute_reply": "2024-04-20T21:17:14.248297Z"
        },
        "trusted": true,
        "id": "AKsQUkjzNhvJ",
        "outputId": "dd8345d6-865f-4c05-c3a3-6f4d0b6e0e28",
        "colab": {
          "base_uri": "https://localhost:8080/",
          "height": 945
        }
      },
      "execution_count": 39,
      "outputs": [
        {
          "output_type": "stream",
          "name": "stdout",
          "text": [
            "dict_keys(['loss', 'accuracy', 'val_loss', 'val_accuracy'])\n"
          ]
        },
        {
          "output_type": "display_data",
          "data": {
            "text/plain": [
              "<Figure size 640x480 with 1 Axes>"
            ],
            "image/png": "[encoded data removed]"
          },
          "metadata": {}
        },
        {
          "output_type": "display_data",
          "data": {
            "text/plain": [
              "<Figure size 640x480 with 1 Axes>"
            ],
            "image/png": "[encoded data removed]"
          },
          "metadata": {}
        }
      ]
    },
    {
      "cell_type": "markdown",
      "source": [
        "# step 8\n",
        "Plot Confusion Matrix"
      ],
      "metadata": {
        "_uuid": "2d30340a-ae5b-4b07-b1d9-98dd9963d75a",
        "_cell_guid": "78806a88-b4fd-4d43-8188-0cdfd8b32756",
        "trusted": true,
        "id": "AOnAPFboNhvJ"
      }
    },
    {
      "cell_type": "code",
      "source": [
        "import matplotlib.pyplot as plt\n",
        "import numpy as np\n",
        "import pandas as pd\n",
        "import os\n",
        "from sklearn.preprocessing import LabelEncoder\n",
        "from tensorflow.keras.utils import to_categorical\n",
        "from sklearn.utils import shuffle\n",
        "from sklearn.model_selection import train_test_split\n",
        "import cv2\n",
        "from sklearn.metrics import classification_report, confusion_matrix\n",
        "import seaborn as sns\n",
        "\n",
        "predicted =np.argmax(cnn_model.predict(x_test), axis=-1)\n",
        "\n",
        "#print(predicted)\n",
        "#print(y_test)\n",
        "y_prob = cnn_model.predict(x_test)  # This will give you the class probabilities.\n",
        "y_pred = np.argmax(y_prob, axis=1)\n",
        "\n",
        "# Compute the confusion matrix\n",
        "\n",
        "conf_matrix = confusion_matrix(predicted, y_pred)\n",
        "\n",
        "# Plotting the confusion matrix with seaborn to have a similar look as the provided screenshot\n",
        "plt.figure(figsize=(10, 8))\n",
        "sns.heatmap(conf_matrix, annot=True, fmt='d')\n",
        "plt.ylabel('True label')\n",
        "plt.xlabel('Predicted label')\n",
        "plt.title('Confusion Matrix')\n",
        "plt.show()\n",
        "\n",
        "# Generate and print the classification report\n",
        "report = classification_report(predicted, y_pred)\n",
        "print(report)"
      ],
      "metadata": {
        "id": "_nPXzsk6HYIZ",
        "outputId": "556f7ab5-d623-466e-fef7-1952cb017d7c",
        "colab": {
          "base_uri": "https://localhost:8080/",
          "height": 1000
        }
      },
      "execution_count": 40,
      "outputs": [
        {
          "output_type": "stream",
          "name": "stdout",
          "text": [
            "5/5 [==============================] - 0s 4ms/step\n",
            "5/5 [==============================] - 0s 4ms/step\n"
          ]
        },
        {
          "output_type": "display_data",
          "data": {
            "text/plain": [
              "<Figure size 1000x800 with 2 Axes>"
            ],
            "image/png": "[encoded data removed]"
          },
          "metadata": {}
        },
        {
          "output_type": "stream",
          "name": "stdout",
          "text": [
            "              precision    recall  f1-score   support\n",
            "\n",
            "           0       1.00      1.00      1.00         8\n",
            "           1       1.00      1.00      1.00         8\n",
            "           2       1.00      1.00      1.00         8\n",
            "           3       1.00      1.00      1.00         8\n",
            "           4       1.00      1.00      1.00         5\n",
            "           5       1.00      1.00      1.00         8\n",
            "           6       1.00      1.00      1.00         8\n",
            "           7       1.00      1.00      1.00        12\n",
            "           8       1.00      1.00      1.00         9\n",
            "           9       1.00      1.00      1.00         6\n",
            "          10       1.00      1.00      1.00         8\n",
            "          11       1.00      1.00      1.00         8\n",
            "          12       1.00      1.00      1.00         8\n",
            "          13       1.00      1.00      1.00         8\n",
            "          14       1.00      1.00      1.00         8\n",
            "          15       1.00      1.00      1.00         8\n",
            "          16       1.00      1.00      1.00         8\n",
            "          17       1.00      1.00      1.00        10\n",
            "          18       1.00      1.00      1.00         6\n",
            "          19       1.00      1.00      1.00         8\n",
            "\n",
            "    accuracy                           1.00       160\n",
            "   macro avg       1.00      1.00      1.00       160\n",
            "weighted avg       1.00      1.00      1.00       160\n",
            "\n"
          ]
        }
      ]
    }
  ]
}