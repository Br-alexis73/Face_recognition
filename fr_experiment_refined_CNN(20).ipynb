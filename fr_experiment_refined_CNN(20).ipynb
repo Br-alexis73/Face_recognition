{
  "nbformat": 4,
  "nbformat_minor": 0,
  "metadata": {
    "colab": {
      "provenance": [],
      "gpuType": "T4",
      "include_colab_link": true
    },
    "kernelspec": {
      "name": "python3",
      "display_name": "Python 3"
    },
    "language_info": {
      "name": "python"
    },
    "accelerator": "GPU"
  },
  "cells": [
    {
      "cell_type": "markdown",
      "metadata": {
        "id": "view-in-github",
        "colab_type": "text"
      },
      "source": [
        "<a href=\"https://colab.research.google.com/github/Br-alexis73/Face_recognition/blob/master/fr_experiment_refined_CNN(20).ipynb\" target=\"_parent\"><img src=\"https://colab.research.google.com/assets/colab-badge.svg\" alt=\"Open In Colab\"/></a>"
      ]
    },
    {
      "cell_type": "code",
      "execution_count": 1,
      "metadata": {
        "colab": {
          "base_uri": "https://localhost:8080/"
        },
        "id": "b7JnxKvP_3KZ",
        "outputId": "3dbe2bbd-d0ac-44e1-a404-950a03413afb"
      },
      "outputs": [
        {
          "output_type": "stream",
          "name": "stdout",
          "text": [
            "Downloading lfw-dataset, 117895655 bytes compressed\n",
            "[==================================================] 117895655 bytes downloaded\n",
            "Downloaded and uncompressed: lfw-dataset\n",
            "Data source import complete.\n"
          ]
        }
      ],
      "source": [
        "\n",
        "# IMPORTANT: RUN THIS CELL IN ORDER TO IMPORT YOUR KAGGLE DATA SOURCES\n",
        "# TO THE CORRECT LOCATION (/kaggle/input) IN YOUR NOTEBOOK,\n",
        "# THEN FEEL FREE TO DELETE THIS CELL.\n",
        "# NOTE: THIS NOTEBOOK ENVIRONMENT DIFFERS FROM KAGGLE'S PYTHON\n",
        "# ENVIRONMENT SO THERE MAY BE MISSING LIBRARIES USED BY YOUR\n",
        "# NOTEBOOK.\n",
        "\n",
        "import os\n",
        "import sys\n",
        "from tempfile import NamedTemporaryFile\n",
        "from urllib.request import urlopen\n",
        "from urllib.parse import unquote, urlparse\n",
        "from urllib.error import HTTPError\n",
        "from zipfile import ZipFile\n",
        "import tarfile\n",
        "import shutil\n",
        "\n",
        "CHUNK_SIZE = 40960\n",
        "DATA_SOURCE_MAPPING = 'lfw-dataset:https%3A%2F%2Fstorage.googleapis.com%2Fkaggle-data-sets%2F26922%2F34595%2Fbundle%2Farchive.zip%3FX-Goog-Algorithm%3DGOOG4-RSA-SHA256%26X-Goog-Credential%3Dgcp-kaggle-com%2540kaggle-161607.iam.gserviceaccount.com%252F20240419%252Fauto%252Fstorage%252Fgoog4_request%26X-Goog-Date%3D20240419T152011Z%26X-Goog-Expires%3D259200%26X-Goog-SignedHeaders%3Dhost%26X-Goog-Signature%3Db4ec61946419ca8b830a0f4613cac81dffb050d7d712972d73e73a8d24cc40a231fb1a47a2c7bce99a68ff93e9ac40d5a337ede5b14e8940c63ba216337c90b4cc432075b2f24e158971a25f9ecb52e84512e1cdc8473afcdfc20275099542b8cc23208d379bed1a7e644e96a929b7dbb91a7019f5331c94ea9f46d05bdd60badb9169961ed1faa90ae1290e3919c42a5736aa4fd68b941df0dac0e6957e4528a6663da154303292f0925fe7bc92d10ad202845647f7a1eff66f586604bb52c0626b2d95f3daf452d5dae6be3e0f2daf1e3177513be89acda9a7114a083009f77cf36a5edd56f41bb1bf1ba424974542d3b8bd7ac3ec5ab7122a096e033e4df9'\n",
        "\n",
        "KAGGLE_INPUT_PATH='/kaggle/input'\n",
        "KAGGLE_WORKING_PATH='/kaggle/working'\n",
        "KAGGLE_SYMLINK='kaggle'\n",
        "\n",
        "!umount /kaggle/input/ 2> /dev/null\n",
        "shutil.rmtree('/kaggle/input', ignore_errors=True)\n",
        "os.makedirs(KAGGLE_INPUT_PATH, 0o777, exist_ok=True)\n",
        "os.makedirs(KAGGLE_WORKING_PATH, 0o777, exist_ok=True)\n",
        "\n",
        "try:\n",
        "  os.symlink(KAGGLE_INPUT_PATH, os.path.join(\"..\", 'input'), target_is_directory=True)\n",
        "except FileExistsError:\n",
        "  pass\n",
        "try:\n",
        "  os.symlink(KAGGLE_WORKING_PATH, os.path.join(\"..\", 'working'), target_is_directory=True)\n",
        "except FileExistsError:\n",
        "  pass\n",
        "\n",
        "for data_source_mapping in DATA_SOURCE_MAPPING.split(','):\n",
        "    directory, download_url_encoded = data_source_mapping.split(':')\n",
        "    download_url = unquote(download_url_encoded)\n",
        "    filename = urlparse(download_url).path\n",
        "    destination_path = os.path.join(KAGGLE_INPUT_PATH, directory)\n",
        "    try:\n",
        "        with urlopen(download_url) as fileres, NamedTemporaryFile() as tfile:\n",
        "            total_length = fileres.headers['content-length']\n",
        "            print(f'Downloading {directory}, {total_length} bytes compressed')\n",
        "            dl = 0\n",
        "            data = fileres.read(CHUNK_SIZE)\n",
        "            while len(data) > 0:\n",
        "                dl += len(data)\n",
        "                tfile.write(data)\n",
        "                done = int(50 * dl / int(total_length))\n",
        "                sys.stdout.write(f\"\\r[{'=' * done}{' ' * (50-done)}] {dl} bytes downloaded\")\n",
        "                sys.stdout.flush()\n",
        "                data = fileres.read(CHUNK_SIZE)\n",
        "            if filename.endswith('.zip'):\n",
        "              with ZipFile(tfile) as zfile:\n",
        "                zfile.extractall(destination_path)\n",
        "            else:\n",
        "              with tarfile.open(tfile.name) as tarfile:\n",
        "                tarfile.extractall(destination_path)\n",
        "            print(f'\\nDownloaded and uncompressed: {directory}')\n",
        "    except HTTPError as e:\n",
        "        print(f'Failed to load (likely expired) {download_url} to path {destination_path}')\n",
        "        continue\n",
        "    except OSError as e:\n",
        "        print(f'Failed to load {download_url} to path {destination_path}')\n",
        "        continue\n",
        "\n",
        "print('Data source import complete.')\n"
      ]
    },
    {
      "cell_type": "code",
      "source": [
        "!pip install mtcnn"
      ],
      "metadata": {
        "colab": {
          "base_uri": "https://localhost:8080/"
        },
        "id": "80GgcNR879Lv",
        "outputId": "2707207e-70e2-45ac-ad68-df2a4ecbf9dd"
      },
      "execution_count": 2,
      "outputs": [
        {
          "output_type": "stream",
          "name": "stdout",
          "text": [
            "Collecting mtcnn\n",
            "  Downloading mtcnn-0.1.1-py3-none-any.whl (2.3 MB)\n",
            "\u001b[2K     \u001b[90m━━━━━━━━━━━━━━━━━━━━━━━━━━━━━━━━━━━━━━━━\u001b[0m \u001b[32m2.3/2.3 MB\u001b[0m \u001b[31m6.3 MB/s\u001b[0m eta \u001b[36m0:00:00\u001b[0m\n",
            "\u001b[?25hRequirement already satisfied: keras>=2.0.0 in /usr/local/lib/python3.10/dist-packages (from mtcnn) (2.15.0)\n",
            "Requirement already satisfied: opencv-python>=4.1.0 in /usr/local/lib/python3.10/dist-packages (from mtcnn) (4.8.0.76)\n",
            "Requirement already satisfied: numpy>=1.21.2 in /usr/local/lib/python3.10/dist-packages (from opencv-python>=4.1.0->mtcnn) (1.25.2)\n",
            "Installing collected packages: mtcnn\n",
            "Successfully installed mtcnn-0.1.1\n"
          ]
        }
      ]
    },
    {
      "cell_type": "code",
      "source": [
        "import os\n",
        "import shutil\n",
        "import pandas as pd\n",
        "import numpy as np\n",
        "import cv2\n",
        "import tensorflow as tf\n",
        "from tensorflow.keras.models import Sequential\n",
        "from tensorflow.keras.layers import Conv2D, MaxPooling2D, Flatten, Dense, Dropout, BatchNormalization\n",
        "from tensorflow.keras.utils import to_categorical\n",
        "from sklearn.preprocessing import LabelEncoder\n",
        "from sklearn.model_selection import train_test_split\n",
        "from sklearn.metrics import classification_report\n",
        "from sklearn.utils import shuffle\n",
        "import matplotlib.pyplot as plt\n"
      ],
      "metadata": {
        "id": "gXrdrl1jyva9"
      },
      "execution_count": 3,
      "outputs": []
    },
    {
      "cell_type": "code",
      "source": [
        "# Set the dataset path\n",
        "dataset_path = '../input/lfw-dataset/lfw-deepfunneled/lfw-deepfunneled'\n",
        "\n",
        "# Generate a list of (name, image count) tuples\n",
        "names_images = []\n",
        "\n",
        "for name in os.listdir(dataset_path):\n",
        "    directory = os.path.join(dataset_path, name)\n",
        "    if os.path.isdir(directory):\n",
        "        images = [i for i in os.listdir(directory) if i.endswith('.jpg')]\n",
        "        image_count = len(images)\n",
        "        # Add to list if there are at least 25 images and store the actual image count\n",
        "        if image_count >= 50:\n",
        "            names_images.append((name, min(image_count, 50)))\n",
        "\n",
        "# Update number_of_people to reflect the actual number of people with at least 25 images\n",
        "number_of_people = len(names_images)\n",
        "print(f\"Number of people with at least 50 images: {number_of_people}\")\n",
        "\n",
        "# Create a DataFrame\n",
        "lfw_allnames = pd.DataFrame(names_images, columns=['name', 'images'])\n",
        "\n",
        "# Save the DataFrame to a CSV file\n",
        "lfw_csv_path = '../input/lfw-dataset/lfw_allnames.csv'\n",
        "lfw_allnames.to_csv(lfw_csv_path, index=False)\n",
        "\n",
        "print(f\"CSV file created at: {lfw_csv_path}\")"
      ],
      "metadata": {
        "colab": {
          "base_uri": "https://localhost:8080/"
        },
        "id": "UMXeFqRPyh40",
        "outputId": "c3d660fe-cd51-477b-e774-3f698be219df"
      },
      "execution_count": 4,
      "outputs": [
        {
          "output_type": "stream",
          "name": "stdout",
          "text": [
            "Number of people with at least 50 images: 12\n",
            "CSV file created at: ../input/lfw-dataset/lfw_allnames.csv\n"
          ]
        }
      ]
    },
    {
      "cell_type": "code",
      "source": [
        "# Define a new directory for experiments\n",
        "new_dir_path = '../lfw-data-experiment'\n",
        "\n",
        "# Create the new directory if it doesn't exist\n",
        "if not os.path.exists(new_dir_path):\n",
        "    os.makedirs(new_dir_path)\n",
        "\n",
        "# Move the folders\n",
        "for name, image_count in names_images:\n",
        "    source_folder = os.path.join(dataset_path, name)\n",
        "    destination_folder = os.path.join(new_dir_path, name)\n",
        "\n",
        "    # Check if the destination folder already exists\n",
        "    if os.path.exists(destination_folder):\n",
        "        shutil.rmtree(destination_folder)\n",
        "\n",
        "    # Move the folders\n",
        "    if os.path.exists(source_folder):\n",
        "        shutil.copytree(source_folder, destination_folder)\n",
        "        # If there are more than 50 images, keep the first 50 and delete the rest\n",
        "        images = sorted([i for i in os.listdir(destination_folder) if i.endswith('.jpg')])\n",
        "        for img in images[50:]:  # Delete all images beyond the 25th\n",
        "            os.remove(os.path.join(destination_folder, img))\n",
        "    else:\n",
        "        print(f\"Folder for {name} does not exist in the dataset path.\")\n",
        "\n",
        "print(\"Folders moved successfully.\")"
      ],
      "metadata": {
        "colab": {
          "base_uri": "https://localhost:8080/"
        },
        "id": "RDmb_LpHy0bM",
        "outputId": "f6d95809-d05c-43f2-d685-a1e6466ee6be"
      },
      "execution_count": 5,
      "outputs": [
        {
          "output_type": "stream",
          "name": "stdout",
          "text": [
            "Folders moved successfully.\n"
          ]
        }
      ]
    },
    {
      "cell_type": "code",
      "source": [
        "\n",
        "# Read the dataset\n",
        "people_data = os.listdir(new_dir_path)\n",
        "people = []\n",
        "for item in people_data:\n",
        "    person_images = os.listdir(os.path.join(new_dir_path, item))\n",
        "    for person_image in person_images:\n",
        "        people.append((item, os.path.join(new_dir_path, item, person_image)))\n",
        "\n",
        "# Create a DataFrame from the list of tuples\n",
        "people_df = pd.DataFrame(people, columns=['person', 'path'])\n",
        "\n",
        "# Convert labels to one-hot encoded labels\n",
        "label_encoder = LabelEncoder()\n",
        "labels = people_df['person'].values\n",
        "int_encoded = label_encoder.fit_transform(labels)\n",
        "y_onehot = to_categorical(int_encoded)\n",
        "\n",
        "# Correct the size of the images to match the CNN input\n",
        "im_size = 224\n",
        "\n",
        "# Initialize lists to store the images and labels\n",
        "images = []\n",
        "labels = []\n",
        "\n",
        "# Load and preprocess the images\n",
        "for index, row in people_df.iterrows():\n",
        "    img = cv2.imread(row['path'])\n",
        "    img = cv2.resize(img, (im_size, im_size))\n",
        "    images.append(img)\n",
        "    labels.append(row['person'])\n",
        "\n",
        "images = np.array(images)\n",
        "images = images.astype('float32') / 255.0\n",
        "\n",
        "# Shuffle and split the dataset\n",
        "images, y_onehot = shuffle(images, y_onehot, random_state=1)\n",
        "train_x, test_x, train_y_onehot, test_y_onehot = train_test_split(images, y_onehot, test_size=0.3, random_state=415)\n",
        "\n",
        "# Check the shapes again to make sure they match\n",
        "print(\"train_x shape:\", train_x.shape)\n",
        "print(\"train_y_onehot shape:\", train_y_onehot.shape)\n",
        "print(\"test_x shape:\", test_x.shape)\n",
        "print(\"test_y_onehot shape:\", test_y_onehot.shape)"
      ],
      "metadata": {
        "colab": {
          "base_uri": "https://localhost:8080/"
        },
        "id": "s9rty7ouzGFs",
        "outputId": "7ec266ef-dfc6-4d3e-88aa-b7435b8b16f2"
      },
      "execution_count": 6,
      "outputs": [
        {
          "output_type": "stream",
          "name": "stdout",
          "text": [
            "train_x shape: (420, 224, 224, 3)\n",
            "train_y_onehot shape: (420, 12)\n",
            "test_x shape: (180, 224, 224, 3)\n",
            "test_y_onehot shape: (180, 12)\n"
          ]
        }
      ]
    },
    {
      "cell_type": "code",
      "source": [
        "import os\n",
        "\n",
        "# Correct path according to your folder structure\n",
        "lfw_data_experiment = '../lfw-data-experiment'\n",
        "\n",
        "people_data = os.listdir(lfw_data_experiment)\n",
        "print(len(people_data))\n",
        "\n",
        "people = []\n",
        "for item in people_data:\n",
        "    all_names = os.listdir(lfw_data_experiment + '/' + item)\n",
        "    for person in all_names:\n",
        "        people.append((item, lfw_data_experiment + '/' + item + '/' + person))\n",
        "\n",
        "print(people)\n"
      ],
      "metadata": {
        "colab": {
          "base_uri": "https://localhost:8080/"
        },
        "id": "A5X89VEqAGiQ",
        "outputId": "68dc0cc2-3663-4b1b-99c6-b027459ebae6"
      },
      "execution_count": 7,
      "outputs": [
        {
          "output_type": "stream",
          "name": "stdout",
          "text": [
            "12\n",
            "[('Junichiro_Koizumi', '../lfw-data-experiment/Junichiro_Koizumi/Junichiro_Koizumi_0016.jpg'), ('Junichiro_Koizumi', '../lfw-data-experiment/Junichiro_Koizumi/Junichiro_Koizumi_0004.jpg'), ('Junichiro_Koizumi', '../lfw-data-experiment/Junichiro_Koizumi/Junichiro_Koizumi_0008.jpg'), ('Junichiro_Koizumi', '../lfw-data-experiment/Junichiro_Koizumi/Junichiro_Koizumi_0050.jpg'), ('Junichiro_Koizumi', '../lfw-data-experiment/Junichiro_Koizumi/Junichiro_Koizumi_0005.jpg'), ('Junichiro_Koizumi', '../lfw-data-experiment/Junichiro_Koizumi/Junichiro_Koizumi_0034.jpg'), ('Junichiro_Koizumi', '../lfw-data-experiment/Junichiro_Koizumi/Junichiro_Koizumi_0015.jpg'), ('Junichiro_Koizumi', '../lfw-data-experiment/Junichiro_Koizumi/Junichiro_Koizumi_0041.jpg'), ('Junichiro_Koizumi', '../lfw-data-experiment/Junichiro_Koizumi/Junichiro_Koizumi_0023.jpg'), ('Junichiro_Koizumi', '../lfw-data-experiment/Junichiro_Koizumi/Junichiro_Koizumi_0009.jpg'), ('Junichiro_Koizumi', '../lfw-data-experiment/Junichiro_Koizumi/Junichiro_Koizumi_0039.jpg'), ('Junichiro_Koizumi', '../lfw-data-experiment/Junichiro_Koizumi/Junichiro_Koizumi_0036.jpg'), ('Junichiro_Koizumi', '../lfw-data-experiment/Junichiro_Koizumi/Junichiro_Koizumi_0028.jpg'), ('Junichiro_Koizumi', '../lfw-data-experiment/Junichiro_Koizumi/Junichiro_Koizumi_0021.jpg'), ('Junichiro_Koizumi', '../lfw-data-experiment/Junichiro_Koizumi/Junichiro_Koizumi_0022.jpg'), ('Junichiro_Koizumi', '../lfw-data-experiment/Junichiro_Koizumi/Junichiro_Koizumi_0002.jpg'), ('Junichiro_Koizumi', '../lfw-data-experiment/Junichiro_Koizumi/Junichiro_Koizumi_0025.jpg'), ('Junichiro_Koizumi', '../lfw-data-experiment/Junichiro_Koizumi/Junichiro_Koizumi_0019.jpg'), ('Junichiro_Koizumi', '../lfw-data-experiment/Junichiro_Koizumi/Junichiro_Koizumi_0020.jpg'), ('Junichiro_Koizumi', '../lfw-data-experiment/Junichiro_Koizumi/Junichiro_Koizumi_0030.jpg'), ('Junichiro_Koizumi', '../lfw-data-experiment/Junichiro_Koizumi/Junichiro_Koizumi_0048.jpg'), ('Junichiro_Koizumi', '../lfw-data-experiment/Junichiro_Koizumi/Junichiro_Koizumi_0042.jpg'), ('Junichiro_Koizumi', '../lfw-data-experiment/Junichiro_Koizumi/Junichiro_Koizumi_0049.jpg'), ('Junichiro_Koizumi', '../lfw-data-experiment/Junichiro_Koizumi/Junichiro_Koizumi_0044.jpg'), ('Junichiro_Koizumi', '../lfw-data-experiment/Junichiro_Koizumi/Junichiro_Koizumi_0047.jpg'), ('Junichiro_Koizumi', '../lfw-data-experiment/Junichiro_Koizumi/Junichiro_Koizumi_0006.jpg'), ('Junichiro_Koizumi', '../lfw-data-experiment/Junichiro_Koizumi/Junichiro_Koizumi_0012.jpg'), ('Junichiro_Koizumi', '../lfw-data-experiment/Junichiro_Koizumi/Junichiro_Koizumi_0011.jpg'), ('Junichiro_Koizumi', '../lfw-data-experiment/Junichiro_Koizumi/Junichiro_Koizumi_0045.jpg'), ('Junichiro_Koizumi', '../lfw-data-experiment/Junichiro_Koizumi/Junichiro_Koizumi_0033.jpg'), ('Junichiro_Koizumi', '../lfw-data-experiment/Junichiro_Koizumi/Junichiro_Koizumi_0018.jpg'), ('Junichiro_Koizumi', '../lfw-data-experiment/Junichiro_Koizumi/Junichiro_Koizumi_0032.jpg'), ('Junichiro_Koizumi', '../lfw-data-experiment/Junichiro_Koizumi/Junichiro_Koizumi_0007.jpg'), ('Junichiro_Koizumi', '../lfw-data-experiment/Junichiro_Koizumi/Junichiro_Koizumi_0024.jpg'), ('Junichiro_Koizumi', '../lfw-data-experiment/Junichiro_Koizumi/Junichiro_Koizumi_0013.jpg'), ('Junichiro_Koizumi', '../lfw-data-experiment/Junichiro_Koizumi/Junichiro_Koizumi_0037.jpg'), ('Junichiro_Koizumi', '../lfw-data-experiment/Junichiro_Koizumi/Junichiro_Koizumi_0046.jpg'), ('Junichiro_Koizumi', '../lfw-data-experiment/Junichiro_Koizumi/Junichiro_Koizumi_0035.jpg'), ('Junichiro_Koizumi', '../lfw-data-experiment/Junichiro_Koizumi/Junichiro_Koizumi_0001.jpg'), ('Junichiro_Koizumi', '../lfw-data-experiment/Junichiro_Koizumi/Junichiro_Koizumi_0040.jpg'), ('Junichiro_Koizumi', '../lfw-data-experiment/Junichiro_Koizumi/Junichiro_Koizumi_0038.jpg'), ('Junichiro_Koizumi', '../lfw-data-experiment/Junichiro_Koizumi/Junichiro_Koizumi_0029.jpg'), ('Junichiro_Koizumi', '../lfw-data-experiment/Junichiro_Koizumi/Junichiro_Koizumi_0031.jpg'), ('Junichiro_Koizumi', '../lfw-data-experiment/Junichiro_Koizumi/Junichiro_Koizumi_0043.jpg'), ('Junichiro_Koizumi', '../lfw-data-experiment/Junichiro_Koizumi/Junichiro_Koizumi_0014.jpg'), ('Junichiro_Koizumi', '../lfw-data-experiment/Junichiro_Koizumi/Junichiro_Koizumi_0010.jpg'), ('Junichiro_Koizumi', '../lfw-data-experiment/Junichiro_Koizumi/Junichiro_Koizumi_0026.jpg'), ('Junichiro_Koizumi', '../lfw-data-experiment/Junichiro_Koizumi/Junichiro_Koizumi_0003.jpg'), ('Junichiro_Koizumi', '../lfw-data-experiment/Junichiro_Koizumi/Junichiro_Koizumi_0027.jpg'), ('Junichiro_Koizumi', '../lfw-data-experiment/Junichiro_Koizumi/Junichiro_Koizumi_0017.jpg'), ('Tony_Blair', '../lfw-data-experiment/Tony_Blair/Tony_Blair_0008.jpg'), ('Tony_Blair', '../lfw-data-experiment/Tony_Blair/Tony_Blair_0049.jpg'), ('Tony_Blair', '../lfw-data-experiment/Tony_Blair/Tony_Blair_0036.jpg'), ('Tony_Blair', '../lfw-data-experiment/Tony_Blair/Tony_Blair_0006.jpg'), ('Tony_Blair', '../lfw-data-experiment/Tony_Blair/Tony_Blair_0007.jpg'), ('Tony_Blair', '../lfw-data-experiment/Tony_Blair/Tony_Blair_0040.jpg'), ('Tony_Blair', '../lfw-data-experiment/Tony_Blair/Tony_Blair_0026.jpg'), ('Tony_Blair', '../lfw-data-experiment/Tony_Blair/Tony_Blair_0035.jpg'), ('Tony_Blair', '../lfw-data-experiment/Tony_Blair/Tony_Blair_0011.jpg'), ('Tony_Blair', '../lfw-data-experiment/Tony_Blair/Tony_Blair_0013.jpg'), ('Tony_Blair', '../lfw-data-experiment/Tony_Blair/Tony_Blair_0029.jpg'), ('Tony_Blair', '../lfw-data-experiment/Tony_Blair/Tony_Blair_0022.jpg'), ('Tony_Blair', '../lfw-data-experiment/Tony_Blair/Tony_Blair_0005.jpg'), ('Tony_Blair', '../lfw-data-experiment/Tony_Blair/Tony_Blair_0002.jpg'), ('Tony_Blair', '../lfw-data-experiment/Tony_Blair/Tony_Blair_0015.jpg'), ('Tony_Blair', '../lfw-data-experiment/Tony_Blair/Tony_Blair_0033.jpg'), ('Tony_Blair', '../lfw-data-experiment/Tony_Blair/Tony_Blair_0050.jpg'), ('Tony_Blair', '../lfw-data-experiment/Tony_Blair/Tony_Blair_0016.jpg'), ('Tony_Blair', '../lfw-data-experiment/Tony_Blair/Tony_Blair_0023.jpg'), ('Tony_Blair', '../lfw-data-experiment/Tony_Blair/Tony_Blair_0032.jpg'), ('Tony_Blair', '../lfw-data-experiment/Tony_Blair/Tony_Blair_0021.jpg'), ('Tony_Blair', '../lfw-data-experiment/Tony_Blair/Tony_Blair_0030.jpg'), ('Tony_Blair', '../lfw-data-experiment/Tony_Blair/Tony_Blair_0038.jpg'), ('Tony_Blair', '../lfw-data-experiment/Tony_Blair/Tony_Blair_0028.jpg'), ('Tony_Blair', '../lfw-data-experiment/Tony_Blair/Tony_Blair_0034.jpg'), ('Tony_Blair', '../lfw-data-experiment/Tony_Blair/Tony_Blair_0039.jpg'), ('Tony_Blair', '../lfw-data-experiment/Tony_Blair/Tony_Blair_0025.jpg'), ('Tony_Blair', '../lfw-data-experiment/Tony_Blair/Tony_Blair_0041.jpg'), ('Tony_Blair', '../lfw-data-experiment/Tony_Blair/Tony_Blair_0010.jpg'), ('Tony_Blair', '../lfw-data-experiment/Tony_Blair/Tony_Blair_0044.jpg'), ('Tony_Blair', '../lfw-data-experiment/Tony_Blair/Tony_Blair_0018.jpg'), ('Tony_Blair', '../lfw-data-experiment/Tony_Blair/Tony_Blair_0004.jpg'), ('Tony_Blair', '../lfw-data-experiment/Tony_Blair/Tony_Blair_0048.jpg'), ('Tony_Blair', '../lfw-data-experiment/Tony_Blair/Tony_Blair_0017.jpg'), ('Tony_Blair', '../lfw-data-experiment/Tony_Blair/Tony_Blair_0043.jpg'), ('Tony_Blair', '../lfw-data-experiment/Tony_Blair/Tony_Blair_0037.jpg'), ('Tony_Blair', '../lfw-data-experiment/Tony_Blair/Tony_Blair_0014.jpg'), ('Tony_Blair', '../lfw-data-experiment/Tony_Blair/Tony_Blair_0027.jpg'), ('Tony_Blair', '../lfw-data-experiment/Tony_Blair/Tony_Blair_0045.jpg'), ('Tony_Blair', '../lfw-data-experiment/Tony_Blair/Tony_Blair_0047.jpg'), ('Tony_Blair', '../lfw-data-experiment/Tony_Blair/Tony_Blair_0031.jpg'), ('Tony_Blair', '../lfw-data-experiment/Tony_Blair/Tony_Blair_0019.jpg'), ('Tony_Blair', '../lfw-data-experiment/Tony_Blair/Tony_Blair_0001.jpg'), ('Tony_Blair', '../lfw-data-experiment/Tony_Blair/Tony_Blair_0024.jpg'), ('Tony_Blair', '../lfw-data-experiment/Tony_Blair/Tony_Blair_0009.jpg'), ('Tony_Blair', '../lfw-data-experiment/Tony_Blair/Tony_Blair_0020.jpg'), ('Tony_Blair', '../lfw-data-experiment/Tony_Blair/Tony_Blair_0003.jpg'), ('Tony_Blair', '../lfw-data-experiment/Tony_Blair/Tony_Blair_0012.jpg'), ('Tony_Blair', '../lfw-data-experiment/Tony_Blair/Tony_Blair_0046.jpg'), ('Tony_Blair', '../lfw-data-experiment/Tony_Blair/Tony_Blair_0042.jpg'), ('George_W_Bush', '../lfw-data-experiment/George_W_Bush/George_W_Bush_0008.jpg'), ('George_W_Bush', '../lfw-data-experiment/George_W_Bush/George_W_Bush_0044.jpg'), ('George_W_Bush', '../lfw-data-experiment/George_W_Bush/George_W_Bush_0019.jpg'), ('George_W_Bush', '../lfw-data-experiment/George_W_Bush/George_W_Bush_0004.jpg'), ('George_W_Bush', '../lfw-data-experiment/George_W_Bush/George_W_Bush_0032.jpg'), ('George_W_Bush', '../lfw-data-experiment/George_W_Bush/George_W_Bush_0020.jpg'), ('George_W_Bush', '../lfw-data-experiment/George_W_Bush/George_W_Bush_0017.jpg'), ('George_W_Bush', '../lfw-data-experiment/George_W_Bush/George_W_Bush_0031.jpg'), ('George_W_Bush', '../lfw-data-experiment/George_W_Bush/George_W_Bush_0042.jpg'), ('George_W_Bush', '../lfw-data-experiment/George_W_Bush/George_W_Bush_0012.jpg'), ('George_W_Bush', '../lfw-data-experiment/George_W_Bush/George_W_Bush_0027.jpg'), ('George_W_Bush', '../lfw-data-experiment/George_W_Bush/George_W_Bush_0003.jpg'), ('George_W_Bush', '../lfw-data-experiment/George_W_Bush/George_W_Bush_0033.jpg'), ('George_W_Bush', '../lfw-data-experiment/George_W_Bush/George_W_Bush_0036.jpg'), ('George_W_Bush', '../lfw-data-experiment/George_W_Bush/George_W_Bush_0035.jpg'), ('George_W_Bush', '../lfw-data-experiment/George_W_Bush/George_W_Bush_0006.jpg'), ('George_W_Bush', '../lfw-data-experiment/George_W_Bush/George_W_Bush_0050.jpg'), ('George_W_Bush', '../lfw-data-experiment/George_W_Bush/George_W_Bush_0005.jpg'), ('George_W_Bush', '../lfw-data-experiment/George_W_Bush/George_W_Bush_0023.jpg'), ('George_W_Bush', '../lfw-data-experiment/George_W_Bush/George_W_Bush_0041.jpg'), ('George_W_Bush', '../lfw-data-experiment/George_W_Bush/George_W_Bush_0043.jpg'), ('George_W_Bush', '../lfw-data-experiment/George_W_Bush/George_W_Bush_0001.jpg'), ('George_W_Bush', '../lfw-data-experiment/George_W_Bush/George_W_Bush_0014.jpg'), ('George_W_Bush', '../lfw-data-experiment/George_W_Bush/George_W_Bush_0030.jpg'), ('George_W_Bush', '../lfw-data-experiment/George_W_Bush/George_W_Bush_0045.jpg'), ('George_W_Bush', '../lfw-data-experiment/George_W_Bush/George_W_Bush_0009.jpg'), ('George_W_Bush', '../lfw-data-experiment/George_W_Bush/George_W_Bush_0046.jpg'), ('George_W_Bush', '../lfw-data-experiment/George_W_Bush/George_W_Bush_0024.jpg'), ('George_W_Bush', '../lfw-data-experiment/George_W_Bush/George_W_Bush_0037.jpg'), ('George_W_Bush', '../lfw-data-experiment/George_W_Bush/George_W_Bush_0048.jpg'), ('George_W_Bush', '../lfw-data-experiment/George_W_Bush/George_W_Bush_0040.jpg'), ('George_W_Bush', '../lfw-data-experiment/George_W_Bush/George_W_Bush_0047.jpg'), ('George_W_Bush', '../lfw-data-experiment/George_W_Bush/George_W_Bush_0018.jpg'), ('George_W_Bush', '../lfw-data-experiment/George_W_Bush/George_W_Bush_0013.jpg'), ('George_W_Bush', '../lfw-data-experiment/George_W_Bush/George_W_Bush_0025.jpg'), ('George_W_Bush', '../lfw-data-experiment/George_W_Bush/George_W_Bush_0011.jpg'), ('George_W_Bush', '../lfw-data-experiment/George_W_Bush/George_W_Bush_0028.jpg'), ('George_W_Bush', '../lfw-data-experiment/George_W_Bush/George_W_Bush_0002.jpg'), ('George_W_Bush', '../lfw-data-experiment/George_W_Bush/George_W_Bush_0015.jpg'), ('George_W_Bush', '../lfw-data-experiment/George_W_Bush/George_W_Bush_0022.jpg'), ('George_W_Bush', '../lfw-data-experiment/George_W_Bush/George_W_Bush_0010.jpg'), ('George_W_Bush', '../lfw-data-experiment/George_W_Bush/George_W_Bush_0029.jpg'), ('George_W_Bush', '../lfw-data-experiment/George_W_Bush/George_W_Bush_0039.jpg'), ('George_W_Bush', '../lfw-data-experiment/George_W_Bush/George_W_Bush_0026.jpg'), ('George_W_Bush', '../lfw-data-experiment/George_W_Bush/George_W_Bush_0016.jpg'), ('George_W_Bush', '../lfw-data-experiment/George_W_Bush/George_W_Bush_0021.jpg'), ('George_W_Bush', '../lfw-data-experiment/George_W_Bush/George_W_Bush_0007.jpg'), ('George_W_Bush', '../lfw-data-experiment/George_W_Bush/George_W_Bush_0034.jpg'), ('George_W_Bush', '../lfw-data-experiment/George_W_Bush/George_W_Bush_0038.jpg'), ('George_W_Bush', '../lfw-data-experiment/George_W_Bush/George_W_Bush_0049.jpg'), ('Serena_Williams', '../lfw-data-experiment/Serena_Williams/Serena_Williams_0006.jpg'), ('Serena_Williams', '../lfw-data-experiment/Serena_Williams/Serena_Williams_0019.jpg'), ('Serena_Williams', '../lfw-data-experiment/Serena_Williams/Serena_Williams_0015.jpg'), ('Serena_Williams', '../lfw-data-experiment/Serena_Williams/Serena_Williams_0032.jpg'), ('Serena_Williams', '../lfw-data-experiment/Serena_Williams/Serena_Williams_0023.jpg'), ('Serena_Williams', '../lfw-data-experiment/Serena_Williams/Serena_Williams_0029.jpg'), ('Serena_Williams', '../lfw-data-experiment/Serena_Williams/Serena_Williams_0018.jpg'), ('Serena_Williams', '../lfw-data-experiment/Serena_Williams/Serena_Williams_0017.jpg'), ('Serena_Williams', '../lfw-data-experiment/Serena_Williams/Serena_Williams_0026.jpg'), ('Serena_Williams', '../lfw-data-experiment/Serena_Williams/Serena_Williams_0005.jpg'), ('Serena_Williams', '../lfw-data-experiment/Serena_Williams/Serena_Williams_0042.jpg'), ('Serena_Williams', '../lfw-data-experiment/Serena_Williams/Serena_Williams_0049.jpg'), ('Serena_Williams', '../lfw-data-experiment/Serena_Williams/Serena_Williams_0020.jpg'), ('Serena_Williams', '../lfw-data-experiment/Serena_Williams/Serena_Williams_0046.jpg'), ('Serena_Williams', '../lfw-data-experiment/Serena_Williams/Serena_Williams_0035.jpg'), ('Serena_Williams', '../lfw-data-experiment/Serena_Williams/Serena_Williams_0040.jpg'), ('Serena_Williams', '../lfw-data-experiment/Serena_Williams/Serena_Williams_0014.jpg'), ('Serena_Williams', '../lfw-data-experiment/Serena_Williams/Serena_Williams_0038.jpg'), ('Serena_Williams', '../lfw-data-experiment/Serena_Williams/Serena_Williams_0010.jpg'), ('Serena_Williams', '../lfw-data-experiment/Serena_Williams/Serena_Williams_0003.jpg'), ('Serena_Williams', '../lfw-data-experiment/Serena_Williams/Serena_Williams_0043.jpg'), ('Serena_Williams', '../lfw-data-experiment/Serena_Williams/Serena_Williams_0011.jpg'), ('Serena_Williams', '../lfw-data-experiment/Serena_Williams/Serena_Williams_0036.jpg'), ('Serena_Williams', '../lfw-data-experiment/Serena_Williams/Serena_Williams_0030.jpg'), ('Serena_Williams', '../lfw-data-experiment/Serena_Williams/Serena_Williams_0021.jpg'), ('Serena_Williams', '../lfw-data-experiment/Serena_Williams/Serena_Williams_0002.jpg'), ('Serena_Williams', '../lfw-data-experiment/Serena_Williams/Serena_Williams_0007.jpg'), ('Serena_Williams', '../lfw-data-experiment/Serena_Williams/Serena_Williams_0013.jpg'), ('Serena_Williams', '../lfw-data-experiment/Serena_Williams/Serena_Williams_0027.jpg'), ('Serena_Williams', '../lfw-data-experiment/Serena_Williams/Serena_Williams_0009.jpg'), ('Serena_Williams', '../lfw-data-experiment/Serena_Williams/Serena_Williams_0031.jpg'), ('Serena_Williams', '../lfw-data-experiment/Serena_Williams/Serena_Williams_0037.jpg'), ('Serena_Williams', '../lfw-data-experiment/Serena_Williams/Serena_Williams_0050.jpg'), ('Serena_Williams', '../lfw-data-experiment/Serena_Williams/Serena_Williams_0001.jpg'), ('Serena_Williams', '../lfw-data-experiment/Serena_Williams/Serena_Williams_0008.jpg'), ('Serena_Williams', '../lfw-data-experiment/Serena_Williams/Serena_Williams_0041.jpg'), ('Serena_Williams', '../lfw-data-experiment/Serena_Williams/Serena_Williams_0034.jpg'), ('Serena_Williams', '../lfw-data-experiment/Serena_Williams/Serena_Williams_0028.jpg'), ('Serena_Williams', '../lfw-data-experiment/Serena_Williams/Serena_Williams_0025.jpg'), ('Serena_Williams', '../lfw-data-experiment/Serena_Williams/Serena_Williams_0048.jpg'), ('Serena_Williams', '../lfw-data-experiment/Serena_Williams/Serena_Williams_0047.jpg'), ('Serena_Williams', '../lfw-data-experiment/Serena_Williams/Serena_Williams_0044.jpg'), ('Serena_Williams', '../lfw-data-experiment/Serena_Williams/Serena_Williams_0022.jpg'), ('Serena_Williams', '../lfw-data-experiment/Serena_Williams/Serena_Williams_0039.jpg'), ('Serena_Williams', '../lfw-data-experiment/Serena_Williams/Serena_Williams_0012.jpg'), ('Serena_Williams', '../lfw-data-experiment/Serena_Williams/Serena_Williams_0024.jpg'), ('Serena_Williams', '../lfw-data-experiment/Serena_Williams/Serena_Williams_0045.jpg'), ('Serena_Williams', '../lfw-data-experiment/Serena_Williams/Serena_Williams_0004.jpg'), ('Serena_Williams', '../lfw-data-experiment/Serena_Williams/Serena_Williams_0033.jpg'), ('Serena_Williams', '../lfw-data-experiment/Serena_Williams/Serena_Williams_0016.jpg'), ('Jacques_Chirac', '../lfw-data-experiment/Jacques_Chirac/Jacques_Chirac_0036.jpg'), ('Jacques_Chirac', '../lfw-data-experiment/Jacques_Chirac/Jacques_Chirac_0011.jpg'), ('Jacques_Chirac', '../lfw-data-experiment/Jacques_Chirac/Jacques_Chirac_0045.jpg'), ('Jacques_Chirac', '../lfw-data-experiment/Jacques_Chirac/Jacques_Chirac_0040.jpg'), ('Jacques_Chirac', '../lfw-data-experiment/Jacques_Chirac/Jacques_Chirac_0043.jpg'), ('Jacques_Chirac', '../lfw-data-experiment/Jacques_Chirac/Jacques_Chirac_0003.jpg'), ('Jacques_Chirac', '../lfw-data-experiment/Jacques_Chirac/Jacques_Chirac_0009.jpg'), ('Jacques_Chirac', '../lfw-data-experiment/Jacques_Chirac/Jacques_Chirac_0044.jpg'), ('Jacques_Chirac', '../lfw-data-experiment/Jacques_Chirac/Jacques_Chirac_0015.jpg'), ('Jacques_Chirac', '../lfw-data-experiment/Jacques_Chirac/Jacques_Chirac_0028.jpg'), ('Jacques_Chirac', '../lfw-data-experiment/Jacques_Chirac/Jacques_Chirac_0050.jpg'), ('Jacques_Chirac', '../lfw-data-experiment/Jacques_Chirac/Jacques_Chirac_0047.jpg'), ('Jacques_Chirac', '../lfw-data-experiment/Jacques_Chirac/Jacques_Chirac_0013.jpg'), ('Jacques_Chirac', '../lfw-data-experiment/Jacques_Chirac/Jacques_Chirac_0035.jpg'), ('Jacques_Chirac', '../lfw-data-experiment/Jacques_Chirac/Jacques_Chirac_0022.jpg'), ('Jacques_Chirac', '../lfw-data-experiment/Jacques_Chirac/Jacques_Chirac_0021.jpg'), ('Jacques_Chirac', '../lfw-data-experiment/Jacques_Chirac/Jacques_Chirac_0046.jpg'), ('Jacques_Chirac', '../lfw-data-experiment/Jacques_Chirac/Jacques_Chirac_0038.jpg'), ('Jacques_Chirac', '../lfw-data-experiment/Jacques_Chirac/Jacques_Chirac_0030.jpg'), ('Jacques_Chirac', '../lfw-data-experiment/Jacques_Chirac/Jacques_Chirac_0027.jpg'), ('Jacques_Chirac', '../lfw-data-experiment/Jacques_Chirac/Jacques_Chirac_0033.jpg'), ('Jacques_Chirac', '../lfw-data-experiment/Jacques_Chirac/Jacques_Chirac_0024.jpg'), ('Jacques_Chirac', '../lfw-data-experiment/Jacques_Chirac/Jacques_Chirac_0014.jpg'), ('Jacques_Chirac', '../lfw-data-experiment/Jacques_Chirac/Jacques_Chirac_0008.jpg'), ('Jacques_Chirac', '../lfw-data-experiment/Jacques_Chirac/Jacques_Chirac_0039.jpg'), ('Jacques_Chirac', '../lfw-data-experiment/Jacques_Chirac/Jacques_Chirac_0034.jpg'), ('Jacques_Chirac', '../lfw-data-experiment/Jacques_Chirac/Jacques_Chirac_0018.jpg'), ('Jacques_Chirac', '../lfw-data-experiment/Jacques_Chirac/Jacques_Chirac_0037.jpg'), ('Jacques_Chirac', '../lfw-data-experiment/Jacques_Chirac/Jacques_Chirac_0017.jpg'), ('Jacques_Chirac', '../lfw-data-experiment/Jacques_Chirac/Jacques_Chirac_0041.jpg'), ('Jacques_Chirac', '../lfw-data-experiment/Jacques_Chirac/Jacques_Chirac_0012.jpg'), ('Jacques_Chirac', '../lfw-data-experiment/Jacques_Chirac/Jacques_Chirac_0004.jpg'), ('Jacques_Chirac', '../lfw-data-experiment/Jacques_Chirac/Jacques_Chirac_0031.jpg'), ('Jacques_Chirac', '../lfw-data-experiment/Jacques_Chirac/Jacques_Chirac_0005.jpg'), ('Jacques_Chirac', '../lfw-data-experiment/Jacques_Chirac/Jacques_Chirac_0025.jpg'), ('Jacques_Chirac', '../lfw-data-experiment/Jacques_Chirac/Jacques_Chirac_0002.jpg'), ('Jacques_Chirac', '../lfw-data-experiment/Jacques_Chirac/Jacques_Chirac_0019.jpg'), ('Jacques_Chirac', '../lfw-data-experiment/Jacques_Chirac/Jacques_Chirac_0026.jpg'), ('Jacques_Chirac', '../lfw-data-experiment/Jacques_Chirac/Jacques_Chirac_0048.jpg'), ('Jacques_Chirac', '../lfw-data-experiment/Jacques_Chirac/Jacques_Chirac_0023.jpg'), ('Jacques_Chirac', '../lfw-data-experiment/Jacques_Chirac/Jacques_Chirac_0042.jpg'), ('Jacques_Chirac', '../lfw-data-experiment/Jacques_Chirac/Jacques_Chirac_0006.jpg'), ('Jacques_Chirac', '../lfw-data-experiment/Jacques_Chirac/Jacques_Chirac_0029.jpg'), ('Jacques_Chirac', '../lfw-data-experiment/Jacques_Chirac/Jacques_Chirac_0049.jpg'), ('Jacques_Chirac', '../lfw-data-experiment/Jacques_Chirac/Jacques_Chirac_0016.jpg'), ('Jacques_Chirac', '../lfw-data-experiment/Jacques_Chirac/Jacques_Chirac_0020.jpg'), ('Jacques_Chirac', '../lfw-data-experiment/Jacques_Chirac/Jacques_Chirac_0007.jpg'), ('Jacques_Chirac', '../lfw-data-experiment/Jacques_Chirac/Jacques_Chirac_0001.jpg'), ('Jacques_Chirac', '../lfw-data-experiment/Jacques_Chirac/Jacques_Chirac_0010.jpg'), ('Jacques_Chirac', '../lfw-data-experiment/Jacques_Chirac/Jacques_Chirac_0032.jpg'), ('Colin_Powell', '../lfw-data-experiment/Colin_Powell/Colin_Powell_0001.jpg'), ('Colin_Powell', '../lfw-data-experiment/Colin_Powell/Colin_Powell_0037.jpg'), ('Colin_Powell', '../lfw-data-experiment/Colin_Powell/Colin_Powell_0015.jpg'), ('Colin_Powell', '../lfw-data-experiment/Colin_Powell/Colin_Powell_0002.jpg'), ('Colin_Powell', '../lfw-data-experiment/Colin_Powell/Colin_Powell_0030.jpg'), ('Colin_Powell', '../lfw-data-experiment/Colin_Powell/Colin_Powell_0020.jpg'), ('Colin_Powell', '../lfw-data-experiment/Colin_Powell/Colin_Powell_0003.jpg'), ('Colin_Powell', '../lfw-data-experiment/Colin_Powell/Colin_Powell_0049.jpg'), ('Colin_Powell', '../lfw-data-experiment/Colin_Powell/Colin_Powell_0036.jpg'), ('Colin_Powell', '../lfw-data-experiment/Colin_Powell/Colin_Powell_0005.jpg'), ('Colin_Powell', '../lfw-data-experiment/Colin_Powell/Colin_Powell_0048.jpg'), ('Colin_Powell', '../lfw-data-experiment/Colin_Powell/Colin_Powell_0038.jpg'), ('Colin_Powell', '../lfw-data-experiment/Colin_Powell/Colin_Powell_0012.jpg'), ('Colin_Powell', '../lfw-data-experiment/Colin_Powell/Colin_Powell_0035.jpg'), ('Colin_Powell', '../lfw-data-experiment/Colin_Powell/Colin_Powell_0050.jpg'), ('Colin_Powell', '../lfw-data-experiment/Colin_Powell/Colin_Powell_0041.jpg'), ('Colin_Powell', '../lfw-data-experiment/Colin_Powell/Colin_Powell_0016.jpg'), ('Colin_Powell', '../lfw-data-experiment/Colin_Powell/Colin_Powell_0011.jpg'), ('Colin_Powell', '../lfw-data-experiment/Colin_Powell/Colin_Powell_0010.jpg'), ('Colin_Powell', '../lfw-data-experiment/Colin_Powell/Colin_Powell_0007.jpg'), ('Colin_Powell', '../lfw-data-experiment/Colin_Powell/Colin_Powell_0013.jpg'), ('Colin_Powell', '../lfw-data-experiment/Colin_Powell/Colin_Powell_0026.jpg'), ('Colin_Powell', '../lfw-data-experiment/Colin_Powell/Colin_Powell_0033.jpg'), ('Colin_Powell', '../lfw-data-experiment/Colin_Powell/Colin_Powell_0023.jpg'), ('Colin_Powell', '../lfw-data-experiment/Colin_Powell/Colin_Powell_0045.jpg'), ('Colin_Powell', '../lfw-data-experiment/Colin_Powell/Colin_Powell_0017.jpg'), ('Colin_Powell', '../lfw-data-experiment/Colin_Powell/Colin_Powell_0021.jpg'), ('Colin_Powell', '../lfw-data-experiment/Colin_Powell/Colin_Powell_0046.jpg'), ('Colin_Powell', '../lfw-data-experiment/Colin_Powell/Colin_Powell_0034.jpg'), ('Colin_Powell', '../lfw-data-experiment/Colin_Powell/Colin_Powell_0009.jpg'), ('Colin_Powell', '../lfw-data-experiment/Colin_Powell/Colin_Powell_0028.jpg'), ('Colin_Powell', '../lfw-data-experiment/Colin_Powell/Colin_Powell_0040.jpg'), ('Colin_Powell', '../lfw-data-experiment/Colin_Powell/Colin_Powell_0031.jpg'), ('Colin_Powell', '../lfw-data-experiment/Colin_Powell/Colin_Powell_0042.jpg'), ('Colin_Powell', '../lfw-data-experiment/Colin_Powell/Colin_Powell_0027.jpg'), ('Colin_Powell', '../lfw-data-experiment/Colin_Powell/Colin_Powell_0006.jpg'), ('Colin_Powell', '../lfw-data-experiment/Colin_Powell/Colin_Powell_0025.jpg'), ('Colin_Powell', '../lfw-data-experiment/Colin_Powell/Colin_Powell_0008.jpg'), ('Colin_Powell', '../lfw-data-experiment/Colin_Powell/Colin_Powell_0044.jpg'), ('Colin_Powell', '../lfw-data-experiment/Colin_Powell/Colin_Powell_0039.jpg'), ('Colin_Powell', '../lfw-data-experiment/Colin_Powell/Colin_Powell_0022.jpg'), ('Colin_Powell', '../lfw-data-experiment/Colin_Powell/Colin_Powell_0024.jpg'), ('Colin_Powell', '../lfw-data-experiment/Colin_Powell/Colin_Powell_0014.jpg'), ('Colin_Powell', '../lfw-data-experiment/Colin_Powell/Colin_Powell_0018.jpg'), ('Colin_Powell', '../lfw-data-experiment/Colin_Powell/Colin_Powell_0043.jpg'), ('Colin_Powell', '../lfw-data-experiment/Colin_Powell/Colin_Powell_0019.jpg'), ('Colin_Powell', '../lfw-data-experiment/Colin_Powell/Colin_Powell_0047.jpg'), ('Colin_Powell', '../lfw-data-experiment/Colin_Powell/Colin_Powell_0029.jpg'), ('Colin_Powell', '../lfw-data-experiment/Colin_Powell/Colin_Powell_0004.jpg'), ('Colin_Powell', '../lfw-data-experiment/Colin_Powell/Colin_Powell_0032.jpg'), ('Jean_Chretien', '../lfw-data-experiment/Jean_Chretien/Jean_Chretien_0020.jpg'), ('Jean_Chretien', '../lfw-data-experiment/Jean_Chretien/Jean_Chretien_0025.jpg'), ('Jean_Chretien', '../lfw-data-experiment/Jean_Chretien/Jean_Chretien_0030.jpg'), ('Jean_Chretien', '../lfw-data-experiment/Jean_Chretien/Jean_Chretien_0041.jpg'), ('Jean_Chretien', '../lfw-data-experiment/Jean_Chretien/Jean_Chretien_0037.jpg'), ('Jean_Chretien', '../lfw-data-experiment/Jean_Chretien/Jean_Chretien_0024.jpg'), ('Jean_Chretien', '../lfw-data-experiment/Jean_Chretien/Jean_Chretien_0023.jpg'), ('Jean_Chretien', '../lfw-data-experiment/Jean_Chretien/Jean_Chretien_0042.jpg'), ('Jean_Chretien', '../lfw-data-experiment/Jean_Chretien/Jean_Chretien_0009.jpg'), ('Jean_Chretien', '../lfw-data-experiment/Jean_Chretien/Jean_Chretien_0044.jpg'), ('Jean_Chretien', '../lfw-data-experiment/Jean_Chretien/Jean_Chretien_0046.jpg'), ('Jean_Chretien', '../lfw-data-experiment/Jean_Chretien/Jean_Chretien_0049.jpg'), ('Jean_Chretien', '../lfw-data-experiment/Jean_Chretien/Jean_Chretien_0040.jpg'), ('Jean_Chretien', '../lfw-data-experiment/Jean_Chretien/Jean_Chretien_0011.jpg'), ('Jean_Chretien', '../lfw-data-experiment/Jean_Chretien/Jean_Chretien_0004.jpg'), ('Jean_Chretien', '../lfw-data-experiment/Jean_Chretien/Jean_Chretien_0002.jpg'), ('Jean_Chretien', '../lfw-data-experiment/Jean_Chretien/Jean_Chretien_0007.jpg'), ('Jean_Chretien', '../lfw-data-experiment/Jean_Chretien/Jean_Chretien_0022.jpg'), ('Jean_Chretien', '../lfw-data-experiment/Jean_Chretien/Jean_Chretien_0029.jpg'), ('Jean_Chretien', '../lfw-data-experiment/Jean_Chretien/Jean_Chretien_0047.jpg'), ('Jean_Chretien', '../lfw-data-experiment/Jean_Chretien/Jean_Chretien_0035.jpg'), ('Jean_Chretien', '../lfw-data-experiment/Jean_Chretien/Jean_Chretien_0048.jpg'), ('Jean_Chretien', '../lfw-data-experiment/Jean_Chretien/Jean_Chretien_0033.jpg'), ('Jean_Chretien', '../lfw-data-experiment/Jean_Chretien/Jean_Chretien_0005.jpg'), ('Jean_Chretien', '../lfw-data-experiment/Jean_Chretien/Jean_Chretien_0050.jpg'), ('Jean_Chretien', '../lfw-data-experiment/Jean_Chretien/Jean_Chretien_0034.jpg'), ('Jean_Chretien', '../lfw-data-experiment/Jean_Chretien/Jean_Chretien_0039.jpg'), ('Jean_Chretien', '../lfw-data-experiment/Jean_Chretien/Jean_Chretien_0036.jpg'), ('Jean_Chretien', '../lfw-data-experiment/Jean_Chretien/Jean_Chretien_0026.jpg'), ('Jean_Chretien', '../lfw-data-experiment/Jean_Chretien/Jean_Chretien_0012.jpg'), ('Jean_Chretien', '../lfw-data-experiment/Jean_Chretien/Jean_Chretien_0017.jpg'), ('Jean_Chretien', '../lfw-data-experiment/Jean_Chretien/Jean_Chretien_0008.jpg'), ('Jean_Chretien', '../lfw-data-experiment/Jean_Chretien/Jean_Chretien_0032.jpg'), ('Jean_Chretien', '../lfw-data-experiment/Jean_Chretien/Jean_Chretien_0021.jpg'), ('Jean_Chretien', '../lfw-data-experiment/Jean_Chretien/Jean_Chretien_0027.jpg'), ('Jean_Chretien', '../lfw-data-experiment/Jean_Chretien/Jean_Chretien_0019.jpg'), ('Jean_Chretien', '../lfw-data-experiment/Jean_Chretien/Jean_Chretien_0028.jpg'), ('Jean_Chretien', '../lfw-data-experiment/Jean_Chretien/Jean_Chretien_0015.jpg'), ('Jean_Chretien', '../lfw-data-experiment/Jean_Chretien/Jean_Chretien_0031.jpg'), ('Jean_Chretien', '../lfw-data-experiment/Jean_Chretien/Jean_Chretien_0045.jpg'), ('Jean_Chretien', '../lfw-data-experiment/Jean_Chretien/Jean_Chretien_0018.jpg'), ('Jean_Chretien', '../lfw-data-experiment/Jean_Chretien/Jean_Chretien_0006.jpg'), ('Jean_Chretien', '../lfw-data-experiment/Jean_Chretien/Jean_Chretien_0013.jpg'), ('Jean_Chretien', '../lfw-data-experiment/Jean_Chretien/Jean_Chretien_0010.jpg'), ('Jean_Chretien', '../lfw-data-experiment/Jean_Chretien/Jean_Chretien_0014.jpg'), ('Jean_Chretien', '../lfw-data-experiment/Jean_Chretien/Jean_Chretien_0003.jpg'), ('Jean_Chretien', '../lfw-data-experiment/Jean_Chretien/Jean_Chretien_0043.jpg'), ('Jean_Chretien', '../lfw-data-experiment/Jean_Chretien/Jean_Chretien_0001.jpg'), ('Jean_Chretien', '../lfw-data-experiment/Jean_Chretien/Jean_Chretien_0038.jpg'), ('Jean_Chretien', '../lfw-data-experiment/Jean_Chretien/Jean_Chretien_0016.jpg'), ('Ariel_Sharon', '../lfw-data-experiment/Ariel_Sharon/Ariel_Sharon_0033.jpg'), ('Ariel_Sharon', '../lfw-data-experiment/Ariel_Sharon/Ariel_Sharon_0015.jpg'), ('Ariel_Sharon', '../lfw-data-experiment/Ariel_Sharon/Ariel_Sharon_0038.jpg'), ('Ariel_Sharon', '../lfw-data-experiment/Ariel_Sharon/Ariel_Sharon_0022.jpg'), ('Ariel_Sharon', '../lfw-data-experiment/Ariel_Sharon/Ariel_Sharon_0029.jpg'), ('Ariel_Sharon', '../lfw-data-experiment/Ariel_Sharon/Ariel_Sharon_0001.jpg'), ('Ariel_Sharon', '../lfw-data-experiment/Ariel_Sharon/Ariel_Sharon_0020.jpg'), ('Ariel_Sharon', '../lfw-data-experiment/Ariel_Sharon/Ariel_Sharon_0009.jpg'), ('Ariel_Sharon', '../lfw-data-experiment/Ariel_Sharon/Ariel_Sharon_0023.jpg'), ('Ariel_Sharon', '../lfw-data-experiment/Ariel_Sharon/Ariel_Sharon_0048.jpg'), ('Ariel_Sharon', '../lfw-data-experiment/Ariel_Sharon/Ariel_Sharon_0046.jpg'), ('Ariel_Sharon', '../lfw-data-experiment/Ariel_Sharon/Ariel_Sharon_0004.jpg'), ('Ariel_Sharon', '../lfw-data-experiment/Ariel_Sharon/Ariel_Sharon_0019.jpg'), ('Ariel_Sharon', '../lfw-data-experiment/Ariel_Sharon/Ariel_Sharon_0002.jpg'), ('Ariel_Sharon', '../lfw-data-experiment/Ariel_Sharon/Ariel_Sharon_0025.jpg'), ('Ariel_Sharon', '../lfw-data-experiment/Ariel_Sharon/Ariel_Sharon_0027.jpg'), ('Ariel_Sharon', '../lfw-data-experiment/Ariel_Sharon/Ariel_Sharon_0042.jpg'), ('Ariel_Sharon', '../lfw-data-experiment/Ariel_Sharon/Ariel_Sharon_0011.jpg'), ('Ariel_Sharon', '../lfw-data-experiment/Ariel_Sharon/Ariel_Sharon_0021.jpg'), ('Ariel_Sharon', '../lfw-data-experiment/Ariel_Sharon/Ariel_Sharon_0043.jpg'), ('Ariel_Sharon', '../lfw-data-experiment/Ariel_Sharon/Ariel_Sharon_0003.jpg'), ('Ariel_Sharon', '../lfw-data-experiment/Ariel_Sharon/Ariel_Sharon_0041.jpg'), ('Ariel_Sharon', '../lfw-data-experiment/Ariel_Sharon/Ariel_Sharon_0050.jpg'), ('Ariel_Sharon', '../lfw-data-experiment/Ariel_Sharon/Ariel_Sharon_0035.jpg'), ('Ariel_Sharon', '../lfw-data-experiment/Ariel_Sharon/Ariel_Sharon_0005.jpg'), ('Ariel_Sharon', '../lfw-data-experiment/Ariel_Sharon/Ariel_Sharon_0036.jpg'), ('Ariel_Sharon', '../lfw-data-experiment/Ariel_Sharon/Ariel_Sharon_0014.jpg'), ('Ariel_Sharon', '../lfw-data-experiment/Ariel_Sharon/Ariel_Sharon_0008.jpg'), ('Ariel_Sharon', '../lfw-data-experiment/Ariel_Sharon/Ariel_Sharon_0010.jpg'), ('Ariel_Sharon', '../lfw-data-experiment/Ariel_Sharon/Ariel_Sharon_0028.jpg'), ('Ariel_Sharon', '../lfw-data-experiment/Ariel_Sharon/Ariel_Sharon_0012.jpg'), ('Ariel_Sharon', '../lfw-data-experiment/Ariel_Sharon/Ariel_Sharon_0026.jpg'), ('Ariel_Sharon', '../lfw-data-experiment/Ariel_Sharon/Ariel_Sharon_0044.jpg'), ('Ariel_Sharon', '../lfw-data-experiment/Ariel_Sharon/Ariel_Sharon_0024.jpg'), ('Ariel_Sharon', '../lfw-data-experiment/Ariel_Sharon/Ariel_Sharon_0018.jpg'), ('Ariel_Sharon', '../lfw-data-experiment/Ariel_Sharon/Ariel_Sharon_0039.jpg'), ('Ariel_Sharon', '../lfw-data-experiment/Ariel_Sharon/Ariel_Sharon_0016.jpg'), ('Ariel_Sharon', '../lfw-data-experiment/Ariel_Sharon/Ariel_Sharon_0017.jpg'), ('Ariel_Sharon', '../lfw-data-experiment/Ariel_Sharon/Ariel_Sharon_0007.jpg'), ('Ariel_Sharon', '../lfw-data-experiment/Ariel_Sharon/Ariel_Sharon_0049.jpg'), ('Ariel_Sharon', '../lfw-data-experiment/Ariel_Sharon/Ariel_Sharon_0040.jpg'), ('Ariel_Sharon', '../lfw-data-experiment/Ariel_Sharon/Ariel_Sharon_0045.jpg'), ('Ariel_Sharon', '../lfw-data-experiment/Ariel_Sharon/Ariel_Sharon_0013.jpg'), ('Ariel_Sharon', '../lfw-data-experiment/Ariel_Sharon/Ariel_Sharon_0034.jpg'), ('Ariel_Sharon', '../lfw-data-experiment/Ariel_Sharon/Ariel_Sharon_0032.jpg'), ('Ariel_Sharon', '../lfw-data-experiment/Ariel_Sharon/Ariel_Sharon_0047.jpg'), ('Ariel_Sharon', '../lfw-data-experiment/Ariel_Sharon/Ariel_Sharon_0006.jpg'), ('Ariel_Sharon', '../lfw-data-experiment/Ariel_Sharon/Ariel_Sharon_0030.jpg'), ('Ariel_Sharon', '../lfw-data-experiment/Ariel_Sharon/Ariel_Sharon_0037.jpg'), ('Ariel_Sharon', '../lfw-data-experiment/Ariel_Sharon/Ariel_Sharon_0031.jpg'), ('Donald_Rumsfeld', '../lfw-data-experiment/Donald_Rumsfeld/Donald_Rumsfeld_0036.jpg'), ('Donald_Rumsfeld', '../lfw-data-experiment/Donald_Rumsfeld/Donald_Rumsfeld_0020.jpg'), ('Donald_Rumsfeld', '../lfw-data-experiment/Donald_Rumsfeld/Donald_Rumsfeld_0021.jpg'), ('Donald_Rumsfeld', '../lfw-data-experiment/Donald_Rumsfeld/Donald_Rumsfeld_0050.jpg'), ('Donald_Rumsfeld', '../lfw-data-experiment/Donald_Rumsfeld/Donald_Rumsfeld_0022.jpg'), ('Donald_Rumsfeld', '../lfw-data-experiment/Donald_Rumsfeld/Donald_Rumsfeld_0019.jpg'), ('Donald_Rumsfeld', '../lfw-data-experiment/Donald_Rumsfeld/Donald_Rumsfeld_0040.jpg'), ('Donald_Rumsfeld', '../lfw-data-experiment/Donald_Rumsfeld/Donald_Rumsfeld_0015.jpg'), ('Donald_Rumsfeld', '../lfw-data-experiment/Donald_Rumsfeld/Donald_Rumsfeld_0003.jpg'), ('Donald_Rumsfeld', '../lfw-data-experiment/Donald_Rumsfeld/Donald_Rumsfeld_0032.jpg'), ('Donald_Rumsfeld', '../lfw-data-experiment/Donald_Rumsfeld/Donald_Rumsfeld_0016.jpg'), ('Donald_Rumsfeld', '../lfw-data-experiment/Donald_Rumsfeld/Donald_Rumsfeld_0033.jpg'), ('Donald_Rumsfeld', '../lfw-data-experiment/Donald_Rumsfeld/Donald_Rumsfeld_0024.jpg'), ('Donald_Rumsfeld', '../lfw-data-experiment/Donald_Rumsfeld/Donald_Rumsfeld_0034.jpg'), ('Donald_Rumsfeld', '../lfw-data-experiment/Donald_Rumsfeld/Donald_Rumsfeld_0029.jpg'), ('Donald_Rumsfeld', '../lfw-data-experiment/Donald_Rumsfeld/Donald_Rumsfeld_0005.jpg'), ('Donald_Rumsfeld', '../lfw-data-experiment/Donald_Rumsfeld/Donald_Rumsfeld_0007.jpg'), ('Donald_Rumsfeld', '../lfw-data-experiment/Donald_Rumsfeld/Donald_Rumsfeld_0008.jpg'), ('Donald_Rumsfeld', '../lfw-data-experiment/Donald_Rumsfeld/Donald_Rumsfeld_0012.jpg'), ('Donald_Rumsfeld', '../lfw-data-experiment/Donald_Rumsfeld/Donald_Rumsfeld_0027.jpg'), ('Donald_Rumsfeld', '../lfw-data-experiment/Donald_Rumsfeld/Donald_Rumsfeld_0030.jpg'), ('Donald_Rumsfeld', '../lfw-data-experiment/Donald_Rumsfeld/Donald_Rumsfeld_0014.jpg'), ('Donald_Rumsfeld', '../lfw-data-experiment/Donald_Rumsfeld/Donald_Rumsfeld_0011.jpg'), ('Donald_Rumsfeld', '../lfw-data-experiment/Donald_Rumsfeld/Donald_Rumsfeld_0004.jpg'), ('Donald_Rumsfeld', '../lfw-data-experiment/Donald_Rumsfeld/Donald_Rumsfeld_0044.jpg'), ('Donald_Rumsfeld', '../lfw-data-experiment/Donald_Rumsfeld/Donald_Rumsfeld_0041.jpg'), ('Donald_Rumsfeld', '../lfw-data-experiment/Donald_Rumsfeld/Donald_Rumsfeld_0018.jpg'), ('Donald_Rumsfeld', '../lfw-data-experiment/Donald_Rumsfeld/Donald_Rumsfeld_0017.jpg'), ('Donald_Rumsfeld', '../lfw-data-experiment/Donald_Rumsfeld/Donald_Rumsfeld_0037.jpg'), ('Donald_Rumsfeld', '../lfw-data-experiment/Donald_Rumsfeld/Donald_Rumsfeld_0047.jpg'), ('Donald_Rumsfeld', '../lfw-data-experiment/Donald_Rumsfeld/Donald_Rumsfeld_0026.jpg'), ('Donald_Rumsfeld', '../lfw-data-experiment/Donald_Rumsfeld/Donald_Rumsfeld_0028.jpg'), ('Donald_Rumsfeld', '../lfw-data-experiment/Donald_Rumsfeld/Donald_Rumsfeld_0039.jpg'), ('Donald_Rumsfeld', '../lfw-data-experiment/Donald_Rumsfeld/Donald_Rumsfeld_0045.jpg'), ('Donald_Rumsfeld', '../lfw-data-experiment/Donald_Rumsfeld/Donald_Rumsfeld_0031.jpg'), ('Donald_Rumsfeld', '../lfw-data-experiment/Donald_Rumsfeld/Donald_Rumsfeld_0013.jpg'), ('Donald_Rumsfeld', '../lfw-data-experiment/Donald_Rumsfeld/Donald_Rumsfeld_0025.jpg'), ('Donald_Rumsfeld', '../lfw-data-experiment/Donald_Rumsfeld/Donald_Rumsfeld_0006.jpg'), ('Donald_Rumsfeld', '../lfw-data-experiment/Donald_Rumsfeld/Donald_Rumsfeld_0038.jpg'), ('Donald_Rumsfeld', '../lfw-data-experiment/Donald_Rumsfeld/Donald_Rumsfeld_0049.jpg'), ('Donald_Rumsfeld', '../lfw-data-experiment/Donald_Rumsfeld/Donald_Rumsfeld_0046.jpg'), ('Donald_Rumsfeld', '../lfw-data-experiment/Donald_Rumsfeld/Donald_Rumsfeld_0010.jpg'), ('Donald_Rumsfeld', '../lfw-data-experiment/Donald_Rumsfeld/Donald_Rumsfeld_0009.jpg'), ('Donald_Rumsfeld', '../lfw-data-experiment/Donald_Rumsfeld/Donald_Rumsfeld_0042.jpg'), ('Donald_Rumsfeld', '../lfw-data-experiment/Donald_Rumsfeld/Donald_Rumsfeld_0002.jpg'), ('Donald_Rumsfeld', '../lfw-data-experiment/Donald_Rumsfeld/Donald_Rumsfeld_0043.jpg'), ('Donald_Rumsfeld', '../lfw-data-experiment/Donald_Rumsfeld/Donald_Rumsfeld_0023.jpg'), ('Donald_Rumsfeld', '../lfw-data-experiment/Donald_Rumsfeld/Donald_Rumsfeld_0048.jpg'), ('Donald_Rumsfeld', '../lfw-data-experiment/Donald_Rumsfeld/Donald_Rumsfeld_0035.jpg'), ('Donald_Rumsfeld', '../lfw-data-experiment/Donald_Rumsfeld/Donald_Rumsfeld_0001.jpg'), ('John_Ashcroft', '../lfw-data-experiment/John_Ashcroft/John_Ashcroft_0044.jpg'), ('John_Ashcroft', '../lfw-data-experiment/John_Ashcroft/John_Ashcroft_0031.jpg'), ('John_Ashcroft', '../lfw-data-experiment/John_Ashcroft/John_Ashcroft_0003.jpg'), ('John_Ashcroft', '../lfw-data-experiment/John_Ashcroft/John_Ashcroft_0015.jpg'), ('John_Ashcroft', '../lfw-data-experiment/John_Ashcroft/John_Ashcroft_0012.jpg'), ('John_Ashcroft', '../lfw-data-experiment/John_Ashcroft/John_Ashcroft_0033.jpg'), ('John_Ashcroft', '../lfw-data-experiment/John_Ashcroft/John_Ashcroft_0019.jpg'), ('John_Ashcroft', '../lfw-data-experiment/John_Ashcroft/John_Ashcroft_0035.jpg'), ('John_Ashcroft', '../lfw-data-experiment/John_Ashcroft/John_Ashcroft_0050.jpg'), ('John_Ashcroft', '../lfw-data-experiment/John_Ashcroft/John_Ashcroft_0002.jpg'), ('John_Ashcroft', '../lfw-data-experiment/John_Ashcroft/John_Ashcroft_0027.jpg'), ('John_Ashcroft', '../lfw-data-experiment/John_Ashcroft/John_Ashcroft_0029.jpg'), ('John_Ashcroft', '../lfw-data-experiment/John_Ashcroft/John_Ashcroft_0038.jpg'), ('John_Ashcroft', '../lfw-data-experiment/John_Ashcroft/John_Ashcroft_0039.jpg'), ('John_Ashcroft', '../lfw-data-experiment/John_Ashcroft/John_Ashcroft_0037.jpg'), ('John_Ashcroft', '../lfw-data-experiment/John_Ashcroft/John_Ashcroft_0046.jpg'), ('John_Ashcroft', '../lfw-data-experiment/John_Ashcroft/John_Ashcroft_0048.jpg'), ('John_Ashcroft', '../lfw-data-experiment/John_Ashcroft/John_Ashcroft_0005.jpg'), ('John_Ashcroft', '../lfw-data-experiment/John_Ashcroft/John_Ashcroft_0006.jpg'), ('John_Ashcroft', '../lfw-data-experiment/John_Ashcroft/John_Ashcroft_0041.jpg'), ('John_Ashcroft', '../lfw-data-experiment/John_Ashcroft/John_Ashcroft_0030.jpg'), ('John_Ashcroft', '../lfw-data-experiment/John_Ashcroft/John_Ashcroft_0025.jpg'), ('John_Ashcroft', '../lfw-data-experiment/John_Ashcroft/John_Ashcroft_0049.jpg'), ('John_Ashcroft', '../lfw-data-experiment/John_Ashcroft/John_Ashcroft_0023.jpg'), ('John_Ashcroft', '../lfw-data-experiment/John_Ashcroft/John_Ashcroft_0014.jpg'), ('John_Ashcroft', '../lfw-data-experiment/John_Ashcroft/John_Ashcroft_0010.jpg'), ('John_Ashcroft', '../lfw-data-experiment/John_Ashcroft/John_Ashcroft_0009.jpg'), ('John_Ashcroft', '../lfw-data-experiment/John_Ashcroft/John_Ashcroft_0008.jpg'), ('John_Ashcroft', '../lfw-data-experiment/John_Ashcroft/John_Ashcroft_0018.jpg'), ('John_Ashcroft', '../lfw-data-experiment/John_Ashcroft/John_Ashcroft_0026.jpg'), ('John_Ashcroft', '../lfw-data-experiment/John_Ashcroft/John_Ashcroft_0001.jpg'), ('John_Ashcroft', '../lfw-data-experiment/John_Ashcroft/John_Ashcroft_0020.jpg'), ('John_Ashcroft', '../lfw-data-experiment/John_Ashcroft/John_Ashcroft_0045.jpg'), ('John_Ashcroft', '../lfw-data-experiment/John_Ashcroft/John_Ashcroft_0036.jpg'), ('John_Ashcroft', '../lfw-data-experiment/John_Ashcroft/John_Ashcroft_0004.jpg'), ('John_Ashcroft', '../lfw-data-experiment/John_Ashcroft/John_Ashcroft_0016.jpg'), ('John_Ashcroft', '../lfw-data-experiment/John_Ashcroft/John_Ashcroft_0024.jpg'), ('John_Ashcroft', '../lfw-data-experiment/John_Ashcroft/John_Ashcroft_0043.jpg'), ('John_Ashcroft', '../lfw-data-experiment/John_Ashcroft/John_Ashcroft_0011.jpg'), ('John_Ashcroft', '../lfw-data-experiment/John_Ashcroft/John_Ashcroft_0007.jpg'), ('John_Ashcroft', '../lfw-data-experiment/John_Ashcroft/John_Ashcroft_0034.jpg'), ('John_Ashcroft', '../lfw-data-experiment/John_Ashcroft/John_Ashcroft_0040.jpg'), ('John_Ashcroft', '../lfw-data-experiment/John_Ashcroft/John_Ashcroft_0017.jpg'), ('John_Ashcroft', '../lfw-data-experiment/John_Ashcroft/John_Ashcroft_0042.jpg'), ('John_Ashcroft', '../lfw-data-experiment/John_Ashcroft/John_Ashcroft_0032.jpg'), ('John_Ashcroft', '../lfw-data-experiment/John_Ashcroft/John_Ashcroft_0047.jpg'), ('John_Ashcroft', '../lfw-data-experiment/John_Ashcroft/John_Ashcroft_0013.jpg'), ('John_Ashcroft', '../lfw-data-experiment/John_Ashcroft/John_Ashcroft_0022.jpg'), ('John_Ashcroft', '../lfw-data-experiment/John_Ashcroft/John_Ashcroft_0021.jpg'), ('John_Ashcroft', '../lfw-data-experiment/John_Ashcroft/John_Ashcroft_0028.jpg'), ('Gerhard_Schroeder', '../lfw-data-experiment/Gerhard_Schroeder/Gerhard_Schroeder_0026.jpg'), ('Gerhard_Schroeder', '../lfw-data-experiment/Gerhard_Schroeder/Gerhard_Schroeder_0032.jpg'), ('Gerhard_Schroeder', '../lfw-data-experiment/Gerhard_Schroeder/Gerhard_Schroeder_0008.jpg'), ('Gerhard_Schroeder', '../lfw-data-experiment/Gerhard_Schroeder/Gerhard_Schroeder_0031.jpg'), ('Gerhard_Schroeder', '../lfw-data-experiment/Gerhard_Schroeder/Gerhard_Schroeder_0020.jpg'), ('Gerhard_Schroeder', '../lfw-data-experiment/Gerhard_Schroeder/Gerhard_Schroeder_0015.jpg'), ('Gerhard_Schroeder', '../lfw-data-experiment/Gerhard_Schroeder/Gerhard_Schroeder_0040.jpg'), ('Gerhard_Schroeder', '../lfw-data-experiment/Gerhard_Schroeder/Gerhard_Schroeder_0038.jpg'), ('Gerhard_Schroeder', '../lfw-data-experiment/Gerhard_Schroeder/Gerhard_Schroeder_0002.jpg'), ('Gerhard_Schroeder', '../lfw-data-experiment/Gerhard_Schroeder/Gerhard_Schroeder_0037.jpg'), ('Gerhard_Schroeder', '../lfw-data-experiment/Gerhard_Schroeder/Gerhard_Schroeder_0004.jpg'), ('Gerhard_Schroeder', '../lfw-data-experiment/Gerhard_Schroeder/Gerhard_Schroeder_0041.jpg'), ('Gerhard_Schroeder', '../lfw-data-experiment/Gerhard_Schroeder/Gerhard_Schroeder_0017.jpg'), ('Gerhard_Schroeder', '../lfw-data-experiment/Gerhard_Schroeder/Gerhard_Schroeder_0018.jpg'), ('Gerhard_Schroeder', '../lfw-data-experiment/Gerhard_Schroeder/Gerhard_Schroeder_0030.jpg'), ('Gerhard_Schroeder', '../lfw-data-experiment/Gerhard_Schroeder/Gerhard_Schroeder_0045.jpg'), ('Gerhard_Schroeder', '../lfw-data-experiment/Gerhard_Schroeder/Gerhard_Schroeder_0050.jpg'), ('Gerhard_Schroeder', '../lfw-data-experiment/Gerhard_Schroeder/Gerhard_Schroeder_0025.jpg'), ('Gerhard_Schroeder', '../lfw-data-experiment/Gerhard_Schroeder/Gerhard_Schroeder_0029.jpg'), ('Gerhard_Schroeder', '../lfw-data-experiment/Gerhard_Schroeder/Gerhard_Schroeder_0034.jpg'), ('Gerhard_Schroeder', '../lfw-data-experiment/Gerhard_Schroeder/Gerhard_Schroeder_0027.jpg'), ('Gerhard_Schroeder', '../lfw-data-experiment/Gerhard_Schroeder/Gerhard_Schroeder_0035.jpg'), ('Gerhard_Schroeder', '../lfw-data-experiment/Gerhard_Schroeder/Gerhard_Schroeder_0005.jpg'), ('Gerhard_Schroeder', '../lfw-data-experiment/Gerhard_Schroeder/Gerhard_Schroeder_0042.jpg'), ('Gerhard_Schroeder', '../lfw-data-experiment/Gerhard_Schroeder/Gerhard_Schroeder_0022.jpg'), ('Gerhard_Schroeder', '../lfw-data-experiment/Gerhard_Schroeder/Gerhard_Schroeder_0023.jpg'), ('Gerhard_Schroeder', '../lfw-data-experiment/Gerhard_Schroeder/Gerhard_Schroeder_0006.jpg'), ('Gerhard_Schroeder', '../lfw-data-experiment/Gerhard_Schroeder/Gerhard_Schroeder_0013.jpg'), ('Gerhard_Schroeder', '../lfw-data-experiment/Gerhard_Schroeder/Gerhard_Schroeder_0001.jpg'), ('Gerhard_Schroeder', '../lfw-data-experiment/Gerhard_Schroeder/Gerhard_Schroeder_0039.jpg'), ('Gerhard_Schroeder', '../lfw-data-experiment/Gerhard_Schroeder/Gerhard_Schroeder_0011.jpg'), ('Gerhard_Schroeder', '../lfw-data-experiment/Gerhard_Schroeder/Gerhard_Schroeder_0048.jpg'), ('Gerhard_Schroeder', '../lfw-data-experiment/Gerhard_Schroeder/Gerhard_Schroeder_0046.jpg'), ('Gerhard_Schroeder', '../lfw-data-experiment/Gerhard_Schroeder/Gerhard_Schroeder_0047.jpg'), ('Gerhard_Schroeder', '../lfw-data-experiment/Gerhard_Schroeder/Gerhard_Schroeder_0012.jpg'), ('Gerhard_Schroeder', '../lfw-data-experiment/Gerhard_Schroeder/Gerhard_Schroeder_0024.jpg'), ('Gerhard_Schroeder', '../lfw-data-experiment/Gerhard_Schroeder/Gerhard_Schroeder_0019.jpg'), ('Gerhard_Schroeder', '../lfw-data-experiment/Gerhard_Schroeder/Gerhard_Schroeder_0009.jpg'), ('Gerhard_Schroeder', '../lfw-data-experiment/Gerhard_Schroeder/Gerhard_Schroeder_0010.jpg'), ('Gerhard_Schroeder', '../lfw-data-experiment/Gerhard_Schroeder/Gerhard_Schroeder_0016.jpg'), ('Gerhard_Schroeder', '../lfw-data-experiment/Gerhard_Schroeder/Gerhard_Schroeder_0014.jpg'), ('Gerhard_Schroeder', '../lfw-data-experiment/Gerhard_Schroeder/Gerhard_Schroeder_0003.jpg'), ('Gerhard_Schroeder', '../lfw-data-experiment/Gerhard_Schroeder/Gerhard_Schroeder_0033.jpg'), ('Gerhard_Schroeder', '../lfw-data-experiment/Gerhard_Schroeder/Gerhard_Schroeder_0021.jpg'), ('Gerhard_Schroeder', '../lfw-data-experiment/Gerhard_Schroeder/Gerhard_Schroeder_0028.jpg'), ('Gerhard_Schroeder', '../lfw-data-experiment/Gerhard_Schroeder/Gerhard_Schroeder_0007.jpg'), ('Gerhard_Schroeder', '../lfw-data-experiment/Gerhard_Schroeder/Gerhard_Schroeder_0049.jpg'), ('Gerhard_Schroeder', '../lfw-data-experiment/Gerhard_Schroeder/Gerhard_Schroeder_0036.jpg'), ('Gerhard_Schroeder', '../lfw-data-experiment/Gerhard_Schroeder/Gerhard_Schroeder_0043.jpg'), ('Gerhard_Schroeder', '../lfw-data-experiment/Gerhard_Schroeder/Gerhard_Schroeder_0044.jpg'), ('Hugo_Chavez', '../lfw-data-experiment/Hugo_Chavez/Hugo_Chavez_0048.jpg'), ('Hugo_Chavez', '../lfw-data-experiment/Hugo_Chavez/Hugo_Chavez_0033.jpg'), ('Hugo_Chavez', '../lfw-data-experiment/Hugo_Chavez/Hugo_Chavez_0031.jpg'), ('Hugo_Chavez', '../lfw-data-experiment/Hugo_Chavez/Hugo_Chavez_0041.jpg'), ('Hugo_Chavez', '../lfw-data-experiment/Hugo_Chavez/Hugo_Chavez_0024.jpg'), ('Hugo_Chavez', '../lfw-data-experiment/Hugo_Chavez/Hugo_Chavez_0026.jpg'), ('Hugo_Chavez', '../lfw-data-experiment/Hugo_Chavez/Hugo_Chavez_0020.jpg'), ('Hugo_Chavez', '../lfw-data-experiment/Hugo_Chavez/Hugo_Chavez_0038.jpg'), ('Hugo_Chavez', '../lfw-data-experiment/Hugo_Chavez/Hugo_Chavez_0039.jpg'), ('Hugo_Chavez', '../lfw-data-experiment/Hugo_Chavez/Hugo_Chavez_0002.jpg'), ('Hugo_Chavez', '../lfw-data-experiment/Hugo_Chavez/Hugo_Chavez_0046.jpg'), ('Hugo_Chavez', '../lfw-data-experiment/Hugo_Chavez/Hugo_Chavez_0021.jpg'), ('Hugo_Chavez', '../lfw-data-experiment/Hugo_Chavez/Hugo_Chavez_0019.jpg'), ('Hugo_Chavez', '../lfw-data-experiment/Hugo_Chavez/Hugo_Chavez_0010.jpg'), ('Hugo_Chavez', '../lfw-data-experiment/Hugo_Chavez/Hugo_Chavez_0006.jpg'), ('Hugo_Chavez', '../lfw-data-experiment/Hugo_Chavez/Hugo_Chavez_0003.jpg'), ('Hugo_Chavez', '../lfw-data-experiment/Hugo_Chavez/Hugo_Chavez_0012.jpg'), ('Hugo_Chavez', '../lfw-data-experiment/Hugo_Chavez/Hugo_Chavez_0028.jpg'), ('Hugo_Chavez', '../lfw-data-experiment/Hugo_Chavez/Hugo_Chavez_0034.jpg'), ('Hugo_Chavez', '../lfw-data-experiment/Hugo_Chavez/Hugo_Chavez_0045.jpg'), ('Hugo_Chavez', '../lfw-data-experiment/Hugo_Chavez/Hugo_Chavez_0011.jpg'), ('Hugo_Chavez', '../lfw-data-experiment/Hugo_Chavez/Hugo_Chavez_0043.jpg'), ('Hugo_Chavez', '../lfw-data-experiment/Hugo_Chavez/Hugo_Chavez_0044.jpg'), ('Hugo_Chavez', '../lfw-data-experiment/Hugo_Chavez/Hugo_Chavez_0017.jpg'), ('Hugo_Chavez', '../lfw-data-experiment/Hugo_Chavez/Hugo_Chavez_0015.jpg'), ('Hugo_Chavez', '../lfw-data-experiment/Hugo_Chavez/Hugo_Chavez_0005.jpg'), ('Hugo_Chavez', '../lfw-data-experiment/Hugo_Chavez/Hugo_Chavez_0050.jpg'), ('Hugo_Chavez', '../lfw-data-experiment/Hugo_Chavez/Hugo_Chavez_0032.jpg'), ('Hugo_Chavez', '../lfw-data-experiment/Hugo_Chavez/Hugo_Chavez_0022.jpg'), ('Hugo_Chavez', '../lfw-data-experiment/Hugo_Chavez/Hugo_Chavez_0027.jpg'), ('Hugo_Chavez', '../lfw-data-experiment/Hugo_Chavez/Hugo_Chavez_0001.jpg'), ('Hugo_Chavez', '../lfw-data-experiment/Hugo_Chavez/Hugo_Chavez_0042.jpg'), ('Hugo_Chavez', '../lfw-data-experiment/Hugo_Chavez/Hugo_Chavez_0016.jpg'), ('Hugo_Chavez', '../lfw-data-experiment/Hugo_Chavez/Hugo_Chavez_0040.jpg'), ('Hugo_Chavez', '../lfw-data-experiment/Hugo_Chavez/Hugo_Chavez_0025.jpg'), ('Hugo_Chavez', '../lfw-data-experiment/Hugo_Chavez/Hugo_Chavez_0030.jpg'), ('Hugo_Chavez', '../lfw-data-experiment/Hugo_Chavez/Hugo_Chavez_0007.jpg'), ('Hugo_Chavez', '../lfw-data-experiment/Hugo_Chavez/Hugo_Chavez_0013.jpg'), ('Hugo_Chavez', '../lfw-data-experiment/Hugo_Chavez/Hugo_Chavez_0035.jpg'), ('Hugo_Chavez', '../lfw-data-experiment/Hugo_Chavez/Hugo_Chavez_0049.jpg'), ('Hugo_Chavez', '../lfw-data-experiment/Hugo_Chavez/Hugo_Chavez_0047.jpg'), ('Hugo_Chavez', '../lfw-data-experiment/Hugo_Chavez/Hugo_Chavez_0009.jpg'), ('Hugo_Chavez', '../lfw-data-experiment/Hugo_Chavez/Hugo_Chavez_0014.jpg'), ('Hugo_Chavez', '../lfw-data-experiment/Hugo_Chavez/Hugo_Chavez_0036.jpg'), ('Hugo_Chavez', '../lfw-data-experiment/Hugo_Chavez/Hugo_Chavez_0004.jpg'), ('Hugo_Chavez', '../lfw-data-experiment/Hugo_Chavez/Hugo_Chavez_0018.jpg'), ('Hugo_Chavez', '../lfw-data-experiment/Hugo_Chavez/Hugo_Chavez_0008.jpg'), ('Hugo_Chavez', '../lfw-data-experiment/Hugo_Chavez/Hugo_Chavez_0037.jpg'), ('Hugo_Chavez', '../lfw-data-experiment/Hugo_Chavez/Hugo_Chavez_0029.jpg'), ('Hugo_Chavez', '../lfw-data-experiment/Hugo_Chavez/Hugo_Chavez_0023.jpg')]\n"
          ]
        }
      ]
    },
    {
      "cell_type": "code",
      "source": [
        "import pandas as pd\n",
        "\n",
        "# Create a DataFrame from the list of tuples\n",
        "people_df = pd.DataFrame(people, columns=['person', 'path'])\n",
        "\n",
        "# Count the number of samples for each person\n",
        "person_count = people_df['person'].value_counts()\n",
        "\n",
        "print(\"Total number of images of people in the dataset: \", len(people_df))\n",
        "print(\"Samples in each category: \")\n",
        "print(person_count)\n"
      ],
      "metadata": {
        "colab": {
          "base_uri": "https://localhost:8080/"
        },
        "id": "fGKfFvTIAGHW",
        "outputId": "3a558ba0-d8a5-4bf4-ea2a-4a8b8325a993"
      },
      "execution_count": 8,
      "outputs": [
        {
          "output_type": "stream",
          "name": "stdout",
          "text": [
            "Total number of images of people in the dataset:  600\n",
            "Samples in each category: \n",
            "person\n",
            "Junichiro_Koizumi    50\n",
            "Tony_Blair           50\n",
            "George_W_Bush        50\n",
            "Serena_Williams      50\n",
            "Jacques_Chirac       50\n",
            "Colin_Powell         50\n",
            "Jean_Chretien        50\n",
            "Ariel_Sharon         50\n",
            "Donald_Rumsfeld      50\n",
            "John_Ashcroft        50\n",
            "Gerhard_Schroeder    50\n",
            "Hugo_Chavez          50\n",
            "Name: count, dtype: int64\n"
          ]
        }
      ]
    },
    {
      "cell_type": "markdown",
      "source": [
        "#Encoding"
      ],
      "metadata": {
        "id": "mcIPL21vkcR6"
      }
    },
    {
      "cell_type": "code",
      "source": [
        "num_classes = len(np.unique(labels))\n",
        "print(num_classes)"
      ],
      "metadata": {
        "id": "QXctnMYZ6naS",
        "colab": {
          "base_uri": "https://localhost:8080/"
        },
        "outputId": "506bc22d-8a7c-4d78-8c62-5c8995bf142f"
      },
      "execution_count": 9,
      "outputs": [
        {
          "output_type": "stream",
          "name": "stdout",
          "text": [
            "12\n"
          ]
        }
      ]
    },
    {
      "cell_type": "markdown",
      "source": [
        "#VGG-16 Architecture\n"
      ],
      "metadata": {
        "id": "CmrGrXCfAwHk"
      }
    },
    {
      "cell_type": "code",
      "source": [
        "import tensorflow as tf\n",
        "from tensorflow.keras.models import Sequential\n",
        "from tensorflow.keras.layers import Conv2D, MaxPooling2D, Flatten, Dense, Dropout, BatchNormalization, ZeroPadding2D\n",
        "\n",
        "\n",
        "model = Sequential([\n",
        "    Conv2D(32, (3, 3), activation='relu', input_shape=(im_size, im_size, 3)),\n",
        "    BatchNormalization(),\n",
        "    MaxPooling2D(2, 2),\n",
        "\n",
        "    # Second convolutional layer\n",
        "    Conv2D(64, (3, 3), activation='relu'),\n",
        "    MaxPooling2D((2, 2)),\n",
        "\n",
        "    # Third convolutional layer\n",
        "    Conv2D(128, (3, 3), activation='relu'),\n",
        "    MaxPooling2D((2, 2)),\n",
        "\n",
        "    # Flatten the results to feed into a dense layer\n",
        "    Flatten(),\n",
        "\n",
        "    # 256 neurons in the fully connected layer\n",
        "    Dense(256, activation='relu'),\n",
        "    Dropout(0.5),  # Dropout for regularization\n",
        "\n",
        "    # Output layer with one neuron per class\n",
        "    Dense(num_classes, activation='softmax')\n",
        "])\n",
        "\n",
        "# Compile the model\n",
        "model.compile(optimizer='adam', loss='categorical_crossentropy', metrics=['accuracy'])\n",
        "\n",
        "# Summary of the model\n",
        "model.summary()"
      ],
      "metadata": {
        "colab": {
          "base_uri": "https://localhost:8080/"
        },
        "id": "J8DDI8du_5y5",
        "outputId": "a5204be0-d2aa-4e13-a790-b51e4c58917f"
      },
      "execution_count": 15,
      "outputs": [
        {
          "output_type": "stream",
          "name": "stdout",
          "text": [
            "Model: \"sequential_1\"\n",
            "_________________________________________________________________\n",
            " Layer (type)                Output Shape              Param #   \n",
            "=================================================================\n",
            " conv2d_13 (Conv2D)          (None, 222, 222, 32)      896       \n",
            "                                                                 \n",
            " batch_normalization (Batch  (None, 222, 222, 32)      128       \n",
            " Normalization)                                                  \n",
            "                                                                 \n",
            " max_pooling2d_5 (MaxPoolin  (None, 111, 111, 32)      0         \n",
            " g2D)                                                            \n",
            "                                                                 \n",
            " conv2d_14 (Conv2D)          (None, 109, 109, 64)      18496     \n",
            "                                                                 \n",
            " max_pooling2d_6 (MaxPoolin  (None, 54, 54, 64)        0         \n",
            " g2D)                                                            \n",
            "                                                                 \n",
            " conv2d_15 (Conv2D)          (None, 52, 52, 128)       73856     \n",
            "                                                                 \n",
            " max_pooling2d_7 (MaxPoolin  (None, 26, 26, 128)       0         \n",
            " g2D)                                                            \n",
            "                                                                 \n",
            " flatten_1 (Flatten)         (None, 86528)             0         \n",
            "                                                                 \n",
            " dense_3 (Dense)             (None, 256)               22151424  \n",
            "                                                                 \n",
            " dropout_2 (Dropout)         (None, 256)               0         \n",
            "                                                                 \n",
            " dense_4 (Dense)             (None, 12)                3084      \n",
            "                                                                 \n",
            "=================================================================\n",
            "Total params: 22247884 (84.87 MB)\n",
            "Trainable params: 22247820 (84.87 MB)\n",
            "Non-trainable params: 64 (256.00 Byte)\n",
            "_________________________________________________________________\n"
          ]
        }
      ]
    },
    {
      "cell_type": "code",
      "source": [
        "print(\"train_x shape:\", train_x.shape)\n",
        "print(\"train_y_onehot shape:\", train_y_onehot.shape)\n",
        "print(\"test_x shape:\", test_x.shape)\n",
        "print(\"test_y_onehot shape:\", test_y_onehot.shape)\n"
      ],
      "metadata": {
        "colab": {
          "base_uri": "https://localhost:8080/"
        },
        "id": "doK-NaRw4pyN",
        "outputId": "92db0a04-70c2-427f-8e57-8d4996cd5043"
      },
      "execution_count": 11,
      "outputs": [
        {
          "output_type": "stream",
          "name": "stdout",
          "text": [
            "train_x shape: (420, 224, 224, 3)\n",
            "train_y_onehot shape: (420, 12)\n",
            "test_x shape: (180, 224, 224, 3)\n",
            "test_y_onehot shape: (180, 12)\n"
          ]
        }
      ]
    },
    {
      "cell_type": "code",
      "source": [
        "history = model.fit(\n",
        "    train_x,\n",
        "    train_y_onehot,\n",
        "    epochs=30,\n",
        "    batch_size=32,\n",
        "    validation_data=(test_x, test_y_onehot)\n",
        ")\n"
      ],
      "metadata": {
        "id": "vcT45lprA3TQ",
        "colab": {
          "base_uri": "https://localhost:8080/"
        },
        "outputId": "472f9f95-2506-4833-e6ed-9fdbe42056ad"
      },
      "execution_count": 16,
      "outputs": [
        {
          "output_type": "stream",
          "name": "stdout",
          "text": [
            "Epoch 1/30\n",
            "14/14 [==============================] - 8s 204ms/step - loss: 5.5674 - accuracy: 0.1071 - val_loss: 2.4804 - val_accuracy: 0.1556\n",
            "Epoch 2/30\n",
            "14/14 [==============================] - 1s 85ms/step - loss: 2.2702 - accuracy: 0.2333 - val_loss: 2.4052 - val_accuracy: 0.1611\n",
            "Epoch 3/30\n",
            "14/14 [==============================] - 1s 77ms/step - loss: 1.7021 - accuracy: 0.4571 - val_loss: 2.3217 - val_accuracy: 0.3278\n",
            "Epoch 4/30\n",
            "14/14 [==============================] - 1s 76ms/step - loss: 1.1797 - accuracy: 0.6310 - val_loss: 2.1477 - val_accuracy: 0.4222\n",
            "Epoch 5/30\n",
            "14/14 [==============================] - 1s 76ms/step - loss: 0.7315 - accuracy: 0.7571 - val_loss: 1.9980 - val_accuracy: 0.4889\n",
            "Epoch 6/30\n",
            "14/14 [==============================] - 1s 75ms/step - loss: 0.3293 - accuracy: 0.8976 - val_loss: 1.8113 - val_accuracy: 0.4667\n",
            "Epoch 7/30\n",
            "14/14 [==============================] - 1s 76ms/step - loss: 0.2211 - accuracy: 0.9310 - val_loss: 1.7518 - val_accuracy: 0.5000\n",
            "Epoch 8/30\n",
            "14/14 [==============================] - 1s 77ms/step - loss: 0.1317 - accuracy: 0.9690 - val_loss: 1.5282 - val_accuracy: 0.5778\n",
            "Epoch 9/30\n",
            "14/14 [==============================] - 1s 77ms/step - loss: 0.0661 - accuracy: 0.9881 - val_loss: 1.3913 - val_accuracy: 0.6167\n",
            "Epoch 10/30\n",
            "14/14 [==============================] - 1s 75ms/step - loss: 0.0795 - accuracy: 0.9714 - val_loss: 1.4234 - val_accuracy: 0.5889\n",
            "Epoch 11/30\n",
            "14/14 [==============================] - 1s 76ms/step - loss: 0.0695 - accuracy: 0.9833 - val_loss: 1.4402 - val_accuracy: 0.5833\n",
            "Epoch 12/30\n",
            "14/14 [==============================] - 1s 82ms/step - loss: 0.0417 - accuracy: 0.9857 - val_loss: 1.2219 - val_accuracy: 0.6167\n",
            "Epoch 13/30\n",
            "14/14 [==============================] - 1s 83ms/step - loss: 0.0714 - accuracy: 0.9738 - val_loss: 1.2718 - val_accuracy: 0.6111\n",
            "Epoch 14/30\n",
            "14/14 [==============================] - 1s 82ms/step - loss: 0.0402 - accuracy: 0.9905 - val_loss: 1.2586 - val_accuracy: 0.5778\n",
            "Epoch 15/30\n",
            "14/14 [==============================] - 1s 75ms/step - loss: 0.0523 - accuracy: 0.9905 - val_loss: 1.2559 - val_accuracy: 0.6278\n",
            "Epoch 16/30\n",
            "14/14 [==============================] - 1s 76ms/step - loss: 0.0619 - accuracy: 0.9810 - val_loss: 1.2108 - val_accuracy: 0.6056\n",
            "Epoch 17/30\n",
            "14/14 [==============================] - 1s 75ms/step - loss: 0.0629 - accuracy: 0.9833 - val_loss: 1.2150 - val_accuracy: 0.6111\n",
            "Epoch 18/30\n",
            "14/14 [==============================] - 1s 76ms/step - loss: 0.0286 - accuracy: 0.9976 - val_loss: 1.1738 - val_accuracy: 0.6278\n",
            "Epoch 19/30\n",
            "14/14 [==============================] - 1s 75ms/step - loss: 0.0118 - accuracy: 1.0000 - val_loss: 1.1328 - val_accuracy: 0.6222\n",
            "Epoch 20/30\n",
            "14/14 [==============================] - 1s 77ms/step - loss: 0.0067 - accuracy: 1.0000 - val_loss: 1.0680 - val_accuracy: 0.6500\n",
            "Epoch 21/30\n",
            "14/14 [==============================] - 1s 76ms/step - loss: 0.0080 - accuracy: 0.9976 - val_loss: 1.0389 - val_accuracy: 0.6611\n",
            "Epoch 22/30\n",
            "14/14 [==============================] - 1s 76ms/step - loss: 0.0058 - accuracy: 0.9976 - val_loss: 1.1387 - val_accuracy: 0.6111\n",
            "Epoch 23/30\n",
            "14/14 [==============================] - 1s 77ms/step - loss: 0.0037 - accuracy: 1.0000 - val_loss: 1.2105 - val_accuracy: 0.5944\n",
            "Epoch 24/30\n",
            "14/14 [==============================] - 1s 94ms/step - loss: 0.0289 - accuracy: 0.9952 - val_loss: 1.1925 - val_accuracy: 0.6333\n",
            "Epoch 25/30\n",
            "14/14 [==============================] - 1s 97ms/step - loss: 0.0573 - accuracy: 0.9786 - val_loss: 1.3940 - val_accuracy: 0.5222\n",
            "Epoch 26/30\n",
            "14/14 [==============================] - 1s 76ms/step - loss: 0.0622 - accuracy: 0.9762 - val_loss: 1.5081 - val_accuracy: 0.5278\n",
            "Epoch 27/30\n",
            "14/14 [==============================] - 1s 77ms/step - loss: 0.0458 - accuracy: 0.9833 - val_loss: 1.3878 - val_accuracy: 0.6222\n",
            "Epoch 28/30\n",
            "14/14 [==============================] - 1s 77ms/step - loss: 0.0362 - accuracy: 0.9905 - val_loss: 1.4266 - val_accuracy: 0.6500\n",
            "Epoch 29/30\n",
            "14/14 [==============================] - 1s 75ms/step - loss: 0.0234 - accuracy: 0.9929 - val_loss: 1.4064 - val_accuracy: 0.6444\n",
            "Epoch 30/30\n",
            "14/14 [==============================] - 1s 76ms/step - loss: 0.0287 - accuracy: 0.9929 - val_loss: 1.4729 - val_accuracy: 0.5889\n"
          ]
        }
      ]
    },
    {
      "cell_type": "code",
      "source": [
        "import matplotlib.pyplot as plt\n",
        "\n",
        "# Plot training & validation accuracy values\n",
        "plt.figure(figsize=(10, 5))\n",
        "plt.subplot(1, 2, 1)\n",
        "plt.plot(history.history['accuracy'])\n",
        "plt.plot(history.history['val_accuracy'])  # Now this line is active\n",
        "plt.title('Model Accuracy')\n",
        "plt.ylabel('Accuracy')\n",
        "plt.xlabel('Epoch')\n",
        "plt.legend(['Train', 'Validation'], loc='upper left')\n",
        "\n",
        "# Plot training & validation loss values\n",
        "plt.subplot(1, 2, 2)\n",
        "plt.plot(history.history['loss'])\n",
        "plt.plot(history.history['val_loss'])  # And this line is active\n",
        "plt.title('Model Loss')\n",
        "plt.ylabel('Loss')\n",
        "plt.xlabel('Epoch')\n",
        "plt.legend(['Train', 'Validation'], loc='upper left')\n",
        "plt.tight_layout()\n",
        "plt.show()\n"
      ],
      "metadata": {
        "colab": {
          "base_uri": "https://localhost:8080/",
          "height": 354
        },
        "id": "L3w0OWxJrYUe",
        "outputId": "881fcc6a-49d3-4290-c8ea-5cf17ddea1be"
      },
      "execution_count": 17,
      "outputs": [
        {
          "output_type": "display_data",
          "data": {
            "text/plain": [
              "<Figure size 1000x500 with 2 Axes>"
            ],
            "image/png": "[encoded data removed]"
          },
          "metadata": {}
        }
      ]
    },
    {
      "cell_type": "code",
      "source": [
        "from sklearn.utils import shuffle\n",
        "from sklearn.model_selection import train_test_split\n",
        "from sklearn.metrics import classification_report\n",
        "from sklearn.preprocessing import LabelEncoder\n",
        "import numpy as np\n",
        "\n",
        "# Your pre-built and compiled model, assumed to be trained already.\n",
        "predictions = model.predict(test_x)\n",
        "predicted_classes = np.argmax(predictions, axis=1)\n",
        "\n",
        "# If you one-hot encoded the test labels for training,\n",
        "# you need to reverse the one-hot encoding to get the original class indices.\n",
        "actual_classes = np.argmax(test_y_onehot, axis=1)\n",
        "\n",
        "# Inverse transform the predicted and actual class indices to their original names.\n",
        "predicted_class_names = label_encoder.inverse_transform(predicted_classes)\n",
        "actual_class_names = label_encoder.inverse_transform(actual_classes)\n",
        "\n",
        "# Generate the classification report.\n",
        "report = classification_report(actual_class_names, predicted_class_names, target_names=label_encoder.classes_)\n",
        "\n",
        "print(report)\n"
      ],
      "metadata": {
        "id": "lUpuSm2deuuM",
        "colab": {
          "base_uri": "https://localhost:8080/"
        },
        "outputId": "c88d6b2a-d248-4894-f614-097249192b96"
      },
      "execution_count": 18,
      "outputs": [
        {
          "output_type": "stream",
          "name": "stdout",
          "text": [
            "6/6 [==============================] - 0s 22ms/step\n",
            "                   precision    recall  f1-score   support\n",
            "\n",
            "     Ariel_Sharon       0.55      0.79      0.65        14\n",
            "     Colin_Powell       0.86      0.38      0.52        16\n",
            "  Donald_Rumsfeld       0.41      0.54      0.47        13\n",
            "    George_W_Bush       1.00      0.27      0.42        15\n",
            "Gerhard_Schroeder       0.47      0.50      0.49        18\n",
            "      Hugo_Chavez       0.37      0.77      0.50        13\n",
            "   Jacques_Chirac       0.38      0.73      0.50        11\n",
            "    Jean_Chretien       0.79      0.58      0.67        19\n",
            "    John_Ashcroft       0.70      0.78      0.74        18\n",
            "Junichiro_Koizumi       1.00      0.57      0.73        14\n",
            "  Serena_Williams       1.00      0.93      0.96        14\n",
            "       Tony_Blair       0.50      0.33      0.40        15\n",
            "\n",
            "         accuracy                           0.59       180\n",
            "        macro avg       0.67      0.60      0.59       180\n",
            "     weighted avg       0.68      0.59      0.59       180\n",
            "\n"
          ]
        }
      ]
    }
  ]
}