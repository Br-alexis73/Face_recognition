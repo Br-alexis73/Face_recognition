{
  "metadata": {
    "kernelspec": {
      "display_name": "Python 3",
      "name": "python3"
    },
    "language_info": {
      "name": "python",
      "version": "3.7.10",
      "mimetype": "text/x-python",
      "codemirror_mode": {
        "name": "ipython",
        "version": 3
      },
      "pygments_lexer": "ipython3",
      "nbconvert_exporter": "python",
      "file_extension": ".py"
    },
    "kaggle": {
      "accelerator": "none",
      "dataSources": [
        {
          "sourceId": 2465716,
          "sourceType": "datasetVersion",
          "datasetId": 1492577
        }
      ],
      "dockerImageVersionId": 30120,
      "isInternetEnabled": false,
      "language": "python",
      "sourceType": "notebook",
      "isGpuEnabled": false
    },
    "colab": {
      "name": "fr_orl_experiment_CNN",
      "provenance": [],
      "gpuType": "T4",
      "include_colab_link": true
    },
    "accelerator": "GPU"
  },
  "nbformat_minor": 0,
  "nbformat": 4,
  "cells": [
    {
      "cell_type": "markdown",
      "metadata": {
        "id": "view-in-github",
        "colab_type": "text"
      },
      "source": [
        "<a href=\"https://colab.research.google.com/github/Br-alexis73/Face_recognition/blob/master/fr_orl_experiment_alexnet.ipynb\" target=\"_parent\"><img src=\"https://colab.research.google.com/assets/colab-badge.svg\" alt=\"Open In Colab\"/></a>"
      ]
    },
    {
      "source": [
        "\n",
        "# IMPORTANT: RUN THIS CELL IN ORDER TO IMPORT YOUR KAGGLE DATA SOURCES\n",
        "# TO THE CORRECT LOCATION (/kaggle/input) IN YOUR NOTEBOOK,\n",
        "# THEN FEEL FREE TO DELETE THIS CELL.\n",
        "# NOTE: THIS NOTEBOOK ENVIRONMENT DIFFERS FROM KAGGLE'S PYTHON\n",
        "# ENVIRONMENT SO THERE MAY BE MISSING LIBRARIES USED BY YOUR\n",
        "# NOTEBOOK.\n",
        "\n",
        "import os\n",
        "import sys\n",
        "from tempfile import NamedTemporaryFile\n",
        "from urllib.request import urlopen\n",
        "from urllib.parse import unquote, urlparse\n",
        "from urllib.error import HTTPError\n",
        "from zipfile import ZipFile\n",
        "import tarfile\n",
        "import shutil\n",
        "\n",
        "CHUNK_SIZE = 40960\n",
        "DATA_SOURCE_MAPPING = 'orl-faces:https%3A%2F%2Fstorage.googleapis.com%2Fkaggle-data-sets%2F1492577%2F2465716%2Fbundle%2Farchive.zip%3FX-Goog-Algorithm%3DGOOG4-RSA-SHA256%26X-Goog-Credential%3Dgcp-kaggle-com%2540kaggle-161607.iam.gserviceaccount.com%252F20240421%252Fauto%252Fstorage%252Fgoog4_request%26X-Goog-Date%3D20240421T103134Z%26X-Goog-Expires%3D259200%26X-Goog-SignedHeaders%3Dhost%26X-Goog-Signature%3D04cdad0072b37fa134a73af86b30905b4377d231439fae6eb42d3e9b80980b3e27c0c8e4a07dec26c2d8a4eb69f5af47fdfafcc84e5054de8b864b6f86d0a093f0f27d632485ce8dd0327810c02097241db0e18e3f99aabb43b238a4485022e510e56aeb23a2e939e804a0771797ad508db773577d3ea105f7e291cdf11a65d8be2f1068aa96e05e73ea6dfb663ec0149102346f7c6daa1e4ca35821bd269af2a42b56a79be94f060fc0a1e889cdb9ddb8570d10d2ae750607a03355ff694d746e385b9b5cc727920a69b368c43077d99c293bb4482a1de7af966e71c9966cd8c6e61a22b11ebd2b9ef15625181abe11662464fc4051b8bbce1d7c428f6c42c7'\n",
        "\n",
        "KAGGLE_INPUT_PATH='/kaggle/input'\n",
        "KAGGLE_WORKING_PATH='/kaggle/working'\n",
        "KAGGLE_SYMLINK='kaggle'\n",
        "\n",
        "!umount /kaggle/input/ 2> /dev/null\n",
        "shutil.rmtree('/kaggle/input', ignore_errors=True)\n",
        "os.makedirs(KAGGLE_INPUT_PATH, 0o777, exist_ok=True)\n",
        "os.makedirs(KAGGLE_WORKING_PATH, 0o777, exist_ok=True)\n",
        "\n",
        "try:\n",
        "  os.symlink(KAGGLE_INPUT_PATH, os.path.join(\"..\", 'input'), target_is_directory=True)\n",
        "except FileExistsError:\n",
        "  pass\n",
        "try:\n",
        "  os.symlink(KAGGLE_WORKING_PATH, os.path.join(\"..\", 'working'), target_is_directory=True)\n",
        "except FileExistsError:\n",
        "  pass\n",
        "\n",
        "for data_source_mapping in DATA_SOURCE_MAPPING.split(','):\n",
        "    directory, download_url_encoded = data_source_mapping.split(':')\n",
        "    download_url = unquote(download_url_encoded)\n",
        "    filename = urlparse(download_url).path\n",
        "    destination_path = os.path.join(KAGGLE_INPUT_PATH, directory)\n",
        "    try:\n",
        "        with urlopen(download_url) as fileres, NamedTemporaryFile() as tfile:\n",
        "            total_length = fileres.headers['content-length']\n",
        "            print(f'Downloading {directory}, {total_length} bytes compressed')\n",
        "            dl = 0\n",
        "            data = fileres.read(CHUNK_SIZE)\n",
        "            while len(data) > 0:\n",
        "                dl += len(data)\n",
        "                tfile.write(data)\n",
        "                done = int(50 * dl / int(total_length))\n",
        "                sys.stdout.write(f\"\\r[{'=' * done}{' ' * (50-done)}] {dl} bytes downloaded\")\n",
        "                sys.stdout.flush()\n",
        "                data = fileres.read(CHUNK_SIZE)\n",
        "            if filename.endswith('.zip'):\n",
        "              with ZipFile(tfile) as zfile:\n",
        "                zfile.extractall(destination_path)\n",
        "            else:\n",
        "              with tarfile.open(tfile.name) as tarfile:\n",
        "                tarfile.extractall(destination_path)\n",
        "            print(f'\\nDownloaded and uncompressed: {directory}')\n",
        "    except HTTPError as e:\n",
        "        print(f'Failed to load (likely expired) {download_url} to path {destination_path}')\n",
        "        continue\n",
        "    except OSError as e:\n",
        "        print(f'Failed to load {download_url} to path {destination_path}')\n",
        "        continue\n",
        "\n",
        "print('Data source import complete.')\n"
      ],
      "metadata": {
        "id": "c9Fn-0rCNhu3",
        "outputId": "18aba9cc-c7ef-467e-89b2-006694bea865",
        "colab": {
          "base_uri": "https://localhost:8080/"
        }
      },
      "cell_type": "code",
      "outputs": [
        {
          "output_type": "stream",
          "name": "stdout",
          "text": [
            "Downloading orl-faces, 5666980 bytes compressed\n",
            "[==================================================] 5666980 bytes downloaded\n",
            "Downloaded and uncompressed: orl-faces\n",
            "Data source import complete.\n"
          ]
        }
      ],
      "execution_count": 1
    },
    {
      "cell_type": "code",
      "source": [
        "import keras\n",
        "from keras.models import Sequential\n",
        "from keras.layers import Conv2D, MaxPooling2D, Dense, Flatten, Dropout\n",
        "from keras.optimizers import Adam\n",
        "from keras.callbacks import TensorBoard\n",
        "\n",
        "import numpy as np\n",
        "import pandas as pd\n",
        "import matplotlib.pyplot as plt\n",
        "from sklearn.model_selection import train_test_split\n",
        "\n",
        "from sklearn.metrics import confusion_matrix\n",
        "from sklearn.metrics import classification_report\n",
        "from sklearn.metrics import roc_curve, auc\n",
        "from sklearn.metrics import accuracy_score\n",
        "from tensorflow.keras.utils import to_categorical\n",
        "import itertools"
      ],
      "metadata": {
        "_uuid": "104c9a6b-a3bd-4f32-8097-31f2177cb0a6",
        "_cell_guid": "08e0e784-f00d-49a0-b7df-8df3bcccfc49",
        "jupyter": {
          "outputs_hidden": false
        },
        "execution": {
          "iopub.status.busy": "2024-04-21T10:27:26.126945Z",
          "iopub.execute_input": "2024-04-21T10:27:26.127465Z",
          "iopub.status.idle": "2024-04-21T10:27:33.43085Z",
          "shell.execute_reply.started": "2024-04-21T10:27:26.127346Z",
          "shell.execute_reply": "2024-04-21T10:27:33.429704Z"
        },
        "trusted": true,
        "id": "SLgfyKNbNhu7"
      },
      "execution_count": 2,
      "outputs": []
    },
    {
      "cell_type": "markdown",
      "source": [
        "# Step 2\n",
        "Load Dataset :\n",
        "After loading the Dataset you have to normalize every image.\n",
        "\n",
        "**Note:** an image is a Uint8 matrix of pixels and for calculation, you need to convert the format of the image to float or double"
      ],
      "metadata": {
        "_uuid": "7ea3f6c8-7acd-45c8-ac4a-15d111c5a668",
        "_cell_guid": "b66306f7-d36a-4350-93d9-4e7744c98a53",
        "trusted": true,
        "id": "GRTEMHpBNhu7"
      }
    },
    {
      "cell_type": "code",
      "source": [
        "#load dataset\n",
        "data = np.load('../input/orl-faces/ORL_faces.npz')\n",
        "\n",
        "# load the \"Train Images\"\n",
        "x_train = data['trainX']\n",
        "#normalize every image\n",
        "x_train = np.array(x_train,dtype='float32')/255\n",
        "\n",
        "x_test = data['testX']\n",
        "x_test = np.array(x_test,dtype='float32')/255\n",
        "\n",
        "# load the Label of Images\n",
        "y_train= data['trainY']\n",
        "y_test= data['testY']\n",
        "\n",
        "# show the train and test Data format\n",
        "print('x_train : {}'.format(x_train[:]))\n",
        "print('Y-train shape: {}'.format(y_train))\n",
        "print('x_test shape: {}'.format(x_test.shape))"
      ],
      "metadata": {
        "_uuid": "ca522af1-e196-4f6e-80d4-b93bb5f0dc5b",
        "_cell_guid": "7c74b6fe-4ea4-45e3-97e4-8c0caa313dc8",
        "jupyter": {
          "outputs_hidden": false
        },
        "execution": {
          "iopub.status.busy": "2024-04-21T10:27:43.432444Z",
          "iopub.execute_input": "2024-04-21T10:27:43.432833Z",
          "iopub.status.idle": "2024-04-21T10:27:43.829088Z",
          "shell.execute_reply.started": "2024-04-21T10:27:43.432799Z",
          "shell.execute_reply": "2024-04-21T10:27:43.82774Z"
        },
        "trusted": true,
        "id": "4RjytFitNhu9",
        "outputId": "11a5d80a-e9f7-4a23-b1ce-28004cc7f6d7",
        "colab": {
          "base_uri": "https://localhost:8080/"
        }
      },
      "execution_count": 3,
      "outputs": [
        {
          "output_type": "stream",
          "name": "stdout",
          "text": [
            "x_train : [[0.1882353  0.19215687 0.1764706  ... 0.18431373 0.18039216 0.18039216]\n",
            " [0.23529412 0.23529412 0.24313726 ... 0.1254902  0.13333334 0.13333334]\n",
            " [0.15294118 0.17254902 0.20784314 ... 0.11372549 0.10196079 0.11372549]\n",
            " ...\n",
            " [0.44705883 0.45882353 0.44705883 ... 0.38431373 0.3764706  0.38431373]\n",
            " [0.4117647  0.4117647  0.41960785 ... 0.21176471 0.18431373 0.16078432]\n",
            " [0.45490196 0.44705883 0.45882353 ... 0.37254903 0.39215687 0.39607844]]\n",
            "Y-train shape: [ 0  0  0  0  0  0  0  0  0  0  0  0  1  1  1  1  1  1  1  1  1  1  1  1\n",
            "  2  2  2  2  2  2  2  2  2  2  2  2  3  3  3  3  3  3  3  3  3  3  3  3\n",
            "  4  4  4  4  4  4  4  4  4  4  4  4  5  5  5  5  5  5  5  5  5  5  5  5\n",
            "  6  6  6  6  6  6  6  6  6  6  6  6  7  7  7  7  7  7  7  7  7  7  7  7\n",
            "  8  8  8  8  8  8  8  8  8  8  8  8  9  9  9  9  9  9  9  9  9  9  9  9\n",
            " 10 10 10 10 10 10 10 10 10 10 10 10 11 11 11 11 11 11 11 11 11 11 11 11\n",
            " 12 12 12 12 12 12 12 12 12 12 12 12 13 13 13 13 13 13 13 13 13 13 13 13\n",
            " 14 14 14 14 14 14 14 14 14 14 14 14 15 15 15 15 15 15 15 15 15 15 15 15\n",
            " 16 16 16 16 16 16 16 16 16 16 16 16 17 17 17 17 17 17 17 17 17 17 17 17\n",
            " 18 18 18 18 18 18 18 18 18 18 18 18 19 19 19 19 19 19 19 19 19 19 19 19]\n",
            "x_test shape: (160, 10304)\n"
          ]
        }
      ]
    },
    {
      "cell_type": "markdown",
      "source": [
        "# Step 3\n",
        "Split DataSet : Validation data and Train\n",
        "\n",
        "Validation DataSet: this data set is used to minimize overfitting.If the accuracy over the training data set increases, but the accuracy over then validation data set stays the same or decreases, then you're overfitting your neural network and you should stop training.\n",
        "\n",
        "**Note:** we usually use 30 percent of every dataset as the validation data but Here we only used 5 percent because the number of images in this dataset is very low."
      ],
      "metadata": {
        "_uuid": "513ae144-0cfa-42b4-8f48-18de0496dd7a",
        "_cell_guid": "96743b41-911d-4598-8529-566171aa493e",
        "trusted": true,
        "id": "vmVw-36SNhu_"
      }
    },
    {
      "cell_type": "code",
      "source": [
        "x_train, x_valid, y_train, y_valid= train_test_split(\n",
        "    x_train, y_train, test_size=.05, random_state=1234,)"
      ],
      "metadata": {
        "_uuid": "ae0b7183-f909-423d-9fde-de6dd06b95fe",
        "_cell_guid": "f3ace218-246a-40b8-aaae-ab9242123294",
        "jupyter": {
          "outputs_hidden": false
        },
        "execution": {
          "iopub.status.busy": "2024-04-21T10:27:49.360037Z",
          "iopub.execute_input": "2024-04-21T10:27:49.360443Z",
          "iopub.status.idle": "2024-04-21T10:27:49.369218Z",
          "shell.execute_reply.started": "2024-04-21T10:27:49.360398Z",
          "shell.execute_reply": "2024-04-21T10:27:49.36813Z"
        },
        "trusted": true,
        "id": "7yVjVtlANhvA"
      },
      "execution_count": 4,
      "outputs": []
    },
    {
      "cell_type": "markdown",
      "source": [
        "# **Step 4**\n",
        "\n",
        "for using the CNN, we need to change The size of images ( The size of images must be the same)"
      ],
      "metadata": {
        "_uuid": "d748c7fb-7df2-4bdf-9a1c-0f3922b64dc4",
        "_cell_guid": "ce2f1c33-efae-4f5e-8654-d9457cd461fb",
        "trusted": true,
        "id": "7paTA_JBNhvA"
      }
    },
    {
      "cell_type": "code",
      "source": [
        "im_rows=112\n",
        "im_cols=92\n",
        "batch_size=512\n",
        "im_shape=(im_rows, im_cols, 1)\n",
        "\n",
        "#change the size of images\n",
        "x_train = x_train.reshape(x_train.shape[0], *im_shape)\n",
        "x_test = x_test.reshape(x_test.shape[0], *im_shape)\n",
        "x_valid = x_valid.reshape(x_valid.shape[0], *im_shape)\n",
        "\n",
        "print('x_train shape: {}'.format(y_train.shape[0]))\n",
        "print('x_test shape: {}'.format(y_test.shape))"
      ],
      "metadata": {
        "_uuid": "97984650-c7b2-424d-b15a-5dd4bf37fd7a",
        "_cell_guid": "129f89f8-ac2a-4747-8a04-ec10121a93aa",
        "jupyter": {
          "outputs_hidden": false
        },
        "execution": {
          "iopub.status.busy": "2024-04-21T10:27:53.30247Z",
          "iopub.execute_input": "2024-04-21T10:27:53.3029Z",
          "iopub.status.idle": "2024-04-21T10:27:53.310514Z",
          "shell.execute_reply.started": "2024-04-21T10:27:53.302852Z",
          "shell.execute_reply": "2024-04-21T10:27:53.309362Z"
        },
        "trusted": true,
        "id": "KlUC_MAsNhvB",
        "outputId": "d27afef7-bb07-436d-dcd5-cbbe23e1d881",
        "colab": {
          "base_uri": "https://localhost:8080/"
        }
      },
      "execution_count": 5,
      "outputs": [
        {
          "output_type": "stream",
          "name": "stdout",
          "text": [
            "x_train shape: 228\n",
            "x_test shape: (160,)\n"
          ]
        }
      ]
    },
    {
      "cell_type": "markdown",
      "source": [
        "# **Step 5**\n",
        "\n",
        "Build CNN model: CNN have 3 main layer:\n",
        "\n",
        "1-Convolotional layer\n",
        "2- pooling layer\n",
        "3- fully connected layer\n",
        "\n",
        "we could build a new architecture of CNN by changing the number and position of layers."
      ],
      "metadata": {
        "_uuid": "8156121a-fc0d-4f1b-b4cd-e478eb99f753",
        "_cell_guid": "5eda4aba-afcd-4ce6-8173-674f2230e412",
        "trusted": true,
        "id": "fFEwYBx1NhvB"
      }
    },
    {
      "cell_type": "code",
      "source": [
        "import tensorflow as tf\n",
        "from tensorflow.keras.models import Sequential\n",
        "from tensorflow.keras.layers import Conv2D, MaxPooling2D, Flatten, Dense, Dropout, BatchNormalization, ZeroPadding2D\n",
        "\n",
        "\n",
        "alexnet = Sequential()\n",
        "\n",
        "# Layer 1\n",
        "alexnet.add(Conv2D(filters=96, kernel_size=(11, 11), strides=(4, 4), activation='relu', input_shape=(im_shape)))\n",
        "alexnet.add(BatchNormalization())\n",
        "alexnet.add(MaxPooling2D(pool_size=(3, 3), strides=(2, 2)))\n",
        "\n",
        "# Layer 2\n",
        "alexnet.add(Conv2D(filters=256, kernel_size=(5, 5), strides=(1, 1), activation='relu', padding=\"same\"))\n",
        "alexnet.add(BatchNormalization())\n",
        "alexnet.add(MaxPooling2D(pool_size=(3, 3), strides=(2, 2)))\n",
        "\n",
        "# Layer 3\n",
        "alexnet.add(Conv2D(filters=384, kernel_size=(3, 3), strides=(1, 1), activation='relu', padding=\"same\"))\n",
        "alexnet.add(BatchNormalization())\n",
        "\n",
        "# Layer 4\n",
        "alexnet.add(Conv2D(filters=384, kernel_size=(3, 3), strides=(1, 1), activation='relu', padding=\"same\"))\n",
        "alexnet.add(BatchNormalization())\n",
        "\n",
        "# Layer 5\n",
        "alexnet.add(Conv2D(filters=256, kernel_size=(3, 3), strides=(1, 1), activation='relu', padding=\"same\"))\n",
        "alexnet.add(BatchNormalization())\n",
        "alexnet.add(MaxPooling2D(pool_size=(3, 3), strides=(2, 2)))\n",
        "\n",
        "# Layer 6\n",
        "alexnet.add(Flatten())\n",
        "alexnet.add(Dense(4096, activation='relu'))\n",
        "alexnet.add(Dropout(0.5))\n",
        "\n",
        "# Layer 7\n",
        "alexnet.add(Dense(4096, activation='relu'))\n",
        "alexnet.add(Dropout(0.5))\n",
        "\n",
        "# Layer 8 - Output layer for binary classification\n",
        "alexnet.add(Dense(20, activation='softmax'))\n",
        "\n",
        "# Compile the model\n",
        "alexnet.compile(optimizer='adam', loss='sparse_categorical_crossentropy', metrics=['accuracy'])\n",
        "\n",
        "# Summary of the model\n",
        "alexnet.summary()"
      ],
      "metadata": {
        "_uuid": "c4fc841a-3311-4c32-bf73-00489ef63d97",
        "_cell_guid": "576b801b-ca21-4a78-a3ad-d60652a9d5d8",
        "jupyter": {
          "outputs_hidden": false
        },
        "execution": {
          "iopub.status.busy": "2024-04-21T10:30:01.480917Z",
          "iopub.execute_input": "2024-04-21T10:30:01.481322Z",
          "iopub.status.idle": "2024-04-21T10:30:01.5286Z",
          "shell.execute_reply.started": "2024-04-21T10:30:01.481286Z",
          "shell.execute_reply": "2024-04-21T10:30:01.526956Z"
        },
        "trusted": true,
        "id": "yaK95W3RNhvD",
        "colab": {
          "base_uri": "https://localhost:8080/"
        },
        "outputId": "f9b03164-d3bd-48de-c87a-f16e6d0e7d22"
      },
      "execution_count": 30,
      "outputs": [
        {
          "output_type": "stream",
          "name": "stdout",
          "text": [
            "Model: \"sequential_4\"\n",
            "_________________________________________________________________\n",
            " Layer (type)                Output Shape              Param #   \n",
            "=================================================================\n",
            " conv2d_9 (Conv2D)           (None, 26, 21, 96)        11712     \n",
            "                                                                 \n",
            " batch_normalization_5 (Bat  (None, 26, 21, 96)        384       \n",
            " chNormalization)                                                \n",
            "                                                                 \n",
            " max_pooling2d_7 (MaxPoolin  (None, 12, 10, 96)        0         \n",
            " g2D)                                                            \n",
            "                                                                 \n",
            " conv2d_10 (Conv2D)          (None, 12, 10, 256)       614656    \n",
            "                                                                 \n",
            " batch_normalization_6 (Bat  (None, 12, 10, 256)       1024      \n",
            " chNormalization)                                                \n",
            "                                                                 \n",
            " max_pooling2d_8 (MaxPoolin  (None, 5, 4, 256)         0         \n",
            " g2D)                                                            \n",
            "                                                                 \n",
            " conv2d_11 (Conv2D)          (None, 5, 4, 384)         885120    \n",
            "                                                                 \n",
            " batch_normalization_7 (Bat  (None, 5, 4, 384)         1536      \n",
            " chNormalization)                                                \n",
            "                                                                 \n",
            " conv2d_12 (Conv2D)          (None, 5, 4, 384)         1327488   \n",
            "                                                                 \n",
            " batch_normalization_8 (Bat  (None, 5, 4, 384)         1536      \n",
            " chNormalization)                                                \n",
            "                                                                 \n",
            " conv2d_13 (Conv2D)          (None, 5, 4, 256)         884992    \n",
            "                                                                 \n",
            " batch_normalization_9 (Bat  (None, 5, 4, 256)         1024      \n",
            " chNormalization)                                                \n",
            "                                                                 \n",
            " max_pooling2d_9 (MaxPoolin  (None, 2, 1, 256)         0         \n",
            " g2D)                                                            \n",
            "                                                                 \n",
            " flatten_3 (Flatten)         (None, 512)               0         \n",
            "                                                                 \n",
            " dense_11 (Dense)            (None, 4096)              2101248   \n",
            "                                                                 \n",
            " dropout_8 (Dropout)         (None, 4096)              0         \n",
            "                                                                 \n",
            " dense_12 (Dense)            (None, 4096)              16781312  \n",
            "                                                                 \n",
            " dropout_9 (Dropout)         (None, 4096)              0         \n",
            "                                                                 \n",
            " dense_13 (Dense)            (None, 20)                81940     \n",
            "                                                                 \n",
            "=================================================================\n",
            "Total params: 22693972 (86.57 MB)\n",
            "Trainable params: 22691220 (86.56 MB)\n",
            "Non-trainable params: 2752 (10.75 KB)\n",
            "_________________________________________________________________\n"
          ]
        }
      ]
    },
    {
      "cell_type": "markdown",
      "source": [
        "\n",
        "Show the model's parameters."
      ],
      "metadata": {
        "_uuid": "0aa1d7f5-387e-4568-a1fa-8b401869254a",
        "_cell_guid": "a585858c-6da2-4d17-a4c1-c2df1cfd57b7",
        "trusted": true,
        "id": "ueFaX9BBNhvF"
      }
    },
    {
      "cell_type": "markdown",
      "source": [
        "Step 6\n",
        "Train the Model\n",
        "\n",
        "Note: You can change the number of epochs"
      ],
      "metadata": {
        "_uuid": "7d67fe7b-ae0c-400e-9a5b-5b89a4bb53c9",
        "_cell_guid": "0178b55f-be17-454d-ac1a-21dd146ead5b",
        "_kg_hide-input": true,
        "trusted": true,
        "id": "RVJ80OnzNhvF"
      }
    },
    {
      "cell_type": "code",
      "source": [
        "history=alexnet.fit(\n",
        "    np.array(x_train), np.array(y_train), batch_size=512,\n",
        "    epochs=100, verbose=2,\n",
        "    validation_data=(np.array(x_valid),np.array(y_valid)),\n",
        ")"
      ],
      "metadata": {
        "_uuid": "9a0aa71f-d073-4aad-b279-7c6ffeb5c3bf",
        "_cell_guid": "5ea83ac6-e280-4719-899d-65095f08200d",
        "jupyter": {
          "outputs_hidden": false
        },
        "execution": {
          "iopub.status.busy": "2024-04-20T21:06:07.189724Z",
          "iopub.execute_input": "2024-04-20T21:06:07.190034Z",
          "iopub.status.idle": "2024-04-20T21:16:33.732718Z",
          "shell.execute_reply.started": "2024-04-20T21:06:07.190007Z",
          "shell.execute_reply": "2024-04-20T21:16:33.732051Z"
        },
        "trusted": true,
        "id": "hSRcboocNhvG",
        "outputId": "4c780817-a772-4948-85b6-a8b592da5cf6",
        "colab": {
          "base_uri": "https://localhost:8080/"
        }
      },
      "execution_count": 31,
      "outputs": [
        {
          "output_type": "stream",
          "name": "stdout",
          "text": [
            "Epoch 1/100\n",
            "1/1 - 4s - loss: 3.8315 - accuracy: 0.0395 - val_loss: 3.0335 - val_accuracy: 0.0833 - 4s/epoch - 4s/step\n",
            "Epoch 2/100\n",
            "1/1 - 0s - loss: 10.1721 - accuracy: 0.0614 - val_loss: 3.2024 - val_accuracy: 0.0000e+00 - 109ms/epoch - 109ms/step\n",
            "Epoch 3/100\n",
            "1/1 - 0s - loss: 7.3960 - accuracy: 0.1798 - val_loss: 3.4772 - val_accuracy: 0.0000e+00 - 108ms/epoch - 108ms/step\n",
            "Epoch 4/100\n",
            "1/1 - 0s - loss: 6.3563 - accuracy: 0.1974 - val_loss: 3.6002 - val_accuracy: 0.0833 - 119ms/epoch - 119ms/step\n",
            "Epoch 5/100\n",
            "1/1 - 0s - loss: 4.2939 - accuracy: 0.2851 - val_loss: 3.8669 - val_accuracy: 0.0833 - 98ms/epoch - 98ms/step\n",
            "Epoch 6/100\n",
            "1/1 - 0s - loss: 3.2541 - accuracy: 0.3333 - val_loss: 4.2848 - val_accuracy: 0.0000e+00 - 84ms/epoch - 84ms/step\n",
            "Epoch 7/100\n",
            "1/1 - 0s - loss: 2.6108 - accuracy: 0.3991 - val_loss: 4.8969 - val_accuracy: 0.0000e+00 - 82ms/epoch - 82ms/step\n",
            "Epoch 8/100\n",
            "1/1 - 0s - loss: 2.1655 - accuracy: 0.5175 - val_loss: 5.5278 - val_accuracy: 0.0000e+00 - 77ms/epoch - 77ms/step\n",
            "Epoch 9/100\n",
            "1/1 - 0s - loss: 1.7065 - accuracy: 0.5658 - val_loss: 6.4819 - val_accuracy: 0.0833 - 76ms/epoch - 76ms/step\n",
            "Epoch 10/100\n",
            "1/1 - 0s - loss: 1.6052 - accuracy: 0.6579 - val_loss: 7.8968 - val_accuracy: 0.0833 - 75ms/epoch - 75ms/step\n",
            "Epoch 11/100\n",
            "1/1 - 0s - loss: 1.2975 - accuracy: 0.6974 - val_loss: 8.6656 - val_accuracy: 0.0833 - 97ms/epoch - 97ms/step\n",
            "Epoch 12/100\n",
            "1/1 - 0s - loss: 0.9502 - accuracy: 0.7149 - val_loss: 8.7412 - val_accuracy: 0.0833 - 74ms/epoch - 74ms/step\n",
            "Epoch 13/100\n",
            "1/1 - 0s - loss: 0.7610 - accuracy: 0.7325 - val_loss: 8.9562 - val_accuracy: 0.0000e+00 - 76ms/epoch - 76ms/step\n",
            "Epoch 14/100\n",
            "1/1 - 0s - loss: 0.5634 - accuracy: 0.8026 - val_loss: 8.9164 - val_accuracy: 0.0000e+00 - 88ms/epoch - 88ms/step\n",
            "Epoch 15/100\n",
            "1/1 - 0s - loss: 0.4272 - accuracy: 0.8904 - val_loss: 9.0887 - val_accuracy: 0.0000e+00 - 77ms/epoch - 77ms/step\n",
            "Epoch 16/100\n",
            "1/1 - 0s - loss: 0.3474 - accuracy: 0.8991 - val_loss: 9.8888 - val_accuracy: 0.0000e+00 - 73ms/epoch - 73ms/step\n",
            "Epoch 17/100\n",
            "1/1 - 0s - loss: 0.2100 - accuracy: 0.9342 - val_loss: 11.0052 - val_accuracy: 0.0000e+00 - 89ms/epoch - 89ms/step\n",
            "Epoch 18/100\n",
            "1/1 - 0s - loss: 0.1812 - accuracy: 0.9518 - val_loss: 11.5133 - val_accuracy: 0.0000e+00 - 74ms/epoch - 74ms/step\n",
            "Epoch 19/100\n",
            "1/1 - 0s - loss: 0.1754 - accuracy: 0.9298 - val_loss: 11.6106 - val_accuracy: 0.0000e+00 - 75ms/epoch - 75ms/step\n",
            "Epoch 20/100\n",
            "1/1 - 0s - loss: 0.1028 - accuracy: 0.9605 - val_loss: 12.3529 - val_accuracy: 0.0000e+00 - 74ms/epoch - 74ms/step\n",
            "Epoch 21/100\n",
            "1/1 - 0s - loss: 0.0691 - accuracy: 0.9737 - val_loss: 13.5776 - val_accuracy: 0.0000e+00 - 75ms/epoch - 75ms/step\n",
            "Epoch 22/100\n",
            "1/1 - 0s - loss: 0.0388 - accuracy: 0.9868 - val_loss: 14.8343 - val_accuracy: 0.0000e+00 - 73ms/epoch - 73ms/step\n",
            "Epoch 23/100\n",
            "1/1 - 0s - loss: 0.0340 - accuracy: 0.9868 - val_loss: 15.6124 - val_accuracy: 0.0000e+00 - 89ms/epoch - 89ms/step\n",
            "Epoch 24/100\n",
            "1/1 - 0s - loss: 0.0681 - accuracy: 0.9781 - val_loss: 15.7885 - val_accuracy: 0.0000e+00 - 87ms/epoch - 87ms/step\n",
            "Epoch 25/100\n",
            "1/1 - 0s - loss: 0.0456 - accuracy: 0.9912 - val_loss: 15.7106 - val_accuracy: 0.0000e+00 - 90ms/epoch - 90ms/step\n",
            "Epoch 26/100\n",
            "1/1 - 0s - loss: 0.0195 - accuracy: 0.9956 - val_loss: 15.2140 - val_accuracy: 0.0000e+00 - 75ms/epoch - 75ms/step\n",
            "Epoch 27/100\n",
            "1/1 - 0s - loss: 0.0399 - accuracy: 0.9868 - val_loss: 14.4406 - val_accuracy: 0.0000e+00 - 76ms/epoch - 76ms/step\n",
            "Epoch 28/100\n",
            "1/1 - 0s - loss: 0.0184 - accuracy: 0.9956 - val_loss: 13.4158 - val_accuracy: 0.0000e+00 - 74ms/epoch - 74ms/step\n",
            "Epoch 29/100\n",
            "1/1 - 0s - loss: 0.0076 - accuracy: 1.0000 - val_loss: 12.2144 - val_accuracy: 0.0000e+00 - 75ms/epoch - 75ms/step\n",
            "Epoch 30/100\n",
            "1/1 - 0s - loss: 0.0091 - accuracy: 0.9956 - val_loss: 10.5588 - val_accuracy: 0.0000e+00 - 75ms/epoch - 75ms/step\n",
            "Epoch 31/100\n",
            "1/1 - 0s - loss: 0.0048 - accuracy: 1.0000 - val_loss: 9.0330 - val_accuracy: 0.0000e+00 - 93ms/epoch - 93ms/step\n",
            "Epoch 32/100\n",
            "1/1 - 0s - loss: 0.0087 - accuracy: 0.9956 - val_loss: 8.0376 - val_accuracy: 0.0000e+00 - 75ms/epoch - 75ms/step\n",
            "Epoch 33/100\n",
            "1/1 - 0s - loss: 0.0028 - accuracy: 1.0000 - val_loss: 7.0275 - val_accuracy: 0.0000e+00 - 76ms/epoch - 76ms/step\n",
            "Epoch 34/100\n",
            "1/1 - 0s - loss: 0.0108 - accuracy: 0.9956 - val_loss: 6.1861 - val_accuracy: 0.0833 - 76ms/epoch - 76ms/step\n",
            "Epoch 35/100\n",
            "1/1 - 0s - loss: 0.0019 - accuracy: 1.0000 - val_loss: 5.8743 - val_accuracy: 0.2500 - 74ms/epoch - 74ms/step\n",
            "Epoch 36/100\n",
            "1/1 - 0s - loss: 0.0035 - accuracy: 1.0000 - val_loss: 5.9248 - val_accuracy: 0.3333 - 78ms/epoch - 78ms/step\n",
            "Epoch 37/100\n",
            "1/1 - 0s - loss: 0.0071 - accuracy: 0.9956 - val_loss: 6.9800 - val_accuracy: 0.1667 - 91ms/epoch - 91ms/step\n",
            "Epoch 38/100\n",
            "1/1 - 0s - loss: 0.0042 - accuracy: 1.0000 - val_loss: 8.7225 - val_accuracy: 0.1667 - 90ms/epoch - 90ms/step\n",
            "Epoch 39/100\n",
            "1/1 - 0s - loss: 0.0015 - accuracy: 1.0000 - val_loss: 10.6553 - val_accuracy: 0.1667 - 75ms/epoch - 75ms/step\n",
            "Epoch 40/100\n",
            "1/1 - 0s - loss: 0.0025 - accuracy: 1.0000 - val_loss: 12.8799 - val_accuracy: 0.1667 - 89ms/epoch - 89ms/step\n",
            "Epoch 41/100\n",
            "1/1 - 0s - loss: 8.5691e-04 - accuracy: 1.0000 - val_loss: 14.6122 - val_accuracy: 0.1667 - 88ms/epoch - 88ms/step\n",
            "Epoch 42/100\n",
            "1/1 - 0s - loss: 0.0062 - accuracy: 0.9956 - val_loss: 15.7275 - val_accuracy: 0.1667 - 76ms/epoch - 76ms/step\n",
            "Epoch 43/100\n",
            "1/1 - 0s - loss: 0.0013 - accuracy: 1.0000 - val_loss: 16.2726 - val_accuracy: 0.1667 - 76ms/epoch - 76ms/step\n",
            "Epoch 44/100\n",
            "1/1 - 0s - loss: 0.0011 - accuracy: 1.0000 - val_loss: 16.2970 - val_accuracy: 0.1667 - 100ms/epoch - 100ms/step\n",
            "Epoch 45/100\n",
            "1/1 - 0s - loss: 0.0125 - accuracy: 0.9956 - val_loss: 15.2723 - val_accuracy: 0.1667 - 100ms/epoch - 100ms/step\n",
            "Epoch 46/100\n",
            "1/1 - 0s - loss: 1.9492e-04 - accuracy: 1.0000 - val_loss: 14.5771 - val_accuracy: 0.0833 - 99ms/epoch - 99ms/step\n",
            "Epoch 47/100\n",
            "1/1 - 0s - loss: 0.0048 - accuracy: 0.9956 - val_loss: 14.8372 - val_accuracy: 0.0000e+00 - 105ms/epoch - 105ms/step\n",
            "Epoch 48/100\n",
            "1/1 - 0s - loss: 7.4972e-04 - accuracy: 1.0000 - val_loss: 15.3901 - val_accuracy: 0.0000e+00 - 103ms/epoch - 103ms/step\n",
            "Epoch 49/100\n",
            "1/1 - 0s - loss: 0.0069 - accuracy: 0.9956 - val_loss: 16.3938 - val_accuracy: 0.0000e+00 - 98ms/epoch - 98ms/step\n",
            "Epoch 50/100\n",
            "1/1 - 0s - loss: 0.0221 - accuracy: 0.9956 - val_loss: 16.8549 - val_accuracy: 0.0000e+00 - 103ms/epoch - 103ms/step\n",
            "Epoch 51/100\n",
            "1/1 - 0s - loss: 0.0020 - accuracy: 1.0000 - val_loss: 17.2710 - val_accuracy: 0.0000e+00 - 101ms/epoch - 101ms/step\n",
            "Epoch 52/100\n",
            "1/1 - 0s - loss: 0.0014 - accuracy: 1.0000 - val_loss: 17.6799 - val_accuracy: 0.0000e+00 - 104ms/epoch - 104ms/step\n",
            "Epoch 53/100\n",
            "1/1 - 0s - loss: 0.0016 - accuracy: 1.0000 - val_loss: 18.0948 - val_accuracy: 0.0000e+00 - 94ms/epoch - 94ms/step\n",
            "Epoch 54/100\n",
            "1/1 - 0s - loss: 0.0014 - accuracy: 1.0000 - val_loss: 18.4590 - val_accuracy: 0.0000e+00 - 100ms/epoch - 100ms/step\n",
            "Epoch 55/100\n",
            "1/1 - 0s - loss: 0.0057 - accuracy: 0.9956 - val_loss: 18.6989 - val_accuracy: 0.0000e+00 - 101ms/epoch - 101ms/step\n",
            "Epoch 56/100\n",
            "1/1 - 0s - loss: 9.6300e-04 - accuracy: 1.0000 - val_loss: 18.8483 - val_accuracy: 0.0000e+00 - 100ms/epoch - 100ms/step\n",
            "Epoch 57/100\n",
            "1/1 - 0s - loss: 0.0014 - accuracy: 1.0000 - val_loss: 18.9345 - val_accuracy: 0.0000e+00 - 90ms/epoch - 90ms/step\n",
            "Epoch 58/100\n",
            "1/1 - 0s - loss: 0.0128 - accuracy: 0.9956 - val_loss: 19.1533 - val_accuracy: 0.0833 - 107ms/epoch - 107ms/step\n",
            "Epoch 59/100\n",
            "1/1 - 0s - loss: 0.0034 - accuracy: 1.0000 - val_loss: 19.4641 - val_accuracy: 0.0000e+00 - 103ms/epoch - 103ms/step\n",
            "Epoch 60/100\n",
            "1/1 - 0s - loss: 0.0075 - accuracy: 1.0000 - val_loss: 19.8361 - val_accuracy: 0.0000e+00 - 106ms/epoch - 106ms/step\n",
            "Epoch 61/100\n",
            "1/1 - 0s - loss: 6.9366e-04 - accuracy: 1.0000 - val_loss: 20.1796 - val_accuracy: 0.0000e+00 - 92ms/epoch - 92ms/step\n",
            "Epoch 62/100\n",
            "1/1 - 0s - loss: 4.1656e-04 - accuracy: 1.0000 - val_loss: 20.4883 - val_accuracy: 0.0000e+00 - 104ms/epoch - 104ms/step\n",
            "Epoch 63/100\n",
            "1/1 - 0s - loss: 0.0078 - accuracy: 0.9956 - val_loss: 20.7099 - val_accuracy: 0.0000e+00 - 79ms/epoch - 79ms/step\n",
            "Epoch 64/100\n",
            "1/1 - 0s - loss: 0.0061 - accuracy: 0.9956 - val_loss: 21.0263 - val_accuracy: 0.0833 - 78ms/epoch - 78ms/step\n",
            "Epoch 65/100\n",
            "1/1 - 0s - loss: 0.0072 - accuracy: 0.9956 - val_loss: 21.3744 - val_accuracy: 0.0833 - 74ms/epoch - 74ms/step\n",
            "Epoch 66/100\n",
            "1/1 - 0s - loss: 0.0042 - accuracy: 1.0000 - val_loss: 21.8021 - val_accuracy: 0.0833 - 74ms/epoch - 74ms/step\n",
            "Epoch 67/100\n",
            "1/1 - 0s - loss: 2.1527e-04 - accuracy: 1.0000 - val_loss: 22.3949 - val_accuracy: 0.0833 - 75ms/epoch - 75ms/step\n",
            "Epoch 68/100\n",
            "1/1 - 0s - loss: 7.4371e-04 - accuracy: 1.0000 - val_loss: 23.4063 - val_accuracy: 0.0833 - 93ms/epoch - 93ms/step\n",
            "Epoch 69/100\n",
            "1/1 - 0s - loss: 0.0048 - accuracy: 1.0000 - val_loss: 24.6315 - val_accuracy: 0.0833 - 78ms/epoch - 78ms/step\n",
            "Epoch 70/100\n",
            "1/1 - 0s - loss: 0.0023 - accuracy: 1.0000 - val_loss: 25.8701 - val_accuracy: 0.0833 - 91ms/epoch - 91ms/step\n",
            "Epoch 71/100\n",
            "1/1 - 0s - loss: 0.0077 - accuracy: 0.9956 - val_loss: 24.8259 - val_accuracy: 0.0833 - 75ms/epoch - 75ms/step\n",
            "Epoch 72/100\n",
            "1/1 - 0s - loss: 3.4007e-04 - accuracy: 1.0000 - val_loss: 23.9518 - val_accuracy: 0.0833 - 78ms/epoch - 78ms/step\n",
            "Epoch 73/100\n",
            "1/1 - 0s - loss: 0.0014 - accuracy: 1.0000 - val_loss: 23.3379 - val_accuracy: 0.0833 - 88ms/epoch - 88ms/step\n",
            "Epoch 74/100\n",
            "1/1 - 0s - loss: 0.0013 - accuracy: 1.0000 - val_loss: 22.9500 - val_accuracy: 0.0833 - 90ms/epoch - 90ms/step\n",
            "Epoch 75/100\n",
            "1/1 - 0s - loss: 0.0078 - accuracy: 0.9956 - val_loss: 24.0044 - val_accuracy: 0.0833 - 73ms/epoch - 73ms/step\n",
            "Epoch 76/100\n",
            "1/1 - 0s - loss: 0.0013 - accuracy: 1.0000 - val_loss: 25.2740 - val_accuracy: 0.0833 - 80ms/epoch - 80ms/step\n",
            "Epoch 77/100\n",
            "1/1 - 0s - loss: 5.4491e-04 - accuracy: 1.0000 - val_loss: 26.7181 - val_accuracy: 0.0833 - 73ms/epoch - 73ms/step\n",
            "Epoch 78/100\n",
            "1/1 - 0s - loss: 0.0059 - accuracy: 0.9956 - val_loss: 28.3489 - val_accuracy: 0.0833 - 75ms/epoch - 75ms/step\n",
            "Epoch 79/100\n",
            "1/1 - 0s - loss: 0.0075 - accuracy: 0.9956 - val_loss: 30.7204 - val_accuracy: 0.0833 - 89ms/epoch - 89ms/step\n",
            "Epoch 80/100\n",
            "1/1 - 0s - loss: 8.2607e-04 - accuracy: 1.0000 - val_loss: 33.2040 - val_accuracy: 0.0833 - 95ms/epoch - 95ms/step\n",
            "Epoch 81/100\n",
            "1/1 - 0s - loss: 0.0065 - accuracy: 1.0000 - val_loss: 36.2259 - val_accuracy: 0.0833 - 76ms/epoch - 76ms/step\n",
            "Epoch 82/100\n",
            "1/1 - 0s - loss: 0.0038 - accuracy: 1.0000 - val_loss: 38.5175 - val_accuracy: 0.0833 - 74ms/epoch - 74ms/step\n",
            "Epoch 83/100\n",
            "1/1 - 0s - loss: 0.0015 - accuracy: 1.0000 - val_loss: 40.6646 - val_accuracy: 0.0833 - 91ms/epoch - 91ms/step\n",
            "Epoch 84/100\n",
            "1/1 - 0s - loss: 0.0021 - accuracy: 1.0000 - val_loss: 42.9025 - val_accuracy: 0.0833 - 74ms/epoch - 74ms/step\n",
            "Epoch 85/100\n",
            "1/1 - 0s - loss: 8.5409e-04 - accuracy: 1.0000 - val_loss: 45.1946 - val_accuracy: 0.0833 - 92ms/epoch - 92ms/step\n",
            "Epoch 86/100\n",
            "1/1 - 0s - loss: 0.0020 - accuracy: 1.0000 - val_loss: 47.5003 - val_accuracy: 0.0833 - 76ms/epoch - 76ms/step\n",
            "Epoch 87/100\n",
            "1/1 - 0s - loss: 0.0034 - accuracy: 1.0000 - val_loss: 50.2089 - val_accuracy: 0.0833 - 74ms/epoch - 74ms/step\n",
            "Epoch 88/100\n",
            "1/1 - 0s - loss: 8.5133e-04 - accuracy: 1.0000 - val_loss: 52.7352 - val_accuracy: 0.0833 - 90ms/epoch - 90ms/step\n",
            "Epoch 89/100\n",
            "1/1 - 0s - loss: 0.0016 - accuracy: 1.0000 - val_loss: 55.8599 - val_accuracy: 0.0833 - 76ms/epoch - 76ms/step\n",
            "Epoch 90/100\n",
            "1/1 - 0s - loss: 6.4437e-04 - accuracy: 1.0000 - val_loss: 58.9075 - val_accuracy: 0.0833 - 78ms/epoch - 78ms/step\n",
            "Epoch 91/100\n",
            "1/1 - 0s - loss: 0.0037 - accuracy: 1.0000 - val_loss: 61.0838 - val_accuracy: 0.0833 - 95ms/epoch - 95ms/step\n",
            "Epoch 92/100\n",
            "1/1 - 0s - loss: 0.0015 - accuracy: 1.0000 - val_loss: 62.8508 - val_accuracy: 0.0833 - 93ms/epoch - 93ms/step\n",
            "Epoch 93/100\n",
            "1/1 - 0s - loss: 0.0014 - accuracy: 1.0000 - val_loss: 64.3603 - val_accuracy: 0.0833 - 73ms/epoch - 73ms/step\n",
            "Epoch 94/100\n",
            "1/1 - 0s - loss: 0.0013 - accuracy: 1.0000 - val_loss: 66.1563 - val_accuracy: 0.0833 - 75ms/epoch - 75ms/step\n",
            "Epoch 95/100\n",
            "1/1 - 0s - loss: 0.0045 - accuracy: 0.9956 - val_loss: 67.6698 - val_accuracy: 0.0833 - 117ms/epoch - 117ms/step\n",
            "Epoch 96/100\n",
            "1/1 - 0s - loss: 3.0058e-04 - accuracy: 1.0000 - val_loss: 69.2110 - val_accuracy: 0.0833 - 154ms/epoch - 154ms/step\n",
            "Epoch 97/100\n",
            "1/1 - 0s - loss: 0.0017 - accuracy: 1.0000 - val_loss: 71.1316 - val_accuracy: 0.0833 - 125ms/epoch - 125ms/step\n",
            "Epoch 98/100\n",
            "1/1 - 0s - loss: 0.0228 - accuracy: 0.9912 - val_loss: 73.4844 - val_accuracy: 0.0833 - 130ms/epoch - 130ms/step\n",
            "Epoch 99/100\n",
            "1/1 - 0s - loss: 4.0610e-04 - accuracy: 1.0000 - val_loss: 75.1607 - val_accuracy: 0.0833 - 120ms/epoch - 120ms/step\n",
            "Epoch 100/100\n",
            "1/1 - 0s - loss: 0.0427 - accuracy: 0.9956 - val_loss: 79.1733 - val_accuracy: 0.0833 - 78ms/epoch - 78ms/step\n"
          ]
        }
      ]
    },
    {
      "cell_type": "markdown",
      "source": [
        "Evaluate the test data"
      ],
      "metadata": {
        "_uuid": "2233c1cc-fb8e-4b61-b398-0180aa71e6dc",
        "_cell_guid": "de697d30-38fb-42c8-8698-ac3dadae9e8f",
        "trusted": true,
        "id": "TZIKY0CzNhvH"
      }
    },
    {
      "cell_type": "code",
      "source": [
        "scor = alexnet.evaluate( np.array(x_test),  np.array(y_test), verbose=0)\n",
        "\n",
        "print('test los {:.4f}'.format(scor[0]))\n",
        "print('test acc {:.4f}'.format(scor[1]))"
      ],
      "metadata": {
        "_uuid": "dbc31cfa-f5df-45a7-8bd3-a7eac886bb0c",
        "_cell_guid": "b85f156e-76e1-4988-8893-09a740dc914f",
        "jupyter": {
          "outputs_hidden": false
        },
        "execution": {
          "iopub.status.busy": "2024-04-20T21:17:06.089521Z",
          "iopub.execute_input": "2024-04-20T21:17:06.089821Z",
          "iopub.status.idle": "2024-04-20T21:17:06.759742Z",
          "shell.execute_reply.started": "2024-04-20T21:17:06.089793Z",
          "shell.execute_reply": "2024-04-20T21:17:06.759049Z"
        },
        "trusted": true,
        "id": "lSEe3wx7NhvI",
        "outputId": "f170730a-94c6-44a8-9e35-341e318713e4",
        "colab": {
          "base_uri": "https://localhost:8080/"
        }
      },
      "execution_count": 32,
      "outputs": [
        {
          "output_type": "stream",
          "name": "stdout",
          "text": [
            "test los 80.5980\n",
            "test acc 0.0500\n"
          ]
        }
      ]
    },
    {
      "cell_type": "markdown",
      "source": [
        "# Step 7\n",
        "plot the result"
      ],
      "metadata": {
        "_uuid": "65df95eb-7645-4853-bbb6-65a6a6309e08",
        "_cell_guid": "2e94d1e5-f5b7-40dc-9f9d-c309dc268f0f",
        "trusted": true,
        "id": "1UyHtkl-NhvI"
      }
    },
    {
      "cell_type": "code",
      "source": [
        "# list all data in history\n",
        "print(history.history.keys())\n",
        "# summarize history for accuracy\n",
        "plt.plot(history.history['accuracy'])\n",
        "plt.plot(history.history['val_accuracy'])\n",
        "plt.title('model accuracy')\n",
        "plt.ylabel('accuracy')\n",
        "plt.xlabel('epoch')\n",
        "plt.legend(['train', 'test'], loc='upper left')\n",
        "plt.show()\n",
        "# summarize history for loss\n",
        "plt.plot(history.history['loss'])\n",
        "plt.plot(history.history['val_loss'])\n",
        "plt.title('model loss')\n",
        "plt.ylabel('loss')\n",
        "plt.xlabel('epoch')\n",
        "plt.legend(['train', 'test'], loc='upper left')\n",
        "plt.show()"
      ],
      "metadata": {
        "_uuid": "01728252-934b-4e0b-81b1-d3bd4a8fddb6",
        "_cell_guid": "9b616eb7-52c0-4358-ba00-1aff8fc9ee76",
        "jupyter": {
          "outputs_hidden": false
        },
        "execution": {
          "iopub.status.busy": "2024-04-20T21:17:13.979441Z",
          "iopub.execute_input": "2024-04-20T21:17:13.97972Z",
          "iopub.status.idle": "2024-04-20T21:17:14.248971Z",
          "shell.execute_reply.started": "2024-04-20T21:17:13.979693Z",
          "shell.execute_reply": "2024-04-20T21:17:14.248297Z"
        },
        "trusted": true,
        "id": "AKsQUkjzNhvJ",
        "outputId": "00cc1a29-9e18-4721-8ce5-845bf4f37cae",
        "colab": {
          "base_uri": "https://localhost:8080/",
          "height": 945
        }
      },
      "execution_count": 33,
      "outputs": [
        {
          "output_type": "stream",
          "name": "stdout",
          "text": [
            "dict_keys(['loss', 'accuracy', 'val_loss', 'val_accuracy'])\n"
          ]
        },
        {
          "output_type": "display_data",
          "data": {
            "text/plain": [
              "<Figure size 640x480 with 1 Axes>"
            ],
            "image/png": "[encoded data removed]"
          },
          "metadata": {}
        },
        {
          "output_type": "display_data",
          "data": {
            "text/plain": [
              "<Figure size 640x480 with 1 Axes>"
            ],
            "image/png": "[encoded data removed]"
          },
          "metadata": {}
        }
      ]
    },
    {
      "cell_type": "markdown",
      "source": [
        "# step 8\n",
        "Plot Confusion Matrix"
      ],
      "metadata": {
        "_uuid": "2d30340a-ae5b-4b07-b1d9-98dd9963d75a",
        "_cell_guid": "78806a88-b4fd-4d43-8188-0cdfd8b32756",
        "trusted": true,
        "id": "AOnAPFboNhvJ"
      }
    },
    {
      "cell_type": "code",
      "source": [
        "predicted =np.argmax(alexnet.predict(x_test), axis=-1)\n",
        "\n",
        "#print(predicted)\n",
        "#print(y_test)\n",
        "y_prob = alexnet.predict(x_test)  # This will give you the class probabilities.\n",
        "ynew = np.argmax(y_prob, axis=1)  # This will give you the class labels.\n",
        "\n",
        "\n",
        "Acc=accuracy_score(y_test, ynew)\n",
        "print(\"accuracy : \")\n",
        "print(Acc)\n",
        "#/tn, fp, fn, tp = confusion_matrix(np.array(y_test), ynew).ravel()\n",
        "cnf_matrix=confusion_matrix(np.array(y_test), ynew)\n",
        "\n",
        "y_test1 = to_categorical(y_test, 20)\n",
        "\n",
        "\n",
        "\n",
        "def plot_confusion_matrix(cm, classes,\n",
        "                          normalize=False,\n",
        "                          title='Confusion matrix',\n",
        "                          cmap=plt.cm.Blues):\n",
        "    \"\"\"\n",
        "    This function prints and plots the confusion matrix.\n",
        "    Normalization can be applied by setting `normalize=True`.\n",
        "    \"\"\"\n",
        "    if normalize:\n",
        "        cm = cm.astype('float') / cm.sum(axis=1)[:, np.newaxis]\n",
        "        #print(\"Normalized confusion matrix\")\n",
        "    else:\n",
        "        print('Confusion matrix, without normalization')\n",
        "\n",
        "    #print(cm)\n",
        "    plt.imshow(cm, interpolation='nearest', cmap=cmap)\n",
        "    plt.title(title)\n",
        "    plt.colorbar()\n",
        "    tick_marks = np.arange(len(classes))\n",
        "    plt.xticks(tick_marks, classes, rotation=45)\n",
        "    plt.yticks(tick_marks, classes)\n",
        "\n",
        "    fmt = '.2f' if normalize else 'd'\n",
        "    thresh = cm.max() / 2.\n",
        "    for i, j in itertools.product(range(cm.shape[0]), range(cm.shape[1])):\n",
        "        plt.text(j, i, format(cm[i, j], fmt),\n",
        "                 horizontalalignment=\"center\",\n",
        "                 color=\"white\" if cm[i, j] > thresh else \"black\")\n",
        "\n",
        "    plt.tight_layout()\n",
        "    plt.ylabel('True label')\n",
        "    plt.xlabel('Predicted label')\n",
        "    plt.show()\n",
        "\n",
        "\n",
        "print('Confusion matrix, without normalization')\n",
        "print(cnf_matrix)\n",
        "\n",
        "plt.figure()\n",
        "plot_confusion_matrix(cnf_matrix[1:10,1:10], classes=[0,1,2,3,4,5,6,7,8,9],\n",
        "                      title='Confusion matrix, without normalization')\n",
        "\n",
        "plt.figure()\n",
        "plot_confusion_matrix(cnf_matrix[11:20,11:20], classes=[10,11,12,13,14,15,16,17,18,19],\n",
        "                      title='Confusion matrix, without normalization')\n",
        "\n",
        "print(\"Confusion matrix:\\n%s\" % confusion_matrix(np.array(y_test), ynew))\n",
        "print(classification_report(np.array(y_test), ynew))"
      ],
      "metadata": {
        "_uuid": "b1baa82b-35f5-4f3c-ac14-8e42ef977ca4",
        "_cell_guid": "0610f75b-2cdc-488c-97bb-ac5563ee0cf7",
        "jupyter": {
          "outputs_hidden": false
        },
        "execution": {
          "iopub.status.busy": "2024-04-20T21:17:35.267647Z",
          "iopub.execute_input": "2024-04-20T21:17:35.267947Z",
          "iopub.status.idle": "2024-04-20T21:17:37.325707Z",
          "shell.execute_reply.started": "2024-04-20T21:17:35.267921Z",
          "shell.execute_reply": "2024-04-20T21:17:37.325009Z"
        },
        "trusted": true,
        "id": "sSRfrPISNhvK",
        "outputId": "e918bff1-f262-47dd-9271-c14d88d1d243",
        "colab": {
          "base_uri": "https://localhost:8080/",
          "height": 1000
        }
      },
      "execution_count": 34,
      "outputs": [
        {
          "output_type": "stream",
          "name": "stdout",
          "text": [
            "5/5 [==============================] - 0s 7ms/step\n",
            "5/5 [==============================] - 0s 7ms/step\n",
            "accuracy : \n",
            "0.05\n",
            "Confusion matrix, without normalization\n",
            "[[0 0 0 0 0 0 0 0 0 0 0 0 0 0 0 0 0 0 0 8]\n",
            " [0 0 0 0 0 0 0 0 0 0 0 0 0 0 0 0 0 0 0 8]\n",
            " [0 0 0 0 0 0 0 0 0 0 0 0 0 0 0 0 0 0 0 8]\n",
            " [0 0 0 0 0 0 0 0 0 0 0 0 0 0 0 0 0 0 0 8]\n",
            " [0 0 0 0 0 0 0 0 0 0 0 0 0 0 0 0 0 0 0 8]\n",
            " [0 0 0 0 0 0 0 0 0 0 0 0 0 0 0 0 0 0 0 8]\n",
            " [0 0 0 0 0 0 0 0 0 0 0 0 0 0 0 0 0 0 0 8]\n",
            " [0 0 0 0 0 0 0 0 0 0 0 0 0 0 0 0 0 0 0 8]\n",
            " [0 0 0 0 0 0 0 0 0 0 0 0 0 0 0 0 0 0 0 8]\n",
            " [0 0 0 0 0 0 0 0 0 0 0 0 0 0 0 0 0 0 0 8]\n",
            " [0 0 0 0 0 0 0 0 0 0 0 0 0 0 0 0 0 0 0 8]\n",
            " [0 0 0 0 0 0 0 0 0 0 0 0 0 0 0 0 0 0 0 8]\n",
            " [0 0 0 0 0 0 0 0 0 0 0 0 0 0 0 0 0 0 0 8]\n",
            " [0 0 0 0 0 0 0 0 0 0 0 0 0 0 0 0 0 0 0 8]\n",
            " [0 0 0 0 0 0 0 0 0 0 0 0 0 0 0 0 0 0 0 8]\n",
            " [0 0 0 0 0 0 0 0 0 0 0 0 0 0 0 0 0 0 0 8]\n",
            " [0 0 0 0 0 0 0 0 0 0 0 0 0 0 0 0 0 0 0 8]\n",
            " [0 0 0 0 0 0 0 0 0 0 0 0 0 0 0 0 0 0 0 8]\n",
            " [0 0 0 0 0 0 0 0 0 0 0 0 0 0 0 0 0 0 0 8]\n",
            " [0 0 0 0 0 0 0 0 0 0 0 0 0 0 0 0 0 0 0 8]]\n",
            "Confusion matrix, without normalization\n"
          ]
        },
        {
          "output_type": "display_data",
          "data": {
            "text/plain": [
              "<Figure size 640x480 with 2 Axes>"
            ],
            "image/png": "[encoded data removed]"
          },
          "metadata": {}
        },
        {
          "output_type": "stream",
          "name": "stdout",
          "text": [
            "Confusion matrix, without normalization\n"
          ]
        },
        {
          "output_type": "display_data",
          "data": {
            "text/plain": [
              "<Figure size 640x480 with 2 Axes>"
            ],
            "image/png": "[encoded data removed]"
          },
          "metadata": {}
        },
        {
          "output_type": "stream",
          "name": "stdout",
          "text": [
            "Confusion matrix:\n",
            "[[0 0 0 0 0 0 0 0 0 0 0 0 0 0 0 0 0 0 0 8]\n",
            " [0 0 0 0 0 0 0 0 0 0 0 0 0 0 0 0 0 0 0 8]\n",
            " [0 0 0 0 0 0 0 0 0 0 0 0 0 0 0 0 0 0 0 8]\n",
            " [0 0 0 0 0 0 0 0 0 0 0 0 0 0 0 0 0 0 0 8]\n",
            " [0 0 0 0 0 0 0 0 0 0 0 0 0 0 0 0 0 0 0 8]\n",
            " [0 0 0 0 0 0 0 0 0 0 0 0 0 0 0 0 0 0 0 8]\n",
            " [0 0 0 0 0 0 0 0 0 0 0 0 0 0 0 0 0 0 0 8]\n",
            " [0 0 0 0 0 0 0 0 0 0 0 0 0 0 0 0 0 0 0 8]\n",
            " [0 0 0 0 0 0 0 0 0 0 0 0 0 0 0 0 0 0 0 8]\n",
            " [0 0 0 0 0 0 0 0 0 0 0 0 0 0 0 0 0 0 0 8]\n",
            " [0 0 0 0 0 0 0 0 0 0 0 0 0 0 0 0 0 0 0 8]\n",
            " [0 0 0 0 0 0 0 0 0 0 0 0 0 0 0 0 0 0 0 8]\n",
            " [0 0 0 0 0 0 0 0 0 0 0 0 0 0 0 0 0 0 0 8]\n",
            " [0 0 0 0 0 0 0 0 0 0 0 0 0 0 0 0 0 0 0 8]\n",
            " [0 0 0 0 0 0 0 0 0 0 0 0 0 0 0 0 0 0 0 8]\n",
            " [0 0 0 0 0 0 0 0 0 0 0 0 0 0 0 0 0 0 0 8]\n",
            " [0 0 0 0 0 0 0 0 0 0 0 0 0 0 0 0 0 0 0 8]\n",
            " [0 0 0 0 0 0 0 0 0 0 0 0 0 0 0 0 0 0 0 8]\n",
            " [0 0 0 0 0 0 0 0 0 0 0 0 0 0 0 0 0 0 0 8]\n",
            " [0 0 0 0 0 0 0 0 0 0 0 0 0 0 0 0 0 0 0 8]]\n",
            "              precision    recall  f1-score   support\n",
            "\n",
            "           0       0.00      0.00      0.00         8\n",
            "           1       0.00      0.00      0.00         8\n",
            "           2       0.00      0.00      0.00         8\n",
            "           3       0.00      0.00      0.00         8\n",
            "           4       0.00      0.00      0.00         8\n",
            "           5       0.00      0.00      0.00         8\n",
            "           6       0.00      0.00      0.00         8\n",
            "           7       0.00      0.00      0.00         8\n",
            "           8       0.00      0.00      0.00         8\n",
            "           9       0.00      0.00      0.00         8\n",
            "          10       0.00      0.00      0.00         8\n",
            "          11       0.00      0.00      0.00         8\n",
            "          12       0.00      0.00      0.00         8\n",
            "          13       0.00      0.00      0.00         8\n",
            "          14       0.00      0.00      0.00         8\n",
            "          15       0.00      0.00      0.00         8\n",
            "          16       0.00      0.00      0.00         8\n",
            "          17       0.00      0.00      0.00         8\n",
            "          18       0.00      0.00      0.00         8\n",
            "          19       0.05      1.00      0.10         8\n",
            "\n",
            "    accuracy                           0.05       160\n",
            "   macro avg       0.00      0.05      0.00       160\n",
            "weighted avg       0.00      0.05      0.00       160\n",
            "\n"
          ]
        },
        {
          "output_type": "stream",
          "name": "stderr",
          "text": [
            "/usr/local/lib/python3.10/dist-packages/sklearn/metrics/_classification.py:1344: UndefinedMetricWarning: Precision and F-score are ill-defined and being set to 0.0 in labels with no predicted samples. Use `zero_division` parameter to control this behavior.\n",
            "  _warn_prf(average, modifier, msg_start, len(result))\n",
            "/usr/local/lib/python3.10/dist-packages/sklearn/metrics/_classification.py:1344: UndefinedMetricWarning: Precision and F-score are ill-defined and being set to 0.0 in labels with no predicted samples. Use `zero_division` parameter to control this behavior.\n",
            "  _warn_prf(average, modifier, msg_start, len(result))\n",
            "/usr/local/lib/python3.10/dist-packages/sklearn/metrics/_classification.py:1344: UndefinedMetricWarning: Precision and F-score are ill-defined and being set to 0.0 in labels with no predicted samples. Use `zero_division` parameter to control this behavior.\n",
            "  _warn_prf(average, modifier, msg_start, len(result))\n"
          ]
        }
      ]
    },
    {
      "cell_type": "markdown",
      "source": [],
      "metadata": {
        "_uuid": "865b4eba-0991-4049-9db3-98132dd7f174",
        "_cell_guid": "a7d5cf42-6ff5-4514-9093-83654ef0eb36",
        "trusted": true,
        "id": "kJ2hlf2TNhvL"
      }
    }
  ]
}