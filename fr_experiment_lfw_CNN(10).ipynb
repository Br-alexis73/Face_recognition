{
  "nbformat": 4,
  "nbformat_minor": 0,
  "metadata": {
    "colab": {
      "provenance": [],
      "gpuType": "T4",
      "include_colab_link": true
    },
    "kernelspec": {
      "name": "python3",
      "display_name": "Python 3"
    },
    "language_info": {
      "name": "python"
    },
    "accelerator": "GPU"
  },
  "cells": [
    {
      "cell_type": "markdown",
      "metadata": {
        "id": "view-in-github",
        "colab_type": "text"
      },
      "source": [
        "<a href=\"https://colab.research.google.com/github/Br-alexis73/Face_recognition/blob/master/fr_experiment_lfw_CNN(10).ipynb\" target=\"_parent\"><img src=\"https://colab.research.google.com/assets/colab-badge.svg\" alt=\"Open In Colab\"/></a>"
      ]
    },
    {
      "cell_type": "code",
      "execution_count": 1,
      "metadata": {
        "colab": {
          "base_uri": "https://localhost:8080/"
        },
        "id": "b7JnxKvP_3KZ",
        "outputId": "bb6abcf9-19f8-4f67-8377-aa98db367aa0"
      },
      "outputs": [
        {
          "output_type": "stream",
          "name": "stdout",
          "text": [
            "Downloading lfw-dataset, 117895655 bytes compressed\n",
            "[==================================================] 117895655 bytes downloaded\n",
            "Downloaded and uncompressed: lfw-dataset\n",
            "Data source import complete.\n"
          ]
        }
      ],
      "source": [
        "\n",
        "# IMPORTANT: RUN THIS CELL IN ORDER TO IMPORT YOUR KAGGLE DATA SOURCES\n",
        "# TO THE CORRECT LOCATION (/kaggle/input) IN YOUR NOTEBOOK,\n",
        "# THEN FEEL FREE TO DELETE THIS CELL.\n",
        "# NOTE: THIS NOTEBOOK ENVIRONMENT DIFFERS FROM KAGGLE'S PYTHON\n",
        "# ENVIRONMENT SO THERE MAY BE MISSING LIBRARIES USED BY YOUR\n",
        "# NOTEBOOK.\n",
        "\n",
        "import os\n",
        "import sys\n",
        "from tempfile import NamedTemporaryFile\n",
        "from urllib.request import urlopen\n",
        "from urllib.parse import unquote, urlparse\n",
        "from urllib.error import HTTPError\n",
        "from zipfile import ZipFile\n",
        "import tarfile\n",
        "import shutil\n",
        "\n",
        "CHUNK_SIZE = 40960\n",
        "DATA_SOURCE_MAPPING = 'lfw-dataset:https%3A%2F%2Fstorage.googleapis.com%2Fkaggle-data-sets%2F26922%2F34595%2Fbundle%2Farchive.zip%3FX-Goog-Algorithm%3DGOOG4-RSA-SHA256%26X-Goog-Credential%3Dgcp-kaggle-com%2540kaggle-161607.iam.gserviceaccount.com%252F20240419%252Fauto%252Fstorage%252Fgoog4_request%26X-Goog-Date%3D20240419T152011Z%26X-Goog-Expires%3D259200%26X-Goog-SignedHeaders%3Dhost%26X-Goog-Signature%3Db4ec61946419ca8b830a0f4613cac81dffb050d7d712972d73e73a8d24cc40a231fb1a47a2c7bce99a68ff93e9ac40d5a337ede5b14e8940c63ba216337c90b4cc432075b2f24e158971a25f9ecb52e84512e1cdc8473afcdfc20275099542b8cc23208d379bed1a7e644e96a929b7dbb91a7019f5331c94ea9f46d05bdd60badb9169961ed1faa90ae1290e3919c42a5736aa4fd68b941df0dac0e6957e4528a6663da154303292f0925fe7bc92d10ad202845647f7a1eff66f586604bb52c0626b2d95f3daf452d5dae6be3e0f2daf1e3177513be89acda9a7114a083009f77cf36a5edd56f41bb1bf1ba424974542d3b8bd7ac3ec5ab7122a096e033e4df9'\n",
        "\n",
        "KAGGLE_INPUT_PATH='/kaggle/input'\n",
        "KAGGLE_WORKING_PATH='/kaggle/working'\n",
        "KAGGLE_SYMLINK='kaggle'\n",
        "\n",
        "!umount /kaggle/input/ 2> /dev/null\n",
        "shutil.rmtree('/kaggle/input', ignore_errors=True)\n",
        "os.makedirs(KAGGLE_INPUT_PATH, 0o777, exist_ok=True)\n",
        "os.makedirs(KAGGLE_WORKING_PATH, 0o777, exist_ok=True)\n",
        "\n",
        "try:\n",
        "  os.symlink(KAGGLE_INPUT_PATH, os.path.join(\"..\", 'input'), target_is_directory=True)\n",
        "except FileExistsError:\n",
        "  pass\n",
        "try:\n",
        "  os.symlink(KAGGLE_WORKING_PATH, os.path.join(\"..\", 'working'), target_is_directory=True)\n",
        "except FileExistsError:\n",
        "  pass\n",
        "\n",
        "for data_source_mapping in DATA_SOURCE_MAPPING.split(','):\n",
        "    directory, download_url_encoded = data_source_mapping.split(':')\n",
        "    download_url = unquote(download_url_encoded)\n",
        "    filename = urlparse(download_url).path\n",
        "    destination_path = os.path.join(KAGGLE_INPUT_PATH, directory)\n",
        "    try:\n",
        "        with urlopen(download_url) as fileres, NamedTemporaryFile() as tfile:\n",
        "            total_length = fileres.headers['content-length']\n",
        "            print(f'Downloading {directory}, {total_length} bytes compressed')\n",
        "            dl = 0\n",
        "            data = fileres.read(CHUNK_SIZE)\n",
        "            while len(data) > 0:\n",
        "                dl += len(data)\n",
        "                tfile.write(data)\n",
        "                done = int(50 * dl / int(total_length))\n",
        "                sys.stdout.write(f\"\\r[{'=' * done}{' ' * (50-done)}] {dl} bytes downloaded\")\n",
        "                sys.stdout.flush()\n",
        "                data = fileres.read(CHUNK_SIZE)\n",
        "            if filename.endswith('.zip'):\n",
        "              with ZipFile(tfile) as zfile:\n",
        "                zfile.extractall(destination_path)\n",
        "            else:\n",
        "              with tarfile.open(tfile.name) as tarfile:\n",
        "                tarfile.extractall(destination_path)\n",
        "            print(f'\\nDownloaded and uncompressed: {directory}')\n",
        "    except HTTPError as e:\n",
        "        print(f'Failed to load (likely expired) {download_url} to path {destination_path}')\n",
        "        continue\n",
        "    except OSError as e:\n",
        "        print(f'Failed to load {download_url} to path {destination_path}')\n",
        "        continue\n",
        "\n",
        "print('Data source import complete.')\n"
      ]
    },
    {
      "cell_type": "code",
      "source": [
        "!pip install mtcnn"
      ],
      "metadata": {
        "colab": {
          "base_uri": "https://localhost:8080/"
        },
        "id": "80GgcNR879Lv",
        "outputId": "8db7d083-9c00-40ce-9fb7-07dcb5709a23"
      },
      "execution_count": 2,
      "outputs": [
        {
          "output_type": "stream",
          "name": "stdout",
          "text": [
            "Collecting mtcnn\n",
            "  Downloading mtcnn-0.1.1-py3-none-any.whl (2.3 MB)\n",
            "\u001b[2K     \u001b[90m━━━━━━━━━━━━━━━━━━━━━━━━━━━━━━━━━━━━━━━━\u001b[0m \u001b[32m2.3/2.3 MB\u001b[0m \u001b[31m9.6 MB/s\u001b[0m eta \u001b[36m0:00:00\u001b[0m\n",
            "\u001b[?25hRequirement already satisfied: keras>=2.0.0 in /usr/local/lib/python3.10/dist-packages (from mtcnn) (2.15.0)\n",
            "Requirement already satisfied: opencv-python>=4.1.0 in /usr/local/lib/python3.10/dist-packages (from mtcnn) (4.8.0.76)\n",
            "Requirement already satisfied: numpy>=1.21.2 in /usr/local/lib/python3.10/dist-packages (from opencv-python>=4.1.0->mtcnn) (1.25.2)\n",
            "Installing collected packages: mtcnn\n",
            "Successfully installed mtcnn-0.1.1\n"
          ]
        }
      ]
    },
    {
      "cell_type": "code",
      "source": [
        "import os\n",
        "import shutil\n",
        "import pandas as pd\n",
        "import numpy as np\n",
        "import cv2\n",
        "import tensorflow as tf\n",
        "from tensorflow.keras.models import Sequential\n",
        "from tensorflow.keras.layers import Conv2D, MaxPooling2D, Flatten, Dense, Dropout, BatchNormalization\n",
        "from tensorflow.keras.utils import to_categorical\n",
        "from sklearn.preprocessing import LabelEncoder\n",
        "from sklearn.model_selection import train_test_split\n",
        "from sklearn.metrics import classification_report\n",
        "from sklearn.utils import shuffle\n",
        "import matplotlib.pyplot as plt\n"
      ],
      "metadata": {
        "id": "gXrdrl1jyva9"
      },
      "execution_count": 3,
      "outputs": []
    },
    {
      "cell_type": "code",
      "source": [
        "# Set the dataset path\n",
        "dataset_path = '../input/lfw-dataset/lfw-deepfunneled/lfw-deepfunneled'\n",
        "\n",
        "# Generate a list of (name, image count) tuples\n",
        "names_images = []\n",
        "\n",
        "for name in os.listdir(dataset_path):\n",
        "    directory = os.path.join(dataset_path, name)\n",
        "    if os.path.isdir(directory):\n",
        "        images = [i for i in os.listdir(directory) if i.endswith('.jpg')]\n",
        "        image_count = len(images)\n",
        "        # Add to list if there are at least 25 images and store the actual image count\n",
        "        if image_count >= 50:\n",
        "            names_images.append((name, min(image_count, 50)))\n",
        "\n",
        "# Update number_of_people to reflect the actual number of people with at least 25 images\n",
        "number_of_people = len(names_images)\n",
        "print(f\"Number of people with at least 50 images: {number_of_people}\")\n",
        "\n",
        "# Create a DataFrame\n",
        "lfw_allnames = pd.DataFrame(names_images, columns=['name', 'images'])\n",
        "\n",
        "# Save the DataFrame to a CSV file\n",
        "lfw_csv_path = '../input/lfw-dataset/lfw_allnames.csv'\n",
        "lfw_allnames.to_csv(lfw_csv_path, index=False)\n",
        "\n",
        "# print(f\"CSV file created at: {lfw_csv_path}\")"
      ],
      "metadata": {
        "colab": {
          "base_uri": "https://localhost:8080/"
        },
        "id": "UMXeFqRPyh40",
        "outputId": "fd11c1cc-b3a0-418d-cfa6-b9f049123c11"
      },
      "execution_count": 4,
      "outputs": [
        {
          "output_type": "stream",
          "name": "stdout",
          "text": [
            "Number of people with at least 50 images: 12\n"
          ]
        }
      ]
    },
    {
      "cell_type": "code",
      "source": [
        "# Define a new directory for experiments\n",
        "new_dir_path = '../lfw-data-experiment'\n",
        "\n",
        "# Create the new directory if it doesn't exist\n",
        "if not os.path.exists(new_dir_path):\n",
        "    os.makedirs(new_dir_path)\n",
        "\n",
        "# Move the folders\n",
        "for name, image_count in names_images:\n",
        "    source_folder = os.path.join(dataset_path, name)\n",
        "    destination_folder = os.path.join(new_dir_path, name)\n",
        "\n",
        "    # Check if the destination folder already exists\n",
        "    if os.path.exists(destination_folder):\n",
        "        shutil.rmtree(destination_folder)\n",
        "\n",
        "    # Move the folders\n",
        "    if os.path.exists(source_folder):\n",
        "        shutil.copytree(source_folder, destination_folder)\n",
        "        # If there are more than 50 images, keep the first 50 and delete the rest\n",
        "        images = sorted([i for i in os.listdir(destination_folder) if i.endswith('.jpg')])\n",
        "        for img in images[50:]:  # Delete all images beyond the 25th\n",
        "            os.remove(os.path.join(destination_folder, img))\n",
        "    else:\n",
        "        print(f\"Folder for {name} does not exist in the dataset path.\")\n",
        "\n",
        "print(\"Folders moved successfully.\")"
      ],
      "metadata": {
        "colab": {
          "base_uri": "https://localhost:8080/"
        },
        "id": "RDmb_LpHy0bM",
        "outputId": "b80512dc-9ef1-4cca-f55c-ab989516fdf4"
      },
      "execution_count": 5,
      "outputs": [
        {
          "output_type": "stream",
          "name": "stdout",
          "text": [
            "Folders moved successfully.\n"
          ]
        }
      ]
    },
    {
      "cell_type": "code",
      "source": [
        "\n",
        "# Read the dataset\n",
        "people_data = os.listdir(new_dir_path)\n",
        "people = []\n",
        "for item in people_data:\n",
        "    person_images = os.listdir(os.path.join(new_dir_path, item))\n",
        "    for person_image in person_images:\n",
        "        people.append((item, os.path.join(new_dir_path, item, person_image)))\n",
        "\n",
        "# Create a DataFrame from the list of tuples\n",
        "people_df = pd.DataFrame(people, columns=['person', 'path'])\n",
        "\n",
        "# Convert labels to one-hot encoded labels\n",
        "label_encoder = LabelEncoder()\n",
        "labels = people_df['person'].values\n",
        "int_encoded = label_encoder.fit_transform(labels)\n",
        "y_onehot = to_categorical(int_encoded)\n",
        "\n",
        "# Correct the size of the images to match the CNN input\n",
        "im_size = 150\n",
        "\n",
        "# Initialize lists to store the images and labels\n",
        "images = []\n",
        "labels = []\n",
        "\n",
        "# Load and preprocess the images\n",
        "for index, row in people_df.iterrows():\n",
        "    img = cv2.imread(row['path'])\n",
        "    img = cv2.resize(img, (im_size, im_size))\n",
        "    images.append(img)\n",
        "    labels.append(row['person'])\n",
        "\n",
        "images = np.array(images)\n",
        "images = images.astype('float32') / 255.0\n",
        "\n",
        "# Shuffle and split the dataset\n",
        "images, y_onehot = shuffle(images, y_onehot, random_state=1)\n",
        "train_x, test_x, train_y_onehot, test_y_onehot = train_test_split(images, y_onehot, test_size=0.3, random_state=415)\n",
        "\n",
        "# Check the shapes again to make sure they match\n",
        "print(\"train_x shape:\", train_x.shape)\n",
        "print(\"train_y_onehot shape:\", train_y_onehot.shape)\n",
        "print(\"test_x shape:\", test_x.shape)\n",
        "print(\"test_y_onehot shape:\", test_y_onehot.shape)"
      ],
      "metadata": {
        "colab": {
          "base_uri": "https://localhost:8080/"
        },
        "id": "s9rty7ouzGFs",
        "outputId": "c54834d6-2be8-4aa9-d5a5-8212bff68dfa"
      },
      "execution_count": 6,
      "outputs": [
        {
          "output_type": "stream",
          "name": "stdout",
          "text": [
            "train_x shape: (420, 150, 150, 3)\n",
            "train_y_onehot shape: (420, 12)\n",
            "test_x shape: (180, 150, 150, 3)\n",
            "test_y_onehot shape: (180, 12)\n"
          ]
        }
      ]
    },
    {
      "cell_type": "code",
      "source": [
        "# import os\n",
        "\n",
        "# # Correct path according to your folder structure\n",
        "# lfw_data_experiment = '../lfw-data-experiment'\n",
        "\n",
        "# people_data = os.listdir(lfw_data_experiment)\n",
        "# print(len(people_data))\n",
        "\n",
        "# people = []\n",
        "# for item in people_data:\n",
        "#     all_names = os.listdir(lfw_data_experiment + '/' + item)\n",
        "#     for person in all_names:\n",
        "#         people.append((item, lfw_data_experiment + '/' + item + '/' + person))\n",
        "\n",
        "# print(people)\n"
      ],
      "metadata": {
        "id": "A5X89VEqAGiQ"
      },
      "execution_count": 7,
      "outputs": []
    },
    {
      "cell_type": "code",
      "source": [
        "import pandas as pd\n",
        "\n",
        "# Create a DataFrame from the list of tuples\n",
        "people_df = pd.DataFrame(people, columns=['person', 'path'])\n",
        "\n",
        "# Count the number of samples for each person\n",
        "person_count = people_df['person'].value_counts()\n",
        "\n",
        "print(\"Total number of images of people in the dataset: \", len(people_df))\n",
        "print(\"Samples in each category: \")\n",
        "print(person_count)\n"
      ],
      "metadata": {
        "colab": {
          "base_uri": "https://localhost:8080/"
        },
        "id": "fGKfFvTIAGHW",
        "outputId": "5631aedf-23f1-4f81-e0b0-a9312ff71192"
      },
      "execution_count": 8,
      "outputs": [
        {
          "output_type": "stream",
          "name": "stdout",
          "text": [
            "Total number of images of people in the dataset:  600\n",
            "Samples in each category: \n",
            "person\n",
            "Junichiro_Koizumi    50\n",
            "Tony_Blair           50\n",
            "George_W_Bush        50\n",
            "Serena_Williams      50\n",
            "Jacques_Chirac       50\n",
            "Colin_Powell         50\n",
            "Jean_Chretien        50\n",
            "Ariel_Sharon         50\n",
            "Donald_Rumsfeld      50\n",
            "John_Ashcroft        50\n",
            "Gerhard_Schroeder    50\n",
            "Hugo_Chavez          50\n",
            "Name: count, dtype: int64\n"
          ]
        }
      ]
    },
    {
      "cell_type": "markdown",
      "source": [
        "#Encoding"
      ],
      "metadata": {
        "id": "mcIPL21vkcR6"
      }
    },
    {
      "cell_type": "code",
      "source": [
        "num_classes = len(np.unique(labels))"
      ],
      "metadata": {
        "id": "QXctnMYZ6naS"
      },
      "execution_count": 9,
      "outputs": []
    },
    {
      "cell_type": "code",
      "source": [
        "im_shape=(im_size, im_size, 3)"
      ],
      "metadata": {
        "id": "Y2--z8G6dZ93"
      },
      "execution_count": 10,
      "outputs": []
    },
    {
      "cell_type": "code",
      "source": [
        "import tensorflow as tf\n",
        "from keras.optimizers import Adam\n",
        "from tensorflow.keras.models import Sequential\n",
        "from tensorflow.keras.layers import Conv2D, MaxPooling2D, Flatten, Dense, Dropout, BatchNormalization\n",
        "\n",
        "cnn_model= Sequential([\n",
        "    Conv2D(filters=36, kernel_size=7, activation='relu', input_shape= im_shape),\n",
        "    MaxPooling2D(pool_size=2),\n",
        "    Conv2D(filters=54, kernel_size=5, activation='relu', input_shape= im_shape),\n",
        "    MaxPooling2D(pool_size=2),\n",
        "    Flatten(),\n",
        "    Dense(2024, activation='relu'),\n",
        "     Dropout(0.5),\n",
        "    Dense(1024, activation='relu'),\n",
        "    Dropout(0.5),\n",
        "    Dense(512, activation='relu'),\n",
        "    Dropout(0.5),\n",
        "    #20 is the number of outputs\n",
        "    Dense(num_classes, activation='softmax')\n",
        "])\n",
        "\n",
        "cnn_model.compile(\n",
        "    loss='categorical_crossentropy',#'categorical_crossentropy',\n",
        "    optimizer=Adam(lr=0.01),\n",
        "    metrics=['accuracy']\n",
        ")\n",
        "\n",
        "cnn_model.summary()\n"
      ],
      "metadata": {
        "colab": {
          "base_uri": "https://localhost:8080/"
        },
        "id": "J8DDI8du_5y5",
        "outputId": "88c1b2af-d0aa-44f0-a0e2-1f3a6bf9069e"
      },
      "execution_count": 23,
      "outputs": [
        {
          "output_type": "stream",
          "name": "stderr",
          "text": [
            "WARNING:absl:`lr` is deprecated in Keras optimizer, please use `learning_rate` or use the legacy optimizer, e.g.,tf.keras.optimizers.legacy.Adam.\n"
          ]
        },
        {
          "output_type": "stream",
          "name": "stdout",
          "text": [
            "Model: \"sequential_2\"\n",
            "_________________________________________________________________\n",
            " Layer (type)                Output Shape              Param #   \n",
            "=================================================================\n",
            " conv2d_4 (Conv2D)           (None, 144, 144, 36)      5328      \n",
            "                                                                 \n",
            " max_pooling2d_4 (MaxPoolin  (None, 72, 72, 36)        0         \n",
            " g2D)                                                            \n",
            "                                                                 \n",
            " conv2d_5 (Conv2D)           (None, 68, 68, 54)        48654     \n",
            "                                                                 \n",
            " max_pooling2d_5 (MaxPoolin  (None, 34, 34, 54)        0         \n",
            " g2D)                                                            \n",
            "                                                                 \n",
            " flatten_2 (Flatten)         (None, 62424)             0         \n",
            "                                                                 \n",
            " dense_8 (Dense)             (None, 2024)              126348200 \n",
            "                                                                 \n",
            " dropout_6 (Dropout)         (None, 2024)              0         \n",
            "                                                                 \n",
            " dense_9 (Dense)             (None, 1024)              2073600   \n",
            "                                                                 \n",
            " dropout_7 (Dropout)         (None, 1024)              0         \n",
            "                                                                 \n",
            " dense_10 (Dense)            (None, 512)               524800    \n",
            "                                                                 \n",
            " dropout_8 (Dropout)         (None, 512)               0         \n",
            "                                                                 \n",
            " dense_11 (Dense)            (None, 12)                6156      \n",
            "                                                                 \n",
            "=================================================================\n",
            "Total params: 129006738 (492.12 MB)\n",
            "Trainable params: 129006738 (492.12 MB)\n",
            "Non-trainable params: 0 (0.00 Byte)\n",
            "_________________________________________________________________\n"
          ]
        }
      ]
    },
    {
      "cell_type": "code",
      "source": [
        "print(\"train_x shape:\", train_x.shape)\n",
        "print(\"train_y_onehot shape:\", train_y_onehot.shape)\n",
        "print(\"test_x shape:\", test_x.shape)\n",
        "print(\"test_y_onehot shape:\", test_y_onehot.shape)\n"
      ],
      "metadata": {
        "colab": {
          "base_uri": "https://localhost:8080/"
        },
        "id": "doK-NaRw4pyN",
        "outputId": "d7502e87-e317-4f37-ce7c-9dab6b0807a1"
      },
      "execution_count": 12,
      "outputs": [
        {
          "output_type": "stream",
          "name": "stdout",
          "text": [
            "train_x shape: (420, 150, 150, 3)\n",
            "train_y_onehot shape: (420, 12)\n",
            "test_x shape: (180, 150, 150, 3)\n",
            "test_y_onehot shape: (180, 12)\n"
          ]
        }
      ]
    },
    {
      "cell_type": "code",
      "source": [
        "history = cnn_model.fit(\n",
        "    train_x,\n",
        "    train_y_onehot,\n",
        "    epochs=50,\n",
        "    batch_size=32,\n",
        "    validation_data=(test_x, test_y_onehot)\n",
        ")\n"
      ],
      "metadata": {
        "id": "vcT45lprA3TQ",
        "colab": {
          "base_uri": "https://localhost:8080/"
        },
        "outputId": "09d607ed-cca8-4310-dd9c-252e79bac957"
      },
      "execution_count": 24,
      "outputs": [
        {
          "output_type": "stream",
          "name": "stdout",
          "text": [
            "Epoch 1/50\n",
            "14/14 [==============================] - 3s 97ms/step - loss: 3.3625 - accuracy: 0.0690 - val_loss: 2.4846 - val_accuracy: 0.0889\n",
            "Epoch 2/50\n",
            "14/14 [==============================] - 1s 70ms/step - loss: 2.4807 - accuracy: 0.1048 - val_loss: 2.4766 - val_accuracy: 0.0778\n",
            "Epoch 3/50\n",
            "14/14 [==============================] - 1s 76ms/step - loss: 2.4621 - accuracy: 0.1333 - val_loss: 2.4605 - val_accuracy: 0.0833\n",
            "Epoch 4/50\n",
            "14/14 [==============================] - 1s 67ms/step - loss: 2.4542 - accuracy: 0.1238 - val_loss: 2.4216 - val_accuracy: 0.1944\n",
            "Epoch 5/50\n",
            "14/14 [==============================] - 1s 66ms/step - loss: 2.3495 - accuracy: 0.2119 - val_loss: 2.3445 - val_accuracy: 0.2278\n",
            "Epoch 6/50\n",
            "14/14 [==============================] - 1s 72ms/step - loss: 2.1365 - accuracy: 0.2857 - val_loss: 2.1016 - val_accuracy: 0.2778\n",
            "Epoch 7/50\n",
            "14/14 [==============================] - 1s 71ms/step - loss: 1.7816 - accuracy: 0.4048 - val_loss: 2.0003 - val_accuracy: 0.2889\n",
            "Epoch 8/50\n",
            "14/14 [==============================] - 1s 67ms/step - loss: 1.3373 - accuracy: 0.5524 - val_loss: 1.7212 - val_accuracy: 0.4556\n",
            "Epoch 9/50\n",
            "14/14 [==============================] - 1s 72ms/step - loss: 0.9765 - accuracy: 0.6857 - val_loss: 1.7603 - val_accuracy: 0.4111\n",
            "Epoch 10/50\n",
            "14/14 [==============================] - 1s 66ms/step - loss: 0.5602 - accuracy: 0.7881 - val_loss: 1.8226 - val_accuracy: 0.4444\n",
            "Epoch 11/50\n",
            "14/14 [==============================] - 1s 66ms/step - loss: 0.2885 - accuracy: 0.9000 - val_loss: 2.6044 - val_accuracy: 0.4333\n",
            "Epoch 12/50\n",
            "14/14 [==============================] - 1s 71ms/step - loss: 0.2073 - accuracy: 0.9405 - val_loss: 2.4833 - val_accuracy: 0.4722\n",
            "Epoch 13/50\n",
            "14/14 [==============================] - 1s 66ms/step - loss: 0.1877 - accuracy: 0.9405 - val_loss: 2.0699 - val_accuracy: 0.5389\n",
            "Epoch 14/50\n",
            "14/14 [==============================] - 1s 73ms/step - loss: 0.1293 - accuracy: 0.9595 - val_loss: 1.9875 - val_accuracy: 0.5333\n",
            "Epoch 15/50\n",
            "14/14 [==============================] - 1s 77ms/step - loss: 0.1516 - accuracy: 0.9524 - val_loss: 2.3173 - val_accuracy: 0.4500\n",
            "Epoch 16/50\n",
            "14/14 [==============================] - 1s 75ms/step - loss: 0.0927 - accuracy: 0.9690 - val_loss: 2.3696 - val_accuracy: 0.5056\n",
            "Epoch 17/50\n",
            "14/14 [==============================] - 1s 72ms/step - loss: 0.0987 - accuracy: 0.9762 - val_loss: 2.2573 - val_accuracy: 0.4889\n",
            "Epoch 18/50\n",
            "14/14 [==============================] - 1s 66ms/step - loss: 0.0404 - accuracy: 0.9833 - val_loss: 2.2696 - val_accuracy: 0.5389\n",
            "Epoch 19/50\n",
            "14/14 [==============================] - 1s 72ms/step - loss: 0.0215 - accuracy: 0.9929 - val_loss: 2.0901 - val_accuracy: 0.5667\n",
            "Epoch 20/50\n",
            "14/14 [==============================] - 1s 72ms/step - loss: 0.0253 - accuracy: 0.9929 - val_loss: 2.3698 - val_accuracy: 0.5611\n",
            "Epoch 21/50\n",
            "14/14 [==============================] - 1s 66ms/step - loss: 0.0567 - accuracy: 0.9905 - val_loss: 2.7479 - val_accuracy: 0.5167\n",
            "Epoch 22/50\n",
            "14/14 [==============================] - 1s 67ms/step - loss: 0.0301 - accuracy: 0.9905 - val_loss: 2.4300 - val_accuracy: 0.5278\n",
            "Epoch 23/50\n",
            "14/14 [==============================] - 1s 72ms/step - loss: 0.0207 - accuracy: 0.9952 - val_loss: 2.7164 - val_accuracy: 0.5000\n",
            "Epoch 24/50\n",
            "14/14 [==============================] - 1s 73ms/step - loss: 0.0162 - accuracy: 0.9952 - val_loss: 2.8107 - val_accuracy: 0.5556\n",
            "Epoch 25/50\n",
            "14/14 [==============================] - 1s 67ms/step - loss: 0.0155 - accuracy: 0.9952 - val_loss: 2.6070 - val_accuracy: 0.5667\n",
            "Epoch 26/50\n",
            "14/14 [==============================] - 1s 72ms/step - loss: 0.0317 - accuracy: 0.9952 - val_loss: 2.3490 - val_accuracy: 0.5833\n",
            "Epoch 27/50\n",
            "14/14 [==============================] - 1s 76ms/step - loss: 0.0255 - accuracy: 0.9929 - val_loss: 2.8876 - val_accuracy: 0.4944\n",
            "Epoch 28/50\n",
            "14/14 [==============================] - 1s 77ms/step - loss: 0.0396 - accuracy: 0.9929 - val_loss: 2.9590 - val_accuracy: 0.4722\n",
            "Epoch 29/50\n",
            "14/14 [==============================] - 1s 75ms/step - loss: 0.0329 - accuracy: 0.9929 - val_loss: 2.1826 - val_accuracy: 0.5667\n",
            "Epoch 30/50\n",
            "14/14 [==============================] - 1s 72ms/step - loss: 0.0363 - accuracy: 0.9857 - val_loss: 2.2965 - val_accuracy: 0.5167\n",
            "Epoch 31/50\n",
            "14/14 [==============================] - 1s 66ms/step - loss: 0.0458 - accuracy: 0.9905 - val_loss: 2.6056 - val_accuracy: 0.4722\n",
            "Epoch 32/50\n",
            "14/14 [==============================] - 1s 67ms/step - loss: 0.0259 - accuracy: 0.9929 - val_loss: 2.4717 - val_accuracy: 0.4889\n",
            "Epoch 33/50\n",
            "14/14 [==============================] - 1s 72ms/step - loss: 0.0077 - accuracy: 1.0000 - val_loss: 2.3380 - val_accuracy: 0.5444\n",
            "Epoch 34/50\n",
            "14/14 [==============================] - 1s 67ms/step - loss: 0.0066 - accuracy: 0.9976 - val_loss: 2.4819 - val_accuracy: 0.5611\n",
            "Epoch 35/50\n",
            "14/14 [==============================] - 1s 67ms/step - loss: 0.0166 - accuracy: 0.9976 - val_loss: 2.5269 - val_accuracy: 0.5389\n",
            "Epoch 36/50\n",
            "14/14 [==============================] - 1s 67ms/step - loss: 0.0236 - accuracy: 0.9952 - val_loss: 2.3447 - val_accuracy: 0.5889\n",
            "Epoch 37/50\n",
            "14/14 [==============================] - 1s 72ms/step - loss: 0.0308 - accuracy: 0.9952 - val_loss: 3.4666 - val_accuracy: 0.4889\n",
            "Epoch 38/50\n",
            "14/14 [==============================] - 1s 67ms/step - loss: 0.0578 - accuracy: 0.9881 - val_loss: 2.7555 - val_accuracy: 0.4778\n",
            "Epoch 39/50\n",
            "14/14 [==============================] - 1s 73ms/step - loss: 0.0141 - accuracy: 0.9952 - val_loss: 2.6548 - val_accuracy: 0.4833\n",
            "Epoch 40/50\n",
            "14/14 [==============================] - 1s 77ms/step - loss: 0.0168 - accuracy: 0.9952 - val_loss: 2.9863 - val_accuracy: 0.5389\n",
            "Epoch 41/50\n",
            "14/14 [==============================] - 1s 75ms/step - loss: 0.0261 - accuracy: 0.9905 - val_loss: 3.1088 - val_accuracy: 0.5056\n",
            "Epoch 42/50\n",
            "14/14 [==============================] - 1s 72ms/step - loss: 0.0502 - accuracy: 0.9881 - val_loss: 2.8087 - val_accuracy: 0.5333\n",
            "Epoch 43/50\n",
            "14/14 [==============================] - 1s 72ms/step - loss: 0.0092 - accuracy: 0.9952 - val_loss: 3.0348 - val_accuracy: 0.5056\n",
            "Epoch 44/50\n",
            "14/14 [==============================] - 1s 66ms/step - loss: 0.0063 - accuracy: 0.9976 - val_loss: 2.8706 - val_accuracy: 0.5556\n",
            "Epoch 45/50\n",
            "14/14 [==============================] - 1s 67ms/step - loss: 0.0319 - accuracy: 0.9929 - val_loss: 3.0589 - val_accuracy: 0.5333\n",
            "Epoch 46/50\n",
            "14/14 [==============================] - 1s 67ms/step - loss: 0.0578 - accuracy: 0.9881 - val_loss: 3.0644 - val_accuracy: 0.4611\n",
            "Epoch 47/50\n",
            "14/14 [==============================] - 1s 67ms/step - loss: 0.0610 - accuracy: 0.9810 - val_loss: 3.3248 - val_accuracy: 0.4278\n",
            "Epoch 48/50\n",
            "14/14 [==============================] - 1s 72ms/step - loss: 0.0315 - accuracy: 0.9833 - val_loss: 2.9165 - val_accuracy: 0.5056\n",
            "Epoch 49/50\n",
            "14/14 [==============================] - 1s 66ms/step - loss: 0.0409 - accuracy: 0.9881 - val_loss: 3.4818 - val_accuracy: 0.4778\n",
            "Epoch 50/50\n",
            "14/14 [==============================] - 1s 66ms/step - loss: 0.0909 - accuracy: 0.9810 - val_loss: 2.8250 - val_accuracy: 0.5333\n"
          ]
        }
      ]
    },
    {
      "cell_type": "code",
      "source": [
        "import matplotlib.pyplot as plt\n",
        "\n",
        "# Plot training & validation accuracy values\n",
        "plt.figure(figsize=(10, 5))\n",
        "plt.subplot(1, 2, 1)\n",
        "plt.plot(history.history['accuracy'])\n",
        "plt.plot(history.history['val_accuracy'])  # Now this line is active\n",
        "plt.title('Model Accuracy')\n",
        "plt.ylabel('Accuracy')\n",
        "plt.xlabel('Epoch')\n",
        "plt.legend(['Train', 'Validation'], loc='upper left')\n",
        "\n",
        "# Plot training & validation loss values\n",
        "plt.subplot(1, 2, 2)\n",
        "plt.plot(history.history['loss'])\n",
        "plt.plot(history.history['val_loss'])  # And this line is active\n",
        "plt.title('Model Loss')\n",
        "plt.ylabel('Loss')\n",
        "plt.xlabel('Epoch')\n",
        "plt.legend(['Train', 'Validation'], loc='upper left')\n",
        "plt.tight_layout()\n",
        "plt.show()\n"
      ],
      "metadata": {
        "colab": {
          "base_uri": "https://localhost:8080/",
          "height": 353
        },
        "id": "L3w0OWxJrYUe",
        "outputId": "cfed57fd-0b97-494d-cf9d-aa880cfc50fe"
      },
      "execution_count": 25,
      "outputs": [
        {
          "output_type": "display_data",
          "data": {
            "text/plain": [
              "<Figure size 1000x500 with 2 Axes>"
            ],
            "image/png": "[encoded data removed]"
          },
          "metadata": {}
        }
      ]
    },
    {
      "cell_type": "code",
      "source": [
        "from sklearn.utils import shuffle\n",
        "from sklearn.model_selection import train_test_split\n",
        "from sklearn.metrics import classification_report\n",
        "from sklearn.preprocessing import LabelEncoder\n",
        "import numpy as np\n",
        "\n",
        "# Your pre-built and compiled model, assumed to be trained already.\n",
        "predictions = cnn_model.predict(test_x)\n",
        "predicted_classes = np.argmax(predictions, axis=1)\n",
        "\n",
        "# If you one-hot encoded the test labels for training,\n",
        "# you need to reverse the one-hot encoding to get the original class indices.\n",
        "actual_classes = np.argmax(test_y_onehot, axis=1)\n",
        "\n",
        "# Inverse transform the predicted and actual class indices to their original names.\n",
        "predicted_class_names = label_encoder.inverse_transform(predicted_classes)\n",
        "actual_class_names = label_encoder.inverse_transform(actual_classes)\n",
        "\n",
        "# Generate the classification report.\n",
        "report = classification_report(actual_class_names, predicted_class_names, target_names=label_encoder.classes_)\n",
        "\n",
        "print(report)\n"
      ],
      "metadata": {
        "id": "lUpuSm2deuuM",
        "colab": {
          "base_uri": "https://localhost:8080/"
        },
        "outputId": "ca7bf97d-9e76-4002-f51a-a558d4593a93"
      },
      "execution_count": 26,
      "outputs": [
        {
          "output_type": "stream",
          "name": "stdout",
          "text": [
            "6/6 [==============================] - 0s 15ms/step\n",
            "                   precision    recall  f1-score   support\n",
            "\n",
            "     Ariel_Sharon       0.44      0.50      0.47        14\n",
            "     Colin_Powell       0.70      0.44      0.54        16\n",
            "  Donald_Rumsfeld       0.25      0.54      0.34        13\n",
            "    George_W_Bush       0.50      0.53      0.52        15\n",
            "Gerhard_Schroeder       0.43      0.50      0.46        18\n",
            "      Hugo_Chavez       0.58      0.54      0.56        13\n",
            "   Jacques_Chirac       0.57      0.36      0.44        11\n",
            "    Jean_Chretien       0.70      0.37      0.48        19\n",
            "    John_Ashcroft       0.75      0.50      0.60        18\n",
            "Junichiro_Koizumi       0.59      0.93      0.72        14\n",
            "  Serena_Williams       0.86      0.86      0.86        14\n",
            "       Tony_Blair       0.50      0.40      0.44        15\n",
            "\n",
            "         accuracy                           0.53       180\n",
            "        macro avg       0.57      0.54      0.54       180\n",
            "     weighted avg       0.58      0.53      0.54       180\n",
            "\n"
          ]
        }
      ]
    }
  ]
}