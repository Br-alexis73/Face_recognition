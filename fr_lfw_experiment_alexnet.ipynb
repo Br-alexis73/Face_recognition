{
  "nbformat": 4,
  "nbformat_minor": 0,
  "metadata": {
    "colab": {
      "provenance": [],
      "gpuType": "T4",
      "include_colab_link": true
    },
    "kernelspec": {
      "name": "python3",
      "display_name": "Python 3"
    },
    "language_info": {
      "name": "python"
    },
    "accelerator": "GPU"
  },
  "cells": [
    {
      "cell_type": "markdown",
      "metadata": {
        "id": "view-in-github",
        "colab_type": "text"
      },
      "source": [
        "<a href=\"https://colab.research.google.com/github/Br-alexis73/Face_recognition/blob/master/fr_lfw_experiment_alexnet.ipynb\" target=\"_parent\"><img src=\"https://colab.research.google.com/assets/colab-badge.svg\" alt=\"Open In Colab\"/></a>"
      ]
    },
    {
      "cell_type": "code",
      "execution_count": 1,
      "metadata": {
        "colab": {
          "base_uri": "https://localhost:8080/"
        },
        "id": "b7JnxKvP_3KZ",
        "outputId": "fe262d7f-4135-441a-d30c-bdf352cf1373"
      },
      "outputs": [
        {
          "output_type": "stream",
          "name": "stdout",
          "text": [
            "Downloading lfw-dataset, 117895655 bytes compressed\n",
            "[==================================================] 117895655 bytes downloaded\n",
            "Downloaded and uncompressed: lfw-dataset\n",
            "Data source import complete.\n"
          ]
        }
      ],
      "source": [
        "\n",
        "# IMPORTANT: RUN THIS CELL IN ORDER TO IMPORT YOUR KAGGLE DATA SOURCES\n",
        "# TO THE CORRECT LOCATION (/kaggle/input) IN YOUR NOTEBOOK,\n",
        "# THEN FEEL FREE TO DELETE THIS CELL.\n",
        "# NOTE: THIS NOTEBOOK ENVIRONMENT DIFFERS FROM KAGGLE'S PYTHON\n",
        "# ENVIRONMENT SO THERE MAY BE MISSING LIBRARIES USED BY YOUR\n",
        "# NOTEBOOK.\n",
        "\n",
        "import os\n",
        "import sys\n",
        "from tempfile import NamedTemporaryFile\n",
        "from urllib.request import urlopen\n",
        "from urllib.parse import unquote, urlparse\n",
        "from urllib.error import HTTPError\n",
        "from zipfile import ZipFile\n",
        "import tarfile\n",
        "import shutil\n",
        "\n",
        "CHUNK_SIZE = 40960\n",
        "DATA_SOURCE_MAPPING = 'lfw-dataset:https%3A%2F%2Fstorage.googleapis.com%2Fkaggle-data-sets%2F26922%2F34595%2Fbundle%2Farchive.zip%3FX-Goog-Algorithm%3DGOOG4-RSA-SHA256%26X-Goog-Credential%3Dgcp-kaggle-com%2540kaggle-161607.iam.gserviceaccount.com%252F20240419%252Fauto%252Fstorage%252Fgoog4_request%26X-Goog-Date%3D20240419T152011Z%26X-Goog-Expires%3D259200%26X-Goog-SignedHeaders%3Dhost%26X-Goog-Signature%3Db4ec61946419ca8b830a0f4613cac81dffb050d7d712972d73e73a8d24cc40a231fb1a47a2c7bce99a68ff93e9ac40d5a337ede5b14e8940c63ba216337c90b4cc432075b2f24e158971a25f9ecb52e84512e1cdc8473afcdfc20275099542b8cc23208d379bed1a7e644e96a929b7dbb91a7019f5331c94ea9f46d05bdd60badb9169961ed1faa90ae1290e3919c42a5736aa4fd68b941df0dac0e6957e4528a6663da154303292f0925fe7bc92d10ad202845647f7a1eff66f586604bb52c0626b2d95f3daf452d5dae6be3e0f2daf1e3177513be89acda9a7114a083009f77cf36a5edd56f41bb1bf1ba424974542d3b8bd7ac3ec5ab7122a096e033e4df9'\n",
        "\n",
        "KAGGLE_INPUT_PATH='/kaggle/input'\n",
        "KAGGLE_WORKING_PATH='/kaggle/working'\n",
        "KAGGLE_SYMLINK='kaggle'\n",
        "\n",
        "!umount /kaggle/input/ 2> /dev/null\n",
        "shutil.rmtree('/kaggle/input', ignore_errors=True)\n",
        "os.makedirs(KAGGLE_INPUT_PATH, 0o777, exist_ok=True)\n",
        "os.makedirs(KAGGLE_WORKING_PATH, 0o777, exist_ok=True)\n",
        "\n",
        "try:\n",
        "  os.symlink(KAGGLE_INPUT_PATH, os.path.join(\"..\", 'input'), target_is_directory=True)\n",
        "except FileExistsError:\n",
        "  pass\n",
        "try:\n",
        "  os.symlink(KAGGLE_WORKING_PATH, os.path.join(\"..\", 'working'), target_is_directory=True)\n",
        "except FileExistsError:\n",
        "  pass\n",
        "\n",
        "for data_source_mapping in DATA_SOURCE_MAPPING.split(','):\n",
        "    directory, download_url_encoded = data_source_mapping.split(':')\n",
        "    download_url = unquote(download_url_encoded)\n",
        "    filename = urlparse(download_url).path\n",
        "    destination_path = os.path.join(KAGGLE_INPUT_PATH, directory)\n",
        "    try:\n",
        "        with urlopen(download_url) as fileres, NamedTemporaryFile() as tfile:\n",
        "            total_length = fileres.headers['content-length']\n",
        "            print(f'Downloading {directory}, {total_length} bytes compressed')\n",
        "            dl = 0\n",
        "            data = fileres.read(CHUNK_SIZE)\n",
        "            while len(data) > 0:\n",
        "                dl += len(data)\n",
        "                tfile.write(data)\n",
        "                done = int(50 * dl / int(total_length))\n",
        "                sys.stdout.write(f\"\\r[{'=' * done}{' ' * (50-done)}] {dl} bytes downloaded\")\n",
        "                sys.stdout.flush()\n",
        "                data = fileres.read(CHUNK_SIZE)\n",
        "            if filename.endswith('.zip'):\n",
        "              with ZipFile(tfile) as zfile:\n",
        "                zfile.extractall(destination_path)\n",
        "            else:\n",
        "              with tarfile.open(tfile.name) as tarfile:\n",
        "                tarfile.extractall(destination_path)\n",
        "            print(f'\\nDownloaded and uncompressed: {directory}')\n",
        "    except HTTPError as e:\n",
        "        print(f'Failed to load (likely expired) {download_url} to path {destination_path}')\n",
        "        continue\n",
        "    except OSError as e:\n",
        "        print(f'Failed to load {download_url} to path {destination_path}')\n",
        "        continue\n",
        "\n",
        "print('Data source import complete.')\n"
      ]
    },
    {
      "cell_type": "code",
      "source": [
        "!pip install mtcnn"
      ],
      "metadata": {
        "colab": {
          "base_uri": "https://localhost:8080/"
        },
        "id": "80GgcNR879Lv",
        "outputId": "cfb0d9bb-0894-43f2-96d7-2e2779a6c9cd"
      },
      "execution_count": 2,
      "outputs": [
        {
          "output_type": "stream",
          "name": "stdout",
          "text": [
            "Collecting mtcnn\n",
            "  Downloading mtcnn-0.1.1-py3-none-any.whl (2.3 MB)\n",
            "\u001b[2K     \u001b[90m━━━━━━━━━━━━━━━━━━━━━━━━━━━━━━━━━━━━━━━━\u001b[0m \u001b[32m2.3/2.3 MB\u001b[0m \u001b[31m15.8 MB/s\u001b[0m eta \u001b[36m0:00:00\u001b[0m\n",
            "\u001b[?25hRequirement already satisfied: keras>=2.0.0 in /usr/local/lib/python3.10/dist-packages (from mtcnn) (2.15.0)\n",
            "Requirement already satisfied: opencv-python>=4.1.0 in /usr/local/lib/python3.10/dist-packages (from mtcnn) (4.8.0.76)\n",
            "Requirement already satisfied: numpy>=1.21.2 in /usr/local/lib/python3.10/dist-packages (from opencv-python>=4.1.0->mtcnn) (1.25.2)\n",
            "Installing collected packages: mtcnn\n",
            "Successfully installed mtcnn-0.1.1\n"
          ]
        }
      ]
    },
    {
      "cell_type": "code",
      "source": [
        "import os\n",
        "import shutil\n",
        "import pandas as pd\n",
        "import numpy as np\n",
        "import cv2\n",
        "import tensorflow as tf\n",
        "from tensorflow.keras.models import Sequential\n",
        "from tensorflow.keras.layers import Conv2D, MaxPooling2D, Flatten, Dense, Dropout, BatchNormalization\n",
        "from tensorflow.keras.utils import to_categorical\n",
        "from sklearn.preprocessing import LabelEncoder\n",
        "from sklearn.model_selection import train_test_split\n",
        "from sklearn.metrics import classification_report\n",
        "from sklearn.utils import shuffle\n",
        "import matplotlib.pyplot as plt\n"
      ],
      "metadata": {
        "id": "gXrdrl1jyva9"
      },
      "execution_count": 3,
      "outputs": []
    },
    {
      "cell_type": "code",
      "source": [
        "# Set the dataset path\n",
        "dataset_path = '../input/lfw-dataset/lfw-deepfunneled/lfw-deepfunneled'\n",
        "\n",
        "# Generate a list of (name, image count) tuples\n",
        "names_images = []\n",
        "\n",
        "for name in os.listdir(dataset_path):\n",
        "    directory = os.path.join(dataset_path, name)\n",
        "    if os.path.isdir(directory):\n",
        "        images = [i for i in os.listdir(directory) if i.endswith('.jpg')]\n",
        "        image_count = len(images)\n",
        "        # Add to list if there are at least 25 images and store the actual image count\n",
        "        if image_count >= 50:\n",
        "            names_images.append((name, min(image_count, 50)))\n",
        "\n",
        "# Update number_of_people to reflect the actual number of people with at least 25 images\n",
        "number_of_people = len(names_images)\n",
        "print(f\"Number of people with at least 50 images: {number_of_people}\")\n",
        "\n",
        "# Create a DataFrame\n",
        "lfw_allnames = pd.DataFrame(names_images, columns=['name', 'images'])\n",
        "\n",
        "# Save the DataFrame to a CSV file\n",
        "lfw_csv_path = '../input/lfw-dataset/lfw_allnames.csv'\n",
        "lfw_allnames.to_csv(lfw_csv_path, index=False)\n",
        "\n",
        "print(f\"CSV file created at: {lfw_csv_path}\")"
      ],
      "metadata": {
        "colab": {
          "base_uri": "https://localhost:8080/"
        },
        "id": "UMXeFqRPyh40",
        "outputId": "e3f0a2a1-84a4-44ca-fe4a-6a9f1ac0587c"
      },
      "execution_count": 4,
      "outputs": [
        {
          "output_type": "stream",
          "name": "stdout",
          "text": [
            "Number of people with at least 50 images: 12\n",
            "CSV file created at: ../input/lfw-dataset/lfw_allnames.csv\n"
          ]
        }
      ]
    },
    {
      "cell_type": "code",
      "source": [
        "# Define a new directory for experiments\n",
        "new_dir_path = '../lfw-data-experiment'\n",
        "\n",
        "# Create the new directory if it doesn't exist\n",
        "if not os.path.exists(new_dir_path):\n",
        "    os.makedirs(new_dir_path)\n",
        "\n",
        "# Move the folders\n",
        "for name, image_count in names_images:\n",
        "    source_folder = os.path.join(dataset_path, name)\n",
        "    destination_folder = os.path.join(new_dir_path, name)\n",
        "\n",
        "    # Check if the destination folder already exists\n",
        "    if os.path.exists(destination_folder):\n",
        "        shutil.rmtree(destination_folder)\n",
        "\n",
        "    # Move the folders\n",
        "    if os.path.exists(source_folder):\n",
        "        shutil.copytree(source_folder, destination_folder)\n",
        "        # If there are more than 50 images, keep the first 50 and delete the rest\n",
        "        images = sorted([i for i in os.listdir(destination_folder) if i.endswith('.jpg')])\n",
        "        for img in images[50:]:  # Delete all images beyond the 25th\n",
        "            os.remove(os.path.join(destination_folder, img))\n",
        "    else:\n",
        "        print(f\"Folder for {name} does not exist in the dataset path.\")\n",
        "\n",
        "print(\"Folders moved successfully.\")"
      ],
      "metadata": {
        "colab": {
          "base_uri": "https://localhost:8080/"
        },
        "id": "RDmb_LpHy0bM",
        "outputId": "ef970d72-544a-47be-c600-62246270a639"
      },
      "execution_count": 5,
      "outputs": [
        {
          "output_type": "stream",
          "name": "stdout",
          "text": [
            "Folders moved successfully.\n"
          ]
        }
      ]
    },
    {
      "cell_type": "code",
      "source": [
        "\n",
        "# Read the dataset\n",
        "people_data = os.listdir(new_dir_path)\n",
        "people = []\n",
        "for item in people_data:\n",
        "    person_images = os.listdir(os.path.join(new_dir_path, item))\n",
        "    for person_image in person_images:\n",
        "        people.append((item, os.path.join(new_dir_path, item, person_image)))\n",
        "\n",
        "# Create a DataFrame from the list of tuples\n",
        "people_df = pd.DataFrame(people, columns=['person', 'path'])\n",
        "\n",
        "# Convert labels to one-hot encoded labels\n",
        "label_encoder = LabelEncoder()\n",
        "labels = people_df['person'].values\n",
        "int_encoded = label_encoder.fit_transform(labels)\n",
        "y_onehot = to_categorical(int_encoded)\n",
        "\n",
        "# Correct the size of the images to match the CNN input\n",
        "im_size = 150\n",
        "\n",
        "# Initialize lists to store the images and labels\n",
        "images = []\n",
        "labels = []\n",
        "\n",
        "# Load and preprocess the images\n",
        "for index, row in people_df.iterrows():\n",
        "    img = cv2.imread(row['path'])\n",
        "    img = cv2.resize(img, (im_size, im_size))\n",
        "    images.append(img)\n",
        "    labels.append(row['person'])\n",
        "\n",
        "images = np.array(images)\n",
        "images = images.astype('float32') / 255.0\n",
        "\n",
        "# Shuffle and split the dataset\n",
        "images, y_onehot = shuffle(images, y_onehot, random_state=1)\n",
        "train_x, test_x, train_y_onehot, test_y_onehot = train_test_split(images, y_onehot, test_size=0.3, random_state=415)\n",
        "\n",
        "# Check the shapes again to make sure they match\n",
        "print(\"train_x shape:\", train_x.shape)\n",
        "print(\"train_y_onehot shape:\", train_y_onehot.shape)\n",
        "print(\"test_x shape:\", test_x.shape)\n",
        "print(\"test_y_onehot shape:\", test_y_onehot.shape)"
      ],
      "metadata": {
        "colab": {
          "base_uri": "https://localhost:8080/"
        },
        "id": "s9rty7ouzGFs",
        "outputId": "62462ff7-e9c8-4e85-a8d5-26c5eb9afabb"
      },
      "execution_count": 6,
      "outputs": [
        {
          "output_type": "stream",
          "name": "stdout",
          "text": [
            "train_x shape: (420, 150, 150, 3)\n",
            "train_y_onehot shape: (420, 12)\n",
            "test_x shape: (180, 150, 150, 3)\n",
            "test_y_onehot shape: (180, 12)\n"
          ]
        }
      ]
    },
    {
      "cell_type": "code",
      "source": [
        "import pandas as pd\n",
        "\n",
        "# Create a DataFrame from the list of tuples\n",
        "people_df = pd.DataFrame(people, columns=['person', 'path'])\n",
        "\n",
        "# Count the number of samples for each person\n",
        "person_count = people_df['person'].value_counts()\n",
        "\n",
        "print(\"Total number of images of people in the dataset: \", len(people_df))\n",
        "print(\"Samples in each category: \")\n",
        "print(person_count)\n"
      ],
      "metadata": {
        "colab": {
          "base_uri": "https://localhost:8080/"
        },
        "id": "fGKfFvTIAGHW",
        "outputId": "4b08838f-40ee-4e5f-9dd6-a611f840e50a"
      },
      "execution_count": 7,
      "outputs": [
        {
          "output_type": "stream",
          "name": "stdout",
          "text": [
            "Total number of images of people in the dataset:  600\n",
            "Samples in each category: \n",
            "person\n",
            "Junichiro_Koizumi    50\n",
            "Tony_Blair           50\n",
            "George_W_Bush        50\n",
            "Serena_Williams      50\n",
            "Jacques_Chirac       50\n",
            "Colin_Powell         50\n",
            "Jean_Chretien        50\n",
            "Ariel_Sharon         50\n",
            "Donald_Rumsfeld      50\n",
            "John_Ashcroft        50\n",
            "Gerhard_Schroeder    50\n",
            "Hugo_Chavez          50\n",
            "Name: count, dtype: int64\n"
          ]
        }
      ]
    },
    {
      "cell_type": "markdown",
      "source": [
        "#Encoding"
      ],
      "metadata": {
        "id": "mcIPL21vkcR6"
      }
    },
    {
      "cell_type": "code",
      "source": [
        "num_classes = len(np.unique(labels))\n",
        "# im_shape=(im_size, im_size, 3)"
      ],
      "metadata": {
        "id": "QXctnMYZ6naS"
      },
      "execution_count": 8,
      "outputs": []
    },
    {
      "cell_type": "code",
      "source": [
        "import tensorflow as tf\n",
        "from tensorflow.keras.models import Sequential\n",
        "from tensorflow.keras.layers import Conv2D, MaxPooling2D, Flatten, Dense, Dropout, BatchNormalization, ZeroPadding2D\n",
        "\n",
        "\n",
        "alexnet = Sequential()\n",
        "\n",
        "# Layer 1\n",
        "alexnet.add(Conv2D(filters=96, kernel_size=(11, 11), strides=(4, 4), activation='relu', input_shape=(im_size, im_size, 3)))\n",
        "alexnet.add(BatchNormalization())\n",
        "alexnet.add(MaxPooling2D(pool_size=(3, 3), strides=(2, 2)))\n",
        "\n",
        "# Layer 2\n",
        "alexnet.add(Conv2D(filters=256, kernel_size=(5, 5), strides=(1, 1), activation='relu', padding=\"same\"))\n",
        "alexnet.add(BatchNormalization())\n",
        "alexnet.add(MaxPooling2D(pool_size=(3, 3), strides=(2, 2)))\n",
        "\n",
        "# Layer 3\n",
        "alexnet.add(Conv2D(filters=384, kernel_size=(3, 3), strides=(1, 1), activation='relu', padding=\"same\"))\n",
        "alexnet.add(BatchNormalization())\n",
        "\n",
        "# Layer 4\n",
        "alexnet.add(Conv2D(filters=384, kernel_size=(3, 3), strides=(1, 1), activation='relu', padding=\"same\"))\n",
        "alexnet.add(BatchNormalization())\n",
        "\n",
        "# Layer 5\n",
        "alexnet.add(Conv2D(filters=256, kernel_size=(3, 3), strides=(1, 1), activation='relu', padding=\"same\"))\n",
        "alexnet.add(BatchNormalization())\n",
        "alexnet.add(MaxPooling2D(pool_size=(3, 3), strides=(2, 2)))\n",
        "\n",
        "# Layer 6\n",
        "alexnet.add(Flatten())\n",
        "alexnet.add(Dense(4096, activation='relu'))\n",
        "alexnet.add(Dropout(0.5))\n",
        "\n",
        "# Layer 7\n",
        "alexnet.add(Dense(4096, activation='relu'))\n",
        "alexnet.add(Dropout(0.5))\n",
        "\n",
        "# Layer 8 - Output layer for binary classification\n",
        "alexnet.add(Dense(num_classes, activation='softmax'))\n",
        "\n",
        "# Compile the model\n",
        "alexnet.compile(optimizer='adam', loss='categorical_crossentropy', metrics=['accuracy'])\n",
        "\n",
        "# Summary of the model\n",
        "alexnet.summary()"
      ],
      "metadata": {
        "colab": {
          "base_uri": "https://localhost:8080/"
        },
        "id": "J8DDI8du_5y5",
        "outputId": "40eb6068-e5ea-4821-a141-141cf114d511"
      },
      "execution_count": 9,
      "outputs": [
        {
          "output_type": "stream",
          "name": "stdout",
          "text": [
            "Model: \"sequential\"\n",
            "_________________________________________________________________\n",
            " Layer (type)                Output Shape              Param #   \n",
            "=================================================================\n",
            " conv2d (Conv2D)             (None, 35, 35, 96)        34944     \n",
            "                                                                 \n",
            " batch_normalization (Batch  (None, 35, 35, 96)        384       \n",
            " Normalization)                                                  \n",
            "                                                                 \n",
            " max_pooling2d (MaxPooling2  (None, 17, 17, 96)        0         \n",
            " D)                                                              \n",
            "                                                                 \n",
            " conv2d_1 (Conv2D)           (None, 17, 17, 256)       614656    \n",
            "                                                                 \n",
            " batch_normalization_1 (Bat  (None, 17, 17, 256)       1024      \n",
            " chNormalization)                                                \n",
            "                                                                 \n",
            " max_pooling2d_1 (MaxPoolin  (None, 8, 8, 256)         0         \n",
            " g2D)                                                            \n",
            "                                                                 \n",
            " conv2d_2 (Conv2D)           (None, 8, 8, 384)         885120    \n",
            "                                                                 \n",
            " batch_normalization_2 (Bat  (None, 8, 8, 384)         1536      \n",
            " chNormalization)                                                \n",
            "                                                                 \n",
            " conv2d_3 (Conv2D)           (None, 8, 8, 384)         1327488   \n",
            "                                                                 \n",
            " batch_normalization_3 (Bat  (None, 8, 8, 384)         1536      \n",
            " chNormalization)                                                \n",
            "                                                                 \n",
            " conv2d_4 (Conv2D)           (None, 8, 8, 256)         884992    \n",
            "                                                                 \n",
            " batch_normalization_4 (Bat  (None, 8, 8, 256)         1024      \n",
            " chNormalization)                                                \n",
            "                                                                 \n",
            " max_pooling2d_2 (MaxPoolin  (None, 3, 3, 256)         0         \n",
            " g2D)                                                            \n",
            "                                                                 \n",
            " flatten (Flatten)           (None, 2304)              0         \n",
            "                                                                 \n",
            " dense (Dense)               (None, 4096)              9441280   \n",
            "                                                                 \n",
            " dropout (Dropout)           (None, 4096)              0         \n",
            "                                                                 \n",
            " dense_1 (Dense)             (None, 4096)              16781312  \n",
            "                                                                 \n",
            " dropout_1 (Dropout)         (None, 4096)              0         \n",
            "                                                                 \n",
            " dense_2 (Dense)             (None, 12)                49164     \n",
            "                                                                 \n",
            "=================================================================\n",
            "Total params: 30024460 (114.53 MB)\n",
            "Trainable params: 30021708 (114.52 MB)\n",
            "Non-trainable params: 2752 (10.75 KB)\n",
            "_________________________________________________________________\n"
          ]
        }
      ]
    },
    {
      "cell_type": "code",
      "source": [
        "history = alexnet.fit(\n",
        "    train_x,\n",
        "    train_y_onehot,\n",
        "    epochs=50,\n",
        "    batch_size=32,\n",
        "    validation_data=(test_x, test_y_onehot)\n",
        ")\n"
      ],
      "metadata": {
        "id": "vcT45lprA3TQ",
        "colab": {
          "base_uri": "https://localhost:8080/"
        },
        "outputId": "45c41df1-6a1e-4fce-ff95-ac01da4f062e"
      },
      "execution_count": 10,
      "outputs": [
        {
          "output_type": "stream",
          "name": "stdout",
          "text": [
            "Epoch 1/50\n",
            "14/14 [==============================] - 19s 266ms/step - loss: 14.1711 - accuracy: 0.0976 - val_loss: 21.3492 - val_accuracy: 0.1000\n",
            "Epoch 2/50\n",
            "14/14 [==============================] - 1s 53ms/step - loss: 2.8686 - accuracy: 0.1857 - val_loss: 6.4856 - val_accuracy: 0.0833\n",
            "Epoch 3/50\n",
            "14/14 [==============================] - 1s 58ms/step - loss: 2.4805 - accuracy: 0.2143 - val_loss: 3.5903 - val_accuracy: 0.0778\n",
            "Epoch 4/50\n",
            "14/14 [==============================] - 1s 46ms/step - loss: 2.1746 - accuracy: 0.2881 - val_loss: 2.9906 - val_accuracy: 0.0889\n",
            "Epoch 5/50\n",
            "14/14 [==============================] - 1s 47ms/step - loss: 2.0975 - accuracy: 0.3238 - val_loss: 3.2012 - val_accuracy: 0.1278\n",
            "Epoch 6/50\n",
            "14/14 [==============================] - 1s 47ms/step - loss: 1.9683 - accuracy: 0.3476 - val_loss: 2.9584 - val_accuracy: 0.1278\n",
            "Epoch 7/50\n",
            "14/14 [==============================] - 0s 34ms/step - loss: 1.8849 - accuracy: 0.3452 - val_loss: 2.5962 - val_accuracy: 0.1111\n",
            "Epoch 8/50\n",
            "14/14 [==============================] - 0s 32ms/step - loss: 1.7996 - accuracy: 0.4024 - val_loss: 2.8037 - val_accuracy: 0.1000\n",
            "Epoch 9/50\n",
            "14/14 [==============================] - 0s 32ms/step - loss: 1.7812 - accuracy: 0.4310 - val_loss: 2.6089 - val_accuracy: 0.1167\n",
            "Epoch 10/50\n",
            "14/14 [==============================] - 0s 31ms/step - loss: 1.7341 - accuracy: 0.4381 - val_loss: 2.8500 - val_accuracy: 0.1444\n",
            "Epoch 11/50\n",
            "14/14 [==============================] - 0s 31ms/step - loss: 1.8563 - accuracy: 0.4119 - val_loss: 2.6672 - val_accuracy: 0.1722\n",
            "Epoch 12/50\n",
            "14/14 [==============================] - 0s 31ms/step - loss: 1.6091 - accuracy: 0.4381 - val_loss: 2.7517 - val_accuracy: 0.1778\n",
            "Epoch 13/50\n",
            "14/14 [==============================] - 0s 30ms/step - loss: 1.4112 - accuracy: 0.5238 - val_loss: 3.4088 - val_accuracy: 0.1778\n",
            "Epoch 14/50\n",
            "14/14 [==============================] - 0s 32ms/step - loss: 1.4752 - accuracy: 0.5286 - val_loss: 2.8711 - val_accuracy: 0.2056\n",
            "Epoch 15/50\n",
            "14/14 [==============================] - 0s 32ms/step - loss: 1.5665 - accuracy: 0.5000 - val_loss: 3.7631 - val_accuracy: 0.1556\n",
            "Epoch 16/50\n",
            "14/14 [==============================] - 0s 30ms/step - loss: 1.5990 - accuracy: 0.4881 - val_loss: 2.6049 - val_accuracy: 0.2222\n",
            "Epoch 17/50\n",
            "14/14 [==============================] - 0s 32ms/step - loss: 1.2460 - accuracy: 0.6048 - val_loss: 2.6389 - val_accuracy: 0.2667\n",
            "Epoch 18/50\n",
            "14/14 [==============================] - 0s 32ms/step - loss: 1.2124 - accuracy: 0.6000 - val_loss: 2.9334 - val_accuracy: 0.2556\n",
            "Epoch 19/50\n",
            "14/14 [==============================] - 0s 31ms/step - loss: 1.2438 - accuracy: 0.5857 - val_loss: 3.1279 - val_accuracy: 0.3111\n",
            "Epoch 20/50\n",
            "14/14 [==============================] - 0s 32ms/step - loss: 1.1007 - accuracy: 0.6238 - val_loss: 2.9037 - val_accuracy: 0.3111\n",
            "Epoch 21/50\n",
            "14/14 [==============================] - 0s 31ms/step - loss: 0.9517 - accuracy: 0.6881 - val_loss: 3.6421 - val_accuracy: 0.2389\n",
            "Epoch 22/50\n",
            "14/14 [==============================] - 0s 31ms/step - loss: 1.0661 - accuracy: 0.6500 - val_loss: 3.4413 - val_accuracy: 0.2833\n",
            "Epoch 23/50\n",
            "14/14 [==============================] - 0s 31ms/step - loss: 0.9510 - accuracy: 0.6810 - val_loss: 3.1170 - val_accuracy: 0.3000\n",
            "Epoch 24/50\n",
            "14/14 [==============================] - 0s 31ms/step - loss: 0.8050 - accuracy: 0.7214 - val_loss: 3.6108 - val_accuracy: 0.2944\n",
            "Epoch 25/50\n",
            "14/14 [==============================] - 0s 36ms/step - loss: 0.9200 - accuracy: 0.6929 - val_loss: 3.2419 - val_accuracy: 0.3444\n",
            "Epoch 26/50\n",
            "14/14 [==============================] - 1s 37ms/step - loss: 0.7550 - accuracy: 0.7381 - val_loss: 3.3208 - val_accuracy: 0.3333\n",
            "Epoch 27/50\n",
            "14/14 [==============================] - 0s 36ms/step - loss: 0.6698 - accuracy: 0.7690 - val_loss: 2.7439 - val_accuracy: 0.3944\n",
            "Epoch 28/50\n",
            "14/14 [==============================] - 0s 35ms/step - loss: 0.6483 - accuracy: 0.8071 - val_loss: 3.5504 - val_accuracy: 0.3111\n",
            "Epoch 29/50\n",
            "14/14 [==============================] - 0s 33ms/step - loss: 0.9406 - accuracy: 0.7738 - val_loss: 3.2855 - val_accuracy: 0.3667\n",
            "Epoch 30/50\n",
            "14/14 [==============================] - 0s 31ms/step - loss: 0.8675 - accuracy: 0.7548 - val_loss: 3.0811 - val_accuracy: 0.3722\n",
            "Epoch 31/50\n",
            "14/14 [==============================] - 0s 32ms/step - loss: 0.6732 - accuracy: 0.7976 - val_loss: 4.9937 - val_accuracy: 0.2778\n",
            "Epoch 32/50\n",
            "14/14 [==============================] - 0s 32ms/step - loss: 0.8189 - accuracy: 0.7595 - val_loss: 2.9296 - val_accuracy: 0.4222\n",
            "Epoch 33/50\n",
            "14/14 [==============================] - 0s 32ms/step - loss: 1.2674 - accuracy: 0.6476 - val_loss: 4.9089 - val_accuracy: 0.2833\n",
            "Epoch 34/50\n",
            "14/14 [==============================] - 0s 31ms/step - loss: 0.9854 - accuracy: 0.7024 - val_loss: 4.4524 - val_accuracy: 0.3444\n",
            "Epoch 35/50\n",
            "14/14 [==============================] - 0s 30ms/step - loss: 0.7507 - accuracy: 0.7643 - val_loss: 3.9335 - val_accuracy: 0.3278\n",
            "Epoch 36/50\n",
            "14/14 [==============================] - 0s 31ms/step - loss: 1.0059 - accuracy: 0.7214 - val_loss: 2.9197 - val_accuracy: 0.3944\n",
            "Epoch 37/50\n",
            "14/14 [==============================] - 0s 30ms/step - loss: 0.7347 - accuracy: 0.7548 - val_loss: 3.1107 - val_accuracy: 0.4278\n",
            "Epoch 38/50\n",
            "14/14 [==============================] - 0s 32ms/step - loss: 0.6436 - accuracy: 0.7857 - val_loss: 3.3048 - val_accuracy: 0.4000\n",
            "Epoch 39/50\n",
            "14/14 [==============================] - 0s 31ms/step - loss: 0.6973 - accuracy: 0.8071 - val_loss: 9.2408 - val_accuracy: 0.2500\n",
            "Epoch 40/50\n",
            "14/14 [==============================] - 0s 31ms/step - loss: 0.6401 - accuracy: 0.8310 - val_loss: 4.7280 - val_accuracy: 0.3833\n",
            "Epoch 41/50\n",
            "14/14 [==============================] - 0s 32ms/step - loss: 0.4913 - accuracy: 0.8690 - val_loss: 2.7609 - val_accuracy: 0.4833\n",
            "Epoch 42/50\n",
            "14/14 [==============================] - 0s 31ms/step - loss: 0.2788 - accuracy: 0.9190 - val_loss: 3.0942 - val_accuracy: 0.4833\n",
            "Epoch 43/50\n",
            "14/14 [==============================] - 0s 31ms/step - loss: 0.3446 - accuracy: 0.9000 - val_loss: 3.4740 - val_accuracy: 0.4778\n",
            "Epoch 44/50\n",
            "14/14 [==============================] - 0s 31ms/step - loss: 0.2665 - accuracy: 0.9214 - val_loss: 4.0287 - val_accuracy: 0.4389\n",
            "Epoch 45/50\n",
            "14/14 [==============================] - 0s 32ms/step - loss: 0.2433 - accuracy: 0.9190 - val_loss: 3.2181 - val_accuracy: 0.5167\n",
            "Epoch 46/50\n",
            "14/14 [==============================] - 0s 32ms/step - loss: 0.2634 - accuracy: 0.9333 - val_loss: 3.4053 - val_accuracy: 0.4833\n",
            "Epoch 47/50\n",
            "14/14 [==============================] - 0s 32ms/step - loss: 0.2020 - accuracy: 0.9286 - val_loss: 3.1694 - val_accuracy: 0.4667\n",
            "Epoch 48/50\n",
            "14/14 [==============================] - 0s 31ms/step - loss: 0.2475 - accuracy: 0.9357 - val_loss: 3.3578 - val_accuracy: 0.5111\n",
            "Epoch 49/50\n",
            "14/14 [==============================] - 0s 31ms/step - loss: 0.2075 - accuracy: 0.9262 - val_loss: 2.9611 - val_accuracy: 0.5444\n",
            "Epoch 50/50\n",
            "14/14 [==============================] - 0s 32ms/step - loss: 0.2868 - accuracy: 0.9119 - val_loss: 4.0952 - val_accuracy: 0.4444\n"
          ]
        }
      ]
    },
    {
      "cell_type": "code",
      "source": [
        "import matplotlib.pyplot as plt\n",
        "\n",
        "# Plot training & validation accuracy values\n",
        "plt.figure(figsize=(10, 5))\n",
        "plt.subplot(1, 2, 1)\n",
        "plt.plot(history.history['accuracy'])\n",
        "plt.plot(history.history['val_accuracy'])  # Now this line is active\n",
        "plt.title('Model Accuracy')\n",
        "plt.ylabel('Accuracy')\n",
        "plt.xlabel('Epoch')\n",
        "plt.legend(['Train', 'Validation'], loc='upper left')\n",
        "\n",
        "# Plot training & validation loss values\n",
        "plt.subplot(1, 2, 2)\n",
        "plt.plot(history.history['loss'])\n",
        "plt.plot(history.history['val_loss'])  # And this line is active\n",
        "plt.title('Model Loss')\n",
        "plt.ylabel('Loss')\n",
        "plt.xlabel('Epoch')\n",
        "plt.legend(['Train', 'Validation'], loc='upper left')\n",
        "plt.tight_layout()\n",
        "plt.show()\n"
      ],
      "metadata": {
        "colab": {
          "base_uri": "https://localhost:8080/",
          "height": 353
        },
        "id": "L3w0OWxJrYUe",
        "outputId": "fdb4a6ab-2269-42d1-8e5b-18d16ccca613"
      },
      "execution_count": 11,
      "outputs": [
        {
          "output_type": "display_data",
          "data": {
            "text/plain": [
              "<Figure size 1000x500 with 2 Axes>"
            ],
            "image/png": "[encoded data removed]"
          },
          "metadata": {}
        }
      ]
    },
    {
      "cell_type": "code",
      "source": [
        "import matplotlib.pyplot as plt\n",
        "import numpy as np\n",
        "import pandas as pd\n",
        "import os\n",
        "from sklearn.preprocessing import LabelEncoder\n",
        "from tensorflow.keras.utils import to_categorical\n",
        "from sklearn.utils import shuffle\n",
        "from sklearn.model_selection import train_test_split\n",
        "import cv2\n",
        "from sklearn.metrics import classification_report, confusion_matrix\n",
        "import seaborn as sns\n",
        "from tensorflow.keras.models import load_model  # if you have a model to load, otherwise import your CNN architecture\n",
        "\n",
        "# Assuming your CNN has been trained and you have the model loaded\n",
        "# model = load_model('your_model.h5')  # Load your trained model\n",
        "\n",
        "# Generate predictions\n",
        "test_y_pred = alexnet.predict(test_x)\n",
        "test_y_pred_classes = np.argmax(test_y_pred, axis=1)\n",
        "test_y_true = np.argmax(test_y_onehot, axis=1)\n",
        "\n",
        "# Print the confusion matrix\n",
        "conf_matrix = confusion_matrix(test_y_true, test_y_pred_classes)\n",
        "plt.figure(figsize=(10, 8))\n",
        "sns.heatmap(conf_matrix, annot=True, fmt='d')\n",
        "plt.ylabel('True label')\n",
        "plt.xlabel('Predicted label')\n",
        "plt.show()\n",
        "\n",
        "# Print classification report\n",
        "print(classification_report(test_y_true, test_y_pred_classes, target_names=label_encoder.classes_))\n"
      ],
      "metadata": {
        "id": "LJwRq1_wkio-",
        "outputId": "6b041bb1-a5fd-43cf-d87f-fc4090a792ea",
        "colab": {
          "base_uri": "https://localhost:8080/",
          "height": 961
        }
      },
      "execution_count": 13,
      "outputs": [
        {
          "output_type": "stream",
          "name": "stdout",
          "text": [
            "6/6 [==============================] - 1s 19ms/step\n"
          ]
        },
        {
          "output_type": "display_data",
          "data": {
            "text/plain": [
              "<Figure size 1000x800 with 2 Axes>"
            ],
            "image/png": "[encoded data removed]"
          },
          "metadata": {}
        },
        {
          "output_type": "stream",
          "name": "stdout",
          "text": [
            "                   precision    recall  f1-score   support\n",
            "\n",
            "     Ariel_Sharon       0.43      0.93      0.59        14\n",
            "     Colin_Powell       0.00      0.00      0.00        16\n",
            "  Donald_Rumsfeld       0.25      0.08      0.12        13\n",
            "    George_W_Bush       0.60      0.20      0.30        15\n",
            "Gerhard_Schroeder       0.34      0.67      0.45        18\n",
            "      Hugo_Chavez       0.56      0.38      0.45        13\n",
            "   Jacques_Chirac       0.22      0.55      0.32        11\n",
            "    Jean_Chretien       1.00      0.47      0.64        19\n",
            "    John_Ashcroft       0.39      0.61      0.48        18\n",
            "Junichiro_Koizumi       0.67      0.29      0.40        14\n",
            "  Serena_Williams       0.72      0.93      0.81        14\n",
            "       Tony_Blair       0.50      0.20      0.29        15\n",
            "\n",
            "         accuracy                           0.44       180\n",
            "        macro avg       0.47      0.44      0.40       180\n",
            "     weighted avg       0.48      0.44      0.41       180\n",
            "\n"
          ]
        }
      ]
    }
  ]
}